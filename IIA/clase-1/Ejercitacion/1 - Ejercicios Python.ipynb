{
 "cells": [
  {
   "cell_type": "markdown",
   "metadata": {},
   "source": [
    "# Ejercicios de Python\n",
    "Inteligencia Artificial - Facundo A. Lucianna - CEIA - FIUBA\n",
    "\n",
    "A continuación veamos ejercicios de Python que deben resolver.\n",
    "\n",
    "**Ejercicio 1**: Imprima el texto `”Hola, estoy aprendiendo Python”`. Agregue un comentario de una sola línea antes de la impresión de texto que explique qué hace la función `print()`."
   ]
  },
  {
   "cell_type": "code",
   "execution_count": 2,
   "metadata": {},
   "outputs": [
    {
     "name": "stdout",
     "output_type": "stream",
     "text": [
      "Hola, estoy aprendiendo Python\n"
     ]
    }
   ],
   "source": [
    "print(\"Hola, estoy aprendiendo Python\")"
   ]
  },
  {
   "cell_type": "markdown",
   "metadata": {},
   "source": [
    "**Ejercicio 2**: Imprima el siguiente texto respetando el formato (use triple \"\"\"):\n",
    "\n",
    "```\n",
    "Sobre el puente de Avignon\n",
    "      Todos bailan, todos bailan\n",
    "Sobre el puente de Avignon\n",
    "      Todos bailan y yo también\n",
    "```"
   ]
  },
  {
   "cell_type": "code",
   "execution_count": 3,
   "metadata": {},
   "outputs": [
    {
     "name": "stdout",
     "output_type": "stream",
     "text": [
      "Sobre el puente de Avignon\n",
      "      Todos bailan, todos bailan\n",
      "Sobre el puente de Avignon\n",
      "      Todos bailan y yo también\n",
      "\n"
     ]
    }
   ],
   "source": [
    "avignon_song = \"\"\"Sobre el puente de Avignon\n",
    "      Todos bailan, todos bailan\n",
    "Sobre el puente de Avignon\n",
    "      Todos bailan y yo también\n",
    "\"\"\"\n",
    "\n",
    "print(avignon_song)"
   ]
  },
  {
   "cell_type": "markdown",
   "metadata": {},
   "source": [
    "**Ejercicio 3**: Crea las siguiente variables:\n",
    "\n",
    "```\n",
    "var1 = 1\n",
    "var2 = 3.14\n",
    "var3 = −8\n",
    "var4 = \"CEIoT\"\n",
    "```\n",
    "\n",
    "1. Realice las siguientes operaciones e imprímalas. Comente en la notebook qué operaciones se hace en cada caso:\n",
    "    1. `var1 + var2`\n",
    "    2. `var1 − var2`\n",
    "    3. `var3 / 3`\n",
    "    4. `var3 // 3`\n",
    "    5. `var3 % 3`\n",
    "    6. `var2 ** 2`\n",
    "    7. `var3 ∗ var2`\n",
    "    8. `var4 + var4`\n",
    "    9. `var4 * ((-1) * var3)`\n",
    "    10. `var4 / var2`\n",
    "2. ¿Todas las operaciones aquí listadas pueden realizar? Si la respuesta es no, cual no se puede realizar? ¿Qué error da Python? ¿Qué significa ese error?"
   ]
  },
  {
   "cell_type": "code",
   "execution_count": 4,
   "metadata": {},
   "outputs": [
    {
     "name": "stdout",
     "output_type": "stream",
     "text": [
      "4.140000000000001\n",
      "-2.14\n",
      "-3\n",
      "1\n",
      "9.8596\n",
      "-25.12\n",
      "CEIoTCEIoT\n",
      "CEIoTCEIoTCEIoTCEIoTCEIoTCEIoTCEIoTCEIoT\n"
     ]
    },
    {
     "ename": "TypeError",
     "evalue": "unsupported operand type(s) for /: 'str' and 'float'",
     "output_type": "error",
     "traceback": [
      "\u001b[1;31m---------------------------------------------------------------------------\u001b[0m",
      "\u001b[1;31mTypeError\u001b[0m                                 Traceback (most recent call last)",
      "Input \u001b[1;32mIn [4]\u001b[0m, in \u001b[0;36m<cell line: 14>\u001b[1;34m()\u001b[0m\n\u001b[0;32m     12\u001b[0m \u001b[38;5;28mprint\u001b[39m(var4 \u001b[38;5;241m+\u001b[39m var4)\n\u001b[0;32m     13\u001b[0m \u001b[38;5;28mprint\u001b[39m(var4 \u001b[38;5;241m*\u001b[39m ((\u001b[38;5;241m-\u001b[39m\u001b[38;5;241m1\u001b[39m) \u001b[38;5;241m*\u001b[39m var3))\n\u001b[1;32m---> 14\u001b[0m \u001b[38;5;28mprint\u001b[39m(\u001b[43mvar4\u001b[49m\u001b[43m \u001b[49m\u001b[38;5;241;43m/\u001b[39;49m\u001b[43m \u001b[49m\u001b[43mvar2\u001b[49m)\n",
      "\u001b[1;31mTypeError\u001b[0m: unsupported operand type(s) for /: 'str' and 'float'"
     ]
    }
   ],
   "source": [
    "var1 = 1\n",
    "var2 = 3.14\n",
    "var3 = -8 \n",
    "var4 = \"CEIoT\"\n",
    "\n",
    "print(var1+var2)\n",
    "print(var1-var2)\n",
    "print(var3 // 3)\n",
    "print(var3 % 3)\n",
    "print(var2 ** 2)\n",
    "print(var3 * var2)\n",
    "print(var4 + var4)\n",
    "print(var4 * ((-1) * var3))\n",
    "print(var4 / var2)\n"
   ]
  },
  {
   "cell_type": "markdown",
   "metadata": {},
   "source": [
    "**Ejercicio 4**: Cree la variable `pi_string = \"3.1415926\"`\n",
    "1.  Conviertala en `float` (use la función `float()`) y guarda el resultado en la variable `pi_float`.\n",
    "2.  Imprima la variable `pi_float` con solo 3 decimales"
   ]
  },
  {
   "cell_type": "code",
   "execution_count": 6,
   "metadata": {},
   "outputs": [
    {
     "name": "stdout",
     "output_type": "stream",
     "text": [
      "3.142\n"
     ]
    }
   ],
   "source": [
    "pi_string = \"3.1415926\"\n",
    "pi_float = \"{:.3f}\".format(float(pi_string))\n",
    "print(pi_float)"
   ]
  },
  {
   "cell_type": "markdown",
   "metadata": {},
   "source": [
    "**Ejercicio 5**: Crea una variable con el string: `\"Me gusta la comida mexicana\"`.\n",
    "1. Crea una variable que se llame `mexican_food` que sea booleana.\n",
    "2. Mediante control de flujo, imprima condicionalmente la variable string si la variable del apartado 1 es verdadera."
   ]
  },
  {
   "cell_type": "code",
   "execution_count": 7,
   "metadata": {},
   "outputs": [
    {
     "name": "stdout",
     "output_type": "stream",
     "text": [
      "Me gusta la comida mexicana\n"
     ]
    }
   ],
   "source": [
    "var_string = \"Me gusta la comida mexicana\"\n",
    "mexican_food = 0\n",
    "if(mexican_food == 0):\n",
    "    print(var_string)"
   ]
  },
  {
   "cell_type": "markdown",
   "metadata": {},
   "source": [
    "**Ejercicio 6**: Imprima la fecha y hora actual (utilice la librería [datetime](https://www.w3schools.com/python/python_datetime.asp))"
   ]
  },
  {
   "cell_type": "code",
   "execution_count": 11,
   "metadata": {},
   "outputs": [
    {
     "name": "stdout",
     "output_type": "stream",
     "text": [
      "2024-04-14 01:55:36.125160\n"
     ]
    }
   ],
   "source": [
    "import datetime\n",
    "print(datetime.datetime.now())"
   ]
  },
  {
   "cell_type": "markdown",
   "metadata": {},
   "source": [
    "**Ejercicio 7**: Imprima el calendario del mes de Marzo de 2023 (utilice la librería [calendar](https://www.geeksforgeeks.org/python-calendar-module/))"
   ]
  },
  {
   "cell_type": "code",
   "execution_count": 18,
   "metadata": {},
   "outputs": [
    {
     "name": "stdout",
     "output_type": "stream",
     "text": [
      "     March 2017\n",
      "Mo Tu We Th Fr Sa Su\n",
      "       1  2  3  4  5\n",
      " 6  7  8  9 10 11 12\n",
      "13 14 15 16 17 18 19\n",
      "20 21 22 23 24 25 26\n",
      "27 28 29 30 31\n",
      "\n"
     ]
    }
   ],
   "source": [
    "import calendar \n",
    "   \n",
    "yy = 2017\n",
    "mm = 3\n",
    "print(calendar.month(yy, mm)) "
   ]
  },
  {
   "cell_type": "markdown",
   "metadata": {},
   "source": [
    "**Ejercicio 8**: Usando Python resuelva este ejercicio:\n",
    "```\n",
    "Supongamos que tenemos U$D 100, el cual se puede invertir y retornar el 10% extra cada año. Es decir, después del primer año tendríamos 100 * 1.1 = 110, luego de dos años 100 * 1.1 * 1.1 = 121.\n",
    "\n",
    "Calcule la cantidad de plata que uno tendría luego de 7 años, y después de 23 años.\n",
    "```"
   ]
  },
  {
   "cell_type": "code",
   "execution_count": 2,
   "metadata": {},
   "outputs": [
    {
     "name": "stdout",
     "output_type": "stream",
     "text": [
      "Después de 7 años, tendrías: 194.87171000000012\n",
      "Después de 23 años, tendrías: 895.430243255239\n"
     ]
    }
   ],
   "source": [
    "def calcular_retorno_inversion(monto, tasa, años):\n",
    "    return monto * (1 + tasa) ** años\n",
    "\n",
    "monto = 100\n",
    "tasa = 0.1\n",
    "\n",
    "# Después de 7 años\n",
    "años_7 = 7\n",
    "resultado_7_años = calcular_retorno_inversion(monto, tasa, años_7)\n",
    "print(\"Después de\", años_7, \"años, tendrías:\", {\".3\"}.resultado_7_años)\n",
    "\n",
    "# Después de 23 años\n",
    "años_23 = 23\n",
    "resultado_23_años = calcular_retorno_inversion(monto, tasa, años_23)\n",
    "print(\"Después de\", años_23, \"años, tendrías:\", resultado_23_años)"
   ]
  },
  {
   "cell_type": "markdown",
   "metadata": {},
   "source": [
    "**Ejercicio 9**: Introduzca el código del punto anterior en una función. Que los argumentos sean la inversión inicial, el interés y la cantidad de años. Obtenga diferentes salidas combinando estas variables."
   ]
  },
  {
   "cell_type": "code",
   "execution_count": null,
   "metadata": {},
   "outputs": [],
   "source": [
    "def calcular_retorno_inversion(monto, tasa, años):\n",
    "    return monto * (1 + tasa) ** años\n",
    "\n",
    "monto = 100\n",
    "tasa = 0.1\n",
    "\n",
    "# Después de 7 años\n",
    "años_7 = 7\n",
    "resultado_7_años = calcular_retorno_inversion(monto, tasa, años_7)\n",
    "print(\"Después de\", años_7, \"años, tendrías:\", {\".3\"}.resultado_7_años)\n",
    "\n",
    "# Después de 23 años\n",
    "años_23 = 23\n",
    "resultado_23_años = calcular_retorno_inversion(monto, tasa, años_23)\n",
    "print(\"Después de\", años_23, \"años, tendrías:\", resultado_23_años)"
   ]
  },
  {
   "cell_type": "markdown",
   "metadata": {},
   "source": [
    "**Ejercicio 10**: Escriba una función que teste si un número está entre 100 y 2000."
   ]
  },
  {
   "cell_type": "code",
   "execution_count": 3,
   "metadata": {},
   "outputs": [
    {
     "name": "stdout",
     "output_type": "stream",
     "text": [
      "False\n",
      "True\n"
     ]
    }
   ],
   "source": [
    "def between_100_2000(num):\n",
    "    if(100<=num<=2000):\n",
    "        return True\n",
    "    else:  \n",
    "        return False\n",
    "\n",
    "print(between_100_2000(50))\n",
    "print(between_100_2000(150))\n"
   ]
  },
  {
   "cell_type": "markdown",
   "metadata": {},
   "source": [
    "**Ejercicio 11**: Escriba una función que verifique si dado un número natural, si es capicúa (por ejemplo 12321 o 90809)."
   ]
  },
  {
   "cell_type": "code",
   "execution_count": 5,
   "metadata": {},
   "outputs": [
    {
     "name": "stdout",
     "output_type": "stream",
     "text": [
      "El número es natural.\n",
      "Además, el número es capicúa.\n"
     ]
    }
   ],
   "source": [
    "def es_natural(numero):\n",
    "    return numero >= 0\n",
    "\n",
    "def es_capicua(numero):\n",
    "    # Convertir el número a string para poder invertirlo y compararlo con el original\n",
    "    numero_str = str(numero)\n",
    "    return numero_str == numero_str[::-1]\n",
    "\n",
    "numero = int(input(\"Ingrese un número: \"))\n",
    "\n",
    "if es_natural(numero):\n",
    "    print(\"El número es natural.\")\n",
    "    if es_capicua(numero):\n",
    "        print(\"Además, el número es capicúa.\")\n",
    "    else:\n",
    "        print(\"El número no es capicúa.\")\n",
    "else:\n",
    "    print(\"El número no es natural.\")\n"
   ]
  },
  {
   "cell_type": "markdown",
   "metadata": {},
   "source": [
    "**Ejercicio 12**: \n",
    "1. Escriba una función que dado un string reemplaza todos los caracteres con `\"*\"` menos los últimos 5 caracteres.\n",
    "2. Modifique la función para que un argumento opcional se pueda cambiar cuantos caracteres se quieren dejar sin `\"*\"`."
   ]
  },
  {
   "cell_type": "code",
   "execution_count": 6,
   "metadata": {},
   "outputs": [
    {
     "name": "stdout",
     "output_type": "stream",
     "text": [
      "Texto reemplazado: ***********enial\n",
      "Texto reemplazado (con 3 caracteres sin *): *************ial\n"
     ]
    }
   ],
   "source": [
    "def reemplazar_con_asteriscos(texto, cantidad=5):\n",
    "    if cantidad >= len(texto):\n",
    "        return texto\n",
    "    else:\n",
    "        return \"*\" * (len(texto) - cantidad) + texto[-cantidad:]\n",
    "\n",
    "# Ejemplo de uso\n",
    "texto_original = \"Python es genial\"\n",
    "texto_reemplazado = reemplazar_con_asteriscos(texto_original)\n",
    "print(\"Texto reemplazado:\", texto_reemplazado)\n",
    "\n",
    "# Ejemplo de uso con cantidad de caracteres opcionales\n",
    "texto_reemplazado_3 = reemplazar_con_asteriscos(texto_original, 3)\n",
    "print(\"Texto reemplazado (con 3 caracteres sin *):\", texto_reemplazado_3)"
   ]
  },
  {
   "cell_type": "markdown",
   "metadata": {},
   "source": [
    "**Ejercicio 13**: \n",
    "1. Escriba una función que dado el radio (número flotante) como entrada devuelva el diámetro, circunferencia y área de un círculo.\n",
    "2. Agregue un argumento opcional dimensión que por defecto es 2, si es 3 retorna el diámetro y el volumen de una esfera. Cualquier otro valor, retorne\n",
    "-1."
   ]
  },
  {
   "cell_type": "code",
   "execution_count": 12,
   "metadata": {},
   "outputs": [
    {
     "name": "stdout",
     "output_type": "stream",
     "text": [
      "Diametro:  6\n",
      "Circunferencia:  18.84\n",
      "Area:  28.26\n",
      "Diametro:  6\n",
      "Volumen:  63.585\n"
     ]
    }
   ],
   "source": [
    "def funcion_diam_circu_area(radio):\n",
    "    return radio*2, 3.14*radio*2, 3.14*(radio**2)\n",
    "\n",
    "diametro, circunferencia, area = funcion_diam_circu_area(3)\n",
    "print(\"Diametro: \", diametro)\n",
    "print(\"Circunferencia: \", circunferencia)\n",
    "print(\"Area: \", area)\n",
    "\n",
    "def funcion_diam_circu_area_dim(radio, dim=2):\n",
    "    if(dim==3):\n",
    "        return radio*2, (3/4)*3.14*(radio**3)\n",
    "    else:\n",
    "        return -1\n",
    "\n",
    "#diametro, volumen = funcion_diam_circu_area_dim(3)\n",
    "\n",
    "#print(diametro)\n",
    "\n",
    "diametro, volumen = funcion_diam_circu_area_dim(3,3)\n",
    "\n",
    "print(\"Diametro: \", diametro)\n",
    "print(\"Volumen: \", volumen)"
   ]
  },
  {
   "cell_type": "markdown",
   "metadata": {},
   "source": [
    "**Ejercicio 14**: Genere una lista formada por los números naturales desde el 1 hasta el 9 incluidos llamada `mi_lista` usado list comprehension.\n",
    "1. Imprima el primer, el quinto y último elemento, y además la cantidad de elementos que tiene la lista.\n",
    "2. Cree una lista nueva que incluya solamente desde el segundo al sexto elemento.\n",
    "3. Quite el último elemento de la lista `mi_lista` y guárdelo en una variable llamada `ultimo_elemento`.\n",
    "4. Quite el tercer elemento de la lista `mi_lista`.\n",
    "5. Agregue el número 4 al final de `mi_lista`.\n",
    "6. Agregue el string `\"Soy un string\"` en la tercera posición de `mi_lista`."
   ]
  },
  {
   "cell_type": "code",
   "execution_count": 17,
   "metadata": {},
   "outputs": [
    {
     "name": "stdout",
     "output_type": "stream",
     "text": [
      "primer elemento:  1 el quinto:  7 y último elemento:  [] y además la cantidad de elementos que tiene la lista. 9\n",
      "Nueva lista  [2, 3, 4, 5, 6]\n",
      "Mi lista  [1, 2, 3, 4, 5, 6, 7, 8, 9]\n",
      "Elimino ultimo elemento  [1, 2, 3, 4, 5, 6, 7, 8]\n",
      "Elimino 4to elemento [1, 2, 3, 5, 6, 7, 8]\n",
      "agrego 4 al final  [1, 2, 3, 5, 6, 7, 8, 4]\n",
      "agrego string en posicion 3 [1, 2, 'Soy un string', 3, 5, 6, 7, 8, 4]\n"
     ]
    }
   ],
   "source": [
    "mi_lista = [1,2,3,4,5,6,7,8,9]\n",
    "\n",
    "print(\"primer elemento: \",mi_lista[0], \"el quinto: \", mi_lista[6], \"y último elemento: \", mi_lista[:0], \"y además la cantidad de elementos que tiene la lista.\", len(mi_lista))\n",
    "nueva_lista = [x for x in mi_lista if 1 < x < 7]\n",
    "print(\"Nueva lista \",nueva_lista)\n",
    "print(\"Mi lista \", mi_lista)\n",
    "# Quitando el último elemento de la lista y guardándolo en una variable llamada ultimo_elemento\n",
    "ultimo_elemento = mi_lista.pop()\n",
    "print(\"Elimino ultimo elemento \",mi_lista)\n",
    "mi_lista.pop(3)\n",
    "print(\"Elimino 4to elemento\",mi_lista)\n",
    "mi_lista.append(4)\n",
    "print(\"agrego 4 al final \",mi_lista)\n",
    "mi_lista.insert(2, \"Soy un string\")\n",
    "print(\"agrego string en posicion 3\", mi_lista)\n",
    "\n"
   ]
  },
  {
   "cell_type": "markdown",
   "metadata": {},
   "source": [
    "**Ejercicio 15**: Escriba una función que devuelva una tupla de todos los números impares dado un valor de inicio y final. Siendo el de inicio opcional, con valor por defecto igual a 1."
   ]
  },
  {
   "cell_type": "code",
   "execution_count": 3,
   "metadata": {},
   "outputs": [
    {
     "name": "stdout",
     "output_type": "stream",
     "text": [
      "(1, 3, 5, 7)\n"
     ]
    }
   ],
   "source": [
    "def numeros_impares(final, inicio=1):\n",
    "    impares = tuple(i for i in range(inicio, final+1) if i % 2 != 0)\n",
    "    return impares\n",
    "\n",
    "# Ejemplo de uso\n",
    "inicio = 3\n",
    "final = 7\n",
    "resultado = numeros_impares(final)\n",
    "print(resultado)\n",
    "\n",
    "    "
   ]
  },
  {
   "cell_type": "markdown",
   "metadata": {},
   "source": [
    "**Ejercicio 16**: Escriba una función que realice la suma de dos vectores. Para \"armar\" a los vectores vamos a usar listas de igual tamaño. La función debe devolver el vector suma en forma de lista."
   ]
  },
  {
   "cell_type": "code",
   "execution_count": 4,
   "metadata": {},
   "outputs": [
    {
     "name": "stdout",
     "output_type": "stream",
     "text": [
      "[5, 7, 9]\n"
     ]
    }
   ],
   "source": [
    "def suma_vectores(vec1, vec2):\n",
    "    if len(vec1) != len(vec2):\n",
    "            return \"Error: Los vectores deben tener la misma longitud\"\n",
    "        \n",
    "    suma = [vec1[i] + vec2[i] for i in range(len(vec1))]\n",
    "    return suma\n",
    "\n",
    "vec1 = [1,2,3]\n",
    "vec2 = [4,5,6]\n",
    "\n",
    "suma = suma_vectores(vec1,vec2)\n",
    "print(suma)"
   ]
  },
  {
   "cell_type": "markdown",
   "metadata": {},
   "source": [
    "**Ejercicio 17**: Cree un diccionario llamado datos_personales con los siguientes datos:\n",
    "```\n",
    "nombre: Pedro\n",
    "apellido: Perez\n",
    "edad: 43\n",
    "```\n",
    "\n",
    "1. Imprima el apellido.\n",
    "2. Cambie el valor de la edad a 24.\n",
    "3. Agregue dos elementos:\n",
    "```\n",
    "    tipo de sangre: A\n",
    "    dirección: Av. Colón 1132.\n",
    "```\n",
    "4. Elimine el elemento tipo de sangre.\n",
    "5. Imprima todo el diccionario."
   ]
  },
  {
   "cell_type": "code",
   "execution_count": 6,
   "metadata": {},
   "outputs": [
    {
     "name": "stdout",
     "output_type": "stream",
     "text": [
      "Perez\n",
      "{'nombre': 'Pedro', 'apellido': 'Perez', 'edad': '24'}\n",
      "{'nombre': 'Pedro', 'apellido': 'Perez', 'edad': '24', 'tipo de sangre': 'A', 'direccion': 'Av. Colon 1132'}\n",
      "{'nombre': 'Pedro', 'apellido': 'Perez', 'edad': '24', 'direccion': 'Av. Colon 1132'}\n"
     ]
    }
   ],
   "source": [
    "dict = {\n",
    "    \"nombre\": \"Pedro\", \n",
    "    \"apellido\": \"Perez\",\n",
    "    \"edad\": 43\n",
    "    }\n",
    "\n",
    "print(dict[\"apellido\"])\n",
    "dict.update({\"edad\": \"24\"})\n",
    "print(dict)\n",
    "dict[\"tipo de sangre\"] = \"A\"\n",
    "dict[\"direccion\"] = \"Av. Colon 1132\"\n",
    "print(dict)\n",
    "dict.pop(\"tipo de sangre\")\n",
    "print(dict)\n"
   ]
  },
  {
   "cell_type": "markdown",
   "metadata": {},
   "source": [
    "**Ejercicio 18**: Cree un programa que usando while sume los números del 1 a 1000. Al final imprima la suma."
   ]
  },
  {
   "cell_type": "code",
   "execution_count": 7,
   "metadata": {},
   "outputs": [
    {
     "name": "stdout",
     "output_type": "stream",
     "text": [
      "500500\n"
     ]
    }
   ],
   "source": [
    "def suma_num():\n",
    "    i=1\n",
    "    suma = 0\n",
    "    while(i<=1000):\n",
    "        suma = suma + i\n",
    "        i += 1\n",
    "    print(suma)\n",
    "\n",
    "suma_num()"
   ]
  },
  {
   "cell_type": "markdown",
   "metadata": {},
   "source": [
    "**Ejercicio 19**: Usando for:\n",
    "1. Imprima todos los elementos de la lista `mi_lista` del ejercicio 14.\n",
    "2. Genere una nueva lista que sea los valores al cuadrado de todos los elementos de `mi_lista` que sean numéricos."
   ]
  },
  {
   "cell_type": "code",
   "execution_count": 11,
   "metadata": {},
   "outputs": [
    {
     "name": "stdout",
     "output_type": "stream",
     "text": [
      "[1, 2, 'Soy un string', 3, 5, 6, 7, 8, 4]\n",
      "[1, 4, 9, 25, 36, 49, 64, 16]\n"
     ]
    }
   ],
   "source": [
    "mi_lista = list([1, 2, 'Soy un string', 3, 5, 6, 7, 8, 4])\n",
    "print(mi_lista)\n",
    "\n",
    "num_lista = [x**2 for x in mi_lista if isinstance(x, (int, float))]\n",
    "print(num_lista)"
   ]
  },
  {
   "cell_type": "markdown",
   "metadata": {},
   "source": [
    "**Ejercicio 20**: Calcule los primeros 30 números primos"
   ]
  },
  {
   "cell_type": "code",
   "execution_count": 12,
   "metadata": {},
   "outputs": [
    {
     "name": "stdout",
     "output_type": "stream",
     "text": [
      "[2, 3, 5, 7, 11, 13, 17, 19, 23, 29, 31, 37, 41, 43, 47, 53, 59, 61, 67, 71, 73, 79, 83, 89, 97, 101, 103, 107, 109, 113]\n"
     ]
    }
   ],
   "source": [
    "def criba_eratostenes(n):\n",
    "    # Creamos una lista para marcar los números no primos\n",
    "    no_primos = [False] * (n+1)\n",
    "    # Inicializamos la lista de primos\n",
    "    primos = []\n",
    "\n",
    "    # Iteramos desde 2 hasta la raíz cuadrada de n\n",
    "    for i in range(2, int(n**0.5)+1):\n",
    "        if not no_primos[i]:\n",
    "            # Si i es primo, marcamos sus múltiplos como no primos\n",
    "            for j in range(i*i, n+1, i):\n",
    "                no_primos[j] = True\n",
    "\n",
    "    # Añadimos los números primos a la lista primos\n",
    "    for i in range(2, n+1):\n",
    "        if not no_primos[i]:\n",
    "            primos.append(i)\n",
    "\n",
    "    return primos\n",
    "\n",
    "# Calcular los primeros 30 números primos\n",
    "primeros_primos = criba_eratostenes(113)\n",
    "print(primeros_primos)\n"
   ]
  },
  {
   "cell_type": "markdown",
   "metadata": {},
   "source": [
    "**Ejercicio 21**: Escriba una función que construya el patrón que tenga como argumento de entrada el maximo numero de asterisco de la punta (valor minimo igual a 2):\n",
    "\n",
    "```\n",
    "*\n",
    "**\n",
    "***\n",
    "****\n",
    "*****\n",
    "****\n",
    "***\n",
    "**\n",
    "*\n",
    "```"
   ]
  },
  {
   "cell_type": "code",
   "execution_count": 14,
   "metadata": {},
   "outputs": [
    {
     "name": "stdout",
     "output_type": "stream",
     "text": [
      "*\n",
      "**\n",
      "***\n",
      "****\n",
      "*****\n",
      "****\n",
      "***\n",
      "**\n",
      "*\n"
     ]
    }
   ],
   "source": [
    "def construir_patron(max_asteriscos):\n",
    "    # Validar que el máximo de asteriscos sea al menos 2\n",
    "    if max_asteriscos < 2:\n",
    "        print(\"El máximo número de asteriscos debe ser al menos 2\")\n",
    "        return\n",
    "\n",
    "    # Construir la mitad superior del patrón\n",
    "    for i in range(1, max_asteriscos + 1):\n",
    "        print('*' * i)\n",
    "\n",
    "    # Construir la mitad inferior del patrón\n",
    "    for i in range(max_asteriscos - 1, 0, -1):\n",
    "        print('*' * i)\n",
    "\n",
    "# Ejemplo de uso\n",
    "construir_patron(5)\n"
   ]
  },
  {
   "cell_type": "markdown",
   "metadata": {},
   "source": [
    "**Ejercicio 22**: El matemático aleman Gottfried Leibniz desarrolló un método para aproximar el valor de π:\n",
    "\n",
    "$$ \\pi = 4 \\sum_{n=0}^{\\infty} \\frac{(-1)^n}{2n + 1} $$\n",
    "\n",
    "Escriba una función que mediante un argumento especifique el número de iteraciones usadas para aproximarse usando esta serie e imprima en pantalla el valor resultante."
   ]
  },
  {
   "cell_type": "code",
   "execution_count": 20,
   "metadata": {},
   "outputs": [
    {
     "name": "stdout",
     "output_type": "stream",
     "text": [
      "Valor aproximado de pi: 3.140592653839794\n"
     ]
    }
   ],
   "source": [
    "def aproximacion_pi(iteraciones):\n",
    "    suma = 0\n",
    "    for n in range(iteraciones):\n",
    "        suma += ((-1) ** n) / (2 * n + 1)\n",
    "    pi_aproximado = 4 * suma\n",
    "    return pi_aproximado\n",
    "\n",
    "# Ejemplo de uso\n",
    "iteraciones = 1000  # Puedes ajustar este valor según la precisión deseada\n",
    "pi_aprox = aproximacion_pi(iteraciones)\n",
    "print(\"Valor aproximado de pi:\", pi_aprox)    "
   ]
  },
  {
   "cell_type": "markdown",
   "metadata": {},
   "source": [
    "**Ejercicio 25**: Escriba un script para crear una función **lambda** que sume 15 a un número dado pasado como argumento, también cree una función **lambda** que multiplique el argumento x con el argumento y e imprima el resultado."
   ]
  },
  {
   "cell_type": "code",
   "execution_count": 21,
   "metadata": {},
   "outputs": [
    {
     "name": "stdout",
     "output_type": "stream",
     "text": [
      "Resultado de sumar 15 al número 5: 20\n",
      "Resultado de multiplicar 3 por 4: 12\n"
     ]
    }
   ],
   "source": [
    "# Definir una función lambda que sume 15 a un número dado\n",
    "suma_quince = lambda x: x + 15\n",
    "\n",
    "# Definir una función lambda que multiplique dos números dados\n",
    "multiplicacion = lambda x, y: print(x * y)\n",
    "\n",
    "# Ejemplos de uso\n",
    "numero = 5\n",
    "resultado_suma = suma_quince(numero)\n",
    "print(\"Resultado de sumar 15 al número {}: {}\".format(numero, resultado_suma))\n",
    "\n",
    "x = 3\n",
    "y = 4\n",
    "print(\"Resultado de multiplicar {} por {}: \".format(x, y), end=\"\")\n",
    "multiplicacion(x, y)\n"
   ]
  },
  {
   "cell_type": "markdown",
   "metadata": {},
   "source": [
    "**Ejercicio 26**: Un sistema de administración de perros de una veterinaria permite cargar datos del perro:\n",
    "```\n",
    "Nombre del perro\n",
    "Nombre completo del dueño\n",
    "Peso\n",
    "Raza\n",
    "```\n",
    "\n",
    "Defina una clase llamada `Dog` que se inicie con todos los atributos vacíos y que con diferentes métodos se puedan completar la información y mostrar la información."
   ]
  },
  {
   "cell_type": "code",
   "execution_count": 24,
   "metadata": {},
   "outputs": [
    {
     "name": "stdout",
     "output_type": "stream",
     "text": [
      "Nombre del perro: Fido\n",
      "Nombre completo del dueño: Juan Pérez\n",
      "Peso: 10 kg\n",
      "Raza: Labrador\n"
     ]
    }
   ],
   "source": [
    "class Dog:\n",
    "    def __init__(self):\n",
    "        self.nombre_perro = \"\"\n",
    "        self.nombre_dueno = \"\"\n",
    "        self.peso = \"\"\n",
    "        self.raza = \"\"\n",
    "\n",
    "    def cargar_nombre_perro(self, nombre_perro):\n",
    "        self.nombre_perro = nombre_perro\n",
    "\n",
    "    def cargar_nombre_dueno(self, nombre_dueno):\n",
    "        self.nombre_dueno = nombre_dueno\n",
    "\n",
    "    def cargar_peso(self, peso):\n",
    "        self.peso = peso\n",
    "\n",
    "    def cargar_raza(self, raza):\n",
    "        self.raza = raza\n",
    "\n",
    "    def mostrar_informacion(self):\n",
    "        print(\"Nombre del perro:\", self.nombre_perro)\n",
    "        print(\"Nombre completo del dueño:\", self.nombre_dueno)\n",
    "        print(\"Peso:\", self.peso)\n",
    "        print(\"Raza:\", self.raza)\n",
    "\n",
    "# Ejemplo de uso\n",
    "perro1 = Dog()\n",
    "perro1.cargar_nombre_perro(\"Fido\")\n",
    "perro1.cargar_nombre_dueno(\"Juan Pérez\")\n",
    "perro1.cargar_peso(\"10 kg\")\n",
    "perro1.cargar_raza(\"Labrador\")\n",
    "\n",
    "perro1.mostrar_informacion()\n"
   ]
  }
 ],
 "metadata": {
  "kernelspec": {
   "display_name": "Python 3",
   "language": "python",
   "name": "python3"
  },
  "language_info": {
   "codemirror_mode": {
    "name": "ipython",
    "version": 3
   },
   "file_extension": ".py",
   "mimetype": "text/x-python",
   "name": "python",
   "nbconvert_exporter": "python",
   "pygments_lexer": "ipython3",
   "version": "3.10.9"
  }
 },
 "nbformat": 4,
 "nbformat_minor": 2
}
