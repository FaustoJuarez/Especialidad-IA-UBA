{
 "cells": [
  {
   "cell_type": "code",
   "execution_count": 7,
   "metadata": {},
   "outputs": [],
   "source": [
    "import pandas as pd\n",
    "import numpy as np\n",
    "import matplotlib.pyplot as plt\n",
    "import statsmodels.api as sm\n",
    "from scipy.stats import gaussian_kde, ttest_ind\n",
    "from matplotlib.backends.backend_pdf import PdfPages  ###"
   ]
  },
  {
   "cell_type": "markdown",
   "metadata": {},
   "source": [
    "# Paso 1: Cargar los Datos\n"
   ]
  },
  {
   "cell_type": "code",
   "execution_count": 8,
   "metadata": {},
   "outputs": [],
   "source": [
    "# Cargar datos\n",
    "data_path = 'Grupo_9.xlsx'\n",
    "data = pd.read_excel(data_path, sheet_name=None)\n",
    "santa_ana = data['Santa Ana']\n",
    "la_floresta = data['La Floresta']"
   ]
  },
  {
   "cell_type": "markdown",
   "metadata": {},
   "source": [
    "# Paso 2: Procesar los datos."
   ]
  },
  {
   "cell_type": "code",
   "execution_count": 9,
   "metadata": {},
   "outputs": [
    {
     "name": "stdout",
     "output_type": "stream",
     "text": [
      "       Fecha        Ventas  Mes  DiaSemana\n",
      "0 2023-01-01   9628.330859    1     Sunday\n",
      "1 2023-01-02  14290.679435    1     Monday\n",
      "2 2023-01-03  12818.232667    1    Tuesday\n",
      "3 2023-01-04  17404.842772    1  Wednesday\n",
      "4 2023-01-05  18919.685321    1   Thursday\n",
      "       Fecha        Ventas  Mes  DiaSemana\n",
      "0 2023-01-01  11645.100903    1     Sunday\n",
      "1 2023-01-02  13759.322193    1     Monday\n",
      "2 2023-01-03  15873.983239    1    Tuesday\n",
      "3 2023-01-04  17180.894218    1  Wednesday\n",
      "4 2023-01-05  16358.073717    1   Thursday\n"
     ]
    }
   ],
   "source": [
    "# Preprocesar datos dentro de un FOR\n",
    "for df in [santa_ana, la_floresta]:               ###\n",
    "    df['Fecha'] = pd.to_datetime(df['Fecha'])\n",
    "    df['Mes'] = df['Fecha'].dt.month\n",
    "    df['DiaSemana'] = df['Fecha'].dt.day_name()\n",
    "\n",
    "print(santa_ana.head())\n",
    "print(la_floresta.head())"
   ]
  },
  {
   "cell_type": "markdown",
   "metadata": {},
   "source": [
    "# Paso 3: Definir funciones para analisis estadistico"
   ]
  },
  {
   "cell_type": "code",
   "execution_count": 10,
   "metadata": {},
   "outputs": [],
   "source": [
    "# Funciones para análisis estadístico\n",
    "def create_ecdf(data):\n",
    "    return sm.distributions.ECDF(data)\n",
    "\n",
    "def create_kde(data):\n",
    "    return gaussian_kde(data)\n",
    "\n",
    "def confidence_intervals(data, confidence_level=0.95): ####_______________ Corrige un error en el calculo del intervalo superior?¿¿\n",
    "    alpha = 100 * (1 - confidence_level)\n",
    "    lower_bound = np.percentile(data, alpha / 2)\n",
    "    upper_bound = np.percentile(data, 100 - alpha / 2)\n",
    "    return lower_bound, upper_bound\n"
   ]
  },
  {
   "cell_type": "markdown",
   "metadata": {},
   "source": [
    "# Paso 3: Definir funciones para generacion de graficos y tablas"
   ]
  },
  {
   "cell_type": "code",
   "execution_count": 11,
   "metadata": {},
   "outputs": [],
   "source": [
    "# Analisis Mensual \n",
    "\n",
    "def plot_ecdf_and_kde_to_pdf(store_data, store_name, pdf):\n",
    "    \"\"\"Grafica ECDF y KDE para cada mes en un documento PDF para cada tienda.\"\"\"\n",
    "    colors = plt.get_cmap('tab20').colors  # Usando el mapa de colores 'tab20'\n",
    "    line_styles = ['-', '--', '-.', ':', (0, (3, 5, 1, 5)), (0, (3, 10, 1, 10)), (0, (3, 1, 1, 1)),\n",
    "                   (0, (5, 10)), (0, (5, 5)), (0, (5, 1)), (0, (3, 10, 1, 10, 1, 10)), (0, (3, 5, 1, 5, 1, 5))]\n",
    "    markers = ['o', 'v', '^', '<', '>', 's', 'p', '*', 'h', 'H', 'D', 'd']\n",
    "    ci_data = []  # Lista para almacenar los datos de los intervalos de confianza\n",
    "\n",
    "    # Gráfico para ECDF\n",
    "    fig, ax = plt.subplots(figsize=(11.69, 8.27))  # Tamaño A4 en orientación horizontal\n",
    "    for i, (month, group) in enumerate(store_data.groupby('Mes')['Ventas']):\n",
    "        ecdf = create_ecdf(group)\n",
    "        x = np.linspace(min(group), max(group), 100)\n",
    "        ax.plot(x, ecdf(x), label=f'Mes {month}', color=colors[i], linestyle=line_styles[i], linewidth=2, marker=markers[i], markevery=10)\n",
    "\n",
    "    ax.set_title(f'ECDF de {store_name}')\n",
    "    ax.set_xlabel('Ventas ($)')\n",
    "    ax.set_ylabel('ECDF')\n",
    "    ax.legend()\n",
    "    pdf.savefig(fig)  # Guarda la figura actual en el PDF\n",
    "    plt.close(fig)\n",
    "\n",
    "    # Gráfico para KDE\n",
    "    fig, ax = plt.subplots(figsize=(11.69, 8.27))  # Tamaño A4 en orientación horizontal\n",
    "    for i, (month, group) in enumerate(store_data.groupby('Mes')['Ventas']):\n",
    "        kde = create_kde(group)\n",
    "        x = np.linspace(min(group), max(group), 100)\n",
    "        ax.plot(x, kde(x), label=f'Mes {month}', color=colors[i], linestyle=line_styles[i], linewidth=2, marker=markers[i], markevery=10)\n",
    "        # Almacenar intervalos de confianza para la tabla\n",
    "        ci_95 = confidence_intervals(group, confidence_level=0.95)\n",
    "        ci_99 = confidence_intervals(group, confidence_level=0.99)\n",
    "        ci_data.append([month, f\"{ci_95[0]:.2f} : {ci_95[1]:.2f}\", f\"{ci_99[0]:.2f} : {ci_99[1]:.2f}\"])\n",
    "\n",
    "    ax.set_title(f'KDE de {store_name}')\n",
    "    ax.set_xlabel('Ventas ($)')\n",
    "    ax.set_ylabel('Densidad')\n",
    "    ax.legend()\n",
    "    pdf.savefig(fig)  # Guarda la figura actual en el PDF\n",
    "    plt.close(fig)\n",
    "\n",
    "    # Crear y guardar la tabla en el PDF\n",
    "    fig, ax = plt.subplots(figsize=(11.69, 8.27))  # Tamaño A4\n",
    "    ax.axis('tight')\n",
    "    ax.axis('off')\n",
    "    df = pd.DataFrame(ci_data, columns=['Mes', 'CI 95%', 'CI 99%'])\n",
    "    table = ax.table(cellText=df.values, colLabels=df.columns, loc='center', cellLoc='center')\n",
    "    table.auto_set_font_size(False)\n",
    "    table.set_fontsize(10)\n",
    "    table.scale(1, 1.5) \n",
    "    pdf.savefig(fig, bbox_inches='tight')  # Guardar asegurando que todo está centrado y contenido\n",
    "    plt.close(fig)\n",
    "    \n",
    "# Analisis Diario \n",
    "    \n",
    "def plot_ecdf_and_kde_to_pdf_dia(store_data, store_name, pdf):\n",
    "    \"\"\"Grafica ECDF y KDE por día de la semana en un documento PDF para cada tienda.\"\"\"\n",
    "    colors = plt.get_cmap('tab10').colors  # Usando el mapa de colores 'Paired'\n",
    "    line_styles = ['-', '--', '-.', ':', (0, (3, 5, 1, 5)), (0, (3, 10, 1, 10)), (0, (3, 1, 1, 1))]\n",
    "    markers = ['o', 'v', '^', '<', '>', 's', 'p']\n",
    "    ci_data = []  # Lista para almacenar los datos de los intervalos de confianza\n",
    "\n",
    "    # Ordenar los días de la semana para una correcta visualización\n",
    "    days_order = ['Monday', 'Tuesday', 'Wednesday', 'Thursday', 'Friday', 'Saturday', 'Sunday']\n",
    "    store_data['DiaSemana'] = pd.Categorical(store_data['DiaSemana'], categories=days_order, ordered=True)\n",
    "    store_data = store_data.sort_values('DiaSemana')\n",
    "\n",
    "    # Gráfico para ECDF\n",
    "    fig, ax = plt.subplots(figsize=(11.69, 8.27))  # Tamaño A4 en orientación horizontal\n",
    "    for i, (day, group) in enumerate(store_data.groupby('DiaSemana')['Ventas']):\n",
    "        ecdf = create_ecdf(group)\n",
    "        x = np.linspace(min(group), max(group), 100)\n",
    "        ax.plot(x, ecdf(x), label=f'{day}', color=colors[i], linestyle=line_styles[i], linewidth=2, marker=markers[i], markevery=10)\n",
    "        # Almacenar intervalos de confianza para la tabla\n",
    "        ci_95 = confidence_intervals(group, confidence_level=0.95)\n",
    "        ci_99 = confidence_intervals(group, confidence_level=0.99)\n",
    "        ci_data.append([day, f\"{ci_95[0]:.2f} : {ci_95[1]:.2f}\", f\"{ci_99[0]:.2f} : {ci_99[1]:.2f}\"])\n",
    "        \n",
    "    ax.set_title(f'ECDF de {store_name} por Día')\n",
    "    ax.set_xlabel('Ventas ($)')\n",
    "    ax.set_ylabel('ECDF')\n",
    "    ax.legend()\n",
    "    pdf.savefig(fig)  # Guarda la figura actual en el PDF\n",
    "    plt.close(fig)\n",
    "    \n",
    "    # Gráfico para KDE\n",
    "    fig, ax = plt.subplots(figsize=(11.69, 8.27))  # Tamaño A4 en orientación horizontal\n",
    "    for i, (day, group) in enumerate(store_data.groupby('DiaSemana')['Ventas']):\n",
    "        kde = create_kde(group)\n",
    "        x = np.linspace(min(group), max(group), 100)\n",
    "        ax.plot(x, kde(x), label=f'{day}', color=colors[i], linestyle=line_styles[i], linewidth=2, marker=markers[i], markevery=10)\n",
    "    ax.set_title(f'KDE de {store_name} por Día')\n",
    "    ax.set_xlabel('Ventas ($)')\n",
    "    ax.set_ylabel('Densidad')\n",
    "    ax.legend()\n",
    "    pdf.savefig(fig)  # Guarda la figura actual en el PDF\n",
    "    plt.close(fig)\n",
    "    \n",
    "    # Crear y guardar la tabla en el PDF\n",
    "    fig, ax = plt.subplots(figsize=(11.69, 8.27))  # Tamaño A4\n",
    "    ax.axis('tight')\n",
    "    ax.axis('off')\n",
    "    df = pd.DataFrame(ci_data, columns=['Día', 'CI 95%', 'CI 99%'])\n",
    "    table = ax.table(cellText=df.values, colLabels=df.columns, loc='center', cellLoc='center')\n",
    "    table.auto_set_font_size(False)\n",
    "    table.set_fontsize(10)\n",
    "    table.scale(1, 1.5)  # Ajusta la escala según necesites\n",
    "    pdf.savefig(fig, bbox_inches='tight')  # Guardar asegurando que todo está centrado y contenido\n",
    "    plt.close(fig)\n",
    "    "
   ]
  },
  {
   "cell_type": "markdown",
   "metadata": {},
   "source": [
    "# Paso 4: Generar analisis en formato PDF"
   ]
  },
  {
   "cell_type": "code",
   "execution_count": 12,
   "metadata": {},
   "outputs": [
    {
     "name": "stderr",
     "output_type": "stream",
     "text": [
      "C:\\Users\\santi_kcz1y0b\\AppData\\Local\\Temp\\ipykernel_17852\\3534839723.py:71: FutureWarning: The default of observed=False is deprecated and will be changed to True in a future version of pandas. Pass observed=False to retain current behavior or observed=True to adopt the future default and silence this warning.\n",
      "  for i, (day, group) in enumerate(store_data.groupby('DiaSemana')['Ventas']):\n",
      "C:\\Users\\santi_kcz1y0b\\AppData\\Local\\Temp\\ipykernel_17852\\3534839723.py:89: FutureWarning: The default of observed=False is deprecated and will be changed to True in a future version of pandas. Pass observed=False to retain current behavior or observed=True to adopt the future default and silence this warning.\n",
      "  for i, (day, group) in enumerate(store_data.groupby('DiaSemana')['Ventas']):\n"
     ]
    }
   ],
   "source": [
    "# PDF Analisis Mensual \n",
    "with PdfPages('ANALISIS_MES.pdf') as pdf:\n",
    "    # Llamada a la función para cada tienda con datos adecuados\n",
    "    plot_ecdf_and_kde_to_pdf(santa_ana, 'Santa Ana', pdf)\n",
    "    plot_ecdf_and_kde_to_pdf(la_floresta, 'La Floresta', pdf)\n",
    "    \n",
    "# PDF Analisis Diario \n",
    "with PdfPages('ANALISIS_DIA.pdf') as pdf:\n",
    "    # Llamada a la función para cada tienda con datos adecuados\n",
    "    plot_ecdf_and_kde_to_pdf_dia(santa_ana, 'Santa Ana', pdf)\n",
    "    plot_ecdf_and_kde_to_pdf_dia(la_floresta, 'La Floresta', pdf)"
   ]
  },
  {
   "cell_type": "markdown",
   "metadata": {},
   "source": [
    "# Paso 5: Pruebas de Hipótesis\n",
    "* Realizar pruebas de hipótesis para comparar las ventas entre las dos tiendas."
   ]
  },
  {
   "cell_type": "code",
   "execution_count": 13,
   "metadata": {},
   "outputs": [
    {
     "name": "stdout",
     "output_type": "stream",
     "text": [
      "Media de ventas para Santa Ana: 17753.89\n",
      "Media de ventas para La Floresta: 19987.07\n"
     ]
    },
    {
     "data": {
      "image/png": "[encoded data removed]",
      "text/plain": [
       "<Figure size 640x480 with 1 Axes>"
      ]
     },
     "metadata": {},
     "output_type": "display_data"
    },
    {
     "name": "stdout",
     "output_type": "stream",
     "text": [
      "\n",
      "H0: Ventas de ambas tiendas son iguales:\n",
      "Estadístico t: 9.857108820588982, p-valor: 1.3376077321057801e-21\n",
      "Rechazamos la hipótesis nula al 95% de confianza (las ventas son diferentes)\n",
      "Rechazamos la hipótesis nula al 99% de confianza (las ventas son diferentes)\n",
      "\n",
      "H0: Ventas de 'La Floresta' son mayores o iguales que las de 'Santa Ana'.:\n",
      "Estadístico t: 9.857108820588982, p-valor: 1.0\n"
     ]
    }
   ],
   "source": [
    "# Calculando las medias\n",
    "media_santa_ana = santa_ana['Ventas'].mean()\n",
    "media_la_floresta = la_floresta['Ventas'].mean()\n",
    "\n",
    "print(f\"Media de ventas para Santa Ana: {media_santa_ana:.2f}\")\n",
    "print(f\"Media de ventas para La Floresta: {media_la_floresta:.2f}\")\n",
    "\n",
    "# Creando el gráfico de boxplot\n",
    "data = [santa_ana['Ventas'], la_floresta['Ventas']]\n",
    "fig, ax = plt.subplots()\n",
    "ax.boxplot(data, notch=True, patch_artist=True, labels=['Santa Ana', 'La Floresta'])\n",
    "ax.set_title('Boxplot de las Ventas por Tienda')\n",
    "ax.set_ylabel('Ventas ($)')\n",
    "\n",
    "plt.show()\n",
    "\n",
    "# Realizar prueba t de dos muestras \n",
    "# H0: Ventas de ambas tiendas son iguales\n",
    "\n",
    "t_stat, p_value = ttest_ind(la_floresta['Ventas'], santa_ana['Ventas'])\n",
    "\n",
    "print(f\"\\nH0: Ventas de ambas tiendas son iguales:\")\n",
    "print(f\"Estadístico t: {t_stat}, p-valor: {p_value}\")\n",
    "if p_value < 0.05:\n",
    "    print(\"Rechazamos la hipótesis nula al 95% de confianza (las ventas son diferentes)\")\n",
    "if p_value < 0.01:\n",
    "    print(\"Rechazamos la hipótesis nula al 99% de confianza (las ventas son diferentes)\")\n",
    "\n",
    "# Realizar prueba t de dos muestras \n",
    "# H0: Ventas de 'La Floresta' son mayores o iguales que las de 'Santa Ana'\n",
    "\n",
    "t_stat1, p_value1 = ttest_ind(la_floresta['Ventas'], santa_ana['Ventas'], alternative='less')  ##### Corrige que los supermercados estaban invertidos para el test que pedia don francisco??¿¿\n",
    "\n",
    "print(f\"\\nH0: Ventas de 'La Floresta' son mayores o iguales que las de 'Santa Ana'.:\")\n",
    "print(f\"Estadístico t: {t_stat1}, p-valor: {p_value1}\")\n",
    "if p_value1 < 0.05:\n",
    "    print(\"Rechazamos la hipótesis nula al 95% de confianza ( Ventas de 'La Floresta' son mayores o igual que la de 'Santa Ana'.)\")\n",
    "if p_value1 < 0.01:\n",
    "    print(\"Rechazamos la hipótesis nula al 99% de confianza ( Ventas de 'La Floresta' son mayores o igual que la de 'Santa Ana'.)\")\n"
   ]
  }
 ],
 "metadata": {
  "kernelspec": {
   "display_name": "IA",
   "language": "python",
   "name": "python3"
  },
  "language_info": {
   "codemirror_mode": {
    "name": "ipython",
    "version": 3
   },
   "file_extension": ".py",
   "mimetype": "text/x-python",
   "name": "python",
   "nbconvert_exporter": "python",
   "pygments_lexer": "ipython3",
   "version": "3.11.8"
  }
 },
 "nbformat": 4,
 "nbformat_minor": 2
}
