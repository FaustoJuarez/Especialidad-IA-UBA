{
 "cells": [
  {
   "cell_type": "code",
   "execution_count": 8,
   "metadata": {},
   "outputs": [
    {
     "name": "stdout",
     "output_type": "stream",
     "text": [
      "Requirement already satisfied: openpyxl in c:\\python312\\lib\\site-packages (3.1.4)\n",
      "Requirement already satisfied: et-xmlfile in c:\\python312\\lib\\site-packages (from openpyxl) (1.1.0)\n",
      "Collecting statsmodels\n",
      "  Downloading statsmodels-0.14.2-cp312-cp312-win_amd64.whl.metadata (9.5 kB)\n",
      "Requirement already satisfied: numpy>=1.22.3 in c:\\python312\\lib\\site-packages (from statsmodels) (1.26.4)\n",
      "Requirement already satisfied: scipy!=1.9.2,>=1.8 in c:\\python312\\lib\\site-packages (from statsmodels) (1.12.0)\n",
      "Requirement already satisfied: pandas!=2.1.0,>=1.4 in c:\\python312\\lib\\site-packages (from statsmodels) (2.2.2)\n",
      "Collecting patsy>=0.5.6 (from statsmodels)\n",
      "  Downloading patsy-0.5.6-py2.py3-none-any.whl.metadata (3.5 kB)\n",
      "Requirement already satisfied: packaging>=21.3 in c:\\python312\\lib\\site-packages (from statsmodels) (23.2)\n",
      "Requirement already satisfied: python-dateutil>=2.8.2 in c:\\python312\\lib\\site-packages (from pandas!=2.1.0,>=1.4->statsmodels) (2.8.2)\n",
      "Requirement already satisfied: pytz>=2020.1 in c:\\python312\\lib\\site-packages (from pandas!=2.1.0,>=1.4->statsmodels) (2024.1)\n",
      "Requirement already satisfied: tzdata>=2022.7 in c:\\python312\\lib\\site-packages (from pandas!=2.1.0,>=1.4->statsmodels) (2024.1)\n",
      "Requirement already satisfied: six in c:\\python312\\lib\\site-packages (from patsy>=0.5.6->statsmodels) (1.16.0)\n",
      "Downloading statsmodels-0.14.2-cp312-cp312-win_amd64.whl (9.8 MB)\n",
      "   ---------------------------------------- 0.0/9.8 MB ? eta -:--:--\n",
      "   ---------------------------------------- 0.0/9.8 MB ? eta -:--:--\n",
      "   ---------------------------------------- 0.1/9.8 MB 1.3 MB/s eta 0:00:08\n",
      "    --------------------------------------- 0.2/9.8 MB 1.7 MB/s eta 0:00:06\n",
      "   - -------------------------------------- 0.3/9.8 MB 2.0 MB/s eta 0:00:05\n",
      "   -- ------------------------------------- 0.5/9.8 MB 2.6 MB/s eta 0:00:04\n",
      "   -- ------------------------------------- 0.7/9.8 MB 2.7 MB/s eta 0:00:04\n",
      "   --- ------------------------------------ 1.0/9.8 MB 3.0 MB/s eta 0:00:03\n",
      "   ----- ---------------------------------- 1.2/9.8 MB 3.4 MB/s eta 0:00:03\n",
      "   ------ --------------------------------- 1.6/9.8 MB 3.7 MB/s eta 0:00:03\n",
      "   ------- -------------------------------- 1.7/9.8 MB 3.8 MB/s eta 0:00:03\n",
      "   -------- ------------------------------- 2.0/9.8 MB 4.0 MB/s eta 0:00:02\n",
      "   --------- ------------------------------ 2.2/9.8 MB 4.1 MB/s eta 0:00:02\n",
      "   ---------- ----------------------------- 2.6/9.8 MB 4.4 MB/s eta 0:00:02\n",
      "   ----------- ---------------------------- 2.9/9.8 MB 4.5 MB/s eta 0:00:02\n",
      "   ------------- -------------------------- 3.2/9.8 MB 4.6 MB/s eta 0:00:02\n",
      "   -------------- ------------------------- 3.5/9.8 MB 4.7 MB/s eta 0:00:02\n",
      "   -------------- ------------------------- 3.5/9.8 MB 4.5 MB/s eta 0:00:02\n",
      "   -------------- ------------------------- 3.7/9.8 MB 4.4 MB/s eta 0:00:02\n",
      "   ---------------- ----------------------- 3.9/9.8 MB 4.4 MB/s eta 0:00:02\n",
      "   ----------------- ---------------------- 4.3/9.8 MB 4.6 MB/s eta 0:00:02\n",
      "   ------------------ --------------------- 4.5/9.8 MB 4.6 MB/s eta 0:00:02\n",
      "   ------------------- -------------------- 4.8/9.8 MB 4.7 MB/s eta 0:00:02\n",
      "   -------------------- ------------------- 5.1/9.8 MB 4.7 MB/s eta 0:00:01\n",
      "   --------------------- ------------------ 5.4/9.8 MB 4.8 MB/s eta 0:00:01\n",
      "   ---------------------- ----------------- 5.6/9.8 MB 4.7 MB/s eta 0:00:01\n",
      "   ----------------------- ---------------- 5.9/9.8 MB 4.8 MB/s eta 0:00:01\n",
      "   ------------------------ --------------- 6.1/9.8 MB 4.9 MB/s eta 0:00:01\n",
      "   -------------------------- ------------- 6.4/9.8 MB 5.0 MB/s eta 0:00:01\n",
      "   --------------------------- ------------ 6.7/9.8 MB 4.9 MB/s eta 0:00:01\n",
      "   ---------------------------- ----------- 7.0/9.8 MB 5.0 MB/s eta 0:00:01\n",
      "   ----------------------------- ---------- 7.2/9.8 MB 5.0 MB/s eta 0:00:01\n",
      "   ------------------------------ --------- 7.4/9.8 MB 4.9 MB/s eta 0:00:01\n",
      "   ------------------------------- -------- 7.6/9.8 MB 5.0 MB/s eta 0:00:01\n",
      "   -------------------------------- ------- 7.9/9.8 MB 4.9 MB/s eta 0:00:01\n",
      "   --------------------------------- ------ 8.2/9.8 MB 5.0 MB/s eta 0:00:01\n",
      "   ---------------------------------- ----- 8.4/9.8 MB 5.0 MB/s eta 0:00:01\n",
      "   ----------------------------------- ---- 8.6/9.8 MB 4.9 MB/s eta 0:00:01\n",
      "   ----------------------------------- ---- 8.8/9.8 MB 4.9 MB/s eta 0:00:01\n",
      "   ------------------------------------ --- 9.1/9.8 MB 4.9 MB/s eta 0:00:01\n",
      "   -------------------------------------- - 9.3/9.8 MB 4.9 MB/s eta 0:00:01\n",
      "   ---------------------------------------  9.6/9.8 MB 4.9 MB/s eta 0:00:01\n",
      "   ---------------------------------------  9.8/9.8 MB 4.9 MB/s eta 0:00:01\n",
      "   ---------------------------------------- 9.8/9.8 MB 4.9 MB/s eta 0:00:00\n",
      "Downloading patsy-0.5.6-py2.py3-none-any.whl (233 kB)\n",
      "   ---------------------------------------- 0.0/233.9 kB ? eta -:--:--\n",
      "   -------------------------------------- - 225.3/233.9 kB 6.9 MB/s eta 0:00:01\n",
      "   ---------------------------------------- 233.9/233.9 kB 4.8 MB/s eta 0:00:00\n",
      "Installing collected packages: patsy, statsmodels\n",
      "Successfully installed patsy-0.5.6 statsmodels-0.14.2\n"
     ]
    }
   ],
   "source": [
    "!pip install openpyxl\n",
    "! pip install statsmodels"
   ]
  },
  {
   "cell_type": "code",
   "execution_count": 3,
   "metadata": {},
   "outputs": [
    {
     "name": "stdout",
     "output_type": "stream",
     "text": [
      "dict_keys(['Santa Ana', 'La Floresta'])\n"
     ]
    }
   ],
   "source": [
    "import pandas as pd\n",
    "\n",
    "# Cargar datos desde el archivo Excel\n",
    "file_path = 'Grupo_9.xlsx'\n",
    "data = pd.read_excel(file_path, sheet_name=None)\n",
    "\n",
    "# Mostrar las hojas de cálculo disponibles\n",
    "print(data.keys())\n"
   ]
  },
  {
   "cell_type": "code",
   "execution_count": 5,
   "metadata": {},
   "outputs": [
    {
     "name": "stdout",
     "output_type": "stream",
     "text": [
      "       Fecha        Ventas\n",
      "0 2023-01-01   9628.330859\n",
      "1 2023-01-02  14290.679435\n",
      "2 2023-01-03  12818.232667\n",
      "3 2023-01-04  17404.842772\n",
      "4 2023-01-05  18919.685321\n",
      "       Fecha        Ventas\n",
      "0 2023-01-01  11645.100903\n",
      "1 2023-01-02  13759.322193\n",
      "2 2023-01-03  15873.983239\n",
      "3 2023-01-04  17180.894218\n",
      "4 2023-01-05  16358.073717\n"
     ]
    }
   ],
   "source": [
    "# Cargar datos de cada hoja\n",
    "santa_ana = data['Santa Ana']\n",
    "la_floresta = data['La Floresta']\n",
    "\n",
    "# Mostrar las primeras filas para verificar\n",
    "print(santa_ana.head())\n",
    "print(la_floresta.head())\n",
    "\n"
   ]
  },
  {
   "cell_type": "code",
   "execution_count": 6,
   "metadata": {},
   "outputs": [],
   "source": [
    "# Convertir la columna de fechas a datetime\n",
    "santa_ana['Fecha'] = pd.to_datetime(santa_ana['Fecha'])\n",
    "la_floresta['Fecha'] = pd.to_datetime(la_floresta['Fecha'])\n",
    "\n",
    "# Agregar columnas para mes y día de la semana\n",
    "santa_ana['Mes'] = santa_ana['Fecha'].dt.month\n",
    "santa_ana['DiaSemana'] = santa_ana['Fecha'].dt.day_name()\n",
    "\n",
    "la_floresta['Mes'] = la_floresta['Fecha'].dt.month\n",
    "la_floresta['DiaSemana'] = la_floresta['Fecha'].dt.day_name()\n"
   ]
  },
  {
   "cell_type": "markdown",
   "metadata": {},
   "source": [
    "# Paso 3: Funciones Empíricas de Distribución y Aproximaciones a las Funciones de Densidad\n",
    "* Utilizaremos las ventas agrupadas por mes y por día de la semana para calcular las funciones empíricas de distribución y las densidades.\n",
    "## Funciones Empíricas de Distribución"
   ]
  },
  {
   "cell_type": "code",
   "execution_count": 10,
   "metadata": {},
   "outputs": [],
   "source": [
    "import statsmodels.api as sm\n",
    "\n",
    "# Crear ECDF para las ventas mensuales y diarias\n",
    "def create_ecdf(data):\n",
    "    ecdf = sm.distributions.ECDF(data)\n",
    "    return ecdf\n",
    "\n",
    "# Ejemplo para las ventas de enero en Santa Ana\n",
    "ventas_enero_santa_ana = santa_ana[santa_ana['Mes'] == 1]['Ventas']\n",
    "ecdf_enero_santa_ana = create_ecdf(ventas_enero_santa_ana)\n",
    "\n",
    "# Para las ventas de todos los meses y días de la semana, repetimos el proceso\n",
    "\n"
   ]
  },
  {
   "cell_type": "markdown",
   "metadata": {},
   "source": [
    "## Aproximaciones a las Funciones de Densidad"
   ]
  },
  {
   "cell_type": "code",
   "execution_count": 11,
   "metadata": {},
   "outputs": [],
   "source": [
    "from scipy.stats import gaussian_kde\n",
    "import numpy as np\n",
    "\n",
    "# Crear KDE para las ventas mensuales y diarias\n",
    "def create_kde(data):\n",
    "    kde = gaussian_kde(data)\n",
    "    return kde\n",
    "\n",
    "# Ejemplo para las ventas de enero en Santa Ana\n",
    "kde_enero_santa_ana = create_kde(ventas_enero_santa_ana)\n"
   ]
  },
  {
   "cell_type": "markdown",
   "metadata": {},
   "source": [
    "# Paso 4: Intervalos de Confianza Empíricos\n",
    "* Calcular intervalos de confianza para las ventas mensuales y diarias."
   ]
  },
  {
   "cell_type": "code",
   "execution_count": 12,
   "metadata": {},
   "outputs": [],
   "source": [
    "# Calcular intervalos de confianza\n",
    "def confidence_intervals(data, confidence_level):\n",
    "    lower_bound = np.percentile(data, (1 - confidence_level) / 2 * 100)\n",
    "    upper_bound = np.percentile(data, (1 + confidence_level) / 2 * 100)\n",
    "    return lower_bound, upper_bound\n",
    "\n",
    "# Ejemplo para intervalos de confianza del 95% para ventas de enero en Santa Ana\n",
    "ci_95_enero_santa_ana = confidence_intervals(ventas_enero_santa_ana, 0.95)\n",
    "ci_99_enero_santa_ana = confidence_intervals(ventas_enero_santa_ana, 0.99)\n"
   ]
  },
  {
   "cell_type": "markdown",
   "metadata": {},
   "source": [
    "# Paso 5: Pruebas de Hipótesis\n",
    "* Realizar pruebas de hipótesis para comparar las ventas entre las dos tiendas."
   ]
  },
  {
   "cell_type": "code",
   "execution_count": 13,
   "metadata": {},
   "outputs": [
    {
     "name": "stdout",
     "output_type": "stream",
     "text": [
      "Estadístico t: -9.857108820588982, p-valor: 6.6880386605289005e-22\n",
      "Rechazamos la hipótesis nula al 95% de confianza\n",
      "Rechazamos la hipótesis nula al 99% de confianza\n"
     ]
    }
   ],
   "source": [
    "from scipy.stats import ttest_ind\n",
    "\n",
    "# Realizar prueba t de dos muestras\n",
    "t_stat, p_value = ttest_ind(santa_ana['Ventas'], la_floresta['Ventas'], alternative='less')\n",
    "\n",
    "# Resultados\n",
    "print(f\"Estadístico t: {t_stat}, p-valor: {p_value}\")\n",
    "if p_value < 0.05:\n",
    "    print(\"Rechazamos la hipótesis nula al 95% de confianza\")\n",
    "if p_value < 0.01:\n",
    "    print(\"Rechazamos la hipótesis nula al 99% de confianza\")\n"
   ]
  },
  {
   "cell_type": "markdown",
   "metadata": {},
   "source": [
    "# Paso 6: Generar gráficos y resultados\n",
    "* Graficar los resultados para visualización."
   ]
  },
  {
   "cell_type": "code",
   "execution_count": 14,
   "metadata": {},
   "outputs": [
    {
     "data": {
      "image/png": "[encoded data removed]",
      "text/plain": [
       "<Figure size 1200x600 with 2 Axes>"
      ]
     },
     "metadata": {},
     "output_type": "display_data"
    }
   ],
   "source": [
    "import matplotlib.pyplot as plt\n",
    "\n",
    "# Graficar ECDF y KDE\n",
    "x = np.linspace(min(ventas_enero_santa_ana), max(ventas_enero_santa_ana), 100)\n",
    "plt.figure(figsize=(12, 6))\n",
    "plt.subplot(1, 2, 1)\n",
    "plt.plot(x, ecdf_enero_santa_ana(x), label='ECDF')\n",
    "plt.title('ECDF de Ventas en Enero (Santa Ana)')\n",
    "plt.xlabel('Ventas')\n",
    "plt.ylabel('F(x)')\n",
    "plt.legend()\n",
    "\n",
    "plt.subplot(1, 2, 2)\n",
    "plt.plot(x, kde_enero_santa_ana(x), label='KDE')\n",
    "plt.title('KDE de Ventas en Enero (Santa Ana)')\n",
    "plt.xlabel('Ventas')\n",
    "plt.ylabel('Densidad')\n",
    "plt.legend()\n",
    "\n",
    "plt.tight_layout()\n",
    "plt.show()\n"
   ]
  },
  {
   "cell_type": "markdown",
   "metadata": {},
   "source": [
    "# Resumen del análisis mensual y semanal\n",
    "* Realizar el análisis mensual y semanal para ambas tiendas."
   ]
  },
  {
   "cell_type": "code",
   "execution_count": 15,
   "metadata": {},
   "outputs": [],
   "source": [
    "def analyze_sales_by_month_and_day(data, store_name):\n",
    "    results = {}\n",
    "    # Análisis por mes\n",
    "    for month in range(1, 13):\n",
    "        monthly_sales = data[data['Mes'] == month]['Ventas']\n",
    "        if not monthly_sales.empty:\n",
    "            ecdf = create_ecdf(monthly_sales)\n",
    "            kde = create_kde(monthly_sales)\n",
    "            ci_95 = confidence_intervals(monthly_sales, 0.95)\n",
    "            ci_99 = confidence_intervals(monthly_sales, 0.99)\n",
    "            results[f'{store_name}_month_{month}'] = {\n",
    "                'ecdf': ecdf,\n",
    "                'kde': kde,\n",
    "                'ci_95': ci_95,\n",
    "                'ci_99': ci_99\n",
    "            }\n",
    "    # Análisis por día de la semana\n",
    "    for day in data['DiaSemana'].unique():\n",
    "        daily_sales = data[data['DiaSemana'] == day]['Ventas']\n",
    "        if not daily_sales.empty:\n",
    "            ecdf = create_ecdf(daily_sales)\n",
    "            kde = create_kde(daily_sales)\n",
    "            ci_95 = confidence_intervals(daily_sales, 0.95)\n",
    "            ci_99 = confidence_intervals(daily_sales, 0.99)\n",
    "            results[f'{store_name}_day_{day}'] = {\n",
    "                'ecdf': ecdf,\n",
    "                'kde': kde,\n",
    "                'ci_95': ci_95,\n",
    "                'ci_99': ci_99\n",
    "            }\n",
    "    return results\n",
    "\n",
    "# Analizar ambas tiendas\n",
    "santa_ana_results = analyze_sales_by_month_and_day(santa_ana, 'Santa_Ana')\n",
    "la_floresta_results = analyze_sales_by_month_and_day(la_floresta, 'La_Floresta')\n"
   ]
  },
  {
   "cell_type": "code",
   "execution_count": 18,
   "metadata": {},
   "outputs": [
    {
     "data": {
      "text/plain": [
       "{'Santa_Ana_month_1': {'ecdf': <statsmodels.distributions.empirical_distribution.ECDF at 0x1ed7e507410>,\n",
       "  'kde': <scipy.stats._kde.gaussian_kde at 0x1ed7e6cb470>,\n",
       "  'ci_95': (8147.538695051619, 17783.553409309643),\n",
       "  'ci_99': (7847.391940464076, 18692.45893842279)},\n",
       " 'Santa_Ana_month_2': {'ecdf': <statsmodels.distributions.empirical_distribution.ECDF at 0x1ed7e5f19a0>,\n",
       "  'kde': <scipy.stats._kde.gaussian_kde at 0x1ed7e64e480>,\n",
       "  'ci_95': (12245.351970010148, 19997.849880905953),\n",
       "  'ci_99': (11520.915488492601, 21021.566288376005)},\n",
       " 'Santa_Ana_month_3': {'ecdf': <statsmodels.distributions.empirical_distribution.ECDF at 0x1ed7e64d790>,\n",
       "  'kde': <scipy.stats._kde.gaussian_kde at 0x1ed7e64e4b0>,\n",
       "  'ci_95': (15054.962294143948, 22967.584118189712),\n",
       "  'ci_99': (14492.28931332954, 24044.037311196495)},\n",
       " 'Santa_Ana_month_4': {'ecdf': <statsmodels.distributions.empirical_distribution.ECDF at 0x1ed7e6f85c0>,\n",
       "  'kde': <scipy.stats._kde.gaussian_kde at 0x1ed7e9f02f0>,\n",
       "  'ci_95': (11466.169077691982, 21334.5883304053),\n",
       "  'ci_99': (10504.822197949667, 21744.43047765958)},\n",
       " 'Santa_Ana_month_5': {'ecdf': <statsmodels.distributions.empirical_distribution.ECDF at 0x1ed799cf320>,\n",
       "  'kde': <scipy.stats._kde.gaussian_kde at 0x1ed68fd6810>,\n",
       "  'ci_95': (12646.30167884513, 21183.459562269443),\n",
       "  'ci_99': (12500.677136374605, 21775.027158863853)},\n",
       " 'Santa_Ana_month_6': {'ecdf': <statsmodels.distributions.empirical_distribution.ECDF at 0x1ed799cf050>,\n",
       "  'kde': <scipy.stats._kde.gaussian_kde at 0x1ed7ea2f6e0>,\n",
       "  'ci_95': (14498.40963332861, 23340.75893597522),\n",
       "  'ci_99': (13911.239257150175, 23431.4727008263)},\n",
       " 'Santa_Ana_month_7': {'ecdf': <statsmodels.distributions.empirical_distribution.ECDF at 0x1ed799ced20>,\n",
       "  'kde': <scipy.stats._kde.gaussian_kde at 0x1ed7e71f4d0>,\n",
       "  'ci_95': (11132.452977933264, 22284.108737543174),\n",
       "  'ci_99': (11050.937889579609, 23369.60672428143)},\n",
       " 'Santa_Ana_month_8': {'ecdf': <statsmodels.distributions.empirical_distribution.ECDF at 0x1ed7ea2fa40>,\n",
       "  'kde': <scipy.stats._kde.gaussian_kde at 0x1ed7e71c6e0>,\n",
       "  'ci_95': (13256.130646268943, 22215.408381921086),\n",
       "  'ci_99': (13211.570080841311, 22404.246626766675)},\n",
       " 'Santa_Ana_month_9': {'ecdf': <statsmodels.distributions.empirical_distribution.ECDF at 0x1ed7e71e240>,\n",
       "  'kde': <scipy.stats._kde.gaussian_kde at 0x1ed7ea2e4b0>,\n",
       "  'ci_95': (14177.592657791498, 23413.521234006297),\n",
       "  'ci_99': (12888.23767839661, 23587.803325937784)},\n",
       " 'Santa_Ana_month_10': {'ecdf': <statsmodels.distributions.empirical_distribution.ECDF at 0x1ed7e71ddc0>,\n",
       "  'kde': <scipy.stats._kde.gaussian_kde at 0x1ed7e71f260>,\n",
       "  'ci_95': (14611.630582735766, 24164.27089908592),\n",
       "  'ci_99': (14457.830697487429, 24728.17254601632)},\n",
       " 'Santa_Ana_month_11': {'ecdf': <statsmodels.distributions.empirical_distribution.ECDF at 0x1ed7ea2e330>,\n",
       "  'kde': <scipy.stats._kde.gaussian_kde at 0x1ed7e6c9eb0>,\n",
       "  'ci_95': (13747.607889964915, 22377.591356237408),\n",
       "  'ci_99': (13532.834019020764, 23960.702506515023)},\n",
       " 'Santa_Ana_month_12': {'ecdf': <statsmodels.distributions.empirical_distribution.ECDF at 0x1ed7e71e1b0>,\n",
       "  'kde': <scipy.stats._kde.gaussian_kde at 0x1ed7e71e810>,\n",
       "  'ci_95': (10895.976230736595, 21487.05098389224),\n",
       "  'ci_99': (9789.605823821703, 21985.065155574724)},\n",
       " 'Santa_Ana_day_Sunday': {'ecdf': <statsmodels.distributions.empirical_distribution.ECDF at 0x1ed7e6922d0>,\n",
       "  'kde': <scipy.stats._kde.gaussian_kde at 0x1ed7ea6e1e0>,\n",
       "  'ci_95': (9547.608513118628, 19130.549436980604),\n",
       "  'ci_99': (8595.107321413532, 19747.9854642902)},\n",
       " 'Santa_Ana_day_Monday': {'ecdf': <statsmodels.distributions.empirical_distribution.ECDF at 0x1ed7e71c7a0>,\n",
       "  'kde': <scipy.stats._kde.gaussian_kde at 0x1ed7e71f1a0>,\n",
       "  'ci_95': (13292.168040283254, 20693.11025595833),\n",
       "  'ci_99': (12837.994316916138, 21390.485893617508)},\n",
       " 'Santa_Ana_day_Tuesday': {'ecdf': <statsmodels.distributions.empirical_distribution.ECDF at 0x1ed7ea2eb70>,\n",
       "  'kde': <scipy.stats._kde.gaussian_kde at 0x1ed7ea6e7b0>,\n",
       "  'ci_95': (13032.45510378103, 22697.43585945728),\n",
       "  'ci_99': (11322.360989502078, 24345.523603606754)},\n",
       " 'Santa_Ana_day_Wednesday': {'ecdf': <statsmodels.distributions.empirical_distribution.ECDF at 0x1ed7ea2f320>,\n",
       "  'kde': <scipy.stats._kde.gaussian_kde at 0x1ed7ea6e9f0>,\n",
       "  'ci_95': (16068.554007994828, 24128.304027615584),\n",
       "  'ci_99': (14162.906132720365, 24345.431224502183)},\n",
       " 'Santa_Ana_day_Thursday': {'ecdf': <statsmodels.distributions.empirical_distribution.ECDF at 0x1ed7e71e7e0>,\n",
       "  'kde': <scipy.stats._kde.gaussian_kde at 0x1ed7e71ee10>,\n",
       "  'ci_95': (15792.52686275602, 23195.414790368843),\n",
       "  'ci_99': (13547.835639222098, 23808.145891470995)},\n",
       " 'Santa_Ana_day_Friday': {'ecdf': <statsmodels.distributions.empirical_distribution.ECDF at 0x1ed7e71eba0>,\n",
       "  'kde': <scipy.stats._kde.gaussian_kde at 0x1ed7e71f020>,\n",
       "  'ci_95': (12561.800345562197, 22500.470368660714),\n",
       "  'ci_99': (10131.74596363006, 23123.87197360495)},\n",
       " 'Santa_Ana_day_Saturday': {'ecdf': <statsmodels.distributions.empirical_distribution.ECDF at 0x1ed7e71f7a0>,\n",
       "  'kde': <scipy.stats._kde.gaussian_kde at 0x1ed7ea6ee70>,\n",
       "  'ci_95': (12078.413856413783, 22055.45948434072),\n",
       "  'ci_99': (8833.11629129381, 22816.804674063627)}}"
      ]
     },
     "execution_count": 18,
     "metadata": {},
     "output_type": "execute_result"
    }
   ],
   "source": [
    "santa_ana_results"
   ]
  }
 ],
 "metadata": {
  "kernelspec": {
   "display_name": "Python 3",
   "language": "python",
   "name": "python3"
  },
  "language_info": {
   "codemirror_mode": {
    "name": "ipython",
    "version": 3
   },
   "file_extension": ".py",
   "mimetype": "text/x-python",
   "name": "python",
   "nbconvert_exporter": "python",
   "pygments_lexer": "ipython3",
   "version": "3.12.1"
  }
 },
 "nbformat": 4,
 "nbformat_minor": 2
}
