{
 "cells": [
  {
   "cell_type": "markdown",
   "metadata": {},
   "source": [
    "# TP Final - Aprendizaje de máquinas I (CEIA - FIUBA)"
   ]
  },
  {
   "cell_type": "markdown",
   "metadata": {},
   "source": [
    "**Integrantes:**\n",
    "- \n",
    "- \n",
    "- \n",
    "-\n",
    "-\n",
    "-\n",
    " \n",
    "\n",
    "---"
   ]
  },
  {
   "cell_type": "markdown",
   "metadata": {},
   "source": [
    "## Elección de tema: Modelo de Churn para clientes bancarios"
   ]
  },
  {
   "cell_type": "code",
   "execution_count": 369,
   "metadata": {},
   "outputs": [],
   "source": [
    "# ---------------- Paquetes a utilizar ----------------\n",
    "\n",
    "# Básicos\n",
    "import pandas as pd\n",
    "import numpy as np\n",
    "\n",
    "# Visualización\n",
    "import matplotlib.pyplot as plt\n",
    "import seaborn as sns\n",
    "\n",
    "# Manipulación de datos | Métricas\n",
    "from sklearn.preprocessing import StandardScaler # Reescalamiento de variables\n",
    "from sklearn.model_selection import train_test_split\n",
    "from sklearn.metrics import precision_score, recall_score, f1_score, confusion_matrix, ConfusionMatrixDisplay\n",
    "from sklearn.model_selection import cross_val_score\n",
    "\n",
    "# Modelos\n",
    "from sklearn.neighbors import KNeighborsClassifier\n",
    "from sklearn.svm import SVC"
   ]
  },
  {
   "cell_type": "code",
   "execution_count": 370,
   "metadata": {},
   "outputs": [],
   "source": [
    "# ---------------- Carga datos ----------------\n",
    "\n",
    "churn_customer_train = pd.read_csv(\"./datasets/customer_churn_dataset-training-master.csv\")\n",
    "churn_customer_test = pd.read_csv(\"./datasets/customer_churn_dataset-testing-master.csv\")"
   ]
  },
  {
   "cell_type": "markdown",
   "metadata": {},
   "source": [
    "Detalle de variables\n",
    "\n",
    "- **CustomerID:** Key único que identifica al cliente.\n",
    "- **Edad:** Edad del cliente.\n",
    "- **Sexo:** Sexo del cliente.\n",
    "- **Permanencia:** Duración en meses durante la cual un cliente ha estado utilizando los productos o servicios de la empresa. \n",
    "- **Frecuencia de uso:** Número de veces que el cliente ha utilizado los servicios de la empresa en el último mes.\n",
    "- **Llamadas de soporte:** Número de llamadas que el cliente realizó al servicio de atención al cliente en el último mes.\n",
    "- **Retraso en el pago:** Número de días que el cliente ha demorado su pago en el último mes.\n",
    "- **Tipo de suscripción:** Tipo de suscripción que tiene el cliente.\n",
    "- **Duración del contrato:** Duración del contrato que el cliente ha firmado con la empresa.\n",
    "- **Gasto total:** Cantidad total de dinero que el cliente ha gastado en los productos o servicios de la empresa.\n",
    "- **Última interacción:** Número de días transcurridos desde la última interacción que el cliente tuvo con la empresa.\n",
    "- **Churn:** Variable binaria que indica si un cliente se ha dado de baja (1) o no (0).\n"
   ]
  },
  {
   "cell_type": "code",
   "execution_count": 371,
   "metadata": {},
   "outputs": [],
   "source": [
    "# Se hacen copias de los datos originales para trabajar\n",
    "customer_train = churn_customer_train.copy()\n",
    "customer_test = churn_customer_test.copy()"
   ]
  },
  {
   "cell_type": "code",
   "execution_count": 372,
   "metadata": {},
   "outputs": [
    {
     "name": "stdout",
     "output_type": "stream",
     "text": [
      "<class 'pandas.core.frame.DataFrame'>\n",
      "RangeIndex: 440833 entries, 0 to 440832\n",
      "Data columns (total 12 columns):\n",
      " #   Column             Non-Null Count   Dtype  \n",
      "---  ------             --------------   -----  \n",
      " 0   CustomerID         440832 non-null  float64\n",
      " 1   Age                440832 non-null  float64\n",
      " 2   Gender             440832 non-null  object \n",
      " 3   Tenure             440832 non-null  float64\n",
      " 4   Usage Frequency    440832 non-null  float64\n",
      " 5   Support Calls      440832 non-null  float64\n",
      " 6   Payment Delay      440832 non-null  float64\n",
      " 7   Subscription Type  440832 non-null  object \n",
      " 8   Contract Length    440832 non-null  object \n",
      " 9   Total Spend        440832 non-null  float64\n",
      " 10  Last Interaction   440832 non-null  float64\n",
      " 11  Churn              440832 non-null  float64\n",
      "dtypes: float64(9), object(3)\n",
      "memory usage: 40.4+ MB\n",
      "------------------------------------------------------\n",
      "<class 'pandas.core.frame.DataFrame'>\n",
      "RangeIndex: 64374 entries, 0 to 64373\n",
      "Data columns (total 12 columns):\n",
      " #   Column             Non-Null Count  Dtype \n",
      "---  ------             --------------  ----- \n",
      " 0   CustomerID         64374 non-null  int64 \n",
      " 1   Age                64374 non-null  int64 \n",
      " 2   Gender             64374 non-null  object\n",
      " 3   Tenure             64374 non-null  int64 \n",
      " 4   Usage Frequency    64374 non-null  int64 \n",
      " 5   Support Calls      64374 non-null  int64 \n",
      " 6   Payment Delay      64374 non-null  int64 \n",
      " 7   Subscription Type  64374 non-null  object\n",
      " 8   Contract Length    64374 non-null  object\n",
      " 9   Total Spend        64374 non-null  int64 \n",
      " 10  Last Interaction   64374 non-null  int64 \n",
      " 11  Churn              64374 non-null  int64 \n",
      "dtypes: int64(9), object(3)\n",
      "memory usage: 5.9+ MB\n"
     ]
    }
   ],
   "source": [
    "customer_train.info()\n",
    "print('------------------------------------------------------')\n",
    "customer_test.info()"
   ]
  },
  {
   "cell_type": "code",
   "execution_count": 373,
   "metadata": {},
   "outputs": [
    {
     "data": {
      "text/html": [
       "<div>\n",
       "<style scoped>\n",
       "    .dataframe tbody tr th:only-of-type {\n",
       "        vertical-align: middle;\n",
       "    }\n",
       "\n",
       "    .dataframe tbody tr th {\n",
       "        vertical-align: top;\n",
       "    }\n",
       "\n",
       "    .dataframe thead th {\n",
       "        text-align: right;\n",
       "    }\n",
       "</style>\n",
       "<table border=\"1\" class=\"dataframe\">\n",
       "  <thead>\n",
       "    <tr style=\"text-align: right;\">\n",
       "      <th></th>\n",
       "      <th>CustomerID</th>\n",
       "      <th>Age</th>\n",
       "      <th>Tenure</th>\n",
       "      <th>Usage Frequency</th>\n",
       "      <th>Support Calls</th>\n",
       "      <th>Payment Delay</th>\n",
       "      <th>Total Spend</th>\n",
       "      <th>Last Interaction</th>\n",
       "      <th>Churn</th>\n",
       "    </tr>\n",
       "  </thead>\n",
       "  <tbody>\n",
       "    <tr>\n",
       "      <th>count</th>\n",
       "      <td>440832.000000</td>\n",
       "      <td>440832.000000</td>\n",
       "      <td>440832.000000</td>\n",
       "      <td>440832.000000</td>\n",
       "      <td>440832.000000</td>\n",
       "      <td>440832.000000</td>\n",
       "      <td>440832.000000</td>\n",
       "      <td>440832.000000</td>\n",
       "      <td>440832.000000</td>\n",
       "    </tr>\n",
       "    <tr>\n",
       "      <th>mean</th>\n",
       "      <td>225398.667955</td>\n",
       "      <td>39.373153</td>\n",
       "      <td>31.256336</td>\n",
       "      <td>15.807494</td>\n",
       "      <td>3.604437</td>\n",
       "      <td>12.965722</td>\n",
       "      <td>631.616223</td>\n",
       "      <td>14.480868</td>\n",
       "      <td>0.567107</td>\n",
       "    </tr>\n",
       "    <tr>\n",
       "      <th>std</th>\n",
       "      <td>129531.918550</td>\n",
       "      <td>12.442369</td>\n",
       "      <td>17.255727</td>\n",
       "      <td>8.586242</td>\n",
       "      <td>3.070218</td>\n",
       "      <td>8.258063</td>\n",
       "      <td>240.803001</td>\n",
       "      <td>8.596208</td>\n",
       "      <td>0.495477</td>\n",
       "    </tr>\n",
       "    <tr>\n",
       "      <th>min</th>\n",
       "      <td>2.000000</td>\n",
       "      <td>18.000000</td>\n",
       "      <td>1.000000</td>\n",
       "      <td>1.000000</td>\n",
       "      <td>0.000000</td>\n",
       "      <td>0.000000</td>\n",
       "      <td>100.000000</td>\n",
       "      <td>1.000000</td>\n",
       "      <td>0.000000</td>\n",
       "    </tr>\n",
       "    <tr>\n",
       "      <th>25%</th>\n",
       "      <td>113621.750000</td>\n",
       "      <td>29.000000</td>\n",
       "      <td>16.000000</td>\n",
       "      <td>9.000000</td>\n",
       "      <td>1.000000</td>\n",
       "      <td>6.000000</td>\n",
       "      <td>480.000000</td>\n",
       "      <td>7.000000</td>\n",
       "      <td>0.000000</td>\n",
       "    </tr>\n",
       "    <tr>\n",
       "      <th>50%</th>\n",
       "      <td>226125.500000</td>\n",
       "      <td>39.000000</td>\n",
       "      <td>32.000000</td>\n",
       "      <td>16.000000</td>\n",
       "      <td>3.000000</td>\n",
       "      <td>12.000000</td>\n",
       "      <td>661.000000</td>\n",
       "      <td>14.000000</td>\n",
       "      <td>1.000000</td>\n",
       "    </tr>\n",
       "    <tr>\n",
       "      <th>75%</th>\n",
       "      <td>337739.250000</td>\n",
       "      <td>48.000000</td>\n",
       "      <td>46.000000</td>\n",
       "      <td>23.000000</td>\n",
       "      <td>6.000000</td>\n",
       "      <td>19.000000</td>\n",
       "      <td>830.000000</td>\n",
       "      <td>22.000000</td>\n",
       "      <td>1.000000</td>\n",
       "    </tr>\n",
       "    <tr>\n",
       "      <th>max</th>\n",
       "      <td>449999.000000</td>\n",
       "      <td>65.000000</td>\n",
       "      <td>60.000000</td>\n",
       "      <td>30.000000</td>\n",
       "      <td>10.000000</td>\n",
       "      <td>30.000000</td>\n",
       "      <td>1000.000000</td>\n",
       "      <td>30.000000</td>\n",
       "      <td>1.000000</td>\n",
       "    </tr>\n",
       "  </tbody>\n",
       "</table>\n",
       "</div>"
      ],
      "text/plain": [
       "          CustomerID            Age         Tenure  Usage Frequency  \\\n",
       "count  440832.000000  440832.000000  440832.000000    440832.000000   \n",
       "mean   225398.667955      39.373153      31.256336        15.807494   \n",
       "std    129531.918550      12.442369      17.255727         8.586242   \n",
       "min         2.000000      18.000000       1.000000         1.000000   \n",
       "25%    113621.750000      29.000000      16.000000         9.000000   \n",
       "50%    226125.500000      39.000000      32.000000        16.000000   \n",
       "75%    337739.250000      48.000000      46.000000        23.000000   \n",
       "max    449999.000000      65.000000      60.000000        30.000000   \n",
       "\n",
       "       Support Calls  Payment Delay    Total Spend  Last Interaction  \\\n",
       "count  440832.000000  440832.000000  440832.000000     440832.000000   \n",
       "mean        3.604437      12.965722     631.616223         14.480868   \n",
       "std         3.070218       8.258063     240.803001          8.596208   \n",
       "min         0.000000       0.000000     100.000000          1.000000   \n",
       "25%         1.000000       6.000000     480.000000          7.000000   \n",
       "50%         3.000000      12.000000     661.000000         14.000000   \n",
       "75%         6.000000      19.000000     830.000000         22.000000   \n",
       "max        10.000000      30.000000    1000.000000         30.000000   \n",
       "\n",
       "               Churn  \n",
       "count  440832.000000  \n",
       "mean        0.567107  \n",
       "std         0.495477  \n",
       "min         0.000000  \n",
       "25%         0.000000  \n",
       "50%         1.000000  \n",
       "75%         1.000000  \n",
       "max         1.000000  "
      ]
     },
     "execution_count": 373,
     "metadata": {},
     "output_type": "execute_result"
    }
   ],
   "source": [
    "customer_train.describe()"
   ]
  },
  {
   "cell_type": "code",
   "execution_count": 374,
   "metadata": {},
   "outputs": [
    {
     "name": "stdout",
     "output_type": "stream",
     "text": [
      "CustomerID           0\n",
      "Age                  0\n",
      "Gender               0\n",
      "Tenure               0\n",
      "Usage Frequency      0\n",
      "Support Calls        0\n",
      "Payment Delay        0\n",
      "Subscription Type    0\n",
      "Contract Length      0\n",
      "Total Spend          0\n",
      "Last Interaction     0\n",
      "Churn                0\n",
      "dtype: int64\n",
      "-----------------------------------\n",
      "CustomerID           1\n",
      "Age                  1\n",
      "Gender               1\n",
      "Tenure               1\n",
      "Usage Frequency      1\n",
      "Support Calls        1\n",
      "Payment Delay        1\n",
      "Subscription Type    1\n",
      "Contract Length      1\n",
      "Total Spend          1\n",
      "Last Interaction     1\n",
      "Churn                1\n",
      "dtype: int64\n"
     ]
    }
   ],
   "source": [
    "# Test no tiene nulos, train parece tener una fila toda vacía (nan) que hay que eliminar\n",
    "\n",
    "print(customer_test.isnull().sum(axis = 0))\n",
    "print('-----------------------------------')\n",
    "print(customer_train.isnull().sum(axis = 0))"
   ]
  },
  {
   "cell_type": "code",
   "execution_count": 375,
   "metadata": {},
   "outputs": [
    {
     "name": "stdout",
     "output_type": "stream",
     "text": [
      "['Female' 'Male' nan]\n",
      "['Standard' 'Basic' 'Premium' nan]\n",
      "['Annual' 'Monthly' 'Quarterly' nan]\n",
      "-----------------------------------\n",
      "['Female' 'Male']\n",
      "['Basic' 'Standard' 'Premium']\n",
      "['Monthly' 'Annual' 'Quarterly']\n"
     ]
    }
   ],
   "source": [
    "# Categorias de cada variable categórica\n",
    "\n",
    "print(pd.unique(customer_train['Gender']))\n",
    "print(pd.unique(customer_train['Subscription Type']))\n",
    "print(pd.unique(customer_train['Contract Length']))\n",
    "\n",
    "print('-----------------------------------')\n",
    "\n",
    "print(pd.unique(customer_test['Gender']))\n",
    "print(pd.unique(customer_test['Subscription Type']))\n",
    "print(pd.unique(customer_test['Contract Length']))"
   ]
  },
  {
   "cell_type": "code",
   "execution_count": 376,
   "metadata": {},
   "outputs": [
    {
     "name": "stdout",
     "output_type": "stream",
     "text": [
      "(440833, 12)\n",
      "(440832, 12)\n"
     ]
    }
   ],
   "source": [
    "# Se limpia la fila vacía\n",
    "\n",
    "print(customer_train.shape)\n",
    "customer_train.dropna(inplace=True)\n",
    "print(customer_train.shape)"
   ]
  },
  {
   "cell_type": "code",
   "execution_count": 377,
   "metadata": {},
   "outputs": [
    {
     "data": {
      "text/html": [
       "<div>\n",
       "<style scoped>\n",
       "    .dataframe tbody tr th:only-of-type {\n",
       "        vertical-align: middle;\n",
       "    }\n",
       "\n",
       "    .dataframe tbody tr th {\n",
       "        vertical-align: top;\n",
       "    }\n",
       "\n",
       "    .dataframe thead th {\n",
       "        text-align: right;\n",
       "    }\n",
       "</style>\n",
       "<table border=\"1\" class=\"dataframe\">\n",
       "  <thead>\n",
       "    <tr style=\"text-align: right;\">\n",
       "      <th></th>\n",
       "      <th>Gender</th>\n",
       "      <th>Subscription Type</th>\n",
       "      <th>Contract Length</th>\n",
       "    </tr>\n",
       "  </thead>\n",
       "  <tbody>\n",
       "    <tr>\n",
       "      <th>0</th>\n",
       "      <td>Female</td>\n",
       "      <td>Standard</td>\n",
       "      <td>Annual</td>\n",
       "    </tr>\n",
       "    <tr>\n",
       "      <th>1</th>\n",
       "      <td>Female</td>\n",
       "      <td>Basic</td>\n",
       "      <td>Monthly</td>\n",
       "    </tr>\n",
       "    <tr>\n",
       "      <th>2</th>\n",
       "      <td>Female</td>\n",
       "      <td>Basic</td>\n",
       "      <td>Quarterly</td>\n",
       "    </tr>\n",
       "    <tr>\n",
       "      <th>3</th>\n",
       "      <td>Male</td>\n",
       "      <td>Standard</td>\n",
       "      <td>Monthly</td>\n",
       "    </tr>\n",
       "    <tr>\n",
       "      <th>4</th>\n",
       "      <td>Male</td>\n",
       "      <td>Basic</td>\n",
       "      <td>Monthly</td>\n",
       "    </tr>\n",
       "    <tr>\n",
       "      <th>...</th>\n",
       "      <td>...</td>\n",
       "      <td>...</td>\n",
       "      <td>...</td>\n",
       "    </tr>\n",
       "    <tr>\n",
       "      <th>440828</th>\n",
       "      <td>Male</td>\n",
       "      <td>Premium</td>\n",
       "      <td>Annual</td>\n",
       "    </tr>\n",
       "    <tr>\n",
       "      <th>440829</th>\n",
       "      <td>Female</td>\n",
       "      <td>Premium</td>\n",
       "      <td>Annual</td>\n",
       "    </tr>\n",
       "    <tr>\n",
       "      <th>440830</th>\n",
       "      <td>Male</td>\n",
       "      <td>Standard</td>\n",
       "      <td>Quarterly</td>\n",
       "    </tr>\n",
       "    <tr>\n",
       "      <th>440831</th>\n",
       "      <td>Male</td>\n",
       "      <td>Standard</td>\n",
       "      <td>Quarterly</td>\n",
       "    </tr>\n",
       "    <tr>\n",
       "      <th>440832</th>\n",
       "      <td>Male</td>\n",
       "      <td>Premium</td>\n",
       "      <td>Quarterly</td>\n",
       "    </tr>\n",
       "  </tbody>\n",
       "</table>\n",
       "<p>440832 rows × 3 columns</p>\n",
       "</div>"
      ],
      "text/plain": [
       "        Gender Subscription Type Contract Length\n",
       "0       Female          Standard          Annual\n",
       "1       Female             Basic         Monthly\n",
       "2       Female             Basic       Quarterly\n",
       "3         Male          Standard         Monthly\n",
       "4         Male             Basic         Monthly\n",
       "...        ...               ...             ...\n",
       "440828    Male           Premium          Annual\n",
       "440829  Female           Premium          Annual\n",
       "440830    Male          Standard       Quarterly\n",
       "440831    Male          Standard       Quarterly\n",
       "440832    Male           Premium       Quarterly\n",
       "\n",
       "[440832 rows x 3 columns]"
      ]
     },
     "execution_count": 377,
     "metadata": {},
     "output_type": "execute_result"
    }
   ],
   "source": [
    "# Variables categóricas que habría que transformar en dummy\n",
    "\n",
    "customer_train.select_dtypes(include=['object'])"
   ]
  },
  {
   "cell_type": "code",
   "execution_count": 378,
   "metadata": {},
   "outputs": [
    {
     "data": {
      "image/png": "[encoded data removed]",
      "text/plain": [
       "<Figure size 1800x500 with 4 Axes>"
      ]
     },
     "metadata": {},
     "output_type": "display_data"
    }
   ],
   "source": [
    "fig, axes = plt.subplots(1, 4, figsize=(18, 5), sharey=True)  # Crear subplots de una fila y tres columnas\n",
    "\n",
    "# Paleta de colores de los distintos plots\n",
    "pal1 = sns.color_palette(\"rocket\", n_colors=2)\n",
    "pal2 = sns.color_palette(\"flare_r\", n_colors=3)\n",
    "pal3 = sns.color_palette(\"magma\", n_colors=3)\n",
    "\n",
    "# Countplots para ver balance de variables\n",
    "sns.countplot(data=customer_train, x=\"Churn\", hue='Churn', palette=sns.color_palette(\"YlOrRd\", n_colors=2), ax=axes[0])\n",
    "axes[0].set_title('Churn Total')\n",
    "\n",
    "sns.countplot(data=customer_train, x=\"Churn\", hue='Gender', palette=pal1, ax=axes[1])\n",
    "axes[1].set_title('Churn por Género')\n",
    "\n",
    "sns.countplot(data=customer_train, x=\"Churn\", hue='Subscription Type', palette=pal2, ax=axes[2])\n",
    "axes[2].set_title('Churn por tipo de suscripción')\n",
    "\n",
    "sns.countplot(data=customer_train, x=\"Churn\", hue='Contract Length', palette=pal3, ax=axes[3])\n",
    "axes[3].set_title('Churn por duración del contrato')\n",
    "\n",
    "plt.tight_layout()\n",
    "plt.show()"
   ]
  },
  {
   "cell_type": "markdown",
   "metadata": {},
   "source": [
    "## Transformación de variables\n"
   ]
  },
  {
   "cell_type": "code",
   "execution_count": 379,
   "metadata": {},
   "outputs": [],
   "source": [
    "# Transformaciones de variables categóricas a dummy\n",
    "\n",
    "categorical_features = ['Gender','Subscription Type','Contract Length']\n",
    "\n",
    "customer_train = pd.get_dummies(data=customer_train, \n",
    "                                  columns=categorical_features)\n",
    "\n",
    "customer_test = pd.get_dummies(data=customer_test, \n",
    "                                  columns=categorical_features)"
   ]
  },
  {
   "cell_type": "code",
   "execution_count": 380,
   "metadata": {},
   "outputs": [
    {
     "data": {
      "text/html": [
       "<div>\n",
       "<style scoped>\n",
       "    .dataframe tbody tr th:only-of-type {\n",
       "        vertical-align: middle;\n",
       "    }\n",
       "\n",
       "    .dataframe tbody tr th {\n",
       "        vertical-align: top;\n",
       "    }\n",
       "\n",
       "    .dataframe thead th {\n",
       "        text-align: right;\n",
       "    }\n",
       "</style>\n",
       "<table border=\"1\" class=\"dataframe\">\n",
       "  <thead>\n",
       "    <tr style=\"text-align: right;\">\n",
       "      <th></th>\n",
       "      <th>CustomerID</th>\n",
       "      <th>Age</th>\n",
       "      <th>Tenure</th>\n",
       "      <th>Usage Frequency</th>\n",
       "      <th>Support Calls</th>\n",
       "      <th>Payment Delay</th>\n",
       "      <th>Total Spend</th>\n",
       "      <th>Last Interaction</th>\n",
       "      <th>Churn</th>\n",
       "      <th>Gender_Female</th>\n",
       "      <th>Gender_Male</th>\n",
       "      <th>Subscription Type_Basic</th>\n",
       "      <th>Subscription Type_Premium</th>\n",
       "      <th>Subscription Type_Standard</th>\n",
       "      <th>Contract Length_Annual</th>\n",
       "      <th>Contract Length_Monthly</th>\n",
       "      <th>Contract Length_Quarterly</th>\n",
       "    </tr>\n",
       "  </thead>\n",
       "  <tbody>\n",
       "    <tr>\n",
       "      <th>0</th>\n",
       "      <td>1</td>\n",
       "      <td>22</td>\n",
       "      <td>25</td>\n",
       "      <td>14</td>\n",
       "      <td>4</td>\n",
       "      <td>27</td>\n",
       "      <td>598</td>\n",
       "      <td>9</td>\n",
       "      <td>1</td>\n",
       "      <td>True</td>\n",
       "      <td>False</td>\n",
       "      <td>True</td>\n",
       "      <td>False</td>\n",
       "      <td>False</td>\n",
       "      <td>False</td>\n",
       "      <td>True</td>\n",
       "      <td>False</td>\n",
       "    </tr>\n",
       "    <tr>\n",
       "      <th>1</th>\n",
       "      <td>2</td>\n",
       "      <td>41</td>\n",
       "      <td>28</td>\n",
       "      <td>28</td>\n",
       "      <td>7</td>\n",
       "      <td>13</td>\n",
       "      <td>584</td>\n",
       "      <td>20</td>\n",
       "      <td>0</td>\n",
       "      <td>True</td>\n",
       "      <td>False</td>\n",
       "      <td>False</td>\n",
       "      <td>False</td>\n",
       "      <td>True</td>\n",
       "      <td>False</td>\n",
       "      <td>True</td>\n",
       "      <td>False</td>\n",
       "    </tr>\n",
       "    <tr>\n",
       "      <th>2</th>\n",
       "      <td>3</td>\n",
       "      <td>47</td>\n",
       "      <td>27</td>\n",
       "      <td>10</td>\n",
       "      <td>2</td>\n",
       "      <td>29</td>\n",
       "      <td>757</td>\n",
       "      <td>21</td>\n",
       "      <td>0</td>\n",
       "      <td>False</td>\n",
       "      <td>True</td>\n",
       "      <td>False</td>\n",
       "      <td>True</td>\n",
       "      <td>False</td>\n",
       "      <td>True</td>\n",
       "      <td>False</td>\n",
       "      <td>False</td>\n",
       "    </tr>\n",
       "    <tr>\n",
       "      <th>3</th>\n",
       "      <td>4</td>\n",
       "      <td>35</td>\n",
       "      <td>9</td>\n",
       "      <td>12</td>\n",
       "      <td>5</td>\n",
       "      <td>17</td>\n",
       "      <td>232</td>\n",
       "      <td>18</td>\n",
       "      <td>0</td>\n",
       "      <td>False</td>\n",
       "      <td>True</td>\n",
       "      <td>False</td>\n",
       "      <td>True</td>\n",
       "      <td>False</td>\n",
       "      <td>False</td>\n",
       "      <td>False</td>\n",
       "      <td>True</td>\n",
       "    </tr>\n",
       "    <tr>\n",
       "      <th>4</th>\n",
       "      <td>5</td>\n",
       "      <td>53</td>\n",
       "      <td>58</td>\n",
       "      <td>24</td>\n",
       "      <td>9</td>\n",
       "      <td>2</td>\n",
       "      <td>533</td>\n",
       "      <td>18</td>\n",
       "      <td>0</td>\n",
       "      <td>True</td>\n",
       "      <td>False</td>\n",
       "      <td>False</td>\n",
       "      <td>False</td>\n",
       "      <td>True</td>\n",
       "      <td>True</td>\n",
       "      <td>False</td>\n",
       "      <td>False</td>\n",
       "    </tr>\n",
       "  </tbody>\n",
       "</table>\n",
       "</div>"
      ],
      "text/plain": [
       "   CustomerID  Age  Tenure  Usage Frequency  Support Calls  Payment Delay  \\\n",
       "0           1   22      25               14              4             27   \n",
       "1           2   41      28               28              7             13   \n",
       "2           3   47      27               10              2             29   \n",
       "3           4   35       9               12              5             17   \n",
       "4           5   53      58               24              9              2   \n",
       "\n",
       "   Total Spend  Last Interaction  Churn  Gender_Female  Gender_Male  \\\n",
       "0          598                 9      1           True        False   \n",
       "1          584                20      0           True        False   \n",
       "2          757                21      0          False         True   \n",
       "3          232                18      0          False         True   \n",
       "4          533                18      0           True        False   \n",
       "\n",
       "   Subscription Type_Basic  Subscription Type_Premium  \\\n",
       "0                     True                      False   \n",
       "1                    False                      False   \n",
       "2                    False                       True   \n",
       "3                    False                       True   \n",
       "4                    False                      False   \n",
       "\n",
       "   Subscription Type_Standard  Contract Length_Annual  \\\n",
       "0                       False                   False   \n",
       "1                        True                   False   \n",
       "2                       False                    True   \n",
       "3                       False                   False   \n",
       "4                        True                    True   \n",
       "\n",
       "   Contract Length_Monthly  Contract Length_Quarterly  \n",
       "0                     True                      False  \n",
       "1                     True                      False  \n",
       "2                    False                      False  \n",
       "3                    False                       True  \n",
       "4                    False                      False  "
      ]
     },
     "execution_count": 380,
     "metadata": {},
     "output_type": "execute_result"
    }
   ],
   "source": [
    "customer_test.head()"
   ]
  },
  {
   "cell_type": "code",
   "execution_count": 381,
   "metadata": {},
   "outputs": [
    {
     "data": {
      "image/png": "[encoded data removed]",
      "text/plain": [
       "<Figure size 1000x500 with 2 Axes>"
      ]
     },
     "metadata": {},
     "output_type": "display_data"
    }
   ],
   "source": [
    "# Correlación entre variables\n",
    "\n",
    "plt.figure(figsize=(10, 5))\n",
    "corr_plot = customer_train.drop('CustomerID',axis=1).corr().round(2)\n",
    "sns.heatmap(data=corr_plot, annot=True, annot_kws={\"size\": 8},cmap='PuOr', linewidth=.1);\n",
    "\n",
    "highlight_var = 'Churn'\n",
    "idvar = corr_plot.columns.get_loc(highlight_var)\n",
    "\n",
    "# Para resaltar columna | fila de Churn\n",
    "\n",
    "for i in range(len(corr_plot.columns)):\n",
    "    plt.gca().add_patch(plt.Rectangle((idvar, i), 1, 1, fill=False, edgecolor='red', lw=1))\n",
    "    plt.gca().add_patch(plt.Rectangle((i, idvar), 1, 1, fill=False, edgecolor='red', lw=1))\n",
    "\n",
    "plt.show()"
   ]
  },
  {
   "cell_type": "markdown",
   "metadata": {},
   "source": [
    "Las variables que parecen tener mayor correlación con la tasa de cancelación ('Churn') son: **Support Calls**, **Contract_Length_Monthly**, **Total_Spend** y **Payment Delay**.\n",
    "\n",
    "**Correlación moderada entre Variables | Churn**\n",
    "\n",
    "- La variable **Support Calls**, que refiere a la cantidad de llamadas que el cliente realiza a atención al cliente, presenta una correlación positiva ($0.57$) con la tasa de cancelación (y las más fuerte dentro del dataset analizado). Por lo general, la reiteración de llamadas por parte del cliente, además de incurrir en mayores costos a la empresa (i.e. *\"dedicar tiempo de operadores a atender a los mismos clientes...\"*), podría estar indicando ineficiencias tanto en la resolución de problemas o en la comunicación al cliente (que eventualmente podría impactar en la decisión de darse da baja).\n",
    "\n",
    "- Con respecto a la duración del contrato, la opción *mensual* (**Contract_Length_Monthly**) parece estar mayormente asociada ($0.43$) con la tasa de cancelación, frente a otras opciones de *largo plazo* (i.e. Cuatrimestral | Anual), que presentan incluso correlación negativa con el *churn*.\n",
    "\n",
    "- El gasto total (**Total Spend**) por parte del cliente en servicios | productos de la empresa, presenta una correlación negativa ($-0.43$) con respecto al Churn, dando una idea de que a medida que el cliente *invierte más*, menor es la posibilidad de darse de baja.\n",
    "\n",
    "- La demora en el pago (**Payment Delay**) presenta correlación positiva ($0.31$) con la variable objetivo. Esto podría indicar una tendencia a retrasar el pago (o incluso no pagar) si el cliente decide darse de baja.\n",
    "\n",
    "**Correlación débil entre Variables | Churn**\n",
    "\n",
    "- La edad del cliente (**Age**) presenta una correlación positiva débil ($0.22$) con respecto al *churn*, dando una idea de que personas de mayor edad tienden a darse de baja del servicio | producto (sea cuál sea).\n",
    "\n",
    "- En cuanto al género (**Gender_Female | Male**), se presenta mayor tendencia de baja en mujeres ($0.18$) que en hombres ($-0.18$), dados los signos de las correlaciones.\n",
    "\n",
    "- La última interacción (**Last Interaction**) refleja que a mayor cantidad de días sin contacto con el cliente, mayor posibilidad de baja del mismo, dada la correlación positiva que presenta ($0.15$).\n",
    "\n",
    "**Sin Correlación entre Variables | Churn**\n",
    "\n",
    "- Las demás variables no presentan correlación alguna, por lo que no parecen ser relevantes en el análisis.\n",
    "\n",
    "\n",
    "En este caso se utilizan las variables más correlacionadas con la tasa de cancelación (a efectos prácticos).\n"
   ]
  },
  {
   "cell_type": "code",
   "execution_count": 382,
   "metadata": {},
   "outputs": [],
   "source": [
    "# ------------ Variables a utilizar ------------------\n",
    "\n",
    "customer_train = customer_train.drop(['CustomerID','Tenure','Usage Frequency','Subscription Type_Basic','Subscription Type_Premium','Subscription Type_Standard'], axis=1)\n",
    "customer_test = customer_test.drop(['CustomerID','Tenure','Usage Frequency','Subscription Type_Basic','Subscription Type_Premium','Subscription Type_Standard'], axis=1)"
   ]
  },
  {
   "cell_type": "markdown",
   "metadata": {},
   "source": [
    "## Evaluación de modelos"
   ]
  },
  {
   "cell_type": "markdown",
   "metadata": {},
   "source": [
    "### Modelo de regresión logística"
   ]
  },
  {
   "cell_type": "markdown",
   "metadata": {},
   "source": [
    "Hay que separar las variables predichas | predictoras y eliminar una de las dummy (en cada categoría que tenga), para evitar correlación."
   ]
  },
  {
   "cell_type": "code",
   "execution_count": 383,
   "metadata": {},
   "outputs": [],
   "source": [
    "# ------------ Set de entrenamiento ------------------\n",
    "\n",
    "X_train = customer_train.loc[:, ['Age', 'Support Calls', 'Payment Delay', 'Total Spend', 'Last Interaction', 'Gender_Female', 'Contract Length_Annual', 'Contract Length_Monthly']].values\n",
    "y_train = customer_train.loc[:, 'Churn'].values\n",
    "\n",
    "# ------------ Set de testeo        ------------------\n",
    "\n",
    "X_test = customer_test.loc[:, ['Age', 'Support Calls', 'Payment Delay', 'Total Spend', 'Last Interaction', 'Gender_Female', 'Contract Length_Annual', 'Contract Length_Monthly']].values\n",
    "y_test = customer_test.loc[:, 'Churn'].values"
   ]
  },
  {
   "cell_type": "code",
   "execution_count": 384,
   "metadata": {},
   "outputs": [
    {
     "data": {
      "text/plain": [
       "(440832, 8)"
      ]
     },
     "execution_count": 384,
     "metadata": {},
     "output_type": "execute_result"
    }
   ],
   "source": [
    "X_train.shape"
   ]
  },
  {
   "cell_type": "code",
   "execution_count": 385,
   "metadata": {},
   "outputs": [],
   "source": [
    "sc_X = StandardScaler()\n",
    "\n",
    "X_train = sc_X.fit_transform(X_train) \n",
    "X_test = sc_X.transform(X_test)"
   ]
  },
  {
   "cell_type": "code",
   "execution_count": 386,
   "metadata": {},
   "outputs": [],
   "source": [
    "from sklearn.linear_model import LogisticRegression\n",
    "\n",
    "model_logistic = LogisticRegression(random_state = 42, class_weight=\"balanced\")\n",
    "model_logistic.fit(X_train, y_train)\n",
    "\n",
    "# Valores predichos con base de testeo\n",
    "y_pred = model_logistic.predict(X_test)"
   ]
  },
  {
   "cell_type": "code",
   "execution_count": 387,
   "metadata": {},
   "outputs": [
    {
     "data": {
      "image/png": "[encoded data removed]",
      "text/plain": [
       "<Figure size 600x600 with 2 Axes>"
      ]
     },
     "metadata": {},
     "output_type": "display_data"
    }
   ],
   "source": [
    "# Se crea la matriz de confusión\n",
    "cm_logistic = confusion_matrix(y_test, y_pred)\n",
    "\n",
    "# Paleta de colores\n",
    "cmap = sns.color_palette(\"rocket_r\", as_cmap=True)\n",
    "\n",
    "# Visualización de la matriz de confusión\n",
    "plt.figure(figsize=(6, 6))\n",
    "sns.heatmap(cm_logistic, annot=True, fmt='d', cmap=cmap, \n",
    "            xticklabels=model_logistic.classes_, \n",
    "            yticklabels=model_logistic.classes_)\n",
    "plt.xlabel('Predicted Label')\n",
    "plt.ylabel('True Label')\n",
    "plt.title(\"Matriz de Confusión - Clasificador Logístico\")\n",
    "plt.show()"
   ]
  },
  {
   "cell_type": "code",
   "execution_count": 388,
   "metadata": {},
   "outputs": [
    {
     "name": "stdout",
     "output_type": "stream",
     "text": [
      "Clasificador Regresión Logística - Métricas\n",
      "-------------------------------------------\n",
      "Sensibilidad: 0.9863575246777949\n",
      "Especificidad: 0.21463357043770845\n",
      "Exactitud balanceada: 0.6004955475577517\n",
      "Precision: 0.5305895635606676\n",
      "Recuperación: 0.9863575246777949\n",
      "F1-score: 0.6900056206196447\n"
     ]
    }
   ],
   "source": [
    "print(\"Clasificador Regresión Logística - Métricas\")\n",
    "print(\"-------------------------------------------\")\n",
    "P = np.sum(cm_logistic[1, :]) # Positive\n",
    "N = np.sum(cm_logistic[0, :]) # Negative\n",
    "TP = cm_logistic[1, 1] # TP - True Positive | FP - False Positive\n",
    "TN = cm_logistic[0, 0] # TN - True Negative | FN - False Negative\n",
    "TPR = TP/P\n",
    "TNR = TN/N\n",
    "\n",
    "# Sensibilidad - Tasa de verdaderos positivos\n",
    "print(f\"Sensibilidad: {TP/P}\")\n",
    "\n",
    "# Especifidad - Tasa de verdaderos negativos\n",
    "print(f\"Especificidad: {TN/N}\")\n",
    "\n",
    "# Exactitud balanceada - Cuando hay desbalance, se promedian ambas tasas (Si es 0.5, el clasificador está adivinando)\n",
    "print(f\"Exactitud balanceada: {(TPR + TNR)/2}\")\n",
    "\n",
    "# Cuando la clase positiva tiene mas importancia que la negativa se puede usar precisión y recuperación\n",
    "# Precisión - proporción de casos positivos correctamente identificados con respecto a todos los etiquetados positivos por el clasificador (TP / (TP + FP))\n",
    "# Recuperación - proporción de casos positivos correctamente identificados con respecto a todos los positivos reales (TP / (TP + FN)) idem. 'sensibilidad'\n",
    "print(f\"Precision: {precision_score(y_test, y_pred, zero_division=0)}\")\n",
    "print(f\"Recuperación: {recall_score(y_test, y_pred, zero_division=0)}\")\n",
    "\n",
    "# F1 Score - Para tener un balance de ambos casos, tanto en precisión como en recuperación\n",
    "print(f\"F1-score: {f1_score(y_test, y_pred, zero_division=0)}\")"
   ]
  },
  {
   "cell_type": "code",
   "execution_count": 389,
   "metadata": {},
   "outputs": [
    {
     "data": {
      "image/png": "[encoded data removed]",
      "text/plain": [
       "<Figure size 640x480 with 1 Axes>"
      ]
     },
     "metadata": {},
     "output_type": "display_data"
    }
   ],
   "source": [
    "prob_total = model_logistic.predict_proba(X_test)[:,-1]\n",
    "prob_naive = np.zeros_like(prob_total)\n",
    "\n",
    "from sklearn.metrics import auc, roc_curve\n",
    "\n",
    "fpr_naive, tpr_naive, _ = roc_curve(y_test, prob_naive)\n",
    "fpr_total, tpr_total, _ = roc_curve(y_test, prob_total)\n",
    "\n",
    "plt.plot(fpr_naive, tpr_naive, label=\"Modelo Naive\", color = 'darkgray')\n",
    "plt.plot(fpr_total, tpr_total, label=\"Modelo Logistico\", color = 'orangered')\n",
    "plt.xlim([-0.01, 1.01])\n",
    "plt.ylim([-0.01, 1.01])\n",
    "plt.xlabel(\"Tasa de falsos positivos\")\n",
    "plt.ylabel(\"Tasa de verdaderos positivos\")\n",
    "plt.legend()\n",
    "plt.tight_layout();\n"
   ]
  },
  {
   "cell_type": "markdown",
   "metadata": {},
   "source": [
    "### Clasificador KNN"
   ]
  },
  {
   "cell_type": "markdown",
   "metadata": {},
   "source": [
    "#### Selección de hiperaparámetros: RandomizedSearch"
   ]
  },
  {
   "cell_type": "code",
   "execution_count": 390,
   "metadata": {},
   "outputs": [
    {
     "data": {
      "text/plain": [
       "'\\nfrom sklearn.neighbors import KNeighborsClassifier\\nfrom sklearn.model_selection import RandomizedSearchCV\\n\\n# Clasificador KNN con Algoritmo RandomSearch (para búsqueda de hiperparámetros)\\n\\nclassifier_knn = KNeighborsClassifier()\\n\\nhyperparams = {\"n_neighbors\": np.arange(1, 31),        \\n               \"weights\": [\"uniform\", \"distance\"],  \\n               \"p\": np.arange(1.0, 10.0)}              \\n\\n# Creamos un método de busqueda por grilla:\\ngrid_random = RandomizedSearchCV(classifier_knn,\\n                                 hyperparams,\\n                                 n_iter=100, \\n                                 refit=False,\\n                                 cv=3,\\n                                 scoring=\\'f1\\',\\n                                 n_jobs=-1)\\n\\ngrid_random.fit(X_train, y_train)\\n'"
      ]
     },
     "execution_count": 390,
     "metadata": {},
     "output_type": "execute_result"
    }
   ],
   "source": [
    "'''\n",
    "from sklearn.neighbors import KNeighborsClassifier\n",
    "from sklearn.model_selection import RandomizedSearchCV\n",
    "\n",
    "# Clasificador KNN con Algoritmo RandomSearch (para búsqueda de hiperparámetros)\n",
    "\n",
    "classifier_knn = KNeighborsClassifier()\n",
    "\n",
    "hyperparams = {\"n_neighbors\": np.arange(1, 31),        \n",
    "               \"weights\": [\"uniform\", \"distance\"],  \n",
    "               \"p\": np.arange(1.0, 10.0)}              \n",
    "\n",
    "# Creamos un método de busqueda por grilla:\n",
    "grid_random = RandomizedSearchCV(classifier_knn,\n",
    "                                 hyperparams,\n",
    "                                 n_iter=100, \n",
    "                                 refit=False,\n",
    "                                 cv=3,\n",
    "                                 scoring='f1',\n",
    "                                 n_jobs=-1)\n",
    "\n",
    "grid_random.fit(X_train, y_train)\n",
    "'''\n",
    "\n",
    "# Demora unos 63 mins. aprox. (63min 32.9seg)"
   ]
  },
  {
   "cell_type": "code",
   "execution_count": 391,
   "metadata": {},
   "outputs": [
    {
     "data": {
      "text/plain": [
       "\"grid_random.best_params_ #{'weights': 'distance', 'p': 6.0, 'n_neighbors': 4}\""
      ]
     },
     "execution_count": 391,
     "metadata": {},
     "output_type": "execute_result"
    }
   ],
   "source": [
    "'''grid_random.best_params_ #{'weights': 'distance', 'p': 6.0, 'n_neighbors': 4}'''"
   ]
  },
  {
   "cell_type": "code",
   "execution_count": 392,
   "metadata": {},
   "outputs": [
    {
     "data": {
      "text/plain": [
       "'\\nclassifier_knn = KNeighborsClassifier(n_neighbors=4, metric=\"minkowski\", p=6)\\nclassifier_knn.fit(X_train, y_train)\\n\\n#Evaluamos\\ny_pred  = classifier_knn.predict(X_test)\\ncm_knn = confusion_matrix(y_test, y_pred)\\n\\n# Visualización de matriz de confusión\\n\\ndisp = ConfusionMatrixDisplay(confusion_matrix=cm_knn,\\n                              display_labels=classifier_knn.classes_)\\n\\nfig, ax = plt.subplots(figsize=(6,6))\\nax.grid(False)\\ndisp.plot(ax=ax)\\nax.set_title(\"Clasificador KNN (23 vecinos)\");\\n\\nprint(\"Clasificador KNN - Métricas\")\\nprint(\"-------------------------------------------\")\\nP = np.sum(cm_knn[1, :]) # Positive\\nN = np.sum(cm_knn[0, :]) # Negative\\nTP = cm_knn[1, 1] # TP - True Positive | FP - False Positive\\nTN = cm_knn[0, 0] # TN - True Negative | FN - False Negative\\nTPR = TP/P\\nTNR = TN/N\\n\\n# Sensibilidad - Tasa de verdaderos positivos\\nprint(f\"Sensibilidad: {TP/P}\")\\n\\n# Especifidad - Tasa de verdaderos negativos\\nprint(f\"Especificidad: {TN/N}\")\\n\\n# Exactitud balanceada - Cuando hay desbalance, se promedian ambas tasas (Si es 0.5, el clasificador está adivinando)\\nprint(f\"Exactitud balanceada: {(TPR + TNR)/2}\")\\n\\n# Cuando la clase positiva tiene mas importancia que la negativa se puede usar precisión y recuperación\\n# Precisión - proporción de casos positivos correctamente identificados con respecto a todos los etiquetados positivos por el clasificador (TP / (TP + FP))\\n# Recuperación - proporción de casos positivos correctamente identificados con respecto a todos los positivos reales (TP / (TP + FN)) idem. \\'sensibilidad\\'\\nprint(f\"Precision: {precision_score(y_test, y_pred, zero_division=0)}\")\\nprint(f\"Recuperación: {recall_score(y_test, y_pred, zero_division=0)}\")\\n\\n# F1 Score - Para tener un balance de ambos casos, tanto en precisión como en recuperación\\nprint(f\"F1-score: {f1_score(y_test, y_pred, zero_division=0)}\")\\n\\n'"
      ]
     },
     "execution_count": 392,
     "metadata": {},
     "output_type": "execute_result"
    }
   ],
   "source": [
    "'''\n",
    "classifier_knn = KNeighborsClassifier(n_neighbors=4, metric=\"minkowski\", p=6)\n",
    "classifier_knn.fit(X_train, y_train)\n",
    "\n",
    "#Evaluamos\n",
    "y_pred  = classifier_knn.predict(X_test)\n",
    "cm_knn = confusion_matrix(y_test, y_pred)\n",
    "\n",
    "# Visualización de matriz de confusión\n",
    "\n",
    "disp = ConfusionMatrixDisplay(confusion_matrix=cm_knn,\n",
    "                              display_labels=classifier_knn.classes_)\n",
    "\n",
    "fig, ax = plt.subplots(figsize=(6,6))\n",
    "ax.grid(False)\n",
    "disp.plot(ax=ax)\n",
    "ax.set_title(\"Clasificador KNN (23 vecinos)\");\n",
    "\n",
    "print(\"Clasificador KNN - Métricas\")\n",
    "print(\"-------------------------------------------\")\n",
    "P = np.sum(cm_knn[1, :]) # Positive\n",
    "N = np.sum(cm_knn[0, :]) # Negative\n",
    "TP = cm_knn[1, 1] # TP - True Positive | FP - False Positive\n",
    "TN = cm_knn[0, 0] # TN - True Negative | FN - False Negative\n",
    "TPR = TP/P\n",
    "TNR = TN/N\n",
    "\n",
    "# Sensibilidad - Tasa de verdaderos positivos\n",
    "print(f\"Sensibilidad: {TP/P}\")\n",
    "\n",
    "# Especifidad - Tasa de verdaderos negativos\n",
    "print(f\"Especificidad: {TN/N}\")\n",
    "\n",
    "# Exactitud balanceada - Cuando hay desbalance, se promedian ambas tasas (Si es 0.5, el clasificador está adivinando)\n",
    "print(f\"Exactitud balanceada: {(TPR + TNR)/2}\")\n",
    "\n",
    "# Cuando la clase positiva tiene mas importancia que la negativa se puede usar precisión y recuperación\n",
    "# Precisión - proporción de casos positivos correctamente identificados con respecto a todos los etiquetados positivos por el clasificador (TP / (TP + FP))\n",
    "# Recuperación - proporción de casos positivos correctamente identificados con respecto a todos los positivos reales (TP / (TP + FN)) idem. 'sensibilidad'\n",
    "print(f\"Precision: {precision_score(y_test, y_pred, zero_division=0)}\")\n",
    "print(f\"Recuperación: {recall_score(y_test, y_pred, zero_division=0)}\")\n",
    "\n",
    "# F1 Score - Para tener un balance de ambos casos, tanto en precisión como en recuperación\n",
    "print(f\"F1-score: {f1_score(y_test, y_pred, zero_division=0)}\")\n",
    "\n",
    "'''"
   ]
  },
  {
   "cell_type": "markdown",
   "metadata": {},
   "source": [
    "#### Selección de hiperaparámetros: GridSearch"
   ]
  },
  {
   "cell_type": "code",
   "execution_count": 393,
   "metadata": {},
   "outputs": [
    {
     "data": {
      "text/plain": [
       "'\\n# Clasificador KNN con Algoritmo GridSearch (para búsqueda de hiperparámetros)\\nfrom sklearn.model_selection import GridSearchCV\\n\\n\\nclassifier_knn = KNeighborsClassifier()\\n\\nhyperparams = {\"n_neighbors\": np.arange(1, 30),    # Cantidad de vecinos.\\n               \"weights\": [\"uniform\", \"distance\"],  # Como se pesa los votos\\n               \"p\": np.arange(1.0, 30.0)}              # Valores para la distancia de Minkowski\\n\\n# Creamos un método de busqueda por grilla:\\ngrid = GridSearchCV(classifier_knn,\\n                    hyperparams,\\n                    refit=False,\\n                    cv=3,\\n                    scoring=\\'f1\\',\\n                    n_jobs=-1)\\n\\ngrid.fit(X_train, y_train)\\n'"
      ]
     },
     "execution_count": 393,
     "metadata": {},
     "output_type": "execute_result"
    }
   ],
   "source": [
    "'''\n",
    "# Clasificador KNN con Algoritmo GridSearch (para búsqueda de hiperparámetros)\n",
    "from sklearn.model_selection import GridSearchCV\n",
    "\n",
    "\n",
    "classifier_knn = KNeighborsClassifier()\n",
    "\n",
    "hyperparams = {\"n_neighbors\": np.arange(1, 30),    # Cantidad de vecinos.\n",
    "               \"weights\": [\"uniform\", \"distance\"],  # Como se pesa los votos\n",
    "               \"p\": np.arange(1.0, 30.0)}              # Valores para la distancia de Minkowski\n",
    "\n",
    "# Creamos un método de busqueda por grilla:\n",
    "grid = GridSearchCV(classifier_knn,\n",
    "                    hyperparams,\n",
    "                    refit=False,\n",
    "                    cv=3,\n",
    "                    scoring='f1',\n",
    "                    n_jobs=-1)\n",
    "\n",
    "grid.fit(X_train, y_train)\n",
    "'''\n"
   ]
  },
  {
   "cell_type": "code",
   "execution_count": 394,
   "metadata": {},
   "outputs": [
    {
     "data": {
      "text/plain": [
       "'\\n#Evaluamos\\ny_pred  = classifier_knn.predict(X_test)\\ncm_knn = confusion_matrix(y_test, y_pred)\\n\\n# Visualización\\n\\ndisp = ConfusionMatrixDisplay(confusion_matrix=cm_knn,\\n                              display_labels=classifier_knn.classes_)\\n\\nfig, ax = plt.subplots(figsize=(6,6))\\nax.grid(False)\\ndisp.plot(ax=ax)\\nax.set_title(\"Clasificador KNN (23 vecinos)\");\\n\\nprint(\"Clasificador KNN - Métricas\")\\nprint(\"-------------------------------------------\")\\nP = np.sum(cm_knn[1, :]) # Positive\\nN = np.sum(cm_knn[0, :]) # Negative\\nTP = cm_knn[1, 1] # TP - True Positive | FP - False Positive\\nTN = cm_knn[0, 0] # TN - True Negative | FN - False Negative\\nTPR = TP/P\\nTNR = TN/N\\n\\n# Sensibilidad - Tasa de verdaderos positivos\\nprint(f\"Sensibilidad: {TP/P}\")\\n\\n# Especifidad - Tasa de verdaderos negativos\\nprint(f\"Especificidad: {TN/N}\")\\n\\n# Exactitud balanceada - Cuando hay desbalance, se promedian ambas tasas (Si es 0.5, el clasificador está adivinando)\\nprint(f\"Exactitud balanceada: {(TPR + TNR)/2}\")\\n\\n# Cuando la clase positiva tiene mas importancia que la negativa se puede usar precisión y recuperación\\n# Precisión - proporción de casos positivos correctamente identificados con respecto a todos los etiquetados positivos por el clasificador (TP / (TP + FP))\\n# Recuperación - proporción de casos positivos correctamente identificados con respecto a todos los positivos reales (TP / (TP + FN)) idem. \\'sensibilidad\\'\\nprint(f\"Precision: {precision_score(y_test, y_pred, zero_division=0)}\")\\nprint(f\"Recuperación: {recall_score(y_test, y_pred, zero_division=0)}\")\\n\\n# F1 Score - Para tener un balance de ambos casos, tanto en precisión como en recuperación\\nprint(f\"F1-score: {f1_score(y_test, y_pred, zero_division=0)}\")\\n'"
      ]
     },
     "execution_count": 394,
     "metadata": {},
     "output_type": "execute_result"
    }
   ],
   "source": [
    "'''\n",
    "#Evaluamos\n",
    "y_pred  = classifier_knn.predict(X_test)\n",
    "cm_knn = confusion_matrix(y_test, y_pred)\n",
    "\n",
    "# Visualización\n",
    "\n",
    "disp = ConfusionMatrixDisplay(confusion_matrix=cm_knn,\n",
    "                              display_labels=classifier_knn.classes_)\n",
    "\n",
    "fig, ax = plt.subplots(figsize=(6,6))\n",
    "ax.grid(False)\n",
    "disp.plot(ax=ax)\n",
    "ax.set_title(\"Clasificador KNN (23 vecinos)\");\n",
    "\n",
    "print(\"Clasificador KNN - Métricas\")\n",
    "print(\"-------------------------------------------\")\n",
    "P = np.sum(cm_knn[1, :]) # Positive\n",
    "N = np.sum(cm_knn[0, :]) # Negative\n",
    "TP = cm_knn[1, 1] # TP - True Positive | FP - False Positive\n",
    "TN = cm_knn[0, 0] # TN - True Negative | FN - False Negative\n",
    "TPR = TP/P\n",
    "TNR = TN/N\n",
    "\n",
    "# Sensibilidad - Tasa de verdaderos positivos\n",
    "print(f\"Sensibilidad: {TP/P}\")\n",
    "\n",
    "# Especifidad - Tasa de verdaderos negativos\n",
    "print(f\"Especificidad: {TN/N}\")\n",
    "\n",
    "# Exactitud balanceada - Cuando hay desbalance, se promedian ambas tasas (Si es 0.5, el clasificador está adivinando)\n",
    "print(f\"Exactitud balanceada: {(TPR + TNR)/2}\")\n",
    "\n",
    "# Cuando la clase positiva tiene mas importancia que la negativa se puede usar precisión y recuperación\n",
    "# Precisión - proporción de casos positivos correctamente identificados con respecto a todos los etiquetados positivos por el clasificador (TP / (TP + FP))\n",
    "# Recuperación - proporción de casos positivos correctamente identificados con respecto a todos los positivos reales (TP / (TP + FN)) idem. 'sensibilidad'\n",
    "print(f\"Precision: {precision_score(y_test, y_pred, zero_division=0)}\")\n",
    "print(f\"Recuperación: {recall_score(y_test, y_pred, zero_division=0)}\")\n",
    "\n",
    "# F1 Score - Para tener un balance de ambos casos, tanto en precisión como en recuperación\n",
    "print(f\"F1-score: {f1_score(y_test, y_pred, zero_division=0)}\")\n",
    "'''"
   ]
  },
  {
   "cell_type": "markdown",
   "metadata": {},
   "source": [
    "#### Selección de hiperaparámetros: Algoritmos Genéticos"
   ]
  },
  {
   "cell_type": "code",
   "execution_count": 395,
   "metadata": {},
   "outputs": [
    {
     "data": {
      "text/plain": [
       "'\\nclassifier_knn = KNeighborsClassifier\\n\\nhyperparams = {\"n_neighbors\": np.arange(1, 3),    # Cantidad de vecinos.\\n               \"weights\": [\"uniform\", \"distance\"],  # Como se pesan los votos\\n               \"p\": np.arange(1.0, 3)}          # Valores para la distancia de Minkowski\\n\\n# Creamos un maétodo de busqueda por grilla:\\nbest_params, best_cost = gen_lib.genetic_hyper(classifier_knn, X_train, y_train, hyperparams, cv=3, scoring=\\'f1\\',\\n                                               max_iterations=15, number_initial_population=300, initial_temperature=10,\\n                                               cooling_rate=0.95, n_jobs=-1)\\n\\n'"
      ]
     },
     "execution_count": 395,
     "metadata": {},
     "output_type": "execute_result"
    }
   ],
   "source": [
    "import hyper_genalg as gen_lib\n",
    "\n",
    "'''\n",
    "classifier_knn = KNeighborsClassifier\n",
    "\n",
    "hyperparams = {\"n_neighbors\": np.arange(1, 3),    # Cantidad de vecinos.\n",
    "               \"weights\": [\"uniform\", \"distance\"],  # Como se pesan los votos\n",
    "               \"p\": np.arange(1.0, 3)}          # Valores para la distancia de Minkowski\n",
    "\n",
    "# Creamos un maétodo de busqueda por grilla:\n",
    "best_params, best_cost = gen_lib.genetic_hyper(classifier_knn, X_train, y_train, hyperparams, cv=3, scoring='f1',\n",
    "                                               max_iterations=15, number_initial_population=300, initial_temperature=10,\n",
    "                                               cooling_rate=0.95, n_jobs=-1)\n",
    "\n",
    "'''"
   ]
  },
  {
   "cell_type": "markdown",
   "metadata": {},
   "source": [
    "#### Selección de hiperaparámetros: Optuna"
   ]
  },
  {
   "cell_type": "code",
   "execution_count": 396,
   "metadata": {},
   "outputs": [],
   "source": [
    "import optuna\n",
    "from sklearn.model_selection import cross_val_score\n",
    "\n",
    "def objective(trial):\n",
    "    n_neighbors = trial.suggest_int(\"n_neighbors\", 1, 31)\n",
    "    weights = trial.suggest_categorical(\"weights\", [\"uniform\", \"distance\"])\n",
    "    p = trial.suggest_float(\"p\", 1.0, 10.0)\n",
    "    \n",
    "    classifier_knn = KNeighborsClassifier(n_neighbors=n_neighbors, weights=weights, p=p)\n",
    "    \n",
    "    # Realizamos la validación cruzada\n",
    "    score = cross_val_score(classifier_knn, X_train, y_train, cv=3, scoring='f1', n_jobs=-1)\n",
    "    \n",
    "    return score.mean()\n",
    "\n",
    "def champion_callback(study, frozen_trial):\n",
    "    \"\"\"\n",
    "    Mostramos menos información, sino es demasiado verboso\n",
    "    \"\"\"\n",
    "\n",
    "    winner = study.user_attrs.get(\"winner\", None)\n",
    "\n",
    "    if study.best_value and winner != study.best_value:\n",
    "        study.set_user_attr(\"winner\", study.best_value)\n",
    "        if winner:\n",
    "            improvement_percent = (abs(winner - study.best_value) / study.best_value) * 100\n",
    "            print(\n",
    "                f\"Trial {frozen_trial.number} achieved value: {frozen_trial.value} with \"\n",
    "                f\"{improvement_percent: .4f}% improvement\"\n",
    "            )\n",
    "        else:\n",
    "            print(f\"Initial trial {frozen_trial.number} achieved value: {frozen_trial.value}\")"
   ]
  },
  {
   "cell_type": "code",
   "execution_count": 397,
   "metadata": {},
   "outputs": [
    {
     "data": {
      "text/plain": [
       "'\\noptuna.logging.set_verbosity(optuna.logging.ERROR) # Solo mostrar errores y outputs de cada línea\\n\\nstudy = optuna.create_study(direction=\"maximize\")\\nstudy.optimize(objective, n_trials=5000, callbacks=[champion_callback])\\n'"
      ]
     },
     "execution_count": 397,
     "metadata": {},
     "output_type": "execute_result"
    }
   ],
   "source": [
    "# Creamos un estudio de Optuna\n",
    "\n",
    "'''\n",
    "optuna.logging.set_verbosity(optuna.logging.ERROR) # Solo mostrar errores y outputs de cada línea\n",
    "\n",
    "study = optuna.create_study(direction=\"maximize\")\n",
    "study.optimize(objective, n_trials=5000, callbacks=[champion_callback])\n",
    "'''"
   ]
  },
  {
   "cell_type": "markdown",
   "metadata": {},
   "source": [
    "### SVC - Support Vector Clasification"
   ]
  },
  {
   "cell_type": "code",
   "execution_count": 398,
   "metadata": {},
   "outputs": [],
   "source": [
    "from sklearn.model_selection import GridSearchCV\n",
    "from sklearn.svm import LinearSVC"
   ]
  },
  {
   "cell_type": "code",
   "execution_count": 399,
   "metadata": {},
   "outputs": [
    {
     "data": {
      "text/plain": [
       "'\\nfrom sklearn.model_selection import GridSearchCV\\n\\nsvm_linear = SVC(kernel=\\'linear\\')\\n\\ngrid = GridSearchCV(svm_linear,\\n                    {\"C\": [0.001, 0.01, 0.1, 1, 5, 10, 100]},\\n                    refit=False,\\n                    cv=5,\\n                    scoring=\\'accuracy\\')\\n\\ngrid.fit(X_train,y_train)\\n'"
      ]
     },
     "execution_count": 399,
     "metadata": {},
     "output_type": "execute_result"
    }
   ],
   "source": [
    "'''\n",
    "from sklearn.model_selection import GridSearchCV\n",
    "\n",
    "svm_linear = SVC(kernel='linear')\n",
    "\n",
    "grid = GridSearchCV(svm_linear,\n",
    "                    {\"C\": [0.001, 0.01, 0.1, 1, 5, 10, 100]},\n",
    "                    refit=False,\n",
    "                    cv=5,\n",
    "                    scoring='accuracy')\n",
    "\n",
    "grid.fit(X_train,y_train)\n",
    "'''"
   ]
  },
  {
   "cell_type": "markdown",
   "metadata": {},
   "source": [
    "### Árboles de clasificación"
   ]
  },
  {
   "cell_type": "code",
   "execution_count": 400,
   "metadata": {},
   "outputs": [
    {
     "data": {
      "text/plain": [
       "\"\\nfrom sklearn.tree import DecisionTreeClassifier\\n\\n# Creamos el arbol\\nclassification = DecisionTreeClassifier(criterion='entropy', splitter='best', \\n                                        max_depth=None, min_samples_split=2, min_samples_leaf=1, \\n                                        random_state=42)\\n# Y entrenamos\\nclassification.fit(X_train, y_train)\\n\""
      ]
     },
     "execution_count": 400,
     "metadata": {},
     "output_type": "execute_result"
    }
   ],
   "source": [
    "'''\n",
    "from sklearn.tree import DecisionTreeClassifier\n",
    "\n",
    "# Creamos el arbol\n",
    "classification = DecisionTreeClassifier(criterion='entropy', splitter='best', \n",
    "                                        max_depth=None, min_samples_split=2, min_samples_leaf=1, \n",
    "                                        random_state=42)\n",
    "# Y entrenamos\n",
    "classification.fit(X_train, y_train)\n",
    "'''"
   ]
  },
  {
   "cell_type": "code",
   "execution_count": 401,
   "metadata": {},
   "outputs": [
    {
     "data": {
      "text/plain": [
       "'classification.get_params()'"
      ]
     },
     "execution_count": 401,
     "metadata": {},
     "output_type": "execute_result"
    }
   ],
   "source": [
    "'''classification.get_params()'''"
   ]
  },
  {
   "cell_type": "code",
   "execution_count": 402,
   "metadata": {},
   "outputs": [
    {
     "data": {
      "text/plain": [
       "'customer_train.columns'"
      ]
     },
     "execution_count": 402,
     "metadata": {},
     "output_type": "execute_result"
    }
   ],
   "source": [
    "'''customer_train.columns'''"
   ]
  },
  {
   "cell_type": "code",
   "execution_count": 403,
   "metadata": {},
   "outputs": [
    {
     "data": {
      "text/plain": [
       "'\\nexport_graphviz(classification, out_file = \"arbol_clasificacion_churn.dot\",\\n                feature_names=[\\'Age\\', \\'Support Calls\\', \\'Payment Delay\\', \\'Total Spend\\', \\'Last Interaction\\', \\'Gender_Female\\', \\'Contract Length_Annual\\', \\'Contract Length_Monthly\\'],\\n                class_names=[\"Recuperado\", \"Baja\"],\\n                rounded=True,\\n                filled=True)\\n'"
      ]
     },
     "execution_count": 403,
     "metadata": {},
     "output_type": "execute_result"
    }
   ],
   "source": [
    "from sklearn.tree import export_graphviz\n",
    "\n",
    "'''\n",
    "export_graphviz(classification, out_file = \"arbol_clasificacion_churn.dot\",\n",
    "                feature_names=['Age', 'Support Calls', 'Payment Delay', 'Total Spend', 'Last Interaction', 'Gender_Female', 'Contract Length_Annual', 'Contract Length_Monthly'],\n",
    "                class_names=[\"Recuperado\", \"Baja\"],\n",
    "                rounded=True,\n",
    "                filled=True)\n",
    "'''"
   ]
  },
  {
   "cell_type": "code",
   "execution_count": 404,
   "metadata": {},
   "outputs": [
    {
     "data": {
      "text/plain": [
       "'\\ny_pred_train = classification.predict(X_train)\\ny_pred = classification.predict(X_test)\\n\\nf1_train = f1_score(y_train, y_pred_train)\\nf1 = f1_score(y_test, y_pred)\\n\\nprint(f\"F1-score de entrenamiento fue: {f1_train}\")\\nprint(f\"F1-score de testeo fue: {f1}\")\\n'"
      ]
     },
     "execution_count": 404,
     "metadata": {},
     "output_type": "execute_result"
    }
   ],
   "source": [
    "'''\n",
    "y_pred_train = classification.predict(X_train)\n",
    "y_pred = classification.predict(X_test)\n",
    "\n",
    "f1_train = f1_score(y_train, y_pred_train)\n",
    "f1 = f1_score(y_test, y_pred)\n",
    "\n",
    "print(f\"F1-score de entrenamiento fue: {f1_train}\")\n",
    "print(f\"F1-score de testeo fue: {f1}\")\n",
    "'''"
   ]
  },
  {
   "cell_type": "markdown",
   "metadata": {},
   "source": [
    "Búsqueda de hiperparámetros con Optuna"
   ]
  },
  {
   "cell_type": "code",
   "execution_count": 405,
   "metadata": {},
   "outputs": [],
   "source": [
    "import optuna \n",
    "\n",
    "def objective(trial):\n",
    "    max_depth = trial.suggest_int(\"max_depth\", 1, 30)\n",
    "    criterion = trial.suggest_categorical(\"criterion\", [\"gini\", \"entropy\"])\n",
    "    min_samples_split = trial.suggest_int(\"min_samples_split\", 2, 20)\n",
    "    min_samples_leaf = trial.suggest_int(\"min_samples_leaf\", 1, 20)\n",
    "\n",
    "    classifier = DecisionTreeClassifier(criterion=criterion, splitter='best', \n",
    "                                        max_depth=max_depth, min_samples_split=min_samples_split, \n",
    "                                        min_samples_leaf=min_samples_leaf, random_state=42)\n",
    "    \n",
    "    # Realizamos la validación cruzada\n",
    "    score = cross_val_score(classifier, X_train, y_train, cv=5, scoring='f1', n_jobs=-1)\n",
    "    \n",
    "    return score.mean()\n",
    "\n",
    "def champion_callback(study, frozen_trial):\n",
    "    \"\"\"\n",
    "    Mostramos menos información, sino es demasiado verboso\n",
    "    \"\"\"\n",
    "    winner = study.user_attrs.get(\"winner\", None)\n",
    "    if study.best_value and winner != study.best_value:\n",
    "        study.set_user_attr(\"winner\", study.best_value)\n",
    "        if winner:\n",
    "            improvement_percent = (abs(winner - study.best_value) / study.best_value) * 100\n",
    "            print(\n",
    "                f\"Trial {frozen_trial.number} achieved value: {frozen_trial.value} with \"\n",
    "                f\"{improvement_percent: .4f}% improvement\"\n",
    "            )\n",
    "        else:\n",
    "            print(f\"Initial trial {frozen_trial.number} achieved value: {frozen_trial.value}\")"
   ]
  },
  {
   "cell_type": "code",
   "execution_count": 406,
   "metadata": {},
   "outputs": [
    {
     "data": {
      "text/plain": [
       "'\\noptuna.logging.set_verbosity(optuna.logging.ERROR)\\n\\nstudy = optuna.create_study(direction=\"maximize\")\\nstudy.optimize(objective, n_trials=10, callbacks=[champion_callback])\\n'"
      ]
     },
     "execution_count": 406,
     "metadata": {},
     "output_type": "execute_result"
    }
   ],
   "source": [
    "# Creamos un estudio de Optuna\n",
    "'''\n",
    "optuna.logging.set_verbosity(optuna.logging.ERROR)\n",
    "\n",
    "study = optuna.create_study(direction=\"maximize\")\n",
    "study.optimize(objective, n_trials=10, callbacks=[champion_callback])\n",
    "'''"
   ]
  },
  {
   "cell_type": "code",
   "execution_count": 407,
   "metadata": {},
   "outputs": [
    {
     "data": {
      "text/plain": [
       "'best_params = study.best_params\\nbest_params'"
      ]
     },
     "execution_count": 407,
     "metadata": {},
     "output_type": "execute_result"
    }
   ],
   "source": [
    "'''best_params = study.best_params\n",
    "best_params'''"
   ]
  },
  {
   "cell_type": "code",
   "execution_count": 408,
   "metadata": {},
   "outputs": [
    {
     "data": {
      "text/plain": [
       "'# Creamos el arbol\\ntree_classification = DecisionTreeClassifier(**best_params, random_state=42)\\n# Y entrenamos\\ntree_classification.fit(X_train, y_train)'"
      ]
     },
     "execution_count": 408,
     "metadata": {},
     "output_type": "execute_result"
    }
   ],
   "source": [
    "'''# Creamos el arbol\n",
    "tree_classification = DecisionTreeClassifier(**best_params, random_state=42)\n",
    "# Y entrenamos\n",
    "tree_classification.fit(X_train, y_train)'''"
   ]
  },
  {
   "cell_type": "code",
   "execution_count": 409,
   "metadata": {},
   "outputs": [
    {
     "data": {
      "text/plain": [
       "'#Evaluamos\\ny_pred  = tree_classification.predict(X_test)\\ncm_tree = confusion_matrix(y_test, y_pred)\\n\\n# Visualización\\n\\ndisp = ConfusionMatrixDisplay(confusion_matrix=cm_tree,\\n                              display_labels=tree_classification.classes_)\\n\\nfig, ax = plt.subplots(figsize=(6,6))\\nax.grid(False)\\ndisp.plot(ax=ax)\\nax.set_title(\"Clasificador Tree\");\\n\\nprint(\"Clasificador Tree - Métricas\")\\nprint(\"-------------------------------------------\")\\nP = np.sum(cm_tree[1, :]) # Positive\\nN = np.sum(cm_tree[0, :]) # Negative\\nTP = cm_tree[1, 1] # TP - True Positive | FP - False Positive\\nTN = cm_tree[0, 0] # TN - True Negative | FN - False Negative\\nTPR = TP/P\\nTNR = TN/N\\n\\n# Sensibilidad - Tasa de verdaderos positivos\\nprint(f\"Sensibilidad: {TP/P}\")\\n\\n# Especifidad - Tasa de verdaderos negativos\\nprint(f\"Especificidad: {TN/N}\")\\n\\n# Exactitud balanceada - Cuando hay desbalance, se promedian ambas tasas (Si es 0.5, el clasificador está adivinando)\\nprint(f\"Exactitud balanceada: {(TPR + TNR)/2}\")\\n\\n# Cuando la clase positiva tiene mas importancia que la negativa se puede usar precisión y recuperación\\n# Precisión - proporción de casos positivos correctamente identificados con respecto a todos los etiquetados positivos por el clasificador (TP / (TP + FP))\\n# Recuperación - proporción de casos positivos correctamente identificados con respecto a todos los positivos reales (TP / (TP + FN)) idem. \\'sensibilidad\\'\\nprint(f\"Precision: {precision_score(y_test, y_pred, zero_division=0)}\")\\nprint(f\"Recuperación: {recall_score(y_test, y_pred, zero_division=0)}\")\\n\\n# F1 Score - Para tener un balance de ambos casos, tanto en precisión como en recuperación\\nprint(f\"F1-score: {f1_score(y_test, y_pred, zero_division=0)}\")'"
      ]
     },
     "execution_count": 409,
     "metadata": {},
     "output_type": "execute_result"
    }
   ],
   "source": [
    "'''#Evaluamos\n",
    "y_pred  = tree_classification.predict(X_test)\n",
    "cm_tree = confusion_matrix(y_test, y_pred)\n",
    "\n",
    "# Visualización\n",
    "\n",
    "disp = ConfusionMatrixDisplay(confusion_matrix=cm_tree,\n",
    "                              display_labels=tree_classification.classes_)\n",
    "\n",
    "fig, ax = plt.subplots(figsize=(6,6))\n",
    "ax.grid(False)\n",
    "disp.plot(ax=ax)\n",
    "ax.set_title(\"Clasificador Tree\");\n",
    "\n",
    "print(\"Clasificador Tree - Métricas\")\n",
    "print(\"-------------------------------------------\")\n",
    "P = np.sum(cm_tree[1, :]) # Positive\n",
    "N = np.sum(cm_tree[0, :]) # Negative\n",
    "TP = cm_tree[1, 1] # TP - True Positive | FP - False Positive\n",
    "TN = cm_tree[0, 0] # TN - True Negative | FN - False Negative\n",
    "TPR = TP/P\n",
    "TNR = TN/N\n",
    "\n",
    "# Sensibilidad - Tasa de verdaderos positivos\n",
    "print(f\"Sensibilidad: {TP/P}\")\n",
    "\n",
    "# Especifidad - Tasa de verdaderos negativos\n",
    "print(f\"Especificidad: {TN/N}\")\n",
    "\n",
    "# Exactitud balanceada - Cuando hay desbalance, se promedian ambas tasas (Si es 0.5, el clasificador está adivinando)\n",
    "print(f\"Exactitud balanceada: {(TPR + TNR)/2}\")\n",
    "\n",
    "# Cuando la clase positiva tiene mas importancia que la negativa se puede usar precisión y recuperación\n",
    "# Precisión - proporción de casos positivos correctamente identificados con respecto a todos los etiquetados positivos por el clasificador (TP / (TP + FP))\n",
    "# Recuperación - proporción de casos positivos correctamente identificados con respecto a todos los positivos reales (TP / (TP + FN)) idem. 'sensibilidad'\n",
    "print(f\"Precision: {precision_score(y_test, y_pred, zero_division=0)}\")\n",
    "print(f\"Recuperación: {recall_score(y_test, y_pred, zero_division=0)}\")\n",
    "\n",
    "# F1 Score - Para tener un balance de ambos casos, tanto en precisión como en recuperación\n",
    "print(f\"F1-score: {f1_score(y_test, y_pred, zero_division=0)}\")'''"
   ]
  },
  {
   "cell_type": "code",
   "execution_count": 410,
   "metadata": {},
   "outputs": [
    {
     "data": {
      "text/plain": [
       "'    \\nfig, ax = plt.subplots(figsize=(5,5))\\nsvc_disp = RocCurveDisplay.from_estimator(tree_classification, X_test, y_test, ax=ax)\\n\\nplt.show();\\n'"
      ]
     },
     "execution_count": 410,
     "metadata": {},
     "output_type": "execute_result"
    }
   ],
   "source": [
    "from sklearn.metrics import RocCurveDisplay\n",
    "\n",
    "'''    \n",
    "fig, ax = plt.subplots(figsize=(5,5))\n",
    "svc_disp = RocCurveDisplay.from_estimator(tree_classification, X_test, y_test, ax=ax)\n",
    "\n",
    "plt.show();\n",
    "'''"
   ]
  },
  {
   "cell_type": "markdown",
   "metadata": {},
   "source": [
    "### Redes neuronales"
   ]
  },
  {
   "cell_type": "code",
   "execution_count": 411,
   "metadata": {},
   "outputs": [],
   "source": [
    "#pip install torch torchvision torchaudio\n",
    "#pip install torch torchvision torchaudio --index-url https://download.pytorch.org/whl/cu118"
   ]
  },
  {
   "cell_type": "code",
   "execution_count": 412,
   "metadata": {},
   "outputs": [],
   "source": [
    "import torch"
   ]
  },
  {
   "cell_type": "code",
   "execution_count": 413,
   "metadata": {},
   "outputs": [
    {
     "name": "stdout",
     "output_type": "stream",
     "text": [
      "<class 'pandas.core.frame.DataFrame'>\n",
      "Index: 440832 entries, 0 to 440832\n",
      "Data columns (total 11 columns):\n",
      " #   Column                     Non-Null Count   Dtype  \n",
      "---  ------                     --------------   -----  \n",
      " 0   Age                        440832 non-null  float64\n",
      " 1   Support Calls              440832 non-null  float64\n",
      " 2   Payment Delay              440832 non-null  float64\n",
      " 3   Total Spend                440832 non-null  float64\n",
      " 4   Last Interaction           440832 non-null  float64\n",
      " 5   Churn                      440832 non-null  float64\n",
      " 6   Gender_Female              440832 non-null  bool   \n",
      " 7   Gender_Male                440832 non-null  bool   \n",
      " 8   Contract Length_Annual     440832 non-null  bool   \n",
      " 9   Contract Length_Monthly    440832 non-null  bool   \n",
      " 10  Contract Length_Quarterly  440832 non-null  bool   \n",
      "dtypes: bool(5), float64(6)\n",
      "memory usage: 25.6 MB\n"
     ]
    }
   ],
   "source": [
    "customer_train.info()"
   ]
  },
  {
   "cell_type": "code",
   "execution_count": 415,
   "metadata": {},
   "outputs": [
    {
     "name": "stdout",
     "output_type": "stream",
     "text": [
      "Epoch [10/1000], Loss: 0.6620\n",
      "Epoch [20/1000], Loss: 0.6102\n",
      "Epoch [30/1000], Loss: 0.5441\n",
      "Epoch [40/1000], Loss: 0.4676\n",
      "Epoch [50/1000], Loss: 0.3944\n",
      "Epoch [60/1000], Loss: 0.3354\n",
      "Epoch [70/1000], Loss: 0.2930\n",
      "Epoch [80/1000], Loss: 0.2630\n",
      "Epoch [90/1000], Loss: 0.2401\n",
      "Epoch [100/1000], Loss: 0.2212\n",
      "Epoch [110/1000], Loss: 0.2049\n",
      "Epoch [120/1000], Loss: 0.1905\n",
      "Epoch [130/1000], Loss: 0.1777\n",
      "Epoch [140/1000], Loss: 0.1663\n",
      "Epoch [150/1000], Loss: 0.1561\n",
      "Epoch [160/1000], Loss: 0.1471\n",
      "Epoch [170/1000], Loss: 0.1392\n",
      "Epoch [180/1000], Loss: 0.1322\n",
      "Epoch [190/1000], Loss: 0.1261\n",
      "Epoch [200/1000], Loss: 0.1207\n",
      "Epoch [210/1000], Loss: 0.1161\n",
      "Epoch [220/1000], Loss: 0.1122\n",
      "Epoch [230/1000], Loss: 0.1087\n",
      "Epoch [240/1000], Loss: 0.1057\n",
      "Epoch [250/1000], Loss: 0.1031\n",
      "Epoch [260/1000], Loss: 0.1008\n",
      "Epoch [270/1000], Loss: 0.0987\n",
      "Epoch [280/1000], Loss: 0.0968\n",
      "Epoch [290/1000], Loss: 0.0951\n",
      "Epoch [300/1000], Loss: 0.0935\n",
      "Epoch [310/1000], Loss: 0.0920\n",
      "Epoch [320/1000], Loss: 0.0905\n",
      "Epoch [330/1000], Loss: 0.0892\n",
      "Epoch [340/1000], Loss: 0.0879\n",
      "Epoch [350/1000], Loss: 0.0866\n",
      "Epoch [360/1000], Loss: 0.0854\n",
      "Epoch [370/1000], Loss: 0.0842\n",
      "Epoch [380/1000], Loss: 0.0831\n",
      "Epoch [390/1000], Loss: 0.0819\n",
      "Epoch [400/1000], Loss: 0.0808\n",
      "Epoch [410/1000], Loss: 0.0797\n",
      "Epoch [420/1000], Loss: 0.0785\n",
      "Epoch [430/1000], Loss: 0.0774\n",
      "Epoch [440/1000], Loss: 0.0763\n",
      "Epoch [450/1000], Loss: 0.0751\n",
      "Epoch [460/1000], Loss: 0.0740\n",
      "Epoch [470/1000], Loss: 0.0728\n",
      "Epoch [480/1000], Loss: 0.0717\n",
      "Epoch [490/1000], Loss: 0.0706\n",
      "Epoch [500/1000], Loss: 0.0694\n",
      "Epoch [510/1000], Loss: 0.0683\n",
      "Epoch [520/1000], Loss: 0.0672\n",
      "Epoch [530/1000], Loss: 0.0661\n",
      "Epoch [540/1000], Loss: 0.0650\n",
      "Epoch [550/1000], Loss: 0.0639\n",
      "Epoch [560/1000], Loss: 0.0628\n",
      "Epoch [570/1000], Loss: 0.0617\n",
      "Epoch [580/1000], Loss: 0.0606\n",
      "Epoch [590/1000], Loss: 0.0595\n",
      "Epoch [600/1000], Loss: 0.0585\n",
      "Epoch [610/1000], Loss: 0.0574\n",
      "Epoch [620/1000], Loss: 0.0564\n",
      "Epoch [630/1000], Loss: 0.0554\n",
      "Epoch [640/1000], Loss: 0.0544\n",
      "Epoch [650/1000], Loss: 0.0535\n",
      "Epoch [660/1000], Loss: 0.0525\n",
      "Epoch [670/1000], Loss: 0.0515\n",
      "Epoch [680/1000], Loss: 0.0506\n",
      "Epoch [690/1000], Loss: 0.0497\n",
      "Epoch [700/1000], Loss: 0.0489\n",
      "Epoch [710/1000], Loss: 0.0480\n",
      "Epoch [720/1000], Loss: 0.0472\n",
      "Epoch [730/1000], Loss: 0.0464\n",
      "Epoch [740/1000], Loss: 0.0457\n",
      "Epoch [750/1000], Loss: 0.0450\n",
      "Epoch [760/1000], Loss: 0.0443\n",
      "Epoch [770/1000], Loss: 0.0437\n",
      "Epoch [780/1000], Loss: 0.0431\n",
      "Epoch [790/1000], Loss: 0.0425\n",
      "Epoch [800/1000], Loss: 0.0419\n",
      "Epoch [810/1000], Loss: 0.0414\n",
      "Epoch [820/1000], Loss: 0.0409\n",
      "Epoch [830/1000], Loss: 0.0404\n",
      "Epoch [840/1000], Loss: 0.0399\n",
      "Epoch [850/1000], Loss: 0.0394\n",
      "Epoch [860/1000], Loss: 0.0390\n",
      "Epoch [870/1000], Loss: 0.0385\n",
      "Epoch [880/1000], Loss: 0.0381\n",
      "Epoch [890/1000], Loss: 0.0377\n",
      "Epoch [900/1000], Loss: 0.0373\n",
      "Epoch [910/1000], Loss: 0.0369\n",
      "Epoch [920/1000], Loss: 0.0365\n",
      "Epoch [930/1000], Loss: 0.0362\n",
      "Epoch [940/1000], Loss: 0.0358\n",
      "Epoch [950/1000], Loss: 0.0355\n",
      "Epoch [960/1000], Loss: 0.0351\n",
      "Epoch [970/1000], Loss: 0.0348\n",
      "Epoch [980/1000], Loss: 0.0345\n",
      "Epoch [990/1000], Loss: 0.0342\n",
      "Epoch [1000/1000], Loss: 0.0339\n",
      "Accuracy: 0.9908\n"
     ]
    }
   ],
   "source": [
    "import torch\n",
    "import torch.nn as nn\n",
    "import torch.optim as optim\n",
    "from sklearn.model_selection import train_test_split\n",
    "from sklearn.preprocessing import StandardScaler\n",
    "\n",
    "boolean_columns = ['Gender_Female', 'Gender_Male', 'Contract Length_Annual', 'Contract Length_Monthly', 'Contract Length_Quarterly']\n",
    "customer_train[boolean_columns] = customer_train[boolean_columns].astype(int)\n",
    "\n",
    "# Se dividen variables predictoras / objetivo\n",
    "X = customer_train.drop('Churn', axis=1).values\n",
    "y = customer_train['Churn'].values\n",
    "\n",
    "# Escalamiento de valores\n",
    "scaler = StandardScaler()\n",
    "X[:, :5] = scaler.fit_transform(X[:, :5])\n",
    "\n",
    "# Entrenamiento y  validaci[on] (si bien después hay un df apartado de test), es un set de validación intermedia\n",
    "X_train, X_val, y_train, y_val = train_test_split(X, y, test_size=0.2, random_state=42)\n",
    "\n",
    "# Se pasa todo a tensores\n",
    "X_train = torch.tensor(X_train, dtype=torch.float32)\n",
    "X_val = torch.tensor(X_val, dtype=torch.float32)\n",
    "y_train = torch.tensor(y_train, dtype=torch.float32).view(-1, 1)\n",
    "y_val = torch.tensor(y_val, dtype=torch.float32).view(-1, 1)\n",
    "\n",
    "# Se define clase del modelo\n",
    "class ChurnModel(nn.Module):\n",
    "    def __init__(self):\n",
    "        super(ChurnModel, self).__init__()\n",
    "        self.fc1 = nn.Linear(X_train.shape[1], 64)\n",
    "        self.fc2 = nn.Linear(64, 32)\n",
    "        self.fc3 = nn.Linear(32, 1)\n",
    "        self.relu = nn.ReLU()\n",
    "        self.sigmoid = nn.Sigmoid()\n",
    "\n",
    "    def forward(self, x):\n",
    "        x = self.relu(self.fc1(x))\n",
    "        x = self.relu(self.fc2(x))\n",
    "        x = self.sigmoid(self.fc3(x))\n",
    "        return x\n",
    "\n",
    "# Modelo\n",
    "model = ChurnModel()\n",
    "\n",
    "# Función de pérdida y optimizador\n",
    "criterion = nn.BCELoss()  # Usamos entropía cruzada binaria\n",
    "optimizer = optim.Adam(model.parameters(), lr=0.001)\n",
    "\n",
    "# Entrenamiento del modelo\n",
    "epochs = 1000\n",
    "for epoch in range(epochs):\n",
    "    model.train()\n",
    "    optimizer.zero_grad()\n",
    "    outputs = model(X_train)\n",
    "    loss = criterion(outputs, y_train)\n",
    "    loss.backward()\n",
    "    optimizer.step()\n",
    "\n",
    "    # Para que vaya imprimiendo en pantalla a medida que avanza\n",
    "    if (epoch + 1) % 10 == 0:\n",
    "        print(f'Epoch [{epoch + 1}/{epochs}], Loss: {loss.item():.4f}')\n",
    "\n",
    "# Evaluación del modelo\n",
    "model.eval()\n",
    "with torch.no_grad():\n",
    "    y_pred = model(X_val)\n",
    "    y_pred = (y_pred > 0.5).float() # Tansformación a binario, con umbral 0.5\n",
    "    accuracy = (y_pred.eq(y_val).sum() / float(y_val.shape[0])).item()\n",
    "    print(f'Accuracy: {accuracy:.4f}')"
   ]
  },
  {
   "cell_type": "code",
   "execution_count": 416,
   "metadata": {},
   "outputs": [
    {
     "name": "stdout",
     "output_type": "stream",
     "text": [
      "P (Positives): 50104\n",
      "N (Negatives): 38063\n",
      "TP (True Positives): 49316\n",
      "TN (True Negatives): 38037\n",
      "TPR (True Positive Rate / Sensitivity): 0.98427\n",
      "TNR (True Negative Rate / Specificity): 0.99932\n",
      "Precision: 0.9994730655425398\n",
      "Recuperación: 0.9842727127574644\n",
      "F1-score: 0.9918146531786095\n"
     ]
    }
   ],
   "source": [
    "cm_torch = confusion_matrix(y_val, y_pred)\n",
    "\n",
    "P = np.sum(cm_torch[1, :])  # Positive\n",
    "N = np.sum(cm_torch[0, :])  # Negative\n",
    "TP = cm_torch[1, 1]         # True Positive\n",
    "TN = cm_torch[0, 0]         # True Negative\n",
    "FP = cm_torch[0, 1]         # False Positive\n",
    "FN = cm_torch[1, 0]         # False Negative\n",
    "\n",
    "# Tasa de Verdaderos Positivos (Sensitivity, Recall)\n",
    "TPR = TP / P if P != 0 else 0\n",
    "\n",
    "# Tasa de Verdaderos Negativos (Specificity)\n",
    "TNR = TN / N if N != 0 else 0\n",
    "\n",
    "# Imprimir las métricas\n",
    "print(f'P (Positives): {P}')\n",
    "print(f'N (Negatives): {N}')\n",
    "print(f'TP (True Positives): {TP}')\n",
    "print(f'TN (True Negatives): {TN}')\n",
    "print(f'TPR (True Positive Rate / Sensitivity): {TPR:.5f}')\n",
    "print(f'TNR (True Negative Rate / Specificity): {TNR:.5f}')\n",
    "\n",
    "print(f\"Precision: {precision_score(y_val, y_pred, zero_division=0)}\")\n",
    "print(f\"Recuperación: {recall_score(y_val, y_pred, zero_division=0)}\")\n",
    "print(f\"F1-score: {f1_score(y_val, y_pred, zero_division=0)}\")"
   ]
  },
  {
   "cell_type": "code",
   "execution_count": 417,
   "metadata": {},
   "outputs": [
    {
     "data": {
      "image/png": "[encoded data removed]",
      "text/plain": [
       "<Figure size 800x600 with 2 Axes>"
      ]
     },
     "metadata": {},
     "output_type": "display_data"
    }
   ],
   "source": [
    "plt.figure(figsize=(8, 6))\n",
    "sns.heatmap(cm_torch, annot=True, fmt='d', xticklabels=[0.0, 1.0], \n",
    "            yticklabels=[0.0, 1.0], cmap='rocket_r')\n",
    "plt.xlabel('Predicted Label')\n",
    "plt.ylabel('True Label')\n",
    "plt.title('Matriz de confusión - Clasificador RNN')\n",
    "plt.show()"
   ]
  },
  {
   "cell_type": "code",
   "execution_count": 419,
   "metadata": {},
   "outputs": [
    {
     "name": "stdout",
     "output_type": "stream",
     "text": [
      "Epoch [10/1000], Loss: 0.6330\n",
      "Epoch [20/1000], Loss: 0.5745\n",
      "Epoch [30/1000], Loss: 0.5061\n",
      "Epoch [40/1000], Loss: 0.4320\n",
      "Epoch [50/1000], Loss: 0.3626\n",
      "Epoch [60/1000], Loss: 0.3074\n",
      "Epoch [70/1000], Loss: 0.2680\n",
      "Epoch [80/1000], Loss: 0.2403\n",
      "Epoch [90/1000], Loss: 0.2194\n",
      "Epoch [100/1000], Loss: 0.2022\n",
      "Epoch [110/1000], Loss: 0.1872\n",
      "Epoch [120/1000], Loss: 0.1739\n",
      "Epoch [130/1000], Loss: 0.1620\n",
      "Epoch [140/1000], Loss: 0.1512\n",
      "Epoch [150/1000], Loss: 0.1417\n",
      "Epoch [160/1000], Loss: 0.1333\n",
      "Epoch [170/1000], Loss: 0.1260\n",
      "Epoch [180/1000], Loss: 0.1197\n",
      "Epoch [190/1000], Loss: 0.1143\n",
      "Epoch [200/1000], Loss: 0.1095\n",
      "Epoch [210/1000], Loss: 0.1052\n",
      "Epoch [220/1000], Loss: 0.1015\n",
      "Epoch [230/1000], Loss: 0.0981\n",
      "Epoch [240/1000], Loss: 0.0950\n",
      "Epoch [250/1000], Loss: 0.0922\n",
      "Epoch [260/1000], Loss: 0.0895\n",
      "Epoch [270/1000], Loss: 0.0871\n",
      "Epoch [280/1000], Loss: 0.0847\n",
      "Epoch [290/1000], Loss: 0.0825\n",
      "Epoch [300/1000], Loss: 0.0805\n",
      "Epoch [310/1000], Loss: 0.0785\n",
      "Epoch [320/1000], Loss: 0.0767\n",
      "Epoch [330/1000], Loss: 0.0749\n",
      "Epoch [340/1000], Loss: 0.0732\n",
      "Epoch [350/1000], Loss: 0.0717\n",
      "Epoch [360/1000], Loss: 0.0702\n",
      "Epoch [370/1000], Loss: 0.0688\n",
      "Epoch [380/1000], Loss: 0.0674\n",
      "Epoch [390/1000], Loss: 0.0661\n",
      "Epoch [400/1000], Loss: 0.0649\n",
      "Epoch [410/1000], Loss: 0.0637\n",
      "Epoch [420/1000], Loss: 0.0625\n",
      "Epoch [430/1000], Loss: 0.0614\n",
      "Epoch [440/1000], Loss: 0.0604\n",
      "Epoch [450/1000], Loss: 0.0593\n",
      "Epoch [460/1000], Loss: 0.0583\n",
      "Epoch [470/1000], Loss: 0.0574\n",
      "Epoch [480/1000], Loss: 0.0564\n",
      "Epoch [490/1000], Loss: 0.0555\n",
      "Epoch [500/1000], Loss: 0.0546\n",
      "Epoch [510/1000], Loss: 0.0538\n",
      "Epoch [520/1000], Loss: 0.0529\n",
      "Epoch [530/1000], Loss: 0.0521\n",
      "Epoch [540/1000], Loss: 0.0513\n",
      "Epoch [550/1000], Loss: 0.0505\n",
      "Epoch [560/1000], Loss: 0.0497\n",
      "Epoch [570/1000], Loss: 0.0489\n",
      "Epoch [580/1000], Loss: 0.0482\n",
      "Epoch [590/1000], Loss: 0.0474\n",
      "Epoch [600/1000], Loss: 0.0467\n",
      "Epoch [610/1000], Loss: 0.0460\n",
      "Epoch [620/1000], Loss: 0.0453\n",
      "Epoch [630/1000], Loss: 0.0446\n",
      "Epoch [640/1000], Loss: 0.0439\n",
      "Epoch [650/1000], Loss: 0.0433\n",
      "Epoch [660/1000], Loss: 0.0427\n",
      "Epoch [670/1000], Loss: 0.0421\n",
      "Epoch [680/1000], Loss: 0.0415\n",
      "Epoch [690/1000], Loss: 0.0409\n",
      "Epoch [700/1000], Loss: 0.0403\n",
      "Epoch [710/1000], Loss: 0.0398\n",
      "Epoch [720/1000], Loss: 0.0393\n",
      "Epoch [730/1000], Loss: 0.0388\n",
      "Epoch [740/1000], Loss: 0.0383\n",
      "Epoch [750/1000], Loss: 0.0379\n",
      "Epoch [760/1000], Loss: 0.0374\n",
      "Epoch [770/1000], Loss: 0.0370\n",
      "Epoch [780/1000], Loss: 0.0366\n",
      "Epoch [790/1000], Loss: 0.0362\n",
      "Epoch [800/1000], Loss: 0.0358\n",
      "Epoch [810/1000], Loss: 0.0354\n",
      "Epoch [820/1000], Loss: 0.0351\n",
      "Epoch [830/1000], Loss: 0.0347\n",
      "Epoch [840/1000], Loss: 0.0344\n",
      "Epoch [850/1000], Loss: 0.0340\n",
      "Epoch [860/1000], Loss: 0.0337\n",
      "Epoch [870/1000], Loss: 0.0334\n",
      "Epoch [880/1000], Loss: 0.0331\n",
      "Epoch [890/1000], Loss: 0.0328\n",
      "Epoch [900/1000], Loss: 0.0326\n",
      "Epoch [910/1000], Loss: 0.0323\n",
      "Epoch [920/1000], Loss: 0.0320\n",
      "Epoch [930/1000], Loss: 0.0317\n",
      "Epoch [940/1000], Loss: 0.0315\n",
      "Epoch [950/1000], Loss: 0.0312\n",
      "Epoch [960/1000], Loss: 0.0310\n",
      "Epoch [970/1000], Loss: 0.0308\n",
      "Epoch [980/1000], Loss: 0.0305\n",
      "Epoch [990/1000], Loss: 0.0303\n",
      "Epoch [1000/1000], Loss: 0.0301\n",
      "Accuracy: 0.5374\n"
     ]
    }
   ],
   "source": [
    "# Ahora utilizamos toda la partición para el entrenamiento y testeamos con el y_test\n",
    "\n",
    "boolean_columns = ['Gender_Female', 'Gender_Male', 'Contract Length_Annual', 'Contract Length_Monthly', 'Contract Length_Quarterly']\n",
    "customer_train[boolean_columns] = customer_train[boolean_columns].astype(int)\n",
    "customer_test[boolean_columns] = customer_train[boolean_columns].astype(int)\n",
    "\n",
    "# Se dividen variables predictoras / objetivo\n",
    "X_train = customer_train.drop('Churn', axis=1).values\n",
    "y_train = customer_train['Churn'].values\n",
    "\n",
    "X_test = customer_test.drop('Churn', axis=1).values\n",
    "y_test = customer_test['Churn'].values\n",
    "\n",
    "# Escalamiento de valores\n",
    "scaler = StandardScaler()\n",
    "X_train[:, :5] = scaler.fit_transform(X_train[:, :5])\n",
    "X_test[:, :5] = scaler.fit_transform(X_test[:, :5])\n",
    "\n",
    "# Se pasa todo a tensores\n",
    "X_train = torch.tensor(X_train, dtype=torch.float32)\n",
    "X_test = torch.tensor(X_test, dtype=torch.float32)\n",
    "y_train = torch.tensor(y_train, dtype=torch.float32).view(-1, 1)\n",
    "y_test = torch.tensor(y_test, dtype=torch.float32).view(-1, 1)\n",
    "\n",
    "# Se define clase del modelo\n",
    "class ChurnModel(nn.Module):\n",
    "    def __init__(self):\n",
    "        super(ChurnModel, self).__init__()\n",
    "        self.fc1 = nn.Linear(X_train.shape[1], 64)\n",
    "        self.fc2 = nn.Linear(64, 32)\n",
    "        self.fc3 = nn.Linear(32, 1)\n",
    "        self.relu = nn.ReLU()\n",
    "        self.sigmoid = nn.Sigmoid()\n",
    "\n",
    "    def forward(self, x):\n",
    "        x = self.relu(self.fc1(x))\n",
    "        x = self.relu(self.fc2(x))\n",
    "        x = self.sigmoid(self.fc3(x))\n",
    "        return x\n",
    "\n",
    "# Modelo\n",
    "model = ChurnModel()\n",
    "\n",
    "# Función de pérdida y optimizador\n",
    "criterion = nn.BCELoss()  # Usamos entropía cruzada binaria\n",
    "optimizer = optim.Adam(model.parameters(), lr=0.001)\n",
    "\n",
    "# Entrenamiento del modelo\n",
    "epochs = 1000\n",
    "for epoch in range(epochs):\n",
    "    model.train()\n",
    "    optimizer.zero_grad()\n",
    "    outputs = model(X_train)\n",
    "    loss = criterion(outputs, y_train)\n",
    "    loss.backward()\n",
    "    optimizer.step()\n",
    "\n",
    "    # Para que vaya imprimiendo en pantalla a medida que avanza\n",
    "    if (epoch + 1) % 10 == 0:\n",
    "        print(f'Epoch [{epoch + 1}/{epochs}], Loss: {loss.item():.4f}')\n",
    "\n",
    "# Evaluación del modelo\n",
    "model.eval()\n",
    "with torch.no_grad():\n",
    "    y_pred = model(X_test)\n",
    "    y_pred = (y_pred > 0.5).float() # Tansformación a binario, con umbral 0.5\n",
    "    accuracy = (y_pred.eq(y_test).sum() / float(y_test.shape[0])).item()\n",
    "    print(f'Accuracy: {accuracy:.4f}')\n"
   ]
  },
  {
   "cell_type": "code",
   "execution_count": 420,
   "metadata": {},
   "outputs": [
    {
     "name": "stdout",
     "output_type": "stream",
     "text": [
      "P (Positives): 30493\n",
      "N (Negatives): 33881\n",
      "TP (True Positives): 25874\n",
      "TN (True Negatives): 8718\n",
      "TPR (True Positive Rate / Sensitivity): 0.84852\n",
      "TNR (True Negative Rate / Specificity): 0.25731\n",
      "Precision: 0.5069655348080804\n",
      "Recuperación: 0.8485226117469583\n",
      "F1-score: 0.6347111492702073\n"
     ]
    }
   ],
   "source": [
    "cm_torch = confusion_matrix(y_test, y_pred)\n",
    "\n",
    "P = np.sum(cm_torch[1, :])  # Positive\n",
    "N = np.sum(cm_torch[0, :])  # Negative\n",
    "TP = cm_torch[1, 1]         # True Positive\n",
    "TN = cm_torch[0, 0]         # True Negative\n",
    "FP = cm_torch[0, 1]         # False Positive\n",
    "FN = cm_torch[1, 0]         # False Negative\n",
    "\n",
    "# Tasa de Verdaderos Positivos (Sensitivity, Recall)\n",
    "TPR = TP / P if P != 0 else 0\n",
    "\n",
    "# Tasa de Verdaderos Negativos (Specificity)\n",
    "TNR = TN / N if N != 0 else 0\n",
    "\n",
    "# Imprimir las métricas\n",
    "print(f'P (Positives): {P}')\n",
    "print(f'N (Negatives): {N}')\n",
    "print(f'TP (True Positives): {TP}')\n",
    "print(f'TN (True Negatives): {TN}')\n",
    "print(f'TPR (True Positive Rate / Sensitivity): {TPR:.5f}')\n",
    "print(f'TNR (True Negative Rate / Specificity): {TNR:.5f}')\n",
    "\n",
    "print(f\"Precision: {precision_score(y_test, y_pred, zero_division=0)}\")\n",
    "print(f\"Recuperación: {recall_score(y_test, y_pred, zero_division=0)}\")\n",
    "print(f\"F1-score: {f1_score(y_test, y_pred, zero_division=0)}\")"
   ]
  },
  {
   "cell_type": "code",
   "execution_count": 421,
   "metadata": {},
   "outputs": [
    {
     "data": {
      "image/png": "[encoded data removed]",
      "text/plain": [
       "<Figure size 800x600 with 2 Axes>"
      ]
     },
     "metadata": {},
     "output_type": "display_data"
    }
   ],
   "source": [
    "plt.figure(figsize=(8, 6))\n",
    "sns.heatmap(cm_torch, annot=True, fmt='d', xticklabels=[0.0, 1.0], \n",
    "            yticklabels=[0.0, 1.0], cmap='rocket_r')\n",
    "plt.xlabel('Predicted Label')\n",
    "plt.ylabel('True Label')\n",
    "plt.title('Matriz de confusión - Clasificador RNN')\n",
    "plt.show()"
   ]
  }
 ],
 "metadata": {
  "kernelspec": {
   "display_name": "Python 3",
   "language": "python",
   "name": "python3"
  },
  "language_info": {
   "codemirror_mode": {
    "name": "ipython",
    "version": 3
   },
   "file_extension": ".py",
   "mimetype": "text/x-python",
   "name": "python",
   "nbconvert_exporter": "python",
   "pygments_lexer": "ipython3",
   "version": "3.12.4"
  }
 },
 "nbformat": 4,
 "nbformat_minor": 2
}
