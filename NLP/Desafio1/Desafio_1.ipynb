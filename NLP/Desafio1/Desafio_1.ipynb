{
  "cells": [
    {
      "cell_type": "markdown",
      "metadata": {
        "id": "zq6j8LsYq1Dr"
      },
      "source": [
        "### Vectorización de texto y modelo de clasificación Naïve Bayes con el dataset 20 newsgroups"
      ]
    },
    {
      "cell_type": "code",
      "execution_count": 7,
      "metadata": {
        "id": "l7cXR6CI30ry"
      },
      "outputs": [],
      "source": [
        "from sklearn.feature_extraction.text import CountVectorizer, TfidfVectorizer\n",
        "from sklearn.metrics.pairwise import cosine_similarity\n",
        "from sklearn.naive_bayes import MultinomialNB, ComplementNB\n",
        "from sklearn.metrics import f1_score\n",
        "\n",
        "# 20newsgroups por ser un dataset clásico de NLP ya viene incluido y formateado\n",
        "# en sklearn\n",
        "from sklearn.datasets import fetch_20newsgroups\n",
        "import numpy as np"
      ]
    },
    {
      "cell_type": "markdown",
      "metadata": {
        "id": "yD-pVDWV_rQc"
      },
      "source": [
        "## Carga de datos"
      ]
    },
    {
      "cell_type": "code",
      "execution_count": 8,
      "metadata": {
        "id": "Ech9qJaUo9vK"
      },
      "outputs": [],
      "source": [
        "# cargamos los datos (ya separados de forma predeterminada en train y test)\n",
        "newsgroups_train = fetch_20newsgroups(subset='train', remove=('headers', 'footers', 'quotes'))\n",
        "newsgroups_test = fetch_20newsgroups(subset='test', remove=('headers', 'footers', 'quotes'))"
      ]
    },
    {
      "cell_type": "markdown",
      "metadata": {
        "id": "UxjSI7su_uWI"
      },
      "source": [
        "## Vectorización"
      ]
    },
    {
      "cell_type": "code",
      "execution_count": 9,
      "metadata": {
        "id": "-94VP0QYCzDn"
      },
      "outputs": [],
      "source": [
        "# instanciamos un vectorizador\n",
        "# ver diferentes parámetros de instanciación en la documentación de sklearn\n",
        "tfidfvect = TfidfVectorizer()"
      ]
    },
    {
      "cell_type": "code",
      "execution_count": 10,
      "metadata": {
        "colab": {
          "base_uri": "https://localhost:8080/",
          "height": 73
        },
        "id": "ftPlyanuak8n",
        "outputId": "899cf574-de06-4be3-b666-8731ebe86eb5"
      },
      "outputs": [
        {
          "output_type": "execute_result",
          "data": {
            "text/plain": [
              "'I was wondering if anyone out there could enlighten me on this car I saw\\nthe other day. It was a 2-door sports car, looked to be from the late 60s/\\nearly 70s. It was called a Bricklin. The doors were really small. In addition,\\nthe front bumper was separate from the rest of the body. This is \\nall I know. If anyone can tellme a model name, engine specs, years\\nof production, where this car is made, history, or whatever info you\\nhave on this funky looking car, please e-mail.'"
            ],
            "application/vnd.google.colaboratory.intrinsic+json": {
              "type": "string"
            }
          },
          "metadata": {},
          "execution_count": 10
        }
      ],
      "source": [
        "# en el atributo `data` accedemos al texto\n",
        "newsgroups_train.data[0]"
      ]
    },
    {
      "cell_type": "code",
      "execution_count": 11,
      "metadata": {
        "id": "1zxcXV6aC_oL"
      },
      "outputs": [],
      "source": [
        "# con la interfaz habitual de sklearn podemos fitear el vectorizador\n",
        "# (obtener el vocabulario y calcular el vector IDF)\n",
        "# y transformar directamente los datos\n",
        "X_train = tfidfvect.fit_transform(newsgroups_train.data)\n",
        "# `X_train` la podemos denominar como la matriz documento-término"
      ]
    },
    {
      "cell_type": "code",
      "execution_count": 12,
      "metadata": {
        "colab": {
          "base_uri": "https://localhost:8080/"
        },
        "id": "4Sv7TXbda41-",
        "outputId": "8b37620b-c4d9-4841-e990-f771bf1127be"
      },
      "outputs": [
        {
          "output_type": "stream",
          "name": "stdout",
          "text": [
            "<class 'scipy.sparse._csr.csr_matrix'>\n",
            "shape: (11314, 101631)\n",
            "cantidad de documentos: 11314\n",
            "tamaño del vocabulario (dimensionalidad de los vectores): 101631\n"
          ]
        }
      ],
      "source": [
        "# recordar que las vectorizaciones por conteos son esparsas\n",
        "# por ello sklearn convenientemente devuelve los vectores de documentos\n",
        "# como matrices esparsas\n",
        "print(type(X_train))\n",
        "print(f'shape: {X_train.shape}')\n",
        "print(f'cantidad de documentos: {X_train.shape[0]}')\n",
        "print(f'tamaño del vocabulario (dimensionalidad de los vectores): {X_train.shape[1]}')"
      ]
    },
    {
      "cell_type": "code",
      "execution_count": 13,
      "metadata": {
        "colab": {
          "base_uri": "https://localhost:8080/"
        },
        "id": "dgydNTZ2pAgR",
        "outputId": "5a8a0d1c-499c-4162-def9-f450055c40c2"
      },
      "outputs": [
        {
          "output_type": "execute_result",
          "data": {
            "text/plain": [
              "25775"
            ]
          },
          "metadata": {},
          "execution_count": 13
        }
      ],
      "source": [
        "# una vez fiteado el vectorizador, podemos acceder a atributos como el vocabulario\n",
        "# aprendido. Es un diccionario que va de términos a índices.\n",
        "# El índice es la posición en el vector de documento.\n",
        "tfidfvect.vocabulary_['car']"
      ]
    },
    {
      "cell_type": "code",
      "execution_count": 14,
      "metadata": {
        "id": "xnTSZuvyrTcP"
      },
      "outputs": [],
      "source": [
        "# es muy útil tener el diccionario opuesto que va de índices a términos\n",
        "idx2word = {v: k for k,v in tfidfvect.vocabulary_.items()}"
      ]
    },
    {
      "cell_type": "code",
      "execution_count": 15,
      "metadata": {
        "colab": {
          "base_uri": "https://localhost:8080/"
        },
        "id": "swa-AgWrMSHM",
        "outputId": "1b9ef3be-f453-47b7-d64d-c7dfd4a68190"
      },
      "outputs": [
        {
          "output_type": "execute_result",
          "data": {
            "text/plain": [
              "array([ 7,  4,  4,  1, 14, 16, 13,  3,  2,  4])"
            ]
          },
          "metadata": {},
          "execution_count": 15
        }
      ],
      "source": [
        "# en `y_train` guardamos los targets que son enteros\n",
        "y_train = newsgroups_train.target\n",
        "y_train[:10]"
      ]
    },
    {
      "cell_type": "code",
      "execution_count": 16,
      "metadata": {
        "colab": {
          "base_uri": "https://localhost:8080/"
        },
        "id": "je5kxvQMDLvf",
        "outputId": "0f2d388a-d531-422b-87da-f2ca514152ff"
      },
      "outputs": [
        {
          "output_type": "stream",
          "name": "stdout",
          "text": [
            "clases [ 0  1  2  3  4  5  6  7  8  9 10 11 12 13 14 15 16 17 18 19]\n"
          ]
        },
        {
          "output_type": "execute_result",
          "data": {
            "text/plain": [
              "['alt.atheism',\n",
              " 'comp.graphics',\n",
              " 'comp.os.ms-windows.misc',\n",
              " 'comp.sys.ibm.pc.hardware',\n",
              " 'comp.sys.mac.hardware',\n",
              " 'comp.windows.x',\n",
              " 'misc.forsale',\n",
              " 'rec.autos',\n",
              " 'rec.motorcycles',\n",
              " 'rec.sport.baseball',\n",
              " 'rec.sport.hockey',\n",
              " 'sci.crypt',\n",
              " 'sci.electronics',\n",
              " 'sci.med',\n",
              " 'sci.space',\n",
              " 'soc.religion.christian',\n",
              " 'talk.politics.guns',\n",
              " 'talk.politics.mideast',\n",
              " 'talk.politics.misc',\n",
              " 'talk.religion.misc']"
            ]
          },
          "metadata": {},
          "execution_count": 16
        }
      ],
      "source": [
        "# hay 20 clases correspondientes a los 20 grupos de noticias\n",
        "print(f'clases {np.unique(newsgroups_test.target)}')\n",
        "newsgroups_test.target_names"
      ]
    },
    {
      "cell_type": "markdown",
      "metadata": {
        "id": "SXCICFSd_y90"
      },
      "source": [
        "## Similaridad de documentos"
      ]
    },
    {
      "cell_type": "code",
      "execution_count": 17,
      "metadata": {
        "colab": {
          "base_uri": "https://localhost:8080/"
        },
        "id": "_pki_olShnyE",
        "outputId": "f6d8bbb9-c8dc-4583-8ab7-75e25b6bb017"
      },
      "outputs": [
        {
          "output_type": "stream",
          "name": "stdout",
          "text": [
            "THE WHITE HOUSE\n",
            "\n",
            "                  Office of the Press Secretary\n",
            "                   (Pittsburgh, Pennslyvania)\n",
            "______________________________________________________________\n",
            "For Immediate Release                         April 17, 1993     \n",
            "\n",
            "             \n",
            "                  RADIO ADDRESS TO THE NATION \n",
            "                        BY THE PRESIDENT\n",
            "             \n",
            "                Pittsburgh International Airport\n",
            "                    Pittsburgh, Pennsylvania\n",
            "             \n",
            "             \n",
            "10:06 A.M. EDT\n",
            "             \n",
            "             \n",
            "             THE PRESIDENT:  Good morning.  My voice is coming to\n",
            "you this morning through the facilities of the oldest radio\n",
            "station in America, KDKA in Pittsburgh.  I'm visiting the city to\n",
            "meet personally with citizens here to discuss my plans for jobs,\n",
            "health care and the economy.  But I wanted first to do my weekly\n",
            "broadcast with the American people. \n",
            "             \n",
            "             I'm told this station first broadcast in 1920 when\n",
            "it reported that year's presidential elections.  Over the past\n",
            "seven decades presidents have found ways to keep in touch with\n",
            "the people, from whistle-stop tours to fire-side chats to the bus\n",
            "tour that I adopted, along with Vice President Gore, in last\n",
            "year's campaign.\n",
            "             \n",
            "             Every Saturday morning I take this time to talk with\n",
            "you, my fellow Americans, about the problems on your minds and\n",
            "what I'm doing to try and solve them.  It's my way of reporting\n",
            "to you and of giving you a way to hold me accountable.\n",
            "             \n",
            "             You sent me to Washington to get our government and\n",
            "economy moving after years of paralysis and policy and a bad\n",
            "experiment with trickle-down economics.  You know how important\n",
            "it is for us to make bold, comprehensive changes in the way we do\n",
            "business.  \n",
            "             \n",
            "             We live in a competitive global economy.  Nations\n",
            "rise and fall on the skills of their workers, the competitiveness\n",
            "of their companies, the imagination of their industries, and the\n",
            "cooperative experience and spirit that exists between business,\n",
            "labor and government.  Although many of the economies of the\n",
            "industrialized world are now suffering from slow growth, they've\n",
            "made many of the smart investments and the tough choices which\n",
            "our government has for too long ignored.  That's why many of them\n",
            "have been moving ahead and too many of our people have been\n",
            "falling behind.\n",
            "             \n",
            "             We have an economy today that even when it grows is\n",
            "not producing new jobs.  We've increased the debt of our nation\n",
            "by four times over the last 12 years, and we don't have much to\n",
            "show for it.  We know that wages of most working people have\n",
            "stopped rising, that most people are working longer work weeks\n",
            "and that too many families can no longer afford the escalating\n",
            "cost of health care.\n",
            "             \n",
            "             But we also know that, given the right tools, the\n",
            "right incentives and the right encouragement, our workers and\n",
            "businesses can make the kinds of products and profits our economy\n",
            "needs to expand opportunity and to make our communities better\n",
            "places to live.\n",
            "             \n",
            "             In many critical products today Americans are the\n",
            "low cost, high quality producers.  Our task is to make sure that\n",
            "we create more of those kinds of jobs.\n",
            "             \n",
            "             Just two months ago I gave Congress my plan for\n",
            "long-term jobs and economic growth.  It changes the old\n",
            "priorities in Washington and puts our emphasis where it needs to\n",
            "be -- on people's real needs, on increasing investments and jobs\n",
            "and education, on cutting the federal deficit, on stopping the\n",
            "waste which pays no dividends, and redirecting our precious\n",
            "resources toward investment that creates jobs now and lays the\n",
            "groundwork for robust economic growth in the future.\n",
            "             \n",
            "             These new directions passed the Congress in record\n",
            "time and created a new sense of hope and opportunity in our\n",
            "country.  Then the jobs plan I presented to Congress, which would\n",
            "create hundreds of thousands of jobs, most of them in the private\n",
            "sector in 1993 and 1994, passed the House of Representatives.  It\n",
            "now has the support of a majority of the United States Senate. \n",
            "But it's been held up by a filibuster of a minority in the\n",
            "Senate, just 43 senators.  They blocked a vote that they know\n",
            "would result in the passage of our bill and the creation of jobs.\n",
            "             \n",
            "             The issue isn't politics; the issue is people. \n",
            "Millions of Americans are waiting for this legislation and\n",
            "counting on it, counting on us in Washington.  But the jobs bill\n",
            "has been grounded by gridlock.  \n",
            "             \n",
            "             I know the American people are tired of business as\n",
            "usual and politics as usual.  I know they don't want us to spin\n",
            "or wheels.  They want the recovery to get moving.  So I have\n",
            "taken a first step to break this gridlock and gone the extra\n",
            "mile.  Yesterday I offered to cut the size of this plan by 25\n",
            "percent -- from $16 billion to $12 billion.  \n",
            "             \n",
            "             It's not what I'd hoped for.  With 16 million\n",
            "Americans looking for full-time work, I simply can't let the bill\n",
            "languish when I know that even a compromise bill will mean\n",
            "hundreds of thousands of jobs for our people.  The mandate is to\n",
            "act to achieve change and move the country forward.  By taking\n",
            "this initiative in the face of an unrelenting Senate talkathon, I\n",
            "think we can respond to your mandate and achieve a significant\n",
            "portion of our original goals.\n",
            "             \n",
            "             First, we want to keep the programs as much as\n",
            "possible that are needed to generate jobs and meet human needs,\n",
            "including highway and road construction, summer jobs for young\n",
            "people, immunization for children, construction of waste water\n",
            "sites, and aid to small businesses.  We also want to keep funding\n",
            "for extended unemployment compensation benefits, for people who\n",
            "have been unemployed for a long time because the economy isn't\n",
            "creating jobs.\n",
            "             \n",
            "             Second, I've recommended that all the other programs\n",
            "in the bill be cut across-the-board by a little more than 40\n",
            "percent.\n",
            "             \n",
            "             And third, I've recommended a new element in this\n",
            "program to help us immediately start our attempt to fight against\n",
            "crime by providing $200 million for cities and towns to rehire\n",
            "police officers who lost their jobs during the recession and put\n",
            "them back to work protecting our people.  I'm also going to fight\n",
            "for a tough crime bill because the people of this country need it\n",
            "and deserve it.\n",
            "             \n",
            "             Now, the people who are filibustering this bill --\n",
            "the Republican senators -- say they won't vote for it because it\n",
            "increases deficit spending, because there's extra spending this\n",
            "year that hasn't already been approved.  That sounds reasonable,\n",
            "doesn't it?  Here's what they don't say.  This program is more\n",
            "than paid for by budget cuts over my five-year budget, and this\n",
            "budget is well within the spending limits already approved by the\n",
            "Congress this year.\n",
            "             \n",
            "             It's amazing to me that many of these same senators\n",
            "who are filibustering the bill voted during the previous\n",
            "administration for billions of dollars of the same kind of\n",
            "emergency spending, and much of it was not designed to put the\n",
            "American people to work.  \n",
            "             \n",
            "             This is not about deficit spending.  We have offered\n",
            "a plan to cut the deficit.  This is about where your priorities\n",
            "are -- on people or on politics.  \n",
            "             \n",
            "             Keep in mind that our jobs bill is paid for dollar\n",
            "for dollar.  It is paid for by budget cuts.  And it's the\n",
            "soundest investment we can now make for ourselves and our\n",
            "children.  I urge all Americans to take another look at this jobs\n",
            "and investment program; to consider again the benefits for all of\n",
            "us when we've helped make more American partners working to\n",
            "ensure the future of our nation and the strength of our economy.\n",
            "             \n",
            "             You know, if every American who wanted a job had\n",
            "one, we wouldn't have a lot of the other problems we have in this\n",
            "country today.  This bill is not a miracle, it's a modest first\n",
            "step to try to set off a job creation explosion in this country\n",
            "again.  But it's a step we ought to take.  And it is fully paid\n",
            "for over the life of our budget.\n",
            "             \n",
            "             Tell your lawmakers what you think.  Tell them how\n",
            "important the bill is.  If it passes, we'll all be winners.\n",
            "             \n",
            "             Good morning, and thank you for listening.\n"
          ]
        }
      ],
      "source": [
        "# Veamos similaridad de documentos. Tomemos algún documento\n",
        "idx = 4811\n",
        "print(newsgroups_train.data[idx])"
      ]
    },
    {
      "cell_type": "code",
      "execution_count": 18,
      "metadata": {
        "id": "Ssa9bqJ-hA_v"
      },
      "outputs": [],
      "source": [
        "# midamos la similaridad coseno con todos los documentos de train\n",
        "cossim = cosine_similarity(X_train[idx], X_train)[0]"
      ]
    },
    {
      "cell_type": "code",
      "execution_count": 19,
      "metadata": {
        "colab": {
          "base_uri": "https://localhost:8080/"
        },
        "id": "p_mDA7p3AzcQ",
        "outputId": "37c4091a-876e-4a9b-f7af-ae61e3c628c8"
      },
      "outputs": [
        {
          "output_type": "execute_result",
          "data": {
            "text/plain": [
              "array([1.        , 0.70930477, 0.67474953, ..., 0.        , 0.        ,\n",
              "       0.        ])"
            ]
          },
          "metadata": {},
          "execution_count": 19
        }
      ],
      "source": [
        "# podemos ver los valores de similaridad ordenados de mayor a menos\n",
        "np.sort(cossim)[::-1]"
      ]
    },
    {
      "cell_type": "code",
      "execution_count": 20,
      "metadata": {
        "colab": {
          "base_uri": "https://localhost:8080/"
        },
        "id": "0OIhDA1jAryX",
        "outputId": "d6e2fe47-cfd4-4520-9932-97f622e883c9"
      },
      "outputs": [
        {
          "output_type": "execute_result",
          "data": {
            "text/plain": [
              "array([ 4811,  6635,  4253, ...,  1534, 10055,  4750])"
            ]
          },
          "metadata": {},
          "execution_count": 20
        }
      ],
      "source": [
        "# y a qué documentos corresponden\n",
        "np.argsort(cossim)[::-1]"
      ]
    },
    {
      "cell_type": "code",
      "execution_count": 21,
      "metadata": {
        "id": "hP7qLS4ZBLps"
      },
      "outputs": [],
      "source": [
        "# los 5 documentos más similares:\n",
        "mostsim = np.argsort(cossim)[::-1][1:6]"
      ]
    },
    {
      "cell_type": "code",
      "execution_count": 22,
      "metadata": {
        "colab": {
          "base_uri": "https://localhost:8080/",
          "height": 36
        },
        "id": "QdJLHPJACvaj",
        "outputId": "4fcd2ae4-4328-4a4c-d01f-4fb980fd12f9"
      },
      "outputs": [
        {
          "output_type": "execute_result",
          "data": {
            "text/plain": [
              "'talk.politics.misc'"
            ],
            "application/vnd.google.colaboratory.intrinsic+json": {
              "type": "string"
            }
          },
          "metadata": {},
          "execution_count": 22
        }
      ],
      "source": [
        "# el documento original pertenece a la clase:\n",
        "newsgroups_train.target_names[y_train[idx]]"
      ]
    },
    {
      "cell_type": "code",
      "execution_count": 23,
      "metadata": {
        "colab": {
          "base_uri": "https://localhost:8080/"
        },
        "id": "RWy_73epCbFG",
        "outputId": "e10a6aed-a440-4301-f49f-e7fa2e46467e"
      },
      "outputs": [
        {
          "output_type": "stream",
          "name": "stdout",
          "text": [
            "talk.politics.misc\n",
            "talk.politics.misc\n",
            "talk.politics.misc\n",
            "talk.politics.misc\n",
            "talk.politics.misc\n"
          ]
        }
      ],
      "source": [
        "# y los 5 más similares son de las clases:\n",
        "for i in mostsim:\n",
        "  print(newsgroups_train.target_names[y_train[i]])"
      ]
    },
    {
      "cell_type": "markdown",
      "metadata": {
        "id": "zRoNnKwhBqzq"
      },
      "source": [
        "### Modelo de clasificación Naïve Bayes"
      ]
    },
    {
      "cell_type": "code",
      "execution_count": 24,
      "metadata": {
        "colab": {
          "base_uri": "https://localhost:8080/",
          "height": 80
        },
        "id": "TPM0thDaLk0R",
        "outputId": "e26bfa5b-11cb-4a47-ba8d-d1b1b3a45eb4"
      },
      "outputs": [
        {
          "output_type": "execute_result",
          "data": {
            "text/plain": [
              "MultinomialNB()"
            ],
            "text/html": [
              "<style>#sk-container-id-1 {\n",
              "  /* Definition of color scheme common for light and dark mode */\n",
              "  --sklearn-color-text: black;\n",
              "  --sklearn-color-line: gray;\n",
              "  /* Definition of color scheme for unfitted estimators */\n",
              "  --sklearn-color-unfitted-level-0: #fff5e6;\n",
              "  --sklearn-color-unfitted-level-1: #f6e4d2;\n",
              "  --sklearn-color-unfitted-level-2: #ffe0b3;\n",
              "  --sklearn-color-unfitted-level-3: chocolate;\n",
              "  /* Definition of color scheme for fitted estimators */\n",
              "  --sklearn-color-fitted-level-0: #f0f8ff;\n",
              "  --sklearn-color-fitted-level-1: #d4ebff;\n",
              "  --sklearn-color-fitted-level-2: #b3dbfd;\n",
              "  --sklearn-color-fitted-level-3: cornflowerblue;\n",
              "\n",
              "  /* Specific color for light theme */\n",
              "  --sklearn-color-text-on-default-background: var(--sg-text-color, var(--theme-code-foreground, var(--jp-content-font-color1, black)));\n",
              "  --sklearn-color-background: var(--sg-background-color, var(--theme-background, var(--jp-layout-color0, white)));\n",
              "  --sklearn-color-border-box: var(--sg-text-color, var(--theme-code-foreground, var(--jp-content-font-color1, black)));\n",
              "  --sklearn-color-icon: #696969;\n",
              "\n",
              "  @media (prefers-color-scheme: dark) {\n",
              "    /* Redefinition of color scheme for dark theme */\n",
              "    --sklearn-color-text-on-default-background: var(--sg-text-color, var(--theme-code-foreground, var(--jp-content-font-color1, white)));\n",
              "    --sklearn-color-background: var(--sg-background-color, var(--theme-background, var(--jp-layout-color0, #111)));\n",
              "    --sklearn-color-border-box: var(--sg-text-color, var(--theme-code-foreground, var(--jp-content-font-color1, white)));\n",
              "    --sklearn-color-icon: #878787;\n",
              "  }\n",
              "}\n",
              "\n",
              "#sk-container-id-1 {\n",
              "  color: var(--sklearn-color-text);\n",
              "}\n",
              "\n",
              "#sk-container-id-1 pre {\n",
              "  padding: 0;\n",
              "}\n",
              "\n",
              "#sk-container-id-1 input.sk-hidden--visually {\n",
              "  border: 0;\n",
              "  clip: rect(1px 1px 1px 1px);\n",
              "  clip: rect(1px, 1px, 1px, 1px);\n",
              "  height: 1px;\n",
              "  margin: -1px;\n",
              "  overflow: hidden;\n",
              "  padding: 0;\n",
              "  position: absolute;\n",
              "  width: 1px;\n",
              "}\n",
              "\n",
              "#sk-container-id-1 div.sk-dashed-wrapped {\n",
              "  border: 1px dashed var(--sklearn-color-line);\n",
              "  margin: 0 0.4em 0.5em 0.4em;\n",
              "  box-sizing: border-box;\n",
              "  padding-bottom: 0.4em;\n",
              "  background-color: var(--sklearn-color-background);\n",
              "}\n",
              "\n",
              "#sk-container-id-1 div.sk-container {\n",
              "  /* jupyter's `normalize.less` sets `[hidden] { display: none; }`\n",
              "     but bootstrap.min.css set `[hidden] { display: none !important; }`\n",
              "     so we also need the `!important` here to be able to override the\n",
              "     default hidden behavior on the sphinx rendered scikit-learn.org.\n",
              "     See: https://github.com/scikit-learn/scikit-learn/issues/21755 */\n",
              "  display: inline-block !important;\n",
              "  position: relative;\n",
              "}\n",
              "\n",
              "#sk-container-id-1 div.sk-text-repr-fallback {\n",
              "  display: none;\n",
              "}\n",
              "\n",
              "div.sk-parallel-item,\n",
              "div.sk-serial,\n",
              "div.sk-item {\n",
              "  /* draw centered vertical line to link estimators */\n",
              "  background-image: linear-gradient(var(--sklearn-color-text-on-default-background), var(--sklearn-color-text-on-default-background));\n",
              "  background-size: 2px 100%;\n",
              "  background-repeat: no-repeat;\n",
              "  background-position: center center;\n",
              "}\n",
              "\n",
              "/* Parallel-specific style estimator block */\n",
              "\n",
              "#sk-container-id-1 div.sk-parallel-item::after {\n",
              "  content: \"\";\n",
              "  width: 100%;\n",
              "  border-bottom: 2px solid var(--sklearn-color-text-on-default-background);\n",
              "  flex-grow: 1;\n",
              "}\n",
              "\n",
              "#sk-container-id-1 div.sk-parallel {\n",
              "  display: flex;\n",
              "  align-items: stretch;\n",
              "  justify-content: center;\n",
              "  background-color: var(--sklearn-color-background);\n",
              "  position: relative;\n",
              "}\n",
              "\n",
              "#sk-container-id-1 div.sk-parallel-item {\n",
              "  display: flex;\n",
              "  flex-direction: column;\n",
              "}\n",
              "\n",
              "#sk-container-id-1 div.sk-parallel-item:first-child::after {\n",
              "  align-self: flex-end;\n",
              "  width: 50%;\n",
              "}\n",
              "\n",
              "#sk-container-id-1 div.sk-parallel-item:last-child::after {\n",
              "  align-self: flex-start;\n",
              "  width: 50%;\n",
              "}\n",
              "\n",
              "#sk-container-id-1 div.sk-parallel-item:only-child::after {\n",
              "  width: 0;\n",
              "}\n",
              "\n",
              "/* Serial-specific style estimator block */\n",
              "\n",
              "#sk-container-id-1 div.sk-serial {\n",
              "  display: flex;\n",
              "  flex-direction: column;\n",
              "  align-items: center;\n",
              "  background-color: var(--sklearn-color-background);\n",
              "  padding-right: 1em;\n",
              "  padding-left: 1em;\n",
              "}\n",
              "\n",
              "\n",
              "/* Toggleable style: style used for estimator/Pipeline/ColumnTransformer box that is\n",
              "clickable and can be expanded/collapsed.\n",
              "- Pipeline and ColumnTransformer use this feature and define the default style\n",
              "- Estimators will overwrite some part of the style using the `sk-estimator` class\n",
              "*/\n",
              "\n",
              "/* Pipeline and ColumnTransformer style (default) */\n",
              "\n",
              "#sk-container-id-1 div.sk-toggleable {\n",
              "  /* Default theme specific background. It is overwritten whether we have a\n",
              "  specific estimator or a Pipeline/ColumnTransformer */\n",
              "  background-color: var(--sklearn-color-background);\n",
              "}\n",
              "\n",
              "/* Toggleable label */\n",
              "#sk-container-id-1 label.sk-toggleable__label {\n",
              "  cursor: pointer;\n",
              "  display: block;\n",
              "  width: 100%;\n",
              "  margin-bottom: 0;\n",
              "  padding: 0.5em;\n",
              "  box-sizing: border-box;\n",
              "  text-align: center;\n",
              "}\n",
              "\n",
              "#sk-container-id-1 label.sk-toggleable__label-arrow:before {\n",
              "  /* Arrow on the left of the label */\n",
              "  content: \"▸\";\n",
              "  float: left;\n",
              "  margin-right: 0.25em;\n",
              "  color: var(--sklearn-color-icon);\n",
              "}\n",
              "\n",
              "#sk-container-id-1 label.sk-toggleable__label-arrow:hover:before {\n",
              "  color: var(--sklearn-color-text);\n",
              "}\n",
              "\n",
              "/* Toggleable content - dropdown */\n",
              "\n",
              "#sk-container-id-1 div.sk-toggleable__content {\n",
              "  max-height: 0;\n",
              "  max-width: 0;\n",
              "  overflow: hidden;\n",
              "  text-align: left;\n",
              "  /* unfitted */\n",
              "  background-color: var(--sklearn-color-unfitted-level-0);\n",
              "}\n",
              "\n",
              "#sk-container-id-1 div.sk-toggleable__content.fitted {\n",
              "  /* fitted */\n",
              "  background-color: var(--sklearn-color-fitted-level-0);\n",
              "}\n",
              "\n",
              "#sk-container-id-1 div.sk-toggleable__content pre {\n",
              "  margin: 0.2em;\n",
              "  border-radius: 0.25em;\n",
              "  color: var(--sklearn-color-text);\n",
              "  /* unfitted */\n",
              "  background-color: var(--sklearn-color-unfitted-level-0);\n",
              "}\n",
              "\n",
              "#sk-container-id-1 div.sk-toggleable__content.fitted pre {\n",
              "  /* unfitted */\n",
              "  background-color: var(--sklearn-color-fitted-level-0);\n",
              "}\n",
              "\n",
              "#sk-container-id-1 input.sk-toggleable__control:checked~div.sk-toggleable__content {\n",
              "  /* Expand drop-down */\n",
              "  max-height: 200px;\n",
              "  max-width: 100%;\n",
              "  overflow: auto;\n",
              "}\n",
              "\n",
              "#sk-container-id-1 input.sk-toggleable__control:checked~label.sk-toggleable__label-arrow:before {\n",
              "  content: \"▾\";\n",
              "}\n",
              "\n",
              "/* Pipeline/ColumnTransformer-specific style */\n",
              "\n",
              "#sk-container-id-1 div.sk-label input.sk-toggleable__control:checked~label.sk-toggleable__label {\n",
              "  color: var(--sklearn-color-text);\n",
              "  background-color: var(--sklearn-color-unfitted-level-2);\n",
              "}\n",
              "\n",
              "#sk-container-id-1 div.sk-label.fitted input.sk-toggleable__control:checked~label.sk-toggleable__label {\n",
              "  background-color: var(--sklearn-color-fitted-level-2);\n",
              "}\n",
              "\n",
              "/* Estimator-specific style */\n",
              "\n",
              "/* Colorize estimator box */\n",
              "#sk-container-id-1 div.sk-estimator input.sk-toggleable__control:checked~label.sk-toggleable__label {\n",
              "  /* unfitted */\n",
              "  background-color: var(--sklearn-color-unfitted-level-2);\n",
              "}\n",
              "\n",
              "#sk-container-id-1 div.sk-estimator.fitted input.sk-toggleable__control:checked~label.sk-toggleable__label {\n",
              "  /* fitted */\n",
              "  background-color: var(--sklearn-color-fitted-level-2);\n",
              "}\n",
              "\n",
              "#sk-container-id-1 div.sk-label label.sk-toggleable__label,\n",
              "#sk-container-id-1 div.sk-label label {\n",
              "  /* The background is the default theme color */\n",
              "  color: var(--sklearn-color-text-on-default-background);\n",
              "}\n",
              "\n",
              "/* On hover, darken the color of the background */\n",
              "#sk-container-id-1 div.sk-label:hover label.sk-toggleable__label {\n",
              "  color: var(--sklearn-color-text);\n",
              "  background-color: var(--sklearn-color-unfitted-level-2);\n",
              "}\n",
              "\n",
              "/* Label box, darken color on hover, fitted */\n",
              "#sk-container-id-1 div.sk-label.fitted:hover label.sk-toggleable__label.fitted {\n",
              "  color: var(--sklearn-color-text);\n",
              "  background-color: var(--sklearn-color-fitted-level-2);\n",
              "}\n",
              "\n",
              "/* Estimator label */\n",
              "\n",
              "#sk-container-id-1 div.sk-label label {\n",
              "  font-family: monospace;\n",
              "  font-weight: bold;\n",
              "  display: inline-block;\n",
              "  line-height: 1.2em;\n",
              "}\n",
              "\n",
              "#sk-container-id-1 div.sk-label-container {\n",
              "  text-align: center;\n",
              "}\n",
              "\n",
              "/* Estimator-specific */\n",
              "#sk-container-id-1 div.sk-estimator {\n",
              "  font-family: monospace;\n",
              "  border: 1px dotted var(--sklearn-color-border-box);\n",
              "  border-radius: 0.25em;\n",
              "  box-sizing: border-box;\n",
              "  margin-bottom: 0.5em;\n",
              "  /* unfitted */\n",
              "  background-color: var(--sklearn-color-unfitted-level-0);\n",
              "}\n",
              "\n",
              "#sk-container-id-1 div.sk-estimator.fitted {\n",
              "  /* fitted */\n",
              "  background-color: var(--sklearn-color-fitted-level-0);\n",
              "}\n",
              "\n",
              "/* on hover */\n",
              "#sk-container-id-1 div.sk-estimator:hover {\n",
              "  /* unfitted */\n",
              "  background-color: var(--sklearn-color-unfitted-level-2);\n",
              "}\n",
              "\n",
              "#sk-container-id-1 div.sk-estimator.fitted:hover {\n",
              "  /* fitted */\n",
              "  background-color: var(--sklearn-color-fitted-level-2);\n",
              "}\n",
              "\n",
              "/* Specification for estimator info (e.g. \"i\" and \"?\") */\n",
              "\n",
              "/* Common style for \"i\" and \"?\" */\n",
              "\n",
              ".sk-estimator-doc-link,\n",
              "a:link.sk-estimator-doc-link,\n",
              "a:visited.sk-estimator-doc-link {\n",
              "  float: right;\n",
              "  font-size: smaller;\n",
              "  line-height: 1em;\n",
              "  font-family: monospace;\n",
              "  background-color: var(--sklearn-color-background);\n",
              "  border-radius: 1em;\n",
              "  height: 1em;\n",
              "  width: 1em;\n",
              "  text-decoration: none !important;\n",
              "  margin-left: 1ex;\n",
              "  /* unfitted */\n",
              "  border: var(--sklearn-color-unfitted-level-1) 1pt solid;\n",
              "  color: var(--sklearn-color-unfitted-level-1);\n",
              "}\n",
              "\n",
              ".sk-estimator-doc-link.fitted,\n",
              "a:link.sk-estimator-doc-link.fitted,\n",
              "a:visited.sk-estimator-doc-link.fitted {\n",
              "  /* fitted */\n",
              "  border: var(--sklearn-color-fitted-level-1) 1pt solid;\n",
              "  color: var(--sklearn-color-fitted-level-1);\n",
              "}\n",
              "\n",
              "/* On hover */\n",
              "div.sk-estimator:hover .sk-estimator-doc-link:hover,\n",
              ".sk-estimator-doc-link:hover,\n",
              "div.sk-label-container:hover .sk-estimator-doc-link:hover,\n",
              ".sk-estimator-doc-link:hover {\n",
              "  /* unfitted */\n",
              "  background-color: var(--sklearn-color-unfitted-level-3);\n",
              "  color: var(--sklearn-color-background);\n",
              "  text-decoration: none;\n",
              "}\n",
              "\n",
              "div.sk-estimator.fitted:hover .sk-estimator-doc-link.fitted:hover,\n",
              ".sk-estimator-doc-link.fitted:hover,\n",
              "div.sk-label-container:hover .sk-estimator-doc-link.fitted:hover,\n",
              ".sk-estimator-doc-link.fitted:hover {\n",
              "  /* fitted */\n",
              "  background-color: var(--sklearn-color-fitted-level-3);\n",
              "  color: var(--sklearn-color-background);\n",
              "  text-decoration: none;\n",
              "}\n",
              "\n",
              "/* Span, style for the box shown on hovering the info icon */\n",
              ".sk-estimator-doc-link span {\n",
              "  display: none;\n",
              "  z-index: 9999;\n",
              "  position: relative;\n",
              "  font-weight: normal;\n",
              "  right: .2ex;\n",
              "  padding: .5ex;\n",
              "  margin: .5ex;\n",
              "  width: min-content;\n",
              "  min-width: 20ex;\n",
              "  max-width: 50ex;\n",
              "  color: var(--sklearn-color-text);\n",
              "  box-shadow: 2pt 2pt 4pt #999;\n",
              "  /* unfitted */\n",
              "  background: var(--sklearn-color-unfitted-level-0);\n",
              "  border: .5pt solid var(--sklearn-color-unfitted-level-3);\n",
              "}\n",
              "\n",
              ".sk-estimator-doc-link.fitted span {\n",
              "  /* fitted */\n",
              "  background: var(--sklearn-color-fitted-level-0);\n",
              "  border: var(--sklearn-color-fitted-level-3);\n",
              "}\n",
              "\n",
              ".sk-estimator-doc-link:hover span {\n",
              "  display: block;\n",
              "}\n",
              "\n",
              "/* \"?\"-specific style due to the `<a>` HTML tag */\n",
              "\n",
              "#sk-container-id-1 a.estimator_doc_link {\n",
              "  float: right;\n",
              "  font-size: 1rem;\n",
              "  line-height: 1em;\n",
              "  font-family: monospace;\n",
              "  background-color: var(--sklearn-color-background);\n",
              "  border-radius: 1rem;\n",
              "  height: 1rem;\n",
              "  width: 1rem;\n",
              "  text-decoration: none;\n",
              "  /* unfitted */\n",
              "  color: var(--sklearn-color-unfitted-level-1);\n",
              "  border: var(--sklearn-color-unfitted-level-1) 1pt solid;\n",
              "}\n",
              "\n",
              "#sk-container-id-1 a.estimator_doc_link.fitted {\n",
              "  /* fitted */\n",
              "  border: var(--sklearn-color-fitted-level-1) 1pt solid;\n",
              "  color: var(--sklearn-color-fitted-level-1);\n",
              "}\n",
              "\n",
              "/* On hover */\n",
              "#sk-container-id-1 a.estimator_doc_link:hover {\n",
              "  /* unfitted */\n",
              "  background-color: var(--sklearn-color-unfitted-level-3);\n",
              "  color: var(--sklearn-color-background);\n",
              "  text-decoration: none;\n",
              "}\n",
              "\n",
              "#sk-container-id-1 a.estimator_doc_link.fitted:hover {\n",
              "  /* fitted */\n",
              "  background-color: var(--sklearn-color-fitted-level-3);\n",
              "}\n",
              "</style><div id=\"sk-container-id-1\" class=\"sk-top-container\"><div class=\"sk-text-repr-fallback\"><pre>MultinomialNB()</pre><b>In a Jupyter environment, please rerun this cell to show the HTML representation or trust the notebook. <br />On GitHub, the HTML representation is unable to render, please try loading this page with nbviewer.org.</b></div><div class=\"sk-container\" hidden><div class=\"sk-item\"><div class=\"sk-estimator fitted sk-toggleable\"><input class=\"sk-toggleable__control sk-hidden--visually\" id=\"sk-estimator-id-1\" type=\"checkbox\" checked><label for=\"sk-estimator-id-1\" class=\"sk-toggleable__label fitted sk-toggleable__label-arrow fitted\">&nbsp;&nbsp;MultinomialNB<a class=\"sk-estimator-doc-link fitted\" rel=\"noreferrer\" target=\"_blank\" href=\"https://scikit-learn.org/1.5/modules/generated/sklearn.naive_bayes.MultinomialNB.html\">?<span>Documentation for MultinomialNB</span></a><span class=\"sk-estimator-doc-link fitted\">i<span>Fitted</span></span></label><div class=\"sk-toggleable__content fitted\"><pre>MultinomialNB()</pre></div> </div></div></div></div>"
            ]
          },
          "metadata": {},
          "execution_count": 24
        }
      ],
      "source": [
        "# es muy fácil instanciar un modelo de clasificación Naïve Bayes y entrenarlo con sklearn\n",
        "clf = MultinomialNB()\n",
        "clf.fit(X_train, y_train)"
      ]
    },
    {
      "cell_type": "code",
      "execution_count": 25,
      "metadata": {
        "id": "NrQjzM48Mu4T"
      },
      "outputs": [],
      "source": [
        "# con nuestro vectorizador ya fiteado en train, vectorizamos los textos\n",
        "# del conjunto de test\n",
        "X_test = tfidfvect.transform(newsgroups_test.data)\n",
        "y_test = newsgroups_test.target\n",
        "y_pred =  clf.predict(X_test)"
      ]
    },
    {
      "cell_type": "code",
      "execution_count": 26,
      "metadata": {
        "colab": {
          "base_uri": "https://localhost:8080/"
        },
        "id": "UkGJhetEPdA4",
        "outputId": "1486a260-fb14-4be0-ddc6-e8589f2429c7"
      },
      "outputs": [
        {
          "output_type": "execute_result",
          "data": {
            "text/plain": [
              "0.5854345727938506"
            ]
          },
          "metadata": {},
          "execution_count": 26
        }
      ],
      "source": [
        "# el F1-score es una metrica adecuada para reportar desempeño de modelos de claificación\n",
        "# es robusta al desbalance de clases. El promediado 'macro' es el promedio de los\n",
        "# F1-score de cada clase. El promedio 'micro' es equivalente a la accuracy que no\n",
        "# es una buena métrica cuando los datasets son desbalanceados\n",
        "f1_score(y_test, y_pred, average='macro')"
      ]
    },
    {
      "cell_type": "markdown",
      "metadata": {
        "id": "McArD4rSDR2K"
      },
      "source": [
        "### Consigna del desafío 1"
      ]
    },
    {
      "cell_type": "markdown",
      "metadata": {
        "id": "lJgf6GQIIEH1"
      },
      "source": [
        "**1**. Vectorizar documentos. Tomar 5 documentos al azar y medir similaridad con el resto de los documentos.\n",
        "Estudiar los 5 documentos más similares de cada uno analizar si tiene sentido\n",
        "la similaridad según el contenido del texto y la etiqueta de clasificación.\n",
        "\n",
        "**2**. Entrenar modelos de clasificación Naïve Bayes para maximizar el desempeño de clasificación\n",
        "(f1-score macro) en el conjunto de datos de test. Considerar cambiar parámteros\n",
        "de instanciación del vectorizador y los modelos y probar modelos de Naïve Bayes Multinomial\n",
        "y ComplementNB.\n",
        "\n",
        "**3**. Transponer la matriz documento-término. De esa manera se obtiene una matriz\n",
        "término-documento que puede ser interpretada como una colección de vectorización de palabras.\n",
        "Estudiar ahora similaridad entre palabras tomando 5 palabras y estudiando sus 5 más similares. **La elección de palabras no debe ser al azar para evitar la aparición de términos poco interpretables, elegirlas \"manualmente\"**.\n"
      ]
    },
    {
      "cell_type": "markdown",
      "metadata": {
        "id": "6IiWbFiw9Jto"
      },
      "source": [
        "Parte 1: Vectorizar Documentos y Medir Similaridad\n",
        "Objetivos:\n",
        "\n",
        "Vectorizar los documentos utilizando técnicas como TF-IDF.\n",
        "Seleccionar 5 documentos al azar y medir la similaridad con el resto.\n",
        "Analizar si la similaridad tiene sentido según el contenido y las etiquetas.\n",
        "Paso 1: Cargar y Preprocesar los Datos\n",
        "Utilizaremos el conjunto de datos de 20 Newsgroups que está disponible en scikit-learn"
      ]
    },
    {
      "cell_type": "code",
      "source": [
        "import numpy as np\n",
        "import pandas as pd\n",
        "from sklearn.datasets import fetch_20newsgroups\n",
        "from sklearn.feature_extraction.text import TfidfVectorizer\n",
        "from sklearn.metrics.pairwise import cosine_similarity\n",
        "import random\n",
        "\n",
        "# Cargar los datos de entrenamiento y prueba\n",
        "newsgroups_train = fetch_20newsgroups(subset='train', remove=('headers', 'footers', 'quotes'))\n",
        "newsgroups_test = fetch_20newsgroups(subset='test', remove=('headers', 'footers', 'quotes'))\n",
        "\n",
        "# Combinar los datos de entrenamiento y prueba\n",
        "data = newsgroups_train.data + newsgroups_test.data\n",
        "targets = np.concatenate([newsgroups_train.target, newsgroups_test.target])\n",
        "target_names = newsgroups_train.target_names\n",
        "\n",
        "print(f\"Total de documentos: {len(data)}\")\n",
        "print(f\"Clases: {target_names}\")\n"
      ],
      "metadata": {
        "colab": {
          "base_uri": "https://localhost:8080/"
        },
        "id": "AxnaQI5wFdEb",
        "outputId": "dd9330e1-bbbf-459c-ba00-751f9cecc084"
      },
      "execution_count": 27,
      "outputs": [
        {
          "output_type": "stream",
          "name": "stdout",
          "text": [
            "Total de documentos: 18846\n",
            "Clases: ['alt.atheism', 'comp.graphics', 'comp.os.ms-windows.misc', 'comp.sys.ibm.pc.hardware', 'comp.sys.mac.hardware', 'comp.windows.x', 'misc.forsale', 'rec.autos', 'rec.motorcycles', 'rec.sport.baseball', 'rec.sport.hockey', 'sci.crypt', 'sci.electronics', 'sci.med', 'sci.space', 'soc.religion.christian', 'talk.politics.guns', 'talk.politics.mideast', 'talk.politics.misc', 'talk.religion.misc']\n"
          ]
        }
      ]
    },
    {
      "cell_type": "markdown",
      "source": [
        "Paso 2: Vectorizar los Documentos\n",
        "Usaremos TfidfVectorizer para convertir los documentos de texto en vectores numéricos."
      ],
      "metadata": {
        "id": "HBbjpgU5FiTa"
      }
    },
    {
      "cell_type": "code",
      "source": [
        "# Instanciar el vectorizador TF-IDF\n",
        "vectorizer = TfidfVectorizer(stop_words='english', max_df=0.5)\n",
        "\n",
        "# Ajustar y transformar los datos\n",
        "tfidf_matrix = vectorizer.fit_transform(data)\n",
        "\n",
        "print(f\"Matriz TF-IDF de forma: {tfidf_matrix.shape}\")\n"
      ],
      "metadata": {
        "colab": {
          "base_uri": "https://localhost:8080/"
        },
        "id": "gelPZ4orFipb",
        "outputId": "90b0f8f9-7543-4ed1-ae1e-3e8817e9705f"
      },
      "execution_count": 28,
      "outputs": [
        {
          "output_type": "stream",
          "name": "stdout",
          "text": [
            "Matriz TF-IDF de forma: (18846, 134101)\n"
          ]
        }
      ]
    },
    {
      "cell_type": "markdown",
      "source": [
        "Paso 3: Seleccionar 5 Documentos al Azar y Medir Similaridad"
      ],
      "metadata": {
        "id": "kRhEjF0mFlwy"
      }
    },
    {
      "cell_type": "code",
      "source": [
        "# Seleccionar 5 índices de documentos al azar\n",
        "random.seed(42)  # Para reproducibilidad\n",
        "selected_indices = random.sample(range(tfidf_matrix.shape[0]), 5)\n",
        "\n",
        "for idx in selected_indices:\n",
        "    print(f\"\\nDocumento seleccionado (Índice {idx}):\")\n",
        "    print(f\"Etiqueta: {target_names[targets[idx]]}\")\n",
        "    print(f\"Contenido: {data[idx][:500]}...\")  # Mostrar los primeros 500 caracteres\n",
        "\n",
        "    # Calcular la similaridad de coseno entre este documento y todos los demás\n",
        "    similarities = cosine_similarity(tfidf_matrix[idx], tfidf_matrix).flatten()\n",
        "\n",
        "    # Obtener los 5 documentos más similares (excluyendo el propio)\n",
        "    similar_indices = similarities.argsort()[-6:-1][::-1]\n",
        "\n",
        "    print(\"5 documentos más similares:\")\n",
        "    for sim_idx in similar_indices:\n",
        "        print(f\"Índice: {sim_idx}, Similaridad: {similarities[sim_idx]:.4f}, Etiqueta: {target_names[targets[sim_idx]]}\")\n",
        "        # Opcional: Puedes imprimir una porción del contenido para análisis\n",
        "        # print(f\"Contenido Similar: {data[sim_idx][:200]}...\")\n"
      ],
      "metadata": {
        "colab": {
          "base_uri": "https://localhost:8080/"
        },
        "id": "3xFMlwxxFj9L",
        "outputId": "fcf574ee-1377-432e-a363-3ef16c5fd42c"
      },
      "execution_count": 29,
      "outputs": [
        {
          "output_type": "stream",
          "name": "stdout",
          "text": [
            "\n",
            "Documento seleccionado (Índice 3648):\n",
            "Etiqueta: talk.religion.misc\n",
            "Contenido: The Nicene Creed\n",
            "\n",
            "WE BELIEVE in one God the Father Almighty, Maker of heaven and earth, and of all things visible and invisible.\n",
            "And in one Lord Jesus Christ, the only-begotten Son of God, begotten of the Father before all worlds, God of God, Light of Light, Very God of Very God, begotten not made, being of one substance with the Father by whom all things were made; who for us men, and for our salvation, came down from heaven and was incarnate by the Holy Spirit of the Virgin Mary, and was made ...\n",
            "5 documentos más similares:\n",
            "Índice: 11661, Similaridad: 0.4163, Etiqueta: soc.religion.christian\n",
            "Índice: 5559, Similaridad: 0.3708, Etiqueta: soc.religion.christian\n",
            "Índice: 366, Similaridad: 0.3584, Etiqueta: soc.religion.christian\n",
            "Índice: 1110, Similaridad: 0.3106, Etiqueta: soc.religion.christian\n",
            "Índice: 5285, Similaridad: 0.3005, Etiqueta: soc.religion.christian\n",
            "\n",
            "Documento seleccionado (Índice 819):\n",
            "Etiqueta: talk.politics.guns\n",
            "Contenido: :\n",
            ":\n",
            ":\t1. Make a new Newsgroup called talk.politics.guns.PARANOID or \n",
            ":\ttalk.politics.guns.THEY'R.HERE.TO.TAKE.ME.AWAY\n",
            ":\n",
            ":\t2. Move all postings about waco and burn to (guess where)..\n",
            ":\n",
            ":\t3. Stop posting #### on this newsgroup\n",
            ";\n",
            ":\tWe are all SO glad you're trying to save us from the evil \n",
            ":\tgoverment, but would you mail this #### in regular mail to\n",
            ":\tlet's say 1000 people ????\n",
            ":\t\n",
            ":\n",
            ":                        Thomas Parsli\n",
            "And everybody who talked about the evil arising in Europe was labeled \n",
            "reactio...\n",
            "5 documentos más similares:\n",
            "Índice: 9620, Similaridad: 0.4349, Etiqueta: talk.politics.guns\n",
            "Índice: 7162, Similaridad: 0.1442, Etiqueta: talk.politics.guns\n",
            "Índice: 5552, Similaridad: 0.1432, Etiqueta: talk.politics.guns\n",
            "Índice: 16011, Similaridad: 0.1405, Etiqueta: talk.politics.guns\n",
            "Índice: 13914, Similaridad: 0.1345, Etiqueta: talk.politics.guns\n",
            "\n",
            "Documento seleccionado (Índice 9012):\n",
            "Etiqueta: comp.os.ms-windows.misc\n",
            "Contenido: : I have a 486DX-33 computer with a SoundBlaster 1.0 card.  I'm running\n",
            ": Microsoft Windows v3.1.  I have the SB driver set up properly to play\n",
            ": normal sounds (.WAV files, etc.).  I want to play midi files through the\n",
            ": Media Player that is included with windows.  I know I have to set up the\n",
            ": patch maps or something in the MIDI-Mapper in the Control Panel.  I KNOW\n",
            ": NOTHING ABOUT MIDI.  (This is to be the way I'll get my feet wet.)\n",
            "\n",
            ": How do I set up Windows so that I can play MIDI files?\n",
            "If y...\n",
            "5 documentos más similares:\n",
            "Índice: 9554, Similaridad: 0.8632, Etiqueta: comp.os.ms-windows.misc\n",
            "Índice: 16484, Similaridad: 0.6029, Etiqueta: comp.os.ms-windows.misc\n",
            "Índice: 10012, Similaridad: 0.4898, Etiqueta: comp.sys.mac.hardware\n",
            "Índice: 8403, Similaridad: 0.2680, Etiqueta: comp.sys.ibm.pc.hardware\n",
            "Índice: 1096, Similaridad: 0.2600, Etiqueta: misc.forsale\n",
            "\n",
            "Documento seleccionado (Índice 8024):\n",
            "Etiqueta: soc.religion.christian\n",
            "Contenido: \n",
            "First, off I'd say that the impact if right before your eyes! 8-) That we are\n",
            "even discussing this is a major impact in and of itself. Further, the early\n",
            "church bears testimony to the impact.\n",
            "\n",
            "\n",
            "Of course they knew where it was. Don't forget that Jesus was seen by both\n",
            "the Jews and the Romans as a troublemaker. Pilate was no fool and didn't \n",
            "need the additional headaches of some fishermen stealing Jesus' body to \n",
            "make it appear He had arisen. Since Jesus was buried in the grave of a \n",
            "man well kn...\n",
            "5 documentos más similares:\n",
            "Índice: 5138, Similaridad: 0.2806, Etiqueta: soc.religion.christian\n",
            "Índice: 6910, Similaridad: 0.2365, Etiqueta: soc.religion.christian\n",
            "Índice: 6342, Similaridad: 0.2265, Etiqueta: soc.religion.christian\n",
            "Índice: 15796, Similaridad: 0.2092, Etiqueta: soc.religion.christian\n",
            "Índice: 13563, Similaridad: 0.1895, Etiqueta: alt.atheism\n",
            "\n",
            "Documento seleccionado (Índice 7314):\n",
            "Etiqueta: sci.med\n",
            "Contenido: I posted this to sci.psychology on April 3, and after seeing\n",
            "your post here on panice disorder thought it would be\n",
            "relevant.\n",
            "\n",
            "-----\n",
            "\n",
            "My research indicates that two schools of thought exist.\n",
            "the literature promoting medication says it's the superior\n",
            "treatment.  Not surprisingly, literature promoting cognitive\n",
            "therapy also claims to be superior.\n",
            "\n",
            "What are the facts?  Early in my research I didn't have a\n",
            "bias towards either medication or cognitive therapy.  I\n",
            "was interested in a treatment that work...\n",
            "5 documentos más similares:\n",
            "Índice: 6322, Similaridad: 0.1194, Etiqueta: talk.politics.mideast\n",
            "Índice: 1560, Similaridad: 0.1123, Etiqueta: sci.med\n",
            "Índice: 9558, Similaridad: 0.1088, Etiqueta: talk.politics.misc\n",
            "Índice: 8135, Similaridad: 0.1037, Etiqueta: sci.med\n",
            "Índice: 16121, Similaridad: 0.1027, Etiqueta: sci.med\n"
          ]
        }
      ]
    },
    {
      "cell_type": "markdown",
      "source": [
        "Análisis de la Similaridad\n",
        "Después de ejecutar el código anterior, revisa si los documentos más similares pertenecen a la misma categoría y si el contenido es coherente. Esto te ayudará a evaluar la efectividad de la vectorización y la métrica de similaridad utilizada."
      ],
      "metadata": {
        "id": "Q4a1xRqAFrML"
      }
    },
    {
      "cell_type": "markdown",
      "source": [
        "Parte 2: Entrenar Modelos de Clasificación Naïve Bayes\n",
        "Objetivos:\n",
        "\n",
        "Entrenar modelos de Naïve Bayes (Multinomial y ComplementNB).\n",
        "Optimizar el rendimiento (f1-score macro) ajustando parámetros del vectorizador y los modelos.\n",
        "Paso 1: Dividir los Datos en Entrenamiento y Prueba"
      ],
      "metadata": {
        "id": "KDxi38srF4rj"
      }
    },
    {
      "cell_type": "code",
      "source": [
        "from sklearn.model_selection import train_test_split\n",
        "\n",
        "# Dividir los datos en entrenamiento y prueba\n",
        "X_train, X_test, y_train, y_test = train_test_split(tfidf_matrix, targets, test_size=0.2, random_state=42)\n",
        "\n",
        "print(f\"Entrenamiento: {X_train.shape[0]} documentos\")\n",
        "print(f\"Prueba: {X_test.shape[0]} documentos\")\n"
      ],
      "metadata": {
        "colab": {
          "base_uri": "https://localhost:8080/"
        },
        "id": "UQPVE_w6F4es",
        "outputId": "bb28b3ac-b187-4236-b93b-229ae47c7ee7"
      },
      "execution_count": 30,
      "outputs": [
        {
          "output_type": "stream",
          "name": "stdout",
          "text": [
            "Entrenamiento: 15076 documentos\n",
            "Prueba: 3770 documentos\n"
          ]
        }
      ]
    },
    {
      "cell_type": "markdown",
      "source": [
        "Paso 2: Entrenar y Evaluar el Modelo Naïve Bayes Multinomial"
      ],
      "metadata": {
        "id": "6qEX9cz_F8YC"
      }
    },
    {
      "cell_type": "code",
      "source": [
        "from sklearn.naive_bayes import MultinomialNB\n",
        "from sklearn.metrics import f1_score, classification_report\n",
        "\n",
        "# Instanciar el modelo\n",
        "mnb = MultinomialNB()\n",
        "\n",
        "# Entrenar el modelo\n",
        "mnb.fit(X_train, y_train)\n",
        "\n",
        "# Predecir en el conjunto de prueba\n",
        "y_pred_mnb = mnb.predict(X_test)\n",
        "\n",
        "# Evaluar el rendimiento\n",
        "f1_mnb = f1_score(y_test, y_pred_mnb, average='macro')\n",
        "print(f\"F1-score Macro (MultinomialNB): {f1_mnb:.4f}\")\n",
        "print(\"Reporte de Clasificación MultinomialNB:\")\n",
        "print(classification_report(y_test, y_pred_mnb, target_names=target_names))\n"
      ],
      "metadata": {
        "colab": {
          "base_uri": "https://localhost:8080/"
        },
        "id": "BYBBwqx6FzfL",
        "outputId": "0427bf7d-3287-4f92-c25b-df15ddc7668b"
      },
      "execution_count": 31,
      "outputs": [
        {
          "output_type": "stream",
          "name": "stdout",
          "text": [
            "F1-score Macro (MultinomialNB): 0.6898\n",
            "Reporte de Clasificación MultinomialNB:\n",
            "                          precision    recall  f1-score   support\n",
            "\n",
            "             alt.atheism       0.77      0.33      0.46       151\n",
            "           comp.graphics       0.69      0.66      0.67       188\n",
            " comp.os.ms-windows.misc       0.71      0.68      0.70       191\n",
            "comp.sys.ibm.pc.hardware       0.57      0.80      0.67       184\n",
            "   comp.sys.mac.hardware       0.90      0.68      0.78       202\n",
            "          comp.windows.x       0.81      0.85      0.83       201\n",
            "            misc.forsale       0.86      0.80      0.83       203\n",
            "               rec.autos       0.81      0.72      0.77       200\n",
            "         rec.motorcycles       0.87      0.74      0.80       214\n",
            "      rec.sport.baseball       0.89      0.81      0.85       198\n",
            "        rec.sport.hockey       0.59      0.90      0.71       193\n",
            "               sci.crypt       0.68      0.82      0.75       205\n",
            "         sci.electronics       0.82      0.59      0.68       203\n",
            "                 sci.med       0.90      0.83      0.87       202\n",
            "               sci.space       0.82      0.75      0.78       195\n",
            "  soc.religion.christian       0.40      0.94      0.56       191\n",
            "      talk.politics.guns       0.67      0.85      0.75       167\n",
            "   talk.politics.mideast       0.79      0.82      0.80       201\n",
            "      talk.politics.misc       0.85      0.39      0.53       150\n",
            "      talk.religion.misc       1.00      0.01      0.02       131\n",
            "\n",
            "                accuracy                           0.72      3770\n",
            "               macro avg       0.77      0.70      0.69      3770\n",
            "            weighted avg       0.77      0.72      0.71      3770\n",
            "\n"
          ]
        }
      ]
    },
    {
      "cell_type": "markdown",
      "source": [
        "Paso 3: Entrenar y Evaluar el Modelo ComplementNB\n"
      ],
      "metadata": {
        "id": "NlAWta19F_bq"
      }
    },
    {
      "cell_type": "code",
      "source": [
        "from sklearn.naive_bayes import ComplementNB\n",
        "\n",
        "# Instanciar el modelo\n",
        "cnb = ComplementNB()\n",
        "\n",
        "# Entrenar el modelo\n",
        "cnb.fit(X_train, y_train)\n",
        "\n",
        "# Predecir en el conjunto de prueba\n",
        "y_pred_cnb = cnb.predict(X_test)\n",
        "\n",
        "# Evaluar el rendimiento\n",
        "f1_cnb = f1_score(y_test, y_pred_cnb, average='macro')\n",
        "print(f\"F1-score Macro (ComplementNB): {f1_cnb:.4f}\")\n",
        "print(\"Reporte de Clasificación ComplementNB:\")\n",
        "print(classification_report(y_test, y_pred_cnb, target_names=target_names))\n"
      ],
      "metadata": {
        "colab": {
          "base_uri": "https://localhost:8080/"
        },
        "id": "euVGZH6YF_sb",
        "outputId": "8e7473da-c094-4947-b5fc-4ef4df2c8c64"
      },
      "execution_count": 32,
      "outputs": [
        {
          "output_type": "stream",
          "name": "stdout",
          "text": [
            "F1-score Macro (ComplementNB): 0.7450\n",
            "Reporte de Clasificación ComplementNB:\n",
            "                          precision    recall  f1-score   support\n",
            "\n",
            "             alt.atheism       0.39      0.59      0.47       151\n",
            "           comp.graphics       0.72      0.74      0.73       188\n",
            " comp.os.ms-windows.misc       0.78      0.72      0.75       191\n",
            "comp.sys.ibm.pc.hardware       0.64      0.73      0.68       184\n",
            "   comp.sys.mac.hardware       0.86      0.74      0.79       202\n",
            "          comp.windows.x       0.82      0.88      0.85       201\n",
            "            misc.forsale       0.81      0.77      0.79       203\n",
            "               rec.autos       0.79      0.78      0.78       200\n",
            "         rec.motorcycles       0.89      0.79      0.84       214\n",
            "      rec.sport.baseball       0.95      0.85      0.90       198\n",
            "        rec.sport.hockey       0.85      0.91      0.88       193\n",
            "               sci.crypt       0.81      0.82      0.82       205\n",
            "         sci.electronics       0.83      0.61      0.70       203\n",
            "                 sci.med       0.85      0.87      0.86       202\n",
            "               sci.space       0.85      0.78      0.82       195\n",
            "  soc.religion.christian       0.58      0.90      0.71       191\n",
            "      talk.politics.guns       0.71      0.85      0.77       167\n",
            "   talk.politics.mideast       0.75      0.87      0.81       201\n",
            "      talk.politics.misc       0.78      0.61      0.69       150\n",
            "      talk.religion.misc       0.80      0.15      0.26       131\n",
            "\n",
            "                accuracy                           0.76      3770\n",
            "               macro avg       0.77      0.75      0.75      3770\n",
            "            weighted avg       0.78      0.76      0.76      3770\n",
            "\n"
          ]
        }
      ]
    },
    {
      "cell_type": "markdown",
      "source": [
        "Paso 4: Optimización de Parámetros\n",
        "Podemos utilizar GridSearchCV para encontrar los mejores parámetros tanto para el vectorizador como para los modelos de Naïve Bayes."
      ],
      "metadata": {
        "id": "iQQUYiAEGDDk"
      }
    },
    {
      "cell_type": "code",
      "source": [
        "from sklearn.model_selection import RandomizedSearchCV\n",
        "from sklearn.pipeline import Pipeline\n",
        "from sklearn.naive_bayes import MultinomialNB, ComplementNB\n",
        "from sklearn.feature_extraction.text import TfidfVectorizer\n",
        "\n",
        "# Crear una pipeline que incluya el vectorizador y el clasificador\n",
        "pipeline = Pipeline([\n",
        "    ('tfidf', TfidfVectorizer(stop_words='english')),\n",
        "    ('clf', MultinomialNB())  # Puedes cambiar a ComplementNB aquí si lo deseas\n",
        "])\n",
        "\n",
        "# Definir los parámetros para buscar\n",
        "parameters = {\n",
        "    'tfidf__max_df': [0.5, 0.75, 1.0],\n",
        "    'tfidf__ngram_range': [(1, 1), (1, 2)],  # Puedes probar (1,3) para trigramas\n",
        "    'clf': [MultinomialNB(), ComplementNB()],\n",
        "    'clf__alpha': [0.1, 0.5, 1.0]\n",
        "}\n",
        "\n",
        "# Instanciar RandomizedSearchCV\n",
        "random_search = RandomizedSearchCV(\n",
        "    pipeline,\n",
        "    param_distributions=parameters,\n",
        "    n_iter=10,  # Limita el número de combinaciones a probar\n",
        "    scoring='f1_macro',\n",
        "    cv=3,  # Usa 3-fold CV en lugar de 5 para optimizar el tiempo\n",
        "    verbose=1,\n",
        "    n_jobs=-1  # Usa todos los núcleos de la CPU\n",
        ")\n",
        "\n",
        "# Ejecutar la búsqueda\n",
        "random_search.fit(data, targets)\n",
        "\n",
        "print(f\"Mejores parámetros: {random_search.best_params_}\")\n",
        "print(f\"Mejor F1-score Macro: {random_search.best_score_:.4f}\")\n",
        "\n",
        "# Evaluar en el conjunto de prueba\n",
        "best_model = random_search.best_estimator_\n",
        "y_pred_best = best_model.predict(newsgroups_test.data)\n",
        "f1_best = f1_score(newsgroups_test.target, y_pred_best, average='macro')\n",
        "print(f\"F1-score Macro en Test: {f1_best:.4f}\")\n",
        "print(\"Reporte de Clasificación Mejor Modelo:\")\n",
        "print(classification_report(newsgroups_test.target, y_pred_best, target_names=newsgroups_test.target_names))\n"
      ],
      "metadata": {
        "colab": {
          "base_uri": "https://localhost:8080/"
        },
        "id": "CHxULW4cGAkT",
        "outputId": "a21b2e1c-acd4-47a8-d3e9-601b1c91ecff"
      },
      "execution_count": 33,
      "outputs": [
        {
          "output_type": "stream",
          "name": "stdout",
          "text": [
            "Fitting 3 folds for each of 10 candidates, totalling 30 fits\n",
            "Mejores parámetros: {'tfidf__ngram_range': (1, 2), 'tfidf__max_df': 0.75, 'clf__alpha': 0.1, 'clf': ComplementNB()}\n",
            "Mejor F1-score Macro: 0.7568\n",
            "F1-score Macro en Test: 0.9681\n",
            "Reporte de Clasificación Mejor Modelo:\n",
            "                          precision    recall  f1-score   support\n",
            "\n",
            "             alt.atheism       0.58      0.99      0.73       319\n",
            "           comp.graphics       1.00      0.98      0.99       389\n",
            " comp.os.ms-windows.misc       1.00      0.95      0.98       394\n",
            "comp.sys.ibm.pc.hardware       0.99      0.98      0.99       392\n",
            "   comp.sys.mac.hardware       0.99      0.96      0.98       385\n",
            "          comp.windows.x       1.00      0.99      0.99       395\n",
            "            misc.forsale       1.00      0.97      0.98       390\n",
            "               rec.autos       0.99      0.93      0.96       396\n",
            "         rec.motorcycles       1.00      0.97      0.98       398\n",
            "      rec.sport.baseball       1.00      0.95      0.98       397\n",
            "        rec.sport.hockey       1.00      0.97      0.99       399\n",
            "               sci.crypt       1.00      0.95      0.97       396\n",
            "         sci.electronics       0.99      0.97      0.98       393\n",
            "                 sci.med       0.99      0.96      0.98       396\n",
            "               sci.space       0.99      0.95      0.97       394\n",
            "  soc.religion.christian       0.99      0.96      0.98       398\n",
            "      talk.politics.guns       0.99      0.97      0.98       364\n",
            "   talk.politics.mideast       1.00      0.98      0.99       376\n",
            "      talk.politics.misc       1.00      0.97      0.99       310\n",
            "      talk.religion.misc       1.00      0.96      0.98       251\n",
            "\n",
            "                accuracy                           0.97      7532\n",
            "               macro avg       0.98      0.97      0.97      7532\n",
            "            weighted avg       0.98      0.97      0.97      7532\n",
            "\n"
          ]
        }
      ]
    },
    {
      "cell_type": "markdown",
      "source": [
        "Parte 3: Transponer la Matriz Documento-Término y Estudiar Similaridad entre Palabras\n",
        "Objetivos:\n",
        "\n",
        "Transponer la matriz documento-término para obtener una matriz término-documento.\n",
        "Seleccionar 5 palabras manualmente y medir su similaridad con otras palabras.\n",
        "\n",
        "Paso 1: Transponer la Matriz TF-IDF"
      ],
      "metadata": {
        "id": "LSlEblk7Lxy0"
      }
    },
    {
      "cell_type": "code",
      "source": [
        "# Transponer la matriz TF-IDF para obtener la matriz término-documento\n",
        "tfidf_transposed = tfidf_matrix.transpose()\n",
        "\n",
        "print(f\"Matriz Término-Documento de forma: {tfidf_transposed.shape}\")\n"
      ],
      "metadata": {
        "colab": {
          "base_uri": "https://localhost:8080/"
        },
        "id": "yekojS6eLyfo",
        "outputId": "534801fd-4064-428b-eba0-f3eb652d1bb8"
      },
      "execution_count": 34,
      "outputs": [
        {
          "output_type": "stream",
          "name": "stdout",
          "text": [
            "Matriz Término-Documento de forma: (134101, 18846)\n"
          ]
        }
      ]
    },
    {
      "cell_type": "markdown",
      "source": [
        "Paso 2: Seleccionar 5 Palabras Manualmente\n",
        "Selecciona 5 palabras que sean relevantes y significativas en el contexto de los documentos. Por ejemplo:\n",
        "\n",
        "computer\n",
        "god\n",
        "space\n",
        "religion\n",
        "game\n",
        "\n",
        "Paso 3: Medir la Similaridad entre Palabras\n",
        "Calcularemos la similaridad de coseno entre los vectores de las palabras seleccionadas y todas las demás palabras."
      ],
      "metadata": {
        "id": "dys9cx19L25r"
      }
    },
    {
      "cell_type": "code",
      "source": [
        "import re\n",
        "import gensim\n",
        "from gensim.models import Word2Vec\n",
        "from sklearn.metrics.pairwise import cosine_similarity\n",
        "\n",
        "# Paso 1: Preprocesar el texto\n",
        "def preprocess_text(text):\n",
        "    # Convertir todo a minúsculas\n",
        "    text = text.lower()\n",
        "    # Eliminar caracteres especiales\n",
        "    text = re.sub(r'\\W+', ' ', text)\n",
        "    # Tokenizar el texto\n",
        "    tokens = text.split()\n",
        "    return tokens\n",
        "\n",
        "idx = 4811\n",
        "# Texto extraído\n",
        "text = newsgroups_train.data[idx]\n",
        "\n",
        "# Aplicar preprocesamiento\n",
        "tokens = preprocess_text(text)\n",
        "\n",
        "# Paso 2: Entrenar o cargar un modelo de Word2Vec\n",
        "model = Word2Vec([tokens], vector_size=100, window=5, min_count=1, workers=4)\n",
        "\n",
        "# Paso 3: Selección de palabras\n",
        "selected_words = ['president', 'jobs', 'economy', 'people', 'bill']\n",
        "\n",
        "# Paso 4: Obtener los vectores de las palabras seleccionadas\n",
        "word_vectors = {word: model.wv[word] for word in selected_words if word in model.wv}\n",
        "\n",
        "# Paso 5: Calcular la similaridad de coseno entre las palabras seleccionadas\n",
        "def cosine_sim(v1, v2):\n",
        "    return cosine_similarity([v1], [v2])[0][0]\n",
        "\n",
        "# Calcular similaridad entre cada palabra seleccionada y las demás palabras en el texto\n",
        "similarities = {}\n",
        "for word1 in selected_words:\n",
        "    for word2 in model.wv.index_to_key:  # Todas las palabras en el vocabulario\n",
        "        if word1 != word2:\n",
        "            sim = cosine_sim(model.wv[word1], model.wv[word2])\n",
        "            similarities[(word1, word2)] = sim\n",
        "\n",
        "# Ordenar las palabras más similares a cada palabra seleccionada\n",
        "for word in selected_words:\n",
        "    similar_words = sorted([(w, sim) for (w1, w), sim in similarities.items() if w1 == word], key=lambda x: -x[1])[:5]\n",
        "    print(f'Palabras más similares a \"{word}\":')\n",
        "    for w, sim in similar_words:\n",
        "        print(f'   {w}: {sim:.4f}')\n"
      ],
      "metadata": {
        "colab": {
          "base_uri": "https://localhost:8080/"
        },
        "id": "d9e1KN8cL4AD",
        "outputId": "fe4b1b90-fb75-4967-b71c-a1088c8e1e18"
      },
      "execution_count": 35,
      "outputs": [
        {
          "output_type": "stream",
          "name": "stdout",
          "text": [
            "Palabras más similares a \"president\":\n",
            "   pittsburgh: 0.2590\n",
            "   long: 0.2490\n",
            "   act: 0.2393\n",
            "   suffering: 0.2367\n",
            "   politics: 0.2259\n",
            "Palabras más similares a \"jobs\":\n",
            "   whistle: 0.3312\n",
            "   for: 0.2958\n",
            "   long: 0.2508\n",
            "   growth: 0.2396\n",
            "   legislation: 0.2311\n",
            "Palabras más similares a \"economy\":\n",
            "   in: 0.3345\n",
            "   held: 0.3161\n",
            "   consider: 0.2713\n",
            "   government: 0.2491\n",
            "   the: 0.2447\n",
            "Palabras más similares a \"people\":\n",
            "   keep: 0.3001\n",
            "   have: 0.2871\n",
            "   task: 0.2423\n",
            "   programs: 0.2413\n",
            "   full: 0.2355\n",
            "Palabras más similares a \"bill\":\n",
            "   kdka: 0.3237\n",
            "   wouldn: 0.2942\n",
            "   voted: 0.2708\n",
            "   put: 0.2596\n",
            "   because: 0.2394\n"
          ]
        }
      ]
    }
  ],
  "metadata": {
    "colab": {
      "provenance": [],
      "gpuType": "T4"
    },
    "kernelspec": {
      "display_name": "Python 3",
      "name": "python3"
    },
    "language_info": {
      "name": "python"
    },
    "accelerator": "GPU"
  },
  "nbformat": 4,
  "nbformat_minor": 0
}