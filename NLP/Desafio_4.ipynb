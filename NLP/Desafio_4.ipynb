{
  "cells": [
    {
      "cell_type": "markdown",
      "metadata": {
        "id": "pfa39F4lsLf3"
      },
      "source": [
        "<img src=\"https://github.com/hernancontigiani/ceia_memorias_especializacion/raw/master/Figures/logoFIUBA.jpg\" width=\"500\" align=\"center\">\n",
        "\n",
        "\n",
        "# Procesamiento de lenguaje natural\n",
        "## LSTM Bot QA"
      ]
    },
    {
      "cell_type": "markdown",
      "metadata": {
        "id": "ZqO0PRcFsPTe"
      },
      "source": [
        "### Datos\n",
        "El objecto es utilizar datos disponibles del challenge ConvAI2 (Conversational Intelligence Challenge 2) de conversaciones en inglés. Se construirá un BOT para responder a preguntas del usuario (QA).\\\n",
        "[LINK](http://convai.io/data/)"
      ]
    },
    {
      "cell_type": "code",
      "execution_count": 1,
      "metadata": {
        "id": "bDFC0I3j9oFD"
      },
      "outputs": [],
      "source": [
        "!pip install --upgrade --no-cache-dir gdown --quiet"
      ]
    },
    {
      "cell_type": "code",
      "source": [
        "!pip install keras-preprocessing --quiet"
      ],
      "metadata": {
        "colab": {
          "base_uri": "https://localhost:8080/"
        },
        "id": "GmKp-OQcjYbX",
        "outputId": "61679be5-131c-4962-889d-5dbc4ccd1747"
      },
      "execution_count": 2,
      "outputs": [
        {
          "output_type": "stream",
          "name": "stdout",
          "text": [
            "\u001b[?25l   \u001b[90m━━━━━━━━━━━━━━━━━━━━━━━━━━━━━━━━━━━━━━━━\u001b[0m \u001b[32m0.0/42.6 kB\u001b[0m \u001b[31m?\u001b[0m eta \u001b[36m-:--:--\u001b[0m\r\u001b[2K   \u001b[90m━━━━━━━━━━━━━━━━━━━━━━━━━━━━━━━━━━━━━━━━\u001b[0m \u001b[32m42.6/42.6 kB\u001b[0m \u001b[31m1.7 MB/s\u001b[0m eta \u001b[36m0:00:00\u001b[0m\n",
            "\u001b[?25h"
          ]
        }
      ]
    },
    {
      "cell_type": "code",
      "execution_count": 3,
      "metadata": {
        "id": "cq3YXak9sGHd"
      },
      "outputs": [],
      "source": [
        "import re\n",
        "\n",
        "import numpy as np\n",
        "import pandas as pd\n",
        "\n",
        "import tensorflow as tf\n",
        "from tensorflow.keras.preprocessing.text import one_hot\n",
        "from tensorflow.keras.utils import pad_sequences\n",
        "from tensorflow.keras.models import Sequential\n",
        "from tensorflow.keras.layers import Activation, Dropout, Dense\n",
        "from tensorflow.keras.layers import Flatten, LSTM, SimpleRNN\n",
        "from tensorflow.keras.models import Model\n",
        "from tensorflow.keras.layers import Embedding"
      ]
    },
    {
      "cell_type": "code",
      "execution_count": 4,
      "metadata": {
        "id": "RHNkUaPp6aYq",
        "colab": {
          "base_uri": "https://localhost:8080/"
        },
        "outputId": "c6ca78b3-a1fb-4053-d1fd-6bedeac09ef0"
      },
      "outputs": [
        {
          "output_type": "stream",
          "name": "stderr",
          "text": [
            "Downloading...\n",
            "From: https://drive.google.com/uc?id=1awUxYwImF84MIT5-jCaYAPe2QwSgS1hN&export=download\n",
            "To: /content/data_volunteers.json\n",
            "100%|██████████| 2.58M/2.58M [00:00<00:00, 133MB/s]\n"
          ]
        }
      ],
      "source": [
        "# Descargar la carpeta de dataset\n",
        "import os\n",
        "import gdown\n",
        "if os.access('data_volunteers.json', os.F_OK) is False:\n",
        "    url = 'https://drive.google.com/uc?id=1awUxYwImF84MIT5-jCaYAPe2QwSgS1hN&export=download'\n",
        "    output = 'data_volunteers.json'\n",
        "    gdown.download(url, output, quiet=False)\n",
        "else:\n",
        "    print(\"El dataset ya se encuentra descargado\")"
      ]
    },
    {
      "cell_type": "code",
      "execution_count": 5,
      "metadata": {
        "id": "WZy1-wgG-Rp7"
      },
      "outputs": [],
      "source": [
        "# dataset_file\n",
        "import json\n",
        "\n",
        "text_file = \"data_volunteers.json\"\n",
        "with open(text_file) as f:\n",
        "    data = json.load(f) # la variable data será un diccionario\n",
        "\n"
      ]
    },
    {
      "cell_type": "code",
      "execution_count": 6,
      "metadata": {
        "id": "ue5qd54S-eew",
        "colab": {
          "base_uri": "https://localhost:8080/"
        },
        "outputId": "fbe9d83b-241f-457e-e389-f2db26bbea89"
      },
      "outputs": [
        {
          "output_type": "execute_result",
          "data": {
            "text/plain": [
              "dict_keys(['dialog', 'start_time', 'end_time', 'bot_profile', 'user_profile', 'eval_score', 'profile_match', 'participant1_id', 'participant2_id'])"
            ]
          },
          "metadata": {},
          "execution_count": 6
        }
      ],
      "source": [
        "# Observar los campos disponibles en cada linea del dataset\n",
        "data[0].keys()"
      ]
    },
    {
      "cell_type": "code",
      "execution_count": 7,
      "metadata": {
        "id": "jHBRAXPl-3dz",
        "colab": {
          "base_uri": "https://localhost:8080/"
        },
        "outputId": "c3ed09a2-2388-4694-f6fd-72a6cb310f2d"
      },
      "outputs": [
        {
          "output_type": "stream",
          "name": "stdout",
          "text": [
            "Cantidad de rows utilizadas: 6033\n"
          ]
        }
      ],
      "source": [
        "chat_in = []\n",
        "chat_out = []\n",
        "\n",
        "input_sentences = []\n",
        "output_sentences = []\n",
        "output_sentences_inputs = []\n",
        "max_len = 30\n",
        "\n",
        "def clean_text(txt):\n",
        "    txt = txt.lower()\n",
        "    txt.replace(\"\\'d\", \" had\")\n",
        "    txt.replace(\"\\'s\", \" is\")\n",
        "    txt.replace(\"\\'m\", \" am\")\n",
        "    txt.replace(\"don't\", \"do not\")\n",
        "    txt = re.sub(r'\\W+', ' ', txt)\n",
        "\n",
        "    return txt\n",
        "\n",
        "for line in data:\n",
        "    for i in range(len(line['dialog'])-1):\n",
        "        # vamos separando el texto en \"preguntas\" (chat_in)\n",
        "        # y \"respuestas\" (chat_out)\n",
        "        chat_in = clean_text(line['dialog'][i]['text'])\n",
        "        chat_out = clean_text(line['dialog'][i+1]['text'])\n",
        "\n",
        "        if len(chat_in) >= max_len or len(chat_out) >= max_len:\n",
        "            continue\n",
        "\n",
        "        input_sentence, output = chat_in, chat_out\n",
        "\n",
        "        # output sentence (decoder_output) tiene <eos>\n",
        "        output_sentence = output + ' <eos>'\n",
        "        # output sentence input (decoder_input) tiene <sos>\n",
        "        output_sentence_input = '<sos> ' + output\n",
        "\n",
        "        input_sentences.append(input_sentence)\n",
        "        output_sentences.append(output_sentence)\n",
        "        output_sentences_inputs.append(output_sentence_input)\n",
        "\n",
        "print(\"Cantidad de rows utilizadas:\", len(input_sentences))"
      ]
    },
    {
      "cell_type": "code",
      "execution_count": 8,
      "metadata": {
        "id": "07L1qj8pC_l6",
        "colab": {
          "base_uri": "https://localhost:8080/"
        },
        "outputId": "eab438cf-a603-4087-b175-d83f0fe52a43"
      },
      "outputs": [
        {
          "output_type": "execute_result",
          "data": {
            "text/plain": [
              "('hi how are you ', 'not bad and you  <eos>', '<sos> not bad and you ')"
            ]
          },
          "metadata": {},
          "execution_count": 8
        }
      ],
      "source": [
        "input_sentences[1], output_sentences[1], output_sentences_inputs[1]"
      ]
    },
    {
      "cell_type": "markdown",
      "metadata": {
        "id": "8P-ynUNP5xp6"
      },
      "source": [
        "### 2 - Preprocesamiento\n",
        "Realizar el preprocesamiento necesario para obtener:\n",
        "- word2idx_inputs, max_input_len\n",
        "- word2idx_outputs, max_out_len, num_words_output\n",
        "- encoder_input_sequences, decoder_output_sequences, decoder_targets"
      ]
    },
    {
      "cell_type": "code",
      "source": [
        "import numpy as np\n",
        "from tensorflow.keras.preprocessing.text import Tokenizer\n",
        "from tensorflow.keras.preprocessing.sequence import pad_sequences\n",
        "\n",
        "# Parámetros\n",
        "max_len = 10\n",
        "\n",
        "# Tokenización para las entradas (preguntas)\n",
        "tokenizer_inputs = Tokenizer()\n",
        "tokenizer_inputs.fit_on_texts(input_sentences)\n",
        "encoder_input_sequences = tokenizer_inputs.texts_to_sequences(input_sentences)\n",
        "\n",
        "# Tokenización para las salidas (respuestas)\n",
        "tokenizer_outputs = Tokenizer(filters='')\n",
        "tokenizer_outputs.fit_on_texts(output_sentences + output_sentences_inputs)\n",
        "decoder_output_sequences = tokenizer_outputs.texts_to_sequences(output_sentences)\n",
        "decoder_input_sequences = tokenizer_outputs.texts_to_sequences(output_sentences_inputs)\n",
        "\n",
        "# Diccionarios de palabras a índices\n",
        "word2idx_inputs = tokenizer_inputs.word_index\n",
        "word2idx_outputs = tokenizer_outputs.word_index\n",
        "\n",
        "# Longitudes máximas de las secuencias\n",
        "max_input_len = max(len(seq) for seq in encoder_input_sequences)\n",
        "max_out_len = max(len(seq) for seq in decoder_output_sequences)\n",
        "\n",
        "# Número de palabras únicas en el vocabulario de salida\n",
        "num_words_output = len(word2idx_outputs) + 1  # +1 para el padding (índice 0)\n",
        "\n",
        "# Padding de las secuencias\n",
        "encoder_input_sequences = pad_sequences(encoder_input_sequences, maxlen=max_input_len, padding='post')\n",
        "decoder_input_sequences = pad_sequences(decoder_input_sequences, maxlen=max_out_len, padding='post')\n",
        "decoder_output_sequences = pad_sequences(decoder_output_sequences, maxlen=max_out_len, padding='post')\n",
        "\n",
        "# Crear los targets para el decoder (one-hot encoding)\n",
        "decoder_targets = np.zeros((len(decoder_output_sequences), max_out_len, num_words_output), dtype='float32')\n",
        "\n",
        "for i, seq in enumerate(decoder_output_sequences):\n",
        "    for t, word_idx in enumerate(seq):\n",
        "        if word_idx != 0:\n",
        "            decoder_targets[i, t, word_idx] = 1.0\n",
        "\n",
        "# Mostrar resultados\n",
        "print(\"word2idx_inputs:\", word2idx_inputs)\n",
        "print(\"max_input_len:\", max_input_len)\n",
        "print(\"word2idx_outputs:\", word2idx_outputs)\n",
        "print(\"max_out_len:\", max_out_len)\n",
        "print(\"num_words_output:\", num_words_output)\n",
        "print(\"encoder_input_sequences shape:\", encoder_input_sequences.shape)\n",
        "print(\"decoder_output_sequences shape:\", decoder_output_sequences.shape)\n",
        "print(\"decoder_targets shape:\", decoder_targets.shape)\n"
      ],
      "metadata": {
        "colab": {
          "base_uri": "https://localhost:8080/"
        },
        "id": "jND-XD11iiQ3",
        "outputId": "8a6e41dc-f03b-424a-b2fb-51a0b60be59c"
      },
      "execution_count": 9,
      "outputs": [
        {
          "output_type": "stream",
          "name": "stdout",
          "text": [
            "word2idx_inputs: {'i': 1, 'you': 2, 'do': 3, 'what': 4, 'a': 5, 'to': 6, 'are': 7, 'for': 8, 'am': 9, 'how': 10, 'hi': 11, 'like': 12, 'living': 13, 'love': 14, 'is': 15, 'have': 16, 'm': 17, 'that': 18, 'hello': 19, 'oh': 20, 'your': 21, 'ok': 22, 'read': 23, 'good': 24, 'yes': 25, 'the': 26, 'it': 27, 'not': 28, 'no': 29, 's': 30, 'any': 31, 'work': 32, 'in': 33, 'u': 34, 'me': 35, 'my': 36, 'about': 37, 'and': 38, 'from': 39, 't': 40, 'of': 41, 'go': 42, 'play': 43, 'today': 44, 'too': 45, 'so': 46, 'don': 47, 'hobbies': 48, 'nice': 49, 'fine': 50, 'name': 51, 'where': 52, 'cool': 53, 'doing': 54, 'there': 55, 'hey': 56, 'know': 57, 'bye': 58, 'see': 59, 'great': 60, 'well': 61, 'favorite': 62, 'sure': 63, 'old': 64, 'games': 65, 'pets': 66, 'why': 67, 'beach': 68, 'sorry': 69, 'at': 70, 'nothing': 71, 'mean': 72, 'lot': 73, 'fun': 74, 'live': 75, 'okay': 76, 'thanks': 77, 'also': 78, 'can': 79, 'student': 80, 'city': 81, 'vegan': 82, 'video': 83, 'girl': 84, 'with': 85, 'yeah': 86, 'just': 87, 'wow': 88, 'tell': 89, 'be': 90, 'job': 91, 'want': 92, 'food': 93, 'r': 94, 'studying': 95, 'music': 96, 'cook': 97, 'color': 98, 'day': 99, 'hear': 100, 'dogs': 101, 'up': 102, 'as': 103, 'study': 104, 'but': 105, 've': 106, 'which': 107, 'or': 108, 'hate': 109, 'really': 110, 'fuck': 111, 'kids': 112, 'say': 113, 'india': 114, 'teacher': 115, 'movies': 116, 'who': 117, 'kind': 118, 'one': 119, 'dog': 120, 'sounds': 121, 'friends': 122, 'will': 123, 'now': 124, 'was': 125, 'books': 126, 'very': 127, 'doctor': 128, 'hii': 129, 'k': 130, 'he': 131, 'eat': 132, 'boy': 133, 'them': 134, 'ya': 135, 'thank': 136, 'going': 137, 'same': 138, 'because': 139, 'ur': 140, 'they': 141, 'blue': 142, 'ohh': 143, 'all': 144, 'ask': 145, 'much': 146, 'im': 147, 'man': 148, 'end': 149, 'store': 150, 'female': 151, 'single': 152, 'ha': 153, 'grocery': 154, 'help': 155, 'only': 156, 'watch': 157, 'sex': 158, 'teach': 159, 'many': 160, 'cali': 161, 'lol': 162, 'got': 163, 'talk': 164, 'school': 165, 'n': 166, 'did': 167, 'coffee': 168, 'send': 169, 'time': 170, 'then': 171, 'said': 172, 'gym': 173, 'this': 174, 'hope': 175, 'think': 176, 'swim': 177, 'married': 178, 'make': 179, 'meet': 180, 'else': 181, 'night': 182, 'on': 183, 'pizza': 184, 'thing': 185, 'never': 186, 'book': 187, 'funny': 188, 'cats': 189, 'new': 190, 'enjoy': 191, 'number': 192, 'bro': 193, 'cat': 194, 'she': 195, 'an': 196, 'movie': 197, 'drink': 198, 'game': 199, 'we': 200, 'hmm': 201, 'big': 202, 'talking': 203, 'speak': 204, 'best': 205, 'later': 206, 'years': 207, 'right': 208, 'retired': 209, 'kill': 210, 'means': 211, 'girls': 212, 'get': 213, 'year': 214, 'yours': 215, 'would': 216, 'asking': 217, 'favourite': 218, 'off': 219, 'red': 220, 'math': 221, 'major': 222, 'army': 223, 'soon': 224, 'whats': 225, 'yourself': 226, 'understand': 227, 'interesting': 228, 'chat': 229, 'family': 230, 'fan': 231, 'two': 232, 'here': 233, 'dont': 234, 'sleep': 235, 'mine': 236, 'cricket': 237, 'need': 238, 'happened': 239, 'travel': 240, 'some': 241, 'please': 242, 'united': 243, 'states': 244, 'gay': 245, 'car': 246, 'yo': 247, 'woman': 248, 'thats': 249, 'hindi': 250, '32': 251, 'pet': 252, 'nurse': 253, 'haha': 254, 'bad': 255, '2': 256, 'singer': 257, 'call': 258, 'had': 259, 'okk': 260, 'delhi': 261, 'something': 262, 'age': 263, 'reading': 264, 'dance': 265, 'named': 266, 'were': 267, 'guess': 268, 'already': 269, 'cars': 270, 're': 271, 'grade': 272, 'three': 273, 'country': 274, 'band': 275, 'english': 276, 'things': 277, 'idea': 278, 'll': 279, 'science': 280, 'been': 281, 'children': 282, 'tacos': 283, 'us': 284, 'more': 285, 'football': 286, 'purple': 287, '12': 288, 'eyes': 289, 'bot': 290, 'mexican': 291, 'come': 292, 'told': 293, 'drive': 294, 'male': 295, 'always': 296, 'parents': 297, 'horses': 298, 'life': 299, 'start': 300, 'subject': 301, 'business': 302, 'question': 303, 'playing': 304, 'robot': 305, 'o': 306, 'iam': 307, 'hobby': 308, 'sir': 309, 'own': 310, 'amazing': 311, 'chatting': 312, 'gud': 313, 'looking': 314, 'plz': 315, 'when': 316, 'give': 317, 'bees': 318, 'yea': 319, 'disney': 320, 'listen': 321, '30': 322, 'restaurant': 323, 'clowns': 324, 'green': 325, 'fucking': 326, 'gender': 327, 'sing': 328, 'librarian': 329, 'does': 330, 'song': 331, 'black': 332, 'cute': 333, 'joke': 334, 'learn': 335, 'by': 336, 'beautiful': 337, 'winter': 338, 'use': 339, 'try': 340, 'friend': 341, 'home': 342, 'hiii': 343, 'sell': 344, 'kk': 345, 'hlw': 346, 'photo': 347, '18': 348, 'her': 349, 'either': 350, 'soccer': 351, 'ooo': 352, 'engineer': 353, 'hair': 354, 'its': 355, 'mother': 356, 'indian': 357, 'maybe': 358, 'working': 359, 'russia': 360, 'horror': 361, 'team': 362, 'riverside': 363, 'fly': 364, 'awesome': 365, 'though': 366, 'every': 367, 'pobox': 368, 'soda': 369, 'boyfriend': 370, 'smart': 371, 'story': 372, 'yellow': 373, 'seen': 374, '3': 375, 'farmer': 376, 'sometimes': 377, 'being': 378, 'happy': 379, 'won': 380, 'hard': 381, 'grow': 382, 'run': 383, 'german': 384, 'york': 385, 'harry': 386, 'potter': 387, 'facebook': 388, 'navy': 389, 'person': 390, '25': 391, 'first': 392, 'hai': 393, 'hlo': 394, 'nd': 395, 'suck': 396, 'those': 397, 'wrong': 398, 'class': 399, '20': 400, 'hahaha': 401, 'eating': 402, 'both': 403, 'pic': 404, 'wait': 405, 'bout': 406, 'crazy': 407, 'show': 408, 'walking': 409, 'sports': 410, 'lucy': 411, 'yaa': 412, 'wassup': 413, '19': 414, 'ohhh': 415, 'anything': 416, 'metal': 417, 'id': 418, 'partner': 419, 'singing': 420, 'father': 421, 'farm': 422, 'genre': 423, 'thx': 424, 'anytime': 425, '33': 426, 'high': 427, 'let': 428, 'problem': 429, 'could': 430, 'didn': 431, 'songs': 432, '17': 433, 'radar': 434, 'burgers': 435, 'kinds': 436, 'place': 437, 'sport': 438, 'stupid': 439, 'lover': 440, 'shopping': 441, 'boring': 442, 'watches': 443, 'twitch': 444, 'beer': 445, 'alcoholic': 446, 'v': 447, 'believe': 448, 'cooking': 449, 'conversation': 450, 'fast': 451, 'lost': 452, 'back': 453, 'fix': 454, 'p': 455, 'saying': 456, 'bored': 457, 'waitress': 458, 'brown': 459, 'aren': 460, 'over': 461, 'mostly': 462, 'languages': 463, 'chef': 464, 'part': 465, 'leave': 466, 'alone': 467, 'everything': 468, 'answer': 469, 'brother': 470, 'respect': 471, 'women': 472, 'honda': 473, 'civic': 474, 'star': 475, 'wars': 476, 'grey': 477, 'money': 478, 'house': 479, 'long': 480, 'alaska': 481, 'take': 482, 'fn': 483, 'teek': 484, 'kaam': 485, 'haa': 486, 'brat': 487, 'dick': 488, 'guitar': 489, 'die': 490, 'appreciate': 491, 'btw': 492, 'language': 493, 'bank': 494, 'type': 495, 'wtf': 496, 'gf': 497, 'college': 498, 'breathing': 499, 'y': 500, 'even': 501, '21': 502, 'neither': 503, 'mom': 504, 'watching': 505, 'ohhk': 506, 'goes': 507, '5': 508, 'vacation': 509, 'hyy': 510, 'taking': 511, 'basketball': 512, 'bake': 513, 'john': 514, 'bba': 515, 'comedian': 516, 'meat': 517, 'healthy': 518, 'heart': 519, 'bike': 520, 'shop': 521, 'shows': 522, 'ride': 523, 'chinese': 524, 'orange': 525, 'helo': 526, 'pretty': 527, 'dear': 528, 'b': 529, 'com': 530, 'marketing': 531, 'jobs': 532, 'god': 533, 'beatles': 534, 'mad': 535, 'count': 536, 'biriyani': 537, 'social': 538, '22': 539, 'hahn': 540, 'pubg': 541, 'hurt': 542, 'punjabi': 543, 'yess': 544, 'd': 545, '35': 546, 'california': 547, 'wearing': 548, 'hat': 549, 'wonderful': 550, 'musician': 551, 'most': 552, 'should': 553, 'developer': 554, 'drum': 555, '4': 556, 'sky': 557, 'still': 558, 'quit': 559, '10': 560, 'few': 561, '14': 562, 'retail': 563, 'goodbye': 564, 'used': 565, 'died': 566, 'occupation': 567, 'ever': 568, 'played': 569, 'if': 570, 'north': 571, 'carolina': 572, 'favorites': 573, 'italian': 574, 'peanuts': 575, 'peanut': 576, 'allergy': 577, 'bf': 578, 'swimming': 579, 'tonight': 580, 'deal': 581, 'vodka': 582, 'fish': 583, 'helloz': 584, 'done': 585, 'bbye': 586, 'finish': 587, 'idk': 588, 'papayas': 589, 'dumb': 590, 'spanish': 591, 'before': 592, 'bit': 593, 'hiking': 594, 'five': 595, 'sons': 596, 'rock': 597, 'okey': 598, 'alright': 599, 'students': 600, 'damn': 601, 'feel': 602, 'usa': 603, 'small': 604, 'boston': 605, 'went': 606, 'sexy': 607, 'ass': 608, 'papaya': 609, 'hummus': 610, 'wine': 611, 'x': 612, 'killed': 613, 'trump': 614, 'market': 615, 'actually': 616, 'feminist': 617, 'jokes': 618, 'rap': 619, 'friday': 620, 'tiger': 621, 'michael': 622, 'larry': 623, 'ma': 624, 'horse': 625, 'vet': 626, 'drugs': 627, 'asked': 628, 'world': 629, 'correct': 630, 'happen': 631, 'west': 632, 'kkk': 633, 'breath': 634, 'topic': 635, 'struggle': 636, 'works': 637, 'phone': 638, 'message': 639, 'olakka': 640, 'hu': 641, 'karogi': 642, 'nursing': 643, 'choice': 644, 'chess': 645, 'meaning': 646, 'girlfriend': 647, 'may': 648, 'urs': 649, 'nissan': 650, 'sentry': 651, 'yoga': 652, 'thrillers': 653, 'ho': 654, 'ahe': 655, 'nhi': 656, 'ka': 657, 'such': 658, 'our': 659, 'christ': 660, 'makes': 661, 'sense': 662, 'shit': 663, 'noo': 664, 'win': 665, 'pornstar': 666, 'exam': 667, 'tv': 668, 'hy': 669, 'oho': 670, 'ah': 671, 'enjoying': 672, 'byee': 673, 'gn': 674, 'suffering': 675, 'bee': 676, 'supermarket': 677, 'huski': 678, 'prefer': 679, 'around': 680, 'yah': 681, 'engineering': 682, 'woww': 683, 'real': 684, 'surat': 685, 'dinner': 686, 'resume': 687, 'present': 688, 'pg': 689, 'hm': 690, '26': 691, 'young': 692, 'stop': 693, 'imagine': 694, 'management': 695, 'pink': 696, 'form': 697, 'wish': 698, 'taylor': 699, 'key': 700, 'alive': 701, 'morning': 702, 'human': 703, 'hospital': 704, 'changing': 705, 'reply': 706, 'begin': 707, 'electric': 708, 'super': 709, 'whts': 710, 'pursuing': 711, '80': 712, 'poor': 713, 'again': 714, 'serve': 715, 'nyc': 716, 'craft': 717, 'bt': 718, 'pls': 719, 'speaking': 720, 'guns': 721, 'cork': 722, 'bc': 723, 'ready': 724, 'waiting': 725, 'feeling': 726, 'busy': 727, 'animal': 728, 'attend': 729, 'foods': 730, 'debt': 731, 'degree': 732, 'breed': 733, 'find': 734, 'baby': 735, 'nope': 736, 'fucker': 737, 'wbu': 738, 'fyn': 739, 'questions': 740, 'ohk': 741, 'espn': 742, 'hell': 743, 'media': 744, 'myself': 745, 'tamil': 746, 'french': 747, 'thumbs': 748, 'born': 749, 'europe': 750, 'iq': 751, 'short': 752, 'maintenance': 753, 'pardon': 754, 'famous': 755, 'buddy': 756, 'kid': 757, 'above': 758, 'hahah': 759, 'toku': 760, 'burger': 761, 'little': 762, 'sry': 763, 'etc': 764, 'evening': 765, 'c': 766, 'him': 767, 'yup': 768, 'ooh': 769, 'bal': 770, 'gas': 771, 'station': 772, 'marry': 773, 'haven': 774, 'ny': 775, 'inter': 776, '2nd': 777, 'france': 778, 'pub': 779, 'mumbai': 780, 'mi': 781, 'np': 782, 'relationship': 783, 'electrician': 784, 'ping': 785, 'pong': 786, 'f9': 787, 'sumit': 788, 'fb': 789, 'state': 790, 'tree': 791, 'made': 792, 'wife': 793, 'dish': 794, 'sci': 795, 'his': 796, 'eaten': 797, 'shoes': 798, 'follow': 799, 'purpose': 800, 'noodles': 801, 'lovely': 802, 'nyt': 803, 'mary': 804, 'pool': 805, 'lucille': 806, 'steve': 807, 'mee': 808, 'dolgoprudny': 809, 'organ': 810, 'hyperion': 811, 'thriller': 812, 'buy': 813, 'cancer': 814, 'software': 815, 'whanna': 816, 'base': 817, 'spartak': 818, 'hooligan': 819, 'leila': 820, '36': 821, 'possible': 822, 'comic': 823, 'instantly': 824, 'build': 825, 'houses': 826, 'creampie': 827, 'together': 828, 'plans': 829, 'mans': 830, 'sweety': 831, 'sara': 832, 'collies': 833, 'minor': 834, 'engeneer': 835, 'dig': 836, 'introduce': 837, 'supportive': 838, 'medication': 839, 'meditation': 840, 'overworked': 841, 'mickey': 842, 'mouse': 843, 'contacts': 844, 'names': 845, 'vegetarian': 846, 'apologise': 847, 'parent': 848, 'readings': 849, 'resturant': 850, 'pity': 851, 'sea': 852, 'pupil': 853, 'cloud': 854, '24': 855, 'twelve': 856, 'deadpool': 857, 'cannot': 858, 'wher': 859, 'ohio': 860, 'margarita': 861, 'putin': 862, 'honor': 863, 'sad': 864, 'hatiko': 865, 'twenties': 866, 'fashioned': 867, 'prius': 868, 'nah': 869, 'programmer': 870, 'mind': 871, 'dude': 872, 'parties': 873, 'bleat': 874, 'realy': 875, 'ou': 876, 'true': 877, 'came': 878, 'clients': 879, 'created': 880, 'artist': 881, 'scarlett': 882, 'johanson': 883, '40k': 884, 'gavorite': 885, 'divorced': 886, 'husband': 887, 'heloo': 888, 'intelligent': 889, 'block': 890, 'donyou': 891, 'humans': 892, 'teste': 893, 'online': 894, 'coloring': 895, 'eh': 896, 'paint': 897, 'portrets': 898, 'definetely': 899, 'monster': 900, 'definitely': 901, 'dearly': 902, 'moving': 903, 'trauma': 904, 'surgeon': 905, 'course': 906, 'tou': 907, 'seems': 908, 'dinno': 909, 'matter': 910, 'bigen': 911, 'better': 912, 'called': 913, 'avatar': 914, 'fishing': 915, 'halo': 916, 'mmm': 917, 'yep': 918, 'latin': 919, 'american': 920, 'literature': 921, 'doctro': 922, 'local': 923, 'late': 924, 'obviously': 925, 'birds': 926, 'wise': 927, 'julie': 928, 'roll': 929, 'jib': 930, 'fantasy': 931, 'folk': 932, 'irregularly': 933, 'golden': 934, 'retriever': 935, 'isn': 936, 'offensive': 937, 'response': 938, 'howdy': 939, 'stranger': 940, 'siblings': 941, 'ciao': 942, 'bonjour': 943, 'mon': 944, 'ami': 945, 'contour': 946, 'chatbot': 947, 'testing': 948, 'deliver': 949, 'cheated': 950, 'horrible': 951, 'recently': 952, 'insurance': 953, 'grew': 954, 'south': 955, '41': 956, 'seriously': 957, 'art': 958, 'chicago': 959, 'running': 960, 'dublin': 961, 'bought': 962, 'condo': 963, 'rolling': 964, 'stones': 965, 'zzzz': 966, 'ups': 967, 'machiavellian': 968, 'niggas': 969, 'silent': 970, 'enought': 971, 'heeeeeeey': 972, 'bi': 973, 'rarely': 974, 'yoy': 975, 'fortnite': 976, 'fallen': 977, 'trafficer': 978, 'transgender': 979, 'jonny': 980, 'depp': 981, 'ford': 982, 'mustangs': 983, 'fair': 984, 'enough': 985, 'agree': 986, 'role': 987, 'religion': 988, 'sister': 989, 'direction': 990, 'sick': 991, 'attitude': 992, 'isis': 993, 'plant': 994, 'bombs': 995, 'motorbike': 996, 'femenist': 997, 'lgbt': 998, 'leningrad': 999, 'cellphones': 1000, 'tough': 1001, 'tesla': 1002, 'lawyer': 1003, 'pain': 1004, 'someone': 1005, 'rubber': 1006, 'lab': 1007, 'eba': 1008, 'sup': 1009, 'supsupsup': 1010, 'arm': 1011, 'kek': 1012, 'meth': 1013, 'vagina': 1014, 'kekekek': 1015, 'bots': 1016, 'pidor': 1017, 'sun': 1018, 'belgia': 1019, 'fire': 1020, 'producer': 1021, 'sand': 1022, 'castles': 1023, 'nevermind': 1024, 'depends': 1025, 'florida': 1026, 'watermelon': 1027, 'complain': 1028, 'release': 1029, 'change': 1030, 'salary': 1031, 'shopkeeper': 1032, 'dancer': 1033, 'keypad': 1034, '1': 1035, 'messenger': 1036, 'urgent': 1037, 'mail': 1038, 'yas': 1039, 'honey': 1040, 'bedroom': 1041, 'lime': 1042, 'puzhingi': 1043, 'thinno': 1044, 'weed': 1045, 'samosa': 1046, 'pajama': 1047, 'khol': 1048, 'phir': 1049, 'smoking': 1050, 'nem': 1051, 'apka': 1052, 'nama': 1053, 'kia': 1054, 'aacha': 1055, 'khuch': 1056, 'nahi': 1057, 'ajay': 1058, 'plzzz': 1059, 'hobbie': 1060, 'bathroom': 1061, 'foot': 1062, 'ball': 1063, 'studding': 1064, 'law': 1065, 'forgive': 1066, 'shoe': 1067, 'retrievers': 1068, 'entail': 1069, 'into': 1070, 'dating': 1071, 'penny': 1072, 'hifi': 1073, 'achaa': 1074, 'yum': 1075, 'charlie': 1076, 'boxer': 1077, 'belongs': 1078, 'fuckinh': 1079, 'owner': 1080, 'relative': 1081, 'factory': 1082, 'pa': 1083, 'hilly': 1084, 'places': 1085, 'kiska': 1086, 'mature': 1087, 'playboy': 1088, 'ladies': 1089, 'hatchback': 1090, 'guitaring': 1091, 'classes': 1092, 'biographies': 1093, 'stick': 1094, 'racer': 1095, 'bola': 1096, 'shikat': 1097, 'sadya': 1098, 'ky': 1099, 'smjl': 1100, 'tumch': 1101, 'maz': 1102, 's2u': 1103, 'third': 1104, 'muslim': 1105, 'president': 1106, 'inspiring': 1107, 'profession': 1108, 'ngt': 1109, 'bunny': 1110, 'temple': 1111, 'banchod': 1112, 'mohela': 1113, 'gand': 1114, 'maara': 1115, 'shemale': 1116, 'needn': 1117, 'spiritual': 1118, 'without': 1119, '8th': 1120, 'tru': 1121, 'lesbian': 1122, 'strangers': 1123, 'pregnant': 1124, 'yohr': 1125, 'madarchod': 1126, 'cómo': 1127, 'estás': 1128, 'amigo': 1129, 'congratulations': 1130, 'journey': 1131, 'cold': 1132, 'byy': 1133, 'churches': 1134, 'silence': 1135, 'relax': 1136, 'backpropagating': 1137, 'errors': 1138, 'ranjan': 1139, 'frm': 1140, 'earlier': 1141, 'courier': 1142, 'offive': 1143, 'anyone': 1144, 'gen': 1145, 'depending': 1146, 'sleeping': 1147, 'joking': 1148, 'dharmik': 1149, 'graphic': 1150, 'designer': 1151, 'gril': 1152, 'robotics': 1153, 'porn': 1154, 'hollywood': 1155, 'moy': 1156, 'air': 1157, 'tq': 1158, 'hoo': 1159, 'practice': 1160, 'presently': 1161, 'btech': 1162, 'aw': 1163, 'currently': 1164, 'nthg': 1165, 'brinjal': 1166, 'roses': 1167, 'jasmine': 1168, 'relaxing': 1169, 'happiness': 1170, 'thankyou': 1171, 'fuking': 1172, 'asm': 1173, 'nancy': 1174, 'roo': 1175, 'ahh': 1176, 'oo': 1177, 'gm': 1178, 'poker': 1179, 'emd': 1180, 'jai': 1181, 'kata': 1182, 'di': 1183, 'thnk': 1184, 'beth': 1185, 'ol': 1186, 'yeeee': 1187, 'license': 1188, 'ufc': 1189, 'engit': 1190, 'modified': 1191, 'increase': 1192, 'efficiency': 1193, 'design': 1194, 'app': 1195, 'h': 1196, 'people': 1197, 'hbu': 1198, 'costomer': 1199, 'services': 1200, 'easy': 1201, 'continue': 1202, 'unemployment': 1203, 'hom': 1204, 'lucknow': 1205, 'production': 1206, 'clash': 1207, 'clan': 1208, 'firstly': 1209, 'searching': 1210, 'okkk': 1211, 'byyy': 1212, 'hel': 1213, 'housekeeper': 1214, 'ooooooooh': 1215, 'ones': 1216, 'hairdresser': 1217, 'huge': 1218, 'lovee': 1219, 'issue': 1220, 'goo': 1221, 'far': 1222, 'eleectrian': 1223, 'employed': 1224, 'vocapation': 1225, 'noumber': 1226, 'hlooo': 1227, 'haii': 1228, 'prem': 1229, 'ne': 1230, 'mountains': 1231, 'pahadi': 1232, 'achoo': 1233, 'harshit': 1234, 'date': 1235, 'uttrakand': 1236, 'haridwar': 1237, 'surgery': 1238, 'hola': 1239, 'ranchi': 1240, 'dd': 1241, 'cindition': 1242, 'vegetables': 1243, 'bitch': 1244, 'sewing': 1245, 'choose': 1246, 'shivu': 1247, 'piano': 1248, 'answering': 1249, 'bunnies': 1250, 'laugh': 1251, 'alcoholics': 1252, 'più': 1253, 'meno': 1254, 'motoria': 1255, 'sunbath': 1256, 'drawing': 1257, 'unicorns': 1258, 'russian': 1259, 'rassist': 1260, 'stuped': 1261, 'ufa': 1262, 'ere': 1263, 'wargames': 1264, 'nation': 1265, 'persuing': 1266, 'graduation': 1267, 'rice': 1268, 'ks': 1269, 'hollydays': 1270, 'fitness': 1271, 'taste': 1272, 'fried': 1273, 'baked': 1274, 'rural': 1275, 'area': 1276, 'preety': 1277, 'mma': 1278, 'fight': 1279, 'haryana': 1280, 'reside': 1281, 'wok': 1282, 'del': 1283, 'taco': 1284, 'perr': 1285, 'seperated': 1286, 'separated': 1287, 'programme': 1288, 'rocking': 1289, 'service': 1290, 'okie': 1291, '13': 1292, 'loves': 1293, 'keep': 1294, 'park': 1295, 'truth': 1296, 'sales': 1297, 'millions': 1298, 'diamond': 1299, 'tattoos': 1300, '6': 1301, 'leaving': 1302, 'meeting': 1303, 'chal': 1304, 'bhhag': 1305, 'waiteress': 1306, 'dat': 1307, '4m': 1308, 'antakshri': 1309, 'listening': 1310, 'tables': 1311, 'free': 1312, 'forward': 1313, 'ty': 1314, 'ive': 1315, '27': 1316, 'redhead': 1317, 'outside': 1318, 'coach': 1319, 'networking': 1320, 'magical': 1321, 'capital': 1322, 'paharganj': 1323, 'majoring': 1324, 'hunt': 1325, 'delivery': 1326, 'near': 1327, 'met': 1328, 'ntg': 1329, 'cultural': 1330, 'zen': 1331, 'angela': 1332, 'luck': 1333, 'yono': 1334, 'yeaa': 1335, 'meeto': 1336, 'result': 1337, 'yeaaa': 1338, 'hav': 1339, 'bachelor': 1340, 'completed': 1341, 'labrador': 1342, 'topics': 1343, 'urdu': 1344, 'several': 1345, 'contact': 1346, 'picture': 1347, 'welcome': 1348, 'nor': 1349, 'challenge': 1350, 'days': 1351, 'connection': 1352, 'idiot': 1353, 'nowas': 1354, 'hie': 1355, 'meditate': 1356, 'wat': 1357, 'trainer': 1358, 'oookkk': 1359, 'chip': 1360, 'bcom': 1361, 'pharmacy': 1362, 'q': 1363, '46': 1364, 'e': 1365, 'mc2': 1366, 'patna': 1367, 'freeze': 1368, 'conditions': 1369, 'despasito': 1370, 'oohh': 1371, 'lawyers': 1372, 'choreography': 1373, 'kgkdusu': 1374, 'permanent': 1375, 'chl': 1376, 'sala': 1377, 'full': 1378, 'dukan': 1379, 'jara': 1380, 'biryani': 1381, 'banana': 1382, 'pork': 1383, 'haraam': 1384, 'kyu': 1385, 'bunty': 1386, 'bhai': 1387, 'lion': 1388, 'fail': 1389, 'taught': 1390, 'lionel': 1391, 'messi': 1392, 'ronaldo': 1393, 'getlost': 1394, 'disturbance': 1395, 'animaos': 1396, 'poady': 1397, 'kalanjitt': 1398, 'podey': 1399, 'onn': 1400, 'board': 1401, 'moscow': 1402, 'alwar': 1403, 'rajasthan': 1404, 'sarah': 1405, 'banking': 1406, 'nepal': 1407, 'geard': 1408, 'neapl': 1409, 'yet': 1410, 'tamio': 1411, 'bihar': 1412, 'unknown': 1413, 'erm': 1414, 'space': 1415, 'barbies': 1416, 'graduate': 1417, 'psychology': 1418, '8': 1419, 'test': 1420, 'check': 1421, 'level': 1422, 'clothes': 1423, 'stylish': 1424, 'skirts': 1425, 'self': 1426, 'pari': 1427, 'traveling': 1428, 'public': 1429, 'tes': 1430, 'thrones': 1431, 'boobes': 1432, 'hairs': 1433, 'chest': 1434, 'leg': 1435, 'jock': 1436, 'sucks': 1437, 'massage': 1438, 'goof': 1439, 'agra': 1440, 'retirement': 1441, 'waiter': 1442, 'ghanta': 1443, 'fancy': 1444, 'chuttiyq': 1445, 'jus': 1446, '11': 1447, 'mentioned': 1448, 'text': 1449, 'conversion': 1450, 'watchin': 1451, 'videos': 1452, 'belong': 1453, 'punjab': 1454, 'unarried': 1455, 'unmarried': 1456, 'iove': 1457, 'beautyfull': 1458, 'history': 1459, 'schezwan': 1460, 'martein': 1461, 'hungry': 1462, 'forest': 1463, 'amazon': 1464, 'relaxed': 1465, 'fickle': 1466, 'offo': 1467, 'gaya': 1468, 'sweet': 1469, 'dreams': 1470, 'udaipur': 1471, 'crush': 1472, 'gob': 1473, 'word': 1474, 'search': 1475, 'slow': 1476, 'minute': 1477, 'necessary': 1478, 'value': 1479, 'ltd': 1480, 'hole': 1481, 'dud': 1482, 'expensive': 1483, 'orly': 1484, 'extra': 1485, 'compliment': 1486, 'fatafati': 1487, 'yyrr': 1488, 'hahahaha': 1489, 'poetry': 1490, 'way': 1491, 'whatever': 1492, 'security': 1493, 'computer': 1494, 'travis': 1495, 'add': 1496, 'basic': 1497, 'death': 1498, 'g': 1499, 'plzz': 1500, 'ocean': 1501, 'streamer': 1502, 'magic': 1503, 'patronus': 1504, 'ron': 1505, 'hubby': 1506, 'umm': 1507, 'commerce': 1508, 'tf': 1509, 'saw': 1510, 'move': 1511, 'miscommunicated': 1512, 'robots': 1513, 'shut': 1514, 'gtfo': 1515, 'bhilai': 1516, 'fav': 1517, 'ohky': 1518, 'wt': 1519, 'china': 1520, 'म': 1521, 'भ': 1522, 'रत': 1523, 'स': 1524, 'ह': 1525, 'volleyball': 1526, 'defender': 1527, 'visit': 1528, 'ted': 1529, 'jane': 1530, 'twenty': 1531, 'office': 1532, 'kalpesh': 1533, 'white': 1534, 'photographer': 1535, 'sock': 1536, 'instrument': 1537, 'dum': 1538, 'purchase': 1539, 'vegetable': 1540, 'shoot': 1541, 'knife': 1542, 'watts': 1543, 'sambhu': 1544, 'officially': 1545, 'sundegarh': 1546, 'next': 1547, 'pta': 1548, 'eng': 1549, 'painful': 1550, 'melon': 1551, 'fever': 1552, 'george': 1553, 'education': 1554, 'alot': 1555, 'pinch': 1556, 'chocolate': 1557, 'regularly': 1558, 'kolakluru': 1559, 'veg': 1560, 'aaa': 1561, 'foody': 1562, 'ski': 1563, 'plumber': 1564, 'interior': 1565, 'designing': 1566, 'chicks': 1567, 'wwwowww': 1568, 'weekend': 1569, 'hloo': 1570, 'marathon': 1571, 'po': 1572, 'myre': 1573, 'normal': 1574, 'four': 1575, 'uh': 1576, 'private': 1577, 'britney': 1578, 'spears': 1579, 'ca': 1580, 'ga': 1581, 'triumph': 1582, 'oxygen': 1583, 'chasing': 1584, 'kimono': 1585, 'lizards': 1586, 'lazy': 1587, 'lazzzy': 1588, 'early': 1589, 'head': 1590, 'bed': 1591, 'pk': 1592, 'skateboarder': 1593, 'android': 1594, 'anywhere': 1595, 'kindergarten': 1596, 'garden': 1597, 'mango': 1598, 'summer': 1599, 'sanju': 1600, 'ai': 1601, 'system': 1602, 'toaster': 1603, 'hoe': 1604, 'concentrate': 1605, 'cakes': 1606, 'unfortunate': 1607, 'inception': 1608, 'godfather': 1609, 'crafting': 1610, 'beg': 1611, 'm9re': 1612, 'violin': 1613, 'messed': 1614, 'son': 1615, 'adam': 1616, 'alabama': 1617, 'anushka': 1618, 'recovering': 1619, 'lose': 1620, 'jmm': 1621, 'trooper': 1622, 'thnx': 1623, 'nevada': 1624, 'toys': 1625, '10th': 1626, 'maths': 1627, '3kids': 1628, 'boys': 1629, 'haaa': 1630, 'intelligence': 1631, 'failed': 1632, 'grown': 1633, 'haaaaa': 1634, 'robert': 1635, 'bijoy': 1636, 'undergraduate': 1637, 'wear': 1638, 'shirt': 1639, 'soo': 1640, 'violinist': 1641, 'gaming': 1642, 'atlanta': 1643, 'omg': 1644, 'example': 1645, 'scared': 1646, 'clown': 1647, 'cause': 1648, 'shepherds': 1649, 'shepherd': 1650, 'mobile': 1651, 'y1': 1652, 'turned': 1653, 'last': 1654, 'month': 1655, 'bodmad': 1656, 'reminds': 1657, 'bodmas': 1658, 'knit': 1659, 'having': 1660, 'sahi': 1661, 'tera': 1662, 'war': 1663, 'grill': 1664, 'chutia': 1665, 'gandu': 1666, 'loda': 1667, 'tatti': 1668, 'delicious': 1669, 'allahabad': 1670, 'flirt': 1671, 'borrow': 1672, 'sew': 1673, 'burn': 1674, 'phew': 1675, 'unwind': 1676, 'other': 1677, 'moms': 1678, 'classical': 1679, 'carla': 1680, 'church': 1681, 'purposes': 1682, 'alan': 1683, 'turing': 1684, 'hiiii': 1685, 'out': 1686, 'colorado': 1687, 'peet': 1688, 'deaf': 1689, 'turkey': 1690, 'bsdk': 1691, 'bhubaneswar': 1692, 'surfing': 1693, 'internet': 1694, 'novels': 1695, 'ahaa': 1696, 'edhokke': 1697, 'ariyanam': 1698, 'amaravathi': 1699, 'cares': 1700, 'fuckk': 1701, 'offf': 1702, 'dafuq': 1703, 'swimmer': 1704, 'fu': 1705, 'jet': 1706, 'actor': 1707, 'tony': 1708, 'jocking': 1709, 'beat': 1710, 'snow': 1711, 'physical': 1712, 'groove': 1713, 'seven': 1714, 'fool': 1715, 'classic': 1716, 'laro': 1717, 'van': 1718, 'na': 1719, 'photos': 1720, 'command': 1721, 'weather': 1722, 'has': 1723, 'gone': 1724, 'halli': 1725, 'gine': 1726, 'trying': 1727, 'pif': 1728, 'pad': 1729, 'twice': 1730, 'gd': 1731, 'manchurian': 1732, 'hmmm': 1733, 'yesss': 1734, 'painting': 1735, 'jersey': 1736, 'collage': 1737, 'tomorrow': 1738, 'attack': 1739, 'write': 1740, 'finance': 1741, 'paris': 1742, 'must': 1743, 'rewarding': 1744, 'jharkhand': 1745, 'accountant': 1746, 'yrs': 1747, 'youtube': 1748, 'religious': 1749, 'phi': 1750, 'abhishil': 1751, 'kar': 1752, 'har': 1753, 'maiden': 1754, 'fateh': 1755, 'baraut': 1756, 'hv': 1757, 'jackson': 1758, 'pussy': 1759, 'looks': 1760, 'boobs': 1761, 'glad': 1762, 'available': 1763, 'claire': 1764, 'youba': 1765, 'mothe': 1766, 'hiiiiiiii': 1767, 'hiya': 1768, 'uoy': 1769, 'teem': 1770, 'ot': 1771, 'ecin': 1772, 'ycul': 1773, 'haribo': 1774, 'dialog': 1775, 'aslo': 1776, 'kiss': 1777, 'fucked': 1778, 'soldier': 1779, 'alcohol': 1780, 'bisexual': 1781, 'jack': 1782, 'coca': 1783, 'cola': 1784, 'drinks': 1785, 'party': 1786, 'types': 1787, 'bruno': 1788, 'mars': 1789, 'justin': 1790, 'bieber': 1791, 'lamborghini': 1792, 'aventador': 1793, 'rolls': 1794, 'royce': 1795, 'nowhere': 1796, 'detective': 1797, 'asshole': 1798, 'clouds': 1799}\n",
            "max_input_len: 9\n",
            "word2idx_outputs: {'<eos>': 1, '<sos>': 2, 'you': 3, 'i': 4, 'do': 5, 'what': 6, 'a': 7, 'are': 8, 'to': 9, 'for': 10, 'how': 11, 'am': 12, 'living': 13, 'like': 14, 'love': 15, 'have': 16, 'is': 17, 'm': 18, 'your': 19, 'read': 20, 'hello': 21, 'oh': 22, 'good': 23, 'that': 24, 'hi': 25, 'it': 26, 'the': 27, 'any': 28, 'not': 29, 'yes': 30, 'u': 31, 'and': 32, 'work': 33, 'about': 34, 'me': 35, 's': 36, 'in': 37, 'no': 38, 'my': 39, 'ok': 40, 'fine': 41, 'from': 42, 'today': 43, 'of': 44, 'hobbies': 45, 'doing': 46, 't': 47, 'where': 48, 'name': 49, 'play': 50, 'too': 51, 'go': 52, 'so': 53, 'well': 54, 'see': 55, 'great': 56, 'don': 57, 'favorite': 58, 'bye': 59, 'pets': 60, 'nice': 61, 'know': 62, 'there': 63, 'at': 64, 'hey': 65, 'why': 66, 'can': 67, 'sure': 68, 'live': 69, 'cool': 70, 'fun': 71, 'thanks': 72, 'old': 73, 'games': 74, 'beach': 75, 'job': 76, 'tell': 77, 'with': 78, 'student': 79, 'mean': 80, 'sorry': 81, 'girl': 82, 'up': 83, 'video': 84, 'vegan': 85, 'day': 86, 'city': 87, 'nothing': 88, 'cook': 89, 'studying': 90, 'lot': 91, 'be': 92, 'food': 93, 'wow': 94, 'really': 95, 'okay': 96, 'also': 97, 'r': 98, 'dog': 99, 'kind': 100, 'color': 101, 'want': 102, 'yeah': 103, 'as': 104, 'just': 105, 'music': 106, 've': 107, 'hate': 108, 'now': 109, 'or': 110, 'one': 111, 'india': 112, 'books': 113, 'doctor': 114, 'say': 115, 'movies': 116, 'study': 117, 'which': 118, 'fuck': 119, 'kids': 120, 'but': 121, 'thank': 122, 'dogs': 123, 'friends': 124, 'very': 125, 'teacher': 126, 'ur': 127, 'who': 128, 'was': 129, 'hear': 130, 'will': 131, 'eat': 132, 'hope': 133, 'because': 134, 'ya': 135, 'they': 136, 'he': 137, 'all': 138, 'n': 139, 'cali': 140, 'whats': 141, 'school': 142, 'store': 143, 'talk': 144, 'grocery': 145, 'lol': 146, 'same': 147, 'sounds': 148, 'k': 149, 'hii': 150, 'going': 151, 'watch': 152, 'thing': 153, 'this': 154, 'female': 155, 'night': 156, 'help': 157, 'coffee': 158, 'cat': 159, 'end': 160, 'think': 161, 'many': 162, 'get': 163, 'send': 164, 'im': 165, 'them': 166, 'man': 167, 'ask': 168, 'sex': 169, 'new': 170, 'did': 171, 'boy': 172, 'kill': 173, 'never': 174, 'an': 175, 'time': 176, 'got': 177, 'teach': 178, 'enjoy': 179, 'yourself': 180, 'meet': 181, 'then': 182, 'two': 183, 'swim': 184, 'we': 185, 'married': 186, 'speak': 187, 'right': 188, 'much': 189, 'yours': 190, 'age': 191, 'bad': 192, 'united': 193, 'states': 194, 'something': 195, 'awesome': 196, 'understand': 197, 'pizza': 198, 'asking': 199, 'book': 200, 'cats': 201, 'sing': 202, 'single': 203, 'number': 204, 'ha': 205, 'hindi': 206, 'else': 207, 'sleep': 208, 'need': 209, 'please': 210, 'she': 211, 'on': 212, 'call': 213, 'blue': 214, 'movie': 215, 'game': 216, 'bot': 217, 'big': 218, 'talking': 219, '32': 220, 'retired': 221, 'll': 222, 'army': 223, 'make': 224, 'home': 225, 'math': 226, 'ohh': 227, 'mine': 228, 'bro': 229, 'been': 230, 'happened': 231, 'answer': 232, 'year': 233, 'would': 234, 'dance': 235, 'already': 236, 'funny': 237, 'gym': 238, 'always': 239, 'band': 240, 'pet': 241, 'major': 242, 'business': 243, 'fan': 244, 'favourite': 245, 'best': 246, 'dont': 247, 'off': 248, 'sir': 249, 'means': 250, 'eating': 251, 'later': 252, 'years': 253, 'cricket': 254, 'reading': 255, 'some': 256, 'said': 257, 'only': 258, 'horses': 259, 'chat': 260, 'family': 261, 'hobby': 262, 'english': 263, 'things': 264, 'girls': 265, '2': 266, 'here': 267, 'soon': 268, 'more': 269, 'when': 270, 'were': 271, 'grow': 272, 'science': 273, 'gay': 274, 'fucking': 275, 'drive': 276, 'parents': 277, 'grade': 278, 'three': 279, 'does': 280, 'us': 281, 'working': 282, 'start': 283, '18': 284, 'her': 285, 'musician': 286, 'nurse': 287, 'hair': 288, 'had': 289, 'male': 290, 'chatting': 291, 'red': 292, 'delhi': 293, 'chip': 294, 'car': 295, 'twitch': 296, 'guess': 297, 'york': 298, 'told': 299, 'song': 300, 'black': 301, 'mom': 302, 'subject': 303, 'haha': 304, 'children': 305, 'next': 306, 'person': 307, 'singer': 308, 'hlw': 309, 'woman': 310, 'gud': 311, 'fast': 312, 'travel': 313, 'mother': 314, 'its': 315, 'give': 316, 'life': 317, 'bees': 318, 'anything': 319, 'indian': 320, 'sports': 321, 'beautiful': 322, 'football': 323, 'named': 324, '3': 325, 'riverside': 326, 'yo': 327, 'him': 328, '30': 329, 'pobox': 330, 'eyes': 331, 'cars': 332, 'boyfriend': 333, 'clowns': 334, 'mexican': 335, 'lover': 336, 're': 337, 'drink': 338, 'thats': 339, 'run': 340, 'hmm': 341, 'finish': 342, 'interesting': 343, 'watching': 344, 'soccer': 345, '25': 346, 'playing': 347, 'joke': 348, 'college': 349, 'question': 350, 'story': 351, 'robot': 352, 'women': 353, 'hiii': 354, 'iam': 355, 'tacos': 356, 'haa': 357, 'hai': 358, 'chess': 359, 'own': 360, 'class': 361, '20': 362, 'reply': 363, 'bank': 364, 'country': 365, 'listen': 366, 'looking': 367, 'still': 368, 'plz': 369, 'morning': 370, 'john': 371, 'dear': 372, 'either': 373, 'yaa': 374, 'california': 375, 'magic': 376, 'genre': 377, 'horror': 378, 'bake': 379, 'fly': 380, 'let': 381, 'animal': 382, 'could': 383, 'didn': 384, 'every': 385, 'shopping': 386, 'kinds': 387, 'place': 388, 'shop': 389, 'gender': 390, 'watches': 391, 'tennis': 392, 'cooking': 393, 'lost': 394, 'back': 395, 'better': 396, 'friend': 397, 'being': 398, 'aren': 399, 'languages': 400, 'happy': 401, 'chef': 402, 'grey': 403, 'use': 404, 'try': 405, 'beatles': 406, 'stop': 407, 'singing': 408, 'learn': 409, 'hlo': 410, 'photo': 411, 'those': 412, 'asshole': 413, 'appreciate': 414, 'farmer': 415, 'engineer': 416, 'gf': 417, 'pubg': 418, 'okk': 419, 'both': 420, '21': 421, 'hospital': 422, 'bout': 423, 'goes': 424, '12': 425, 'long': 426, 'german': 427, 'yup': 428, 'ride': 429, 'yea': 430, 'nope': 431, 'tv': 432, 'ooo': 433, 'father': 434, '19': 435, 'idea': 436, 'id': 437, 'maybe': 438, 'wearing': 439, 'hat': 440, 'amazing': 441, 'topic': 442, 'taco': 443, 'c': 444, 'problem': 445, 'purple': 446, 'o': 447, '17': 448, 'anyone': 449, 'ever': 450, 'come': 451, 'sad': 452, 'seen': 453, 'actually': 454, 'bf': 455, 'fish': 456, 'meat': 457, 'conversation': 458, 'librarian': 459, 'must': 460, 'brown': 461, 'player': 462, 'sometimes': 463, 'metal': 464, 'alright': 465, 'colorado': 466, 'part': 467, 'leave': 468, 'everything': 469, 'by': 470, 'respect': 471, 'winter': 472, 'rap': 473, 'harry': 474, 'potter': 475, 'star': 476, 'wars': 477, 'facebook': 478, 'money': 479, 'correct': 480, 'navy': 481, 'shipyard': 482, 'orange': 483, 'take': 484, 'hard': 485, 'riding': 486, 'green': 487, 'fn': 488, 'first': 489, 'teek': 490, 'kaam': 491, 'begin': 492, 'free': 493, 'suck': 494, 'dick': 495, 'die': 496, 'disney': 497, 'pleasure': 498, 'language': 499, 'traveling': 500, 'mike': 501, 'breathing': 502, 'degree': 503, 'engineering': 504, 'though': 505, 'his': 506, 'pink': 507, 'pic': 508, 'wish': 509, 'human': 510, 'vacation': 511, 'hyy': 512, 'walking': 513, 'comedian': 514, 'bike': 515, 'house': 516, 'shows': 517, 'partner': 518, 'bt': 519, 'happen': 520, 'restaurant': 521, 'chinese': 522, 'helo': 523, 'labrador': 524, 'busy': 525, 'wait': 526, 'find': 527, 'marketing': 528, 'pardon': 529, 'jobs': 530, 'wbu': 531, 'fyn': 532, 'god': 533, 'mad': 534, 'count': 535, 'cute': 536, '8': 537, 'welcome': 538, 'ohhh': 539, 'hurt': 540, 'famous': 541, 'fb': 542, 'streamer': 543, 'gas': 544, 'station': 545, 'pub': 546, 'wife': 547, 'eaten': 548, 'russia': 549, 'mon': 550, 'nowhere': 551, 'anytime': 552, 'team': 553, 'almost': 554, 'build': 555, 'houses': 556, '4': 557, 'together': 558, 'sky': 559, 'plans': 560, 'insurance': 561, 'shelter': 562, 'sara': 563, 'little': 564, 'sick': 565, 'duty': 566, '10': 567, 'surgeon': 568, '14': 569, 'names': 570, 'pork': 571, 'nah': 572, 'kidding': 573, 'goodbye': 574, 'farm': 575, 'used': 576, 'computer': 577, 'pa': 578, 'soda': 579, 'played': 580, '24': 581, 'ohio': 582, 'north': 583, 'carolina': 584, 'knit': 585, 'yellow': 586, 'stupid': 587, 'students': 588, 'prius': 589, 'boring': 590, 'peanuts': 591, 'peanut': 592, 'allergy': 593, 'swimming': 594, 'exit': 595, 'britney': 596, 'spears': 597, 'helloz': 598, 'listening': 599, 'bbye': 600, 'pregnant': 601, 'yiu': 602, 'matter': 603, 'fix': 604, 'if': 605, 'spanish': 606, 'before': 607, 'saying': 608, 'bored': 609, 'other': 610, 'piano': 611, 'hiking': 612, 'five': 613, 'sons': 614, 'should': 615, 'over': 616, 'golden': 617, 'thx': 618, 'deliver': 619, 'out': 620, 'air': 621, 'small': 622, 'boston': 623, 'alone': 624, 'weird': 625, 'normal': 626, 'went': 627, 'sexy': 628, 'honey': 629, 'meditate': 630, 'religion': 631, 'justin': 632, 'feminist': 633, 'jokes': 634, 'honda': 635, 'than': 636, 'friday': 637, 'lawyer': 638, 'sport': 639, 'toys': 640, 'larry': 641, 'sup': 642, 'vet': 643, 'drugs': 644, 'manager': 645, 'asked': 646, 'dumb': 647, 'sand': 648, 'breath': 649, 'change': 650, 'struggle': 651, 'works': 652, 'phone': 653, '1': 654, 'olakka': 655, 'health': 656, '33': 657, 'smoking': 658, 'hu': 659, 'karogi': 660, 'hobbie': 661, 'kk': 662, 'spain': 663, 'into': 664, 'girlfriend': 665, 'brat': 666, 'charlie': 667, 'leaving': 668, 'nissan': 669, 'guitar': 670, 'alaska': 671, 'ho': 672, 'nhi': 673, 'education': 674, 'such': 675, 'christ': 676, 'shit': 677, 'believe': 678, 'btw': 679, 'enjoying': 680, 'byee': 681, 'gn': 682, 'suffering': 683, 'cold': 684, 'bee': 685, 'command': 686, 'huski': 687, 'type': 688, 'yah': 689, 'woww': 690, 'sleeping': 691, 'surat': 692, 'hoo': 693, 'civil': 694, 'jus': 695, 'even': 696, 'young': 697, 'ooh': 698, 'ba': 699, 'pride': 700, 'management': 701, 'mostly': 702, 'taylor': 703, 'ohhk': 704, 'alive': 705, 'hv': 706, 'evening': 707, 'byyy': 708, 'na': 709, 'plzz': 710, 'taking': 711, 'electric': 712, 'basketball': 713, 'vegetables': 714, 'whts': 715, 'mountains': 716, 'son': 717, 'ranchi': 718, 'radar': 719, 'healthy': 720, 'soo': 721, 'poor': 722, 'heart': 723, 'italian': 724, 'graduation': 725, 'del': 726, 'again': 727, 'pls': 728, '13': 729, 'speaking': 730, 'world': 731, 'cork': 732, '4m': 733, 'waitress': 734, 'absolutely': 735, 'routine': 736, 'waiting': 737, 'feeling': 738, 'neither': 739, 'coach': 740, 'lucy': 741, 'hahaha': 742, 'saw': 743, 'attend': 744, 'mm': 745, 'debt': 746, 'completed': 747, 'breed': 748, '46': 749, 'challenge': 750, 'intelligence': 751, 'idiot': 752, 'show': 753, 'wassup': 754, 'dish': 755, 'times': 756, 'dancing': 757, 'espn': 758, 'worst': 759, 'bba': 760, 'social': 761, 'heard': 762, '22': 763, 'nd': 764, 'tamil': 765, 'thumb': 766, 'rock': 767, 'kid': 768, 'learning': 769, 'songs': 770, 'hungry': 771, 'company': 772, 'smart': 773, 'chicken': 774, 'photography': 775, 'bal': 776, 'shut': 777, 'ny': 778, 'inter': 779, '2nd': 780, 'wt': 781, 'france': 782, 'mumbai': 783, 'developer': 784, 'electrician': 785, 'ping': 786, 'pong': 787, 'veg': 788, 'f9': 789, 'shepherd': 790, 'kindergarten': 791, 'tree': 792, 'pretty': 793, 'sci': 794, 'wonderful': 795, 'boobs': 796, 'shoes': 797, 'hahn': 798, 'course': 799, 'ku': 800, 'deaf': 801, 'turkey': 802, 'noodles': 803, 'photos': 804, 'save': 805, 'sell': 806, 'painting': 807, 'nyt': 808, 'glad': 809, 'finance': 810, 'mary': 811, 'lucille': 812, 'soldier': 813, '35': 814, 'jack': 815, 'racist': 816, 'mee': 817, 'bell': 818, 'dave': 819, 'anybody': 820, 'comedy': 821, 'middle': 822, 'cancer': 823, 'terrible': 824, 'whanna': 825, 'spartak': 826, 'hooligan': 827, 'leila': 828, '36': 829, 'possible': 830, 'cookies': 831, 'higher': 832, 'mans': 833, 'engeneer': 834, 'supportive': 835, 'meditation': 836, 'spirituality': 837, 'quit': 838, 'overworked': 839, 'allready': 840, 'mickey': 841, 'mouse': 842, 'trauma': 843, 'dealer': 844, 'retail': 845, 'chop': 846, 'apologise': 847, 'tall': 848, 'parent': 849, 'died': 850, 'readings': 851, 'technician': 852, 'resturant': 853, 'sea': 854, 'pupil': 855, 'twelve': 856, 'super': 857, 'powers': 858, 'wher': 859, 'margarita': 860, 'garlik': 861, 'bread': 862, 'intersting': 863, 'putin': 864, 'honor': 865, 'hatiko': 866, 'twenties': 867, 'programmer': 868, 'mind': 869, 'deal': 870, 'bleat': 871, 'alcoholic': 872, 'realy': 873, 'ou': 874, 'true': 875, 'came': 876, 'artist': 877, 'scarlett': 878, 'johanson': 879, 'byr': 880, 'feom': 881, 'swift': 882, 'husband': 883, 'intelligent': 884, 'hiphop': 885, 'donyou': 886, 'their': 887, 'teste': 888, 'online': 889, 'eh': 890, 'coloring': 891, 'paint': 892, 'wooden': 893, 'walls': 894, 'superhero': 895, 'definetely': 896, 'way': 897, 'shape': 898, 'called': 899, 'avatar': 900, 'halo': 901, 'excited': 902, 'cam': 903, 'walk': 904, 'fires': 905, 'mmm': 906, 'yep': 907, 'latin': 908, 'american': 909, 'literature': 910, 'explain': 911, 'doctro': 912, 'local': 913, 'specs': 914, 'finished': 915, 'bird': 916, 'julie': 917, 'silly': 918, 'cow': 919, 'baseball': 920, 'heavy': 921, 'anymore': 922, 'irregularly': 923, 'retriever': 924, 'isn': 925, 'howdy': 926, 'stranger': 927, 'siblings': 928, 'contour': 929, 'tres': 930, 'bien': 931, 'intensive': 932, 'difficult': 933, 'close': 934, 'fresh': 935, 'horrible': 936, 'recently': 937, 'grew': 938, 'south': 939, 'seriously': 940, 'art': 941, 'chicago': 942, 'running': 943, 'stuff': 944, 'rolling': 945, 'stones': 946, 'zzzz': 947, 'colour': 948, 'nigga': 949, 'enought': 950, 'heeeeeeey': 951, 'wwaiting': 952, 'perfect': 953, 'hummus': 954, 'mushrooms': 955, 'fluent': 956, 'yoy': 957, 'teachers': 958, 'fallen': 959, 'trafficer': 960, 'transgender': 961, 'grand': 962, 'x': 963, 'trump': 964, 'fair': 965, 'enough': 966, 'agree': 967, 'role': 968, 'sexual': 969, 'preference': 970, 'gway': 971, 'beiber': 972, 'greystones': 973, 'attitude': 974, 'plant': 975, 'bombs': 976, 'trees': 977, 'motorbike': 978, 'femenist': 979, 'lgbt': 980, 'chaurma': 981, 'civic': 982, 'tough': 983, 'beer': 984, 'vine': 985, 'ben': 986, 'tiger': 987, 'someone': 988, 'rubber': 989, 'papaya': 990, 'awfull': 991, 'dead': 992, 'whacha': 993, 'doin': 994, 'kek': 995, 'meth': 996, 'cocain': 997, 'bots': 998, 'sun': 999, 'belgia': 1000, 'fire': 1001, 'spell': 1002, 'producer': 1003, 'midwest': 1004, 'castles': 1005, 'florida': 1006, 'mediate': 1007, 'laboratory': 1008, 'watermelon': 1009, 'complain': 1010, 'release': 1011, 'salary': 1012, 'shopkeeper': 1013, 'dancer': 1014, 'messenger': 1015, 'mail': 1016, 'yas': 1017, 'message': 1018, 'lime': 1019, 'curly': 1020, 'puzhingi': 1021, 'thinno': 1022, 'weed': 1023, 'youtuber': 1024, 'kiss': 1025, 'pajama': 1026, 'khol': 1027, 'phir': 1028, 'nem': 1029, 'apka': 1030, 'nama': 1031, 'kia': 1032, 'aacha': 1033, 'khuch': 1034, 'nahi': 1035, 'ajay': 1036, 'plzzz': 1037, 'wrestler': 1038, 'hotel': 1039, 'bathroom': 1040, 'km': 1041, 'chees': 1042, 'studding': 1043, 'forgive': 1044, 'shoe': 1045, 'dicks': 1046, 'tonight': 1047, 'dating': 1048, 'penny': 1049, 'may': 1050, 'hifi': 1051, 'achaa': 1052, 'p': 1053, 'yum': 1054, 'boxer': 1055, 'horse': 1056, 'urs': 1057, 'fuckinh': 1058, 'factory': 1059, 'hilly': 1060, 'places': 1061, 'mature': 1062, 'playboy': 1063, 'ladies': 1064, 'battle': 1065, 'royal': 1066, 'sentry': 1067, 'yoga': 1068, 'classes': 1069, 'gorgeous': 1070, 'stick': 1071, 'racer': 1072, 'motorcyclist': 1073, 'bola': 1074, 'shikat': 1075, 'ahe': 1076, 'sadya': 1077, 'ky': 1078, 'smjl': 1079, 'tumch': 1080, 'runway': 1081, 's2u': 1082, 'third': 1083, 'profession': 1084, 'goodnight': 1085, 'makes': 1086, 'sense': 1087, 'men': 1088, 'gand': 1089, 'maara': 1090, 'needn': 1091, 'noo': 1092, 'spiritual': 1093, 'without': 1094, 'exam': 1095, '8th': 1096, 'tru': 1097, 'lesbian': 1098, 'strangers': 1099, 'ah': 1100, 'yohr': 1101, 'propose': 1102, 'madarchod': 1103, 'drums': 1104, 'journey': 1105, 'hy': 1106, 'byy': 1107, 'churches': 1108, 'relax': 1109, 'around': 1110, 'backpropagating': 1111, 'errors': 1112, 'river': 1113, 'frm': 1114, 'guinea': 1115, 'pig': 1116, 'seem': 1117, 'inactive': 1118, 'share': 1119, 'details': 1120, 'software': 1121, 'couple': 1122, 'romentic': 1123, 'town': 1124, 'courier': 1125, 'offive': 1126, 'gen': 1127, 'professionally': 1128, 'real': 1129, 'dharmik': 1130, 'graphic': 1131, 'designer': 1132, 'wanna': 1133, 'resume': 1134, 'robotics': 1135, 'hollywood': 1136, 'moy': 1137, 'choice': 1138, 'present': 1139, 'practice': 1140, 'presently': 1141, 'btech': 1142, 'nyce': 1143, 'ju': 1144, 'pg': 1145, 'currently': 1146, 'nthg': 1147, 'flower': 1148, 'plants': 1149, 'relaxing': 1150, 'tqq': 1151, 'happiness': 1152, 'hm': 1153, 'fuking': 1154, 'nancy': 1155, 'ziggy': 1156, '26': 1157, 'roo': 1158, 'germany': 1159, 'properly': 1160, 'prejudice': 1161, 'gm': 1162, 'poker': 1163, 'mata': 1164, 'thnk': 1165, 'beth': 1166, 'ol': 1167, 'form': 1168, 'win': 1169, 'yeeee': 1170, 'nursing': 1171, 'strong': 1172, 'superb': 1173, 'rs': 1174, 'engit': 1175, 'increase': 1176, 'efficiency': 1177, 'design': 1178, 'busss': 1179, 'hbu': 1180, 'costomer': 1181, 'has': 1182, 'parrot': 1183, 'services': 1184, 'easy': 1185, 'continue': 1186, 'helpful': 1187, 'unemployment': 1188, 'lucknow': 1189, 'ma': 1190, 'self': 1191, 'mechanical': 1192, 'clash': 1193, 'clan': 1194, 'sound': 1195, 'hel': 1196, 'housekeeper': 1197, 'ooooooooh': 1198, 'ones': 1199, 'frozen': 1200, 'hairdresser': 1201, 'bolo': 1202, 'huge': 1203, 'issue': 1204, 'trick': 1205, 'earn': 1206, 'illl': 1207, 'goo': 1208, 'far': 1209, 'eleectrian': 1210, 'employed': 1211, 'supermarket': 1212, 'vocapation': 1213, 'bred': 1214, 'noumber': 1215, 'haii': 1216, 'prem': 1217, 'dude': 1218, 'pahadi': 1219, 'mountain': 1220, 'biking': 1221, 'market': 1222, 'achoo': 1223, 'gg': 1224, 'date': 1225, 'uttrakand': 1226, 'haridwar': 1227, '11th': 1228, 'surgery': 1229, 'scroll': 1230, 'gracias': 1231, 'dd': 1232, 'cindition': 1233, 'bitch': 1234, 'fortnite': 1235, '80': 1236, 'roads': 1237, 'sewing': 1238, 'shivu': 1239, 'tchaikovsky': 1240, 'charity': 1241, 'bunnies': 1242, 'laugh': 1243, 'ar': 1244, 'eyou': 1245, 'sunbath': 1246, 'russian': 1247, 'russhian': 1248, 'stuped': 1249, 'ufa': 1250, 'ere': 1251, 'wargames': 1252, 'chandan': 1253, 'persuing': 1254, 'rice': 1255, 'taste': 1256, 'fried': 1257, 'baked': 1258, 'rural': 1259, 'area': 1260, 'preety': 1261, 'mma': 1262, 'fight': 1263, 'haryana': 1264, 'driving': 1265, 'craft': 1266, 'reside': 1267, 'usa': 1268, 'wok': 1269, 'pics': 1270, 'another': 1271, 'perr': 1272, 'peer': 1273, 'seperated': 1274, 'separated': 1275, '16': 1276, 'sc': 1277, 'lekin': 1278, 'kqise': 1279, 'kru': 1280, 'keep': 1281, 'truth': 1282, 'sales': 1283, 'diamond': 1284, 'tattoos': 1285, '6': 1286, 'meeting': 1287, 'chal': 1288, 'bhhag': 1289, 'bc': 1290, 'waiteress': 1291, 'dat': 1292, 'ready': 1293, 'conversational': 1294, 'tables': 1295, 'serve': 1296, 'brother': 1297, 'forward': 1298, 'uer': 1299, 'changing': 1300, '27': 1301, 'redhead': 1302, 'outside': 1303, 'gardening': 1304, 'magical': 1305, 'become': 1306, 'dad': 1307, 'ss': 1308, 'capital': 1309, 'paharganj': 1310, 'shillong': 1311, 'majoring': 1312, 'hunt': 1313, 'delivery': 1314, 'met': 1315, 'ntg': 1316, 'done': 1317, 'frd': 1318, 'zen': 1319, 'luck': 1320, 'feel': 1321, 'yono': 1322, 'yeaa': 1323, 'meeto': 1324, 'result': 1325, 'hav': 1326, 'pursuing': 1327, 'b': 1328, 'com': 1329, 'action': 1330, 'romantic': 1331, 'bmw': 1332, 'baby': 1333, 'urdu': 1334, 'several': 1335, 'aunty': 1336, 'app': 1337, 'kha': 1338, 'se': 1339, 'jat': 1340, 'sen': 1341, 'sec': 1342, 'kaithal': 1343, 'painted': 1344, 'pictures': 1345, 'biggest': 1346, 'wat': 1347, 'trainer': 1348, 'oookkk': 1349, 'bcom': 1350, 'pharmacy': 1351, 'q': 1352, 'v': 1353, 'e': 1354, 'mc2': 1355, 'bore': 1356, 'kay': 1357, 'kare': 1358, 'rha': 1359, 'freeze': 1360, 'limbus': 1361, 'fvrt': 1362, 'lawyers': 1363, 'counrty': 1364, 'tells': 1365, 'kgkdusu': 1366, 'power': 1367, 'grid': 1368, 'chl': 1369, 'sala': 1370, 'christianity': 1371, 'dukan': 1372, 'dekhna': 1373, 'pasand': 1374, 'haraam': 1375, 'kyu': 1376, 'biriyani': 1377, 'lion': 1378, 'fail': 1379, 'taught': 1380, 'ten': 1381, 'tailor': 1382, 'wtf': 1383, 'hell': 1384, 'damn': 1385, 'getlost': 1386, 'disturbance': 1387, 'animaos': 1388, 'poady': 1389, 'kalanjitt': 1390, 'podey': 1391, 'onn': 1392, 'ohk': 1393, 'months': 1394, 'sarah': 1395, 'persue': 1396, 'banking': 1397, 'apple': 1398, 'media': 1399, 'geard': 1400, 'neapl': 1401, 'myself': 1402, 'tamio': 1403, 'french': 1404, 'thumbs': 1405, 'bihar': 1406, 'born': 1407, 'erm': 1408, 'space': 1409, 'pop': 1410, 'amsterdam': 1411, 'check': 1412, 'iq': 1413, 'level': 1414, 'clothes': 1415, 'stylish': 1416, 'unique': 1417, 'short': 1418, 'skirts': 1419, 'songle': 1420, 'high': 1421, 'maintenance': 1422, 'standard': 1423, 'snorkeling': 1424, 'abot': 1425, 'most': 1426, 'thrones': 1427, 'hairs': 1428, 'chest': 1429, 'leg': 1430, 'jock': 1431, 'boaring': 1432, 'massage': 1433, 'agra': 1434, 'retirement': 1435, 'waiter': 1436, 'naa': 1437, 'fancy': 1438, 'chuttiyq': 1439, 'nyc': 1440, '11': 1441, 'mentioned': 1442, 'above': 1443, 'conversion': 1444, 'govt': 1445, 'belong': 1446, 'punjab': 1447, 'punjabi': 1448, 'unarried': 1449, 'unmarried': 1450, 'suggest': 1451, 'exercise': 1452, 'history': 1453, 'frankie': 1454, 'annabelle': 1455, 'nickname': 1456, 'volunteer': 1457, 'wasn': 1458, 'expert': 1459, 'survival': 1460, 'pull': 1461, 'push': 1462, 'fickle': 1463, 'fruits': 1464, 'crazy': 1465, 'sry': 1466, 'sweet': 1467, 'dreams': 1468, 'toronto': 1469, 'etc': 1470, 'slow': 1471, 'minute': 1472, 'past': 1473, 'texts': 1474, 'value': 1475, 'ltd': 1476, 'hole': 1477, 'dud': 1478, 'expensive': 1479, 'orly': 1480, 'rost': 1481, 'background': 1482, 'extra': 1483, 'compliment': 1484, 'yyrr': 1485, 'emotional': 1486, 'security': 1487, 'supar': 1488, 'futur': 1489, 'travis': 1490, 'add': 1491, 'kalpesh': 1492, 'adulkar': 1493, 'basic': 1494, 'yaaa': 1495, 'death': 1496, 'g': 1497, 'congratulations': 1498, 'd': 1499, 'exited': 1500, 'ocean': 1501, 'nooh': 1502, 'starcraft': 1503, 'bffs': 1504, 'wand': 1505, 'hubby': 1506, 'tnx': 1507, 'babysitter': 1508, 'umm': 1509, 'commerce': 1510, 'studies': 1511, 'move': 1512, 'miscommunicated': 1513, 'park': 1514, 'robots': 1515, 'gtfo': 1516, 'by3': 1517, 'medal': 1518, 'hats': 1519, 'china': 1520, 'म': 1521, 'भ': 1522, 'रत': 1523, 'स': 1524, 'ह': 1525, 'volleyball': 1526, 'defender': 1527, 'visit': 1528, 'account': 1529, 'jane': 1530, 'twenty': 1531, 'yr': 1532, 'older': 1533, 'office': 1534, 'photographer': 1535, 'sock': 1536, 'instrument': 1537, 'drum': 1538, 'y': 1539, 'mi': 1540, 'dum': 1541, 'indor': 1542, 'np': 1543, 'wht': 1544, 'guns': 1545, 'watts': 1546, 'relationship': 1547, 'virgin': 1548, 'sambhu': 1549, 'officially': 1550, 'sundegarh': 1551, 'pta': 1552, 'web': 1553, 'table': 1554, 'surf': 1555, 'painful': 1556, 'melon': 1557, 'imagine': 1558, 'fever': 1559, 'george': 1560, 'final': 1561, 'chocolate': 1562, 'frds': 1563, 'aaa': 1564, 'foody': 1565, 'skier': 1566, 'child': 1567, 'interior': 1568, 'designing': 1569, 'chicks': 1570, 'vikas': 1571, 'weekend': 1572, 'hloo': 1573, 'marathon': 1574, 'po': 1575, 'myre': 1576, 'four': 1577, 'uh': 1578, 'sumit': 1579, 'whtsp': 1580, 'stay': 1581, 'private': 1582, 'diet': 1583, 'ga': 1584, 'state': 1585, 'triumph': 1586, 'chasing': 1587, 'kimono': 1588, 'lizards': 1589, 'telling': 1590, 'lazy': 1591, 'lazz': 1592, 'questions': 1593, 'head': 1594, 'bed': 1595, 'voilet': 1596, 'wrong': 1597, 'android': 1598, 'applications': 1599, 'according': 1600, 'suitability': 1601, 'garden': 1602, 'mango': 1603, 'gives': 1604, 'tasty': 1605, 'fruit': 1606, 'summer': 1607, 'tomatoes': 1608, 'toaster': 1609, 'hoe': 1610, 'visited': 1611, 'foods': 1612, 'won': 1613, 'berlin': 1614, 'inception': 1615, 'godfather': 1616, 'haven': 1617, 'crafting': 1618, 'beg': 1619, 'guitarist': 1620, '5': 1621, 'bds': 1622, 'violin': 1623, 'messed': 1624, 'adam': 1625, 'alabama': 1626, 'lose': 1627, 'lovelife': 1628, 'blady': 1629, 'bastard': 1630, 'trooper': 1631, 'thnx': 1632, 'nevada': 1633, 'bhusawal': 1634, 'response': 1635, 'pickup': 1636, '10th': 1637, '3kids': 1638, 'meaning': 1639, 'boys': 1640, 'haaa': 1641, 'failed': 1642, 'haaaaa': 1643, 'specific': 1644, 'sis': 1645, 'robert': 1646, 'bijoy': 1647, 'undergraduate': 1648, 'musics': 1649, 'violinist': 1650, 'atlanta': 1651, 'omg': 1652, 'knows': 1653, 'scared': 1654, 'clown': 1655, 'cause': 1656, 'shepherds': 1657, 'naah': 1658, 'nooo': 1659, 'turned': 1660, 'last': 1661, 'month': 1662, 'reminds': 1663, 'bodmas': 1664, 'sucking': 1665, 'sahi': 1666, 'tera': 1667, 'bhai': 1668, 'war': 1669, 'grill': 1670, 'gandu': 1671, 'loda': 1672, 'once': 1673, 'tatti': 1674, 'delicious': 1675, 'yess': 1676, 'bhang': 1677, 'bhosda': 1678, 'okkk': 1679, 'allahabad': 1680, 'borrow': 1681, 'burn': 1682, 'phew': 1683, 'unwind': 1684, 'kmc': 1685, 'special': 1686, 'divorce': 1687, 'llb': 1688, 'whore': 1689, 'classical': 1690, 'follow': 1691, 'church': 1692, 'illiterate': 1693, 'alan': 1694, 'turing': 1695, 'hiiii': 1696, 'situated': 1697, 'general': 1698, 'line': 1699, 'pope': 1700, 'purpose': 1701, 'climbing': 1702, 'meanings': 1703, 'gd': 1704, 'bhubaneswar': 1705, 'novels': 1706, 'poday': 1707, 'key': 1708, 'west': 1709, 'ahaa': 1710, 'edhokke': 1711, 'ariyanam': 1712, 'okey': 1713, 'ago': 1714, 'native': 1715, 'mobile': 1716, 'legend': 1717, 'swimmer': 1718, 'jet': 1719, 'opinion': 1720, 'dark': 1721, 'tony': 1722, 'beat': 1723, 'burger': 1724, '9': 1725, 'snow': 1726, 'lamb': 1727, 'seven': 1728, 'fool': 1729, 'classic': 1730, 'laro': 1731, 'van': 1732, 'nepali': 1733, 'cell': 1734, 'impossible': 1735, 'weather': 1736, 'hallo': 1737, 'gine': 1738, 'lovely': 1739, 'adventurist': 1740, 'lonely': 1741, 'animals': 1742, 'eminem': 1743, 'seems': 1744, 'stuck': 1745, 'twice': 1746, 'hmmm': 1747, 'jersey': 1748, 'rajasthan': 1749, 'collage': 1750, 'care': 1751, 'olympic': 1752, 'pool': 1753, 'rewarding': 1754, 'lives': 1755, 'jharkhand': 1756, 'accountant': 1757, 'steak': 1758, 'religious': 1759, 'phi': 1760, 'fro': 1761, 'michael': 1762, 'jackson': 1763, 'knw': 1764, 'pussy': 1765, 'wine': 1766, 'looks': 1767, 'contact': 1768, '54': 1769, 'america': 1770, 'available': 1771, 'claire': 1772, 'youba': 1773, 'mc': 1774, 'hiya': 1775, 'service': 1776, 'uoy': 1777, 'teem': 1778, 'ot': 1779, 'ecin': 1780, 'ycul': 1781, '42': 1782, 'steve': 1783, 'haribo': 1784, 'dialog': 1785, 'sent': 1786, 'fucked': 1787, '9th': 1788, 'koshar': 1789, 'week': 1790, 'ankia': 1791, 'akhmatova': 1792, 'bisexual': 1793, 'coca': 1794, 'cola': 1795, 'drinks': 1796, 'bruno': 1797, 'mars': 1798, 'bieber': 1799, 'lamborghini': 1800, 'aventador': 1801, 'rolls': 1802, 'royce': 1803, 'detective': 1804, 'favorites': 1805, 'assholes': 1806}\n",
            "max_out_len: 10\n",
            "num_words_output: 1807\n",
            "encoder_input_sequences shape: (6033, 9)\n",
            "decoder_output_sequences shape: (6033, 10)\n",
            "decoder_targets shape: (6033, 10, 1807)\n"
          ]
        }
      ]
    },
    {
      "cell_type": "markdown",
      "metadata": {
        "id": "_CJIsLBbj6rg"
      },
      "source": [
        "### 3 - Preparar los embeddings\n",
        "Utilizar los embeddings de Glove o FastText para transformar los tokens de entrada en vectores"
      ]
    },
    {
      "cell_type": "code",
      "source": [
        "# Descargar los embeddings desde un google drive (es la forma más rápida)\n",
        "# NOTA: No hay garantía de que estos links perduren, en caso de que no estén\n",
        "# disponibles descargar de la página oficial como se explica en el siguiente bloque de código\n",
        "import os\n",
        "import gdown\n",
        "if os.access('gloveembedding.pkl', os.F_OK) is False:\n",
        "    url = 'https://drive.google.com/uc?id=1KY6avD5I1eI2dxQzMkR3WExwKwRq2g94&export=download'\n",
        "    output = 'gloveembedding.pkl'\n",
        "    gdown.download(url, output, quiet=False)\n",
        "else:\n",
        "    print(\"Los embeddings gloveembedding.pkl ya están descargados\")"
      ],
      "metadata": {
        "colab": {
          "base_uri": "https://localhost:8080/"
        },
        "id": "q4eljUBnlXsC",
        "outputId": "03a0b085-db0b-49c2-9b49-28fb8048520f"
      },
      "execution_count": 10,
      "outputs": [
        {
          "output_type": "stream",
          "name": "stderr",
          "text": [
            "Downloading...\n",
            "From (original): https://drive.google.com/uc?id=1KY6avD5I1eI2dxQzMkR3WExwKwRq2g94&export=download\n",
            "From (redirected): https://drive.google.com/uc?id=1KY6avD5I1eI2dxQzMkR3WExwKwRq2g94&export=download&confirm=t&uuid=ee153ca7-df87-463e-8511-35cf0cb3bc99\n",
            "To: /content/gloveembedding.pkl\n",
            "100%|██████████| 525M/525M [00:08<00:00, 59.0MB/s]\n"
          ]
        }
      ]
    },
    {
      "cell_type": "code",
      "source": [
        "import logging\n",
        "import os\n",
        "from pathlib import Path\n",
        "from io import StringIO\n",
        "import pickle\n",
        "\n",
        "class WordsEmbeddings(object):\n",
        "    logger = logging.getLogger(__name__)\n",
        "\n",
        "    def __init__(self):\n",
        "        # load the embeddings\n",
        "        words_embedding_pkl = Path(self.PKL_PATH)\n",
        "        if not words_embedding_pkl.is_file():\n",
        "            words_embedding_txt = Path(self.WORD_TO_VEC_MODEL_TXT_PATH)\n",
        "            assert words_embedding_txt.is_file(), 'Words embedding not available'\n",
        "            embeddings = self.convert_model_to_pickle()\n",
        "        else:\n",
        "            embeddings = self.load_model_from_pickle()\n",
        "        self.embeddings = embeddings\n",
        "        # build the vocabulary hashmap\n",
        "        index = np.arange(self.embeddings.shape[0])\n",
        "        # Dicctionarios para traducir de embedding a IDX de la palabra\n",
        "        self.word2idx = dict(zip(self.embeddings['word'], index))\n",
        "        self.idx2word = dict(zip(index, self.embeddings['word']))\n",
        "\n",
        "    def get_words_embeddings(self, words):\n",
        "        words_idxs = self.words2idxs(words)\n",
        "        return self.embeddings[words_idxs]['embedding']\n",
        "\n",
        "    def words2idxs(self, words):\n",
        "        return np.array([self.word2idx.get(word, -1) for word in words])\n",
        "\n",
        "    def idxs2words(self, idxs):\n",
        "        return np.array([self.idx2word.get(idx, '-1') for idx in idxs])\n",
        "\n",
        "    def load_model_from_pickle(self):\n",
        "        self.logger.debug(\n",
        "            'loading words embeddings from pickle {}'.format(\n",
        "                self.PKL_PATH\n",
        "            )\n",
        "        )\n",
        "        max_bytes = 2**28 - 1 # 256MB\n",
        "        bytes_in = bytearray(0)\n",
        "        input_size = os.path.getsize(self.PKL_PATH)\n",
        "        with open(self.PKL_PATH, 'rb') as f_in:\n",
        "            for _ in range(0, input_size, max_bytes):\n",
        "                bytes_in += f_in.read(max_bytes)\n",
        "        embeddings = pickle.loads(bytes_in)\n",
        "        self.logger.debug('words embeddings loaded')\n",
        "        return embeddings\n",
        "\n",
        "    def convert_model_to_pickle(self):\n",
        "        # create a numpy strctured array:\n",
        "        # word     embedding\n",
        "        # U50      np.float32[]\n",
        "        # word_1   a, b, c\n",
        "        # word_2   d, e, f\n",
        "        # ...\n",
        "        # word_n   g, h, i\n",
        "        self.logger.debug(\n",
        "            'converting and loading words embeddings from text file {}'.format(\n",
        "                self.WORD_TO_VEC_MODEL_TXT_PATH\n",
        "            )\n",
        "        )\n",
        "        structure = [('word', np.dtype('U' + str(self.WORD_MAX_SIZE))),\n",
        "                     ('embedding', np.float32, (self.N_FEATURES,))]\n",
        "        structure = np.dtype(structure)\n",
        "        # load numpy array from disk using a generator\n",
        "        with open(self.WORD_TO_VEC_MODEL_TXT_PATH, encoding=\"utf8\") as words_embeddings_txt:\n",
        "            embeddings_gen = (\n",
        "                (line.split()[0], line.split()[1:]) for line in words_embeddings_txt\n",
        "                if len(line.split()[1:]) == self.N_FEATURES\n",
        "            )\n",
        "            embeddings = np.fromiter(embeddings_gen, structure)\n",
        "        # add a null embedding\n",
        "        null_embedding = np.array(\n",
        "            [('null_embedding', np.zeros((self.N_FEATURES,), dtype=np.float32))],\n",
        "            dtype=structure\n",
        "        )\n",
        "        embeddings = np.concatenate([embeddings, null_embedding])\n",
        "        # dump numpy array to disk using pickle\n",
        "        max_bytes = 2**28 - 1 # # 256MB\n",
        "        bytes_out = pickle.dumps(embeddings, protocol=pickle.HIGHEST_PROTOCOL)\n",
        "        with open(self.PKL_PATH, 'wb') as f_out:\n",
        "            for idx in range(0, len(bytes_out), max_bytes):\n",
        "                f_out.write(bytes_out[idx:idx+max_bytes])\n",
        "        self.logger.debug('words embeddings loaded')\n",
        "        return embeddings\n",
        "\n",
        "\n",
        "class GloveEmbeddings(WordsEmbeddings):\n",
        "    WORD_TO_VEC_MODEL_TXT_PATH = 'glove.twitter.27B.50d.txt'\n",
        "    PKL_PATH = 'gloveembedding.pkl'\n",
        "    N_FEATURES = 50\n",
        "    WORD_MAX_SIZE = 60\n",
        "\n",
        "class FasttextEmbeddings(WordsEmbeddings):\n",
        "    WORD_TO_VEC_MODEL_TXT_PATH = 'cc.en.300.vec'\n",
        "    PKL_PATH = 'fasttext.pkl'\n",
        "    N_FEATURES = 300\n",
        "    WORD_MAX_SIZE = 60"
      ],
      "metadata": {
        "id": "nEkqshlwMbH6"
      },
      "execution_count": 11,
      "outputs": []
    },
    {
      "cell_type": "code",
      "source": [
        "# Por una cuestion de RAM se utilizarán los embeddings de Glove de dimension 50\n",
        "model_embeddings = GloveEmbeddings()"
      ],
      "metadata": {
        "id": "9LGQChREMqcY"
      },
      "execution_count": 12,
      "outputs": []
    },
    {
      "cell_type": "markdown",
      "metadata": {
        "id": "3vKbhjtIwPgM"
      },
      "source": [
        "### 4 - Entrenar el modelo\n",
        "Entrenar un modelo basado en el esquema encoder-decoder utilizando los datos generados en los puntos anteriores. Utilce como referencias los ejemplos vistos en clase."
      ]
    },
    {
      "cell_type": "code",
      "source": [
        "import numpy as np\n",
        "from tensorflow.keras.models import Model\n",
        "from tensorflow.keras.layers import Input, Embedding, LSTM, Dense, Dropout\n",
        "from tensorflow.keras.optimizers import Adam\n",
        "from tensorflow.keras.callbacks import EarlyStopping\n",
        "from tensorflow.keras.preprocessing.sequence import pad_sequences\n",
        "\n",
        "# --- Parámetros del Modelo ---\n",
        "MAX_VOCAB_SIZE = 8000\n",
        "EMBEDDING_DIM = 300\n",
        "MAX_INPUT_LEN = 10\n",
        "MAX_OUT_LEN = 10\n",
        "N_UNITS = 256  # Aumentar unidades para mayor capacidad de aprendizaje\n",
        "DROPOUT_RATE = 0.3\n",
        "LEARNING_RATE = 0.001\n",
        "EPOCHS = 100\n",
        "BATCH_SIZE = 64\n",
        "\n",
        "# --- Preparar Datos (Asegúrate de que estén definidos encoder_input_sequences, decoder_input_sequences y decoder_targets) ---\n",
        "# Asegurar el padding de las secuencias a la longitud máxima\n",
        "encoder_input_sequences = pad_sequences(encoder_input_sequences, maxlen=MAX_INPUT_LEN, padding='post')\n",
        "decoder_input_sequences = pad_sequences(decoder_input_sequences, maxlen=MAX_OUT_LEN, padding='post')\n",
        "decoder_output_sequences = pad_sequences(decoder_output_sequences, maxlen=MAX_OUT_LEN, padding='post')\n",
        "\n",
        "# Crear los targets del decoder en formato one-hot\n",
        "num_words_output = len(word2idx_outputs) + 1  # +1 para el índice de padding (0)\n",
        "decoder_targets = np.zeros((len(decoder_output_sequences), MAX_OUT_LEN, num_words_output), dtype='float32')\n",
        "\n",
        "for i, seq in enumerate(decoder_output_sequences):\n",
        "    for t, word_idx in enumerate(seq):\n",
        "        if word_idx != 0:\n",
        "            decoder_targets[i, t, word_idx] = 1.0\n",
        "\n",
        "# --- Definir el Modelo Encoder-Decoder ---\n",
        "\n",
        "# Encoder\n",
        "encoder_inputs = Input(shape=(MAX_INPUT_LEN,), name='encoder_inputs')\n",
        "encoder_embedding = Embedding(input_dim=MAX_VOCAB_SIZE, output_dim=EMBEDDING_DIM, mask_zero=True, name='encoder_embedding')(encoder_inputs)\n",
        "encoder_lstm = LSTM(N_UNITS, return_state=True, dropout=DROPOUT_RATE, recurrent_dropout=DROPOUT_RATE, name='encoder_lstm')\n",
        "encoder_outputs, state_h, state_c = encoder_lstm(encoder_embedding)\n",
        "encoder_states = [state_h, state_c]\n",
        "\n",
        "# Decoder\n",
        "decoder_inputs = Input(shape=(MAX_OUT_LEN,), name='decoder_inputs')\n",
        "decoder_embedding = Embedding(input_dim=MAX_VOCAB_SIZE, output_dim=EMBEDDING_DIM, mask_zero=True, name='decoder_embedding')(decoder_inputs)\n",
        "decoder_lstm = LSTM(N_UNITS, return_sequences=True, return_state=True, dropout=DROPOUT_RATE, recurrent_dropout=DROPOUT_RATE, name='decoder_lstm')\n",
        "decoder_outputs, _, _ = decoder_lstm(decoder_embedding, initial_state=encoder_states)\n",
        "decoder_dense = Dense(num_words_output, activation='softmax', name='output_layer')\n",
        "decoder_outputs = decoder_dense(decoder_outputs)\n",
        "\n",
        "# Compilar el modelo\n",
        "model = Model([encoder_inputs, decoder_inputs], decoder_outputs)\n",
        "model.compile(optimizer=Adam(learning_rate=LEARNING_RATE), loss='categorical_crossentropy', metrics=['accuracy'])\n",
        "\n",
        "# Resumen del modelo\n",
        "model.summary()\n",
        "\n",
        "# --- Entrenamiento del Modelo ---\n",
        "\n",
        "# Callback para detener el entrenamiento si no hay mejora en la validación\n",
        "early_stopping = EarlyStopping(monitor='val_loss', patience=15, restore_best_weights=True)\n",
        "\n",
        "history = model.fit(\n",
        "    [encoder_input_sequences, decoder_input_sequences],\n",
        "    decoder_targets,\n",
        "    batch_size=BATCH_SIZE,\n",
        "    epochs=EPOCHS,\n",
        "    validation_split=0.2,\n",
        "    callbacks=[early_stopping]\n",
        ")\n"
      ],
      "metadata": {
        "colab": {
          "base_uri": "https://localhost:8080/",
          "height": 1000
        },
        "id": "6_NmgurDt1HH",
        "outputId": "ce760c14-7b35-42e4-a041-983acc50c009"
      },
      "execution_count": 13,
      "outputs": [
        {
          "output_type": "display_data",
          "data": {
            "text/plain": [
              "\u001b[1mModel: \"functional\"\u001b[0m\n"
            ],
            "text/html": [
              "<pre style=\"white-space:pre;overflow-x:auto;line-height:normal;font-family:Menlo,'DejaVu Sans Mono',consolas,'Courier New',monospace\"><span style=\"font-weight: bold\">Model: \"functional\"</span>\n",
              "</pre>\n"
            ]
          },
          "metadata": {}
        },
        {
          "output_type": "display_data",
          "data": {
            "text/plain": [
              "┏━━━━━━━━━━━━━━━━━━━━━━━━━━━┳━━━━━━━━━━━━━━━━━━━━━━━━┳━━━━━━━━━━━━━━━━┳━━━━━━━━━━━━━━━━━━━━━━━━┓\n",
              "┃\u001b[1m \u001b[0m\u001b[1mLayer (type)             \u001b[0m\u001b[1m \u001b[0m┃\u001b[1m \u001b[0m\u001b[1mOutput Shape          \u001b[0m\u001b[1m \u001b[0m┃\u001b[1m \u001b[0m\u001b[1m       Param #\u001b[0m\u001b[1m \u001b[0m┃\u001b[1m \u001b[0m\u001b[1mConnected to          \u001b[0m\u001b[1m \u001b[0m┃\n",
              "┡━━━━━━━━━━━━━━━━━━━━━━━━━━━╇━━━━━━━━━━━━━━━━━━━━━━━━╇━━━━━━━━━━━━━━━━╇━━━━━━━━━━━━━━━━━━━━━━━━┩\n",
              "│ encoder_inputs            │ (\u001b[38;5;45mNone\u001b[0m, \u001b[38;5;34m10\u001b[0m)             │              \u001b[38;5;34m0\u001b[0m │ -                      │\n",
              "│ (\u001b[38;5;33mInputLayer\u001b[0m)              │                        │                │                        │\n",
              "├───────────────────────────┼────────────────────────┼────────────────┼────────────────────────┤\n",
              "│ decoder_inputs            │ (\u001b[38;5;45mNone\u001b[0m, \u001b[38;5;34m10\u001b[0m)             │              \u001b[38;5;34m0\u001b[0m │ -                      │\n",
              "│ (\u001b[38;5;33mInputLayer\u001b[0m)              │                        │                │                        │\n",
              "├───────────────────────────┼────────────────────────┼────────────────┼────────────────────────┤\n",
              "│ encoder_embedding         │ (\u001b[38;5;45mNone\u001b[0m, \u001b[38;5;34m10\u001b[0m, \u001b[38;5;34m300\u001b[0m)        │      \u001b[38;5;34m2,400,000\u001b[0m │ encoder_inputs[\u001b[38;5;34m0\u001b[0m][\u001b[38;5;34m0\u001b[0m]   │\n",
              "│ (\u001b[38;5;33mEmbedding\u001b[0m)               │                        │                │                        │\n",
              "├───────────────────────────┼────────────────────────┼────────────────┼────────────────────────┤\n",
              "│ not_equal (\u001b[38;5;33mNotEqual\u001b[0m)      │ (\u001b[38;5;45mNone\u001b[0m, \u001b[38;5;34m10\u001b[0m)             │              \u001b[38;5;34m0\u001b[0m │ encoder_inputs[\u001b[38;5;34m0\u001b[0m][\u001b[38;5;34m0\u001b[0m]   │\n",
              "├───────────────────────────┼────────────────────────┼────────────────┼────────────────────────┤\n",
              "│ decoder_embedding         │ (\u001b[38;5;45mNone\u001b[0m, \u001b[38;5;34m10\u001b[0m, \u001b[38;5;34m300\u001b[0m)        │      \u001b[38;5;34m2,400,000\u001b[0m │ decoder_inputs[\u001b[38;5;34m0\u001b[0m][\u001b[38;5;34m0\u001b[0m]   │\n",
              "│ (\u001b[38;5;33mEmbedding\u001b[0m)               │                        │                │                        │\n",
              "├───────────────────────────┼────────────────────────┼────────────────┼────────────────────────┤\n",
              "│ encoder_lstm (\u001b[38;5;33mLSTM\u001b[0m)       │ [(\u001b[38;5;45mNone\u001b[0m, \u001b[38;5;34m256\u001b[0m), (\u001b[38;5;45mNone\u001b[0m,   │        \u001b[38;5;34m570,368\u001b[0m │ encoder_embedding[\u001b[38;5;34m0\u001b[0m][\u001b[38;5;34m…\u001b[0m │\n",
              "│                           │ \u001b[38;5;34m256\u001b[0m), (\u001b[38;5;45mNone\u001b[0m, \u001b[38;5;34m256\u001b[0m)]     │                │ not_equal[\u001b[38;5;34m0\u001b[0m][\u001b[38;5;34m0\u001b[0m]        │\n",
              "├───────────────────────────┼────────────────────────┼────────────────┼────────────────────────┤\n",
              "│ decoder_lstm (\u001b[38;5;33mLSTM\u001b[0m)       │ [(\u001b[38;5;45mNone\u001b[0m, \u001b[38;5;34m10\u001b[0m, \u001b[38;5;34m256\u001b[0m),      │        \u001b[38;5;34m570,368\u001b[0m │ decoder_embedding[\u001b[38;5;34m0\u001b[0m][\u001b[38;5;34m…\u001b[0m │\n",
              "│                           │ (\u001b[38;5;45mNone\u001b[0m, \u001b[38;5;34m256\u001b[0m), (\u001b[38;5;45mNone\u001b[0m,    │                │ encoder_lstm[\u001b[38;5;34m0\u001b[0m][\u001b[38;5;34m1\u001b[0m],    │\n",
              "│                           │ \u001b[38;5;34m256\u001b[0m)]                  │                │ encoder_lstm[\u001b[38;5;34m0\u001b[0m][\u001b[38;5;34m2\u001b[0m]     │\n",
              "├───────────────────────────┼────────────────────────┼────────────────┼────────────────────────┤\n",
              "│ output_layer (\u001b[38;5;33mDense\u001b[0m)      │ (\u001b[38;5;45mNone\u001b[0m, \u001b[38;5;34m10\u001b[0m, \u001b[38;5;34m1807\u001b[0m)       │        \u001b[38;5;34m464,399\u001b[0m │ decoder_lstm[\u001b[38;5;34m0\u001b[0m][\u001b[38;5;34m0\u001b[0m]     │\n",
              "└───────────────────────────┴────────────────────────┴────────────────┴────────────────────────┘\n"
            ],
            "text/html": [
              "<pre style=\"white-space:pre;overflow-x:auto;line-height:normal;font-family:Menlo,'DejaVu Sans Mono',consolas,'Courier New',monospace\">┏━━━━━━━━━━━━━━━━━━━━━━━━━━━┳━━━━━━━━━━━━━━━━━━━━━━━━┳━━━━━━━━━━━━━━━━┳━━━━━━━━━━━━━━━━━━━━━━━━┓\n",
              "┃<span style=\"font-weight: bold\"> Layer (type)              </span>┃<span style=\"font-weight: bold\"> Output Shape           </span>┃<span style=\"font-weight: bold\">        Param # </span>┃<span style=\"font-weight: bold\"> Connected to           </span>┃\n",
              "┡━━━━━━━━━━━━━━━━━━━━━━━━━━━╇━━━━━━━━━━━━━━━━━━━━━━━━╇━━━━━━━━━━━━━━━━╇━━━━━━━━━━━━━━━━━━━━━━━━┩\n",
              "│ encoder_inputs            │ (<span style=\"color: #00d7ff; text-decoration-color: #00d7ff\">None</span>, <span style=\"color: #00af00; text-decoration-color: #00af00\">10</span>)             │              <span style=\"color: #00af00; text-decoration-color: #00af00\">0</span> │ -                      │\n",
              "│ (<span style=\"color: #0087ff; text-decoration-color: #0087ff\">InputLayer</span>)              │                        │                │                        │\n",
              "├───────────────────────────┼────────────────────────┼────────────────┼────────────────────────┤\n",
              "│ decoder_inputs            │ (<span style=\"color: #00d7ff; text-decoration-color: #00d7ff\">None</span>, <span style=\"color: #00af00; text-decoration-color: #00af00\">10</span>)             │              <span style=\"color: #00af00; text-decoration-color: #00af00\">0</span> │ -                      │\n",
              "│ (<span style=\"color: #0087ff; text-decoration-color: #0087ff\">InputLayer</span>)              │                        │                │                        │\n",
              "├───────────────────────────┼────────────────────────┼────────────────┼────────────────────────┤\n",
              "│ encoder_embedding         │ (<span style=\"color: #00d7ff; text-decoration-color: #00d7ff\">None</span>, <span style=\"color: #00af00; text-decoration-color: #00af00\">10</span>, <span style=\"color: #00af00; text-decoration-color: #00af00\">300</span>)        │      <span style=\"color: #00af00; text-decoration-color: #00af00\">2,400,000</span> │ encoder_inputs[<span style=\"color: #00af00; text-decoration-color: #00af00\">0</span>][<span style=\"color: #00af00; text-decoration-color: #00af00\">0</span>]   │\n",
              "│ (<span style=\"color: #0087ff; text-decoration-color: #0087ff\">Embedding</span>)               │                        │                │                        │\n",
              "├───────────────────────────┼────────────────────────┼────────────────┼────────────────────────┤\n",
              "│ not_equal (<span style=\"color: #0087ff; text-decoration-color: #0087ff\">NotEqual</span>)      │ (<span style=\"color: #00d7ff; text-decoration-color: #00d7ff\">None</span>, <span style=\"color: #00af00; text-decoration-color: #00af00\">10</span>)             │              <span style=\"color: #00af00; text-decoration-color: #00af00\">0</span> │ encoder_inputs[<span style=\"color: #00af00; text-decoration-color: #00af00\">0</span>][<span style=\"color: #00af00; text-decoration-color: #00af00\">0</span>]   │\n",
              "├───────────────────────────┼────────────────────────┼────────────────┼────────────────────────┤\n",
              "│ decoder_embedding         │ (<span style=\"color: #00d7ff; text-decoration-color: #00d7ff\">None</span>, <span style=\"color: #00af00; text-decoration-color: #00af00\">10</span>, <span style=\"color: #00af00; text-decoration-color: #00af00\">300</span>)        │      <span style=\"color: #00af00; text-decoration-color: #00af00\">2,400,000</span> │ decoder_inputs[<span style=\"color: #00af00; text-decoration-color: #00af00\">0</span>][<span style=\"color: #00af00; text-decoration-color: #00af00\">0</span>]   │\n",
              "│ (<span style=\"color: #0087ff; text-decoration-color: #0087ff\">Embedding</span>)               │                        │                │                        │\n",
              "├───────────────────────────┼────────────────────────┼────────────────┼────────────────────────┤\n",
              "│ encoder_lstm (<span style=\"color: #0087ff; text-decoration-color: #0087ff\">LSTM</span>)       │ [(<span style=\"color: #00d7ff; text-decoration-color: #00d7ff\">None</span>, <span style=\"color: #00af00; text-decoration-color: #00af00\">256</span>), (<span style=\"color: #00d7ff; text-decoration-color: #00d7ff\">None</span>,   │        <span style=\"color: #00af00; text-decoration-color: #00af00\">570,368</span> │ encoder_embedding[<span style=\"color: #00af00; text-decoration-color: #00af00\">0</span>][<span style=\"color: #00af00; text-decoration-color: #00af00\">…</span> │\n",
              "│                           │ <span style=\"color: #00af00; text-decoration-color: #00af00\">256</span>), (<span style=\"color: #00d7ff; text-decoration-color: #00d7ff\">None</span>, <span style=\"color: #00af00; text-decoration-color: #00af00\">256</span>)]     │                │ not_equal[<span style=\"color: #00af00; text-decoration-color: #00af00\">0</span>][<span style=\"color: #00af00; text-decoration-color: #00af00\">0</span>]        │\n",
              "├───────────────────────────┼────────────────────────┼────────────────┼────────────────────────┤\n",
              "│ decoder_lstm (<span style=\"color: #0087ff; text-decoration-color: #0087ff\">LSTM</span>)       │ [(<span style=\"color: #00d7ff; text-decoration-color: #00d7ff\">None</span>, <span style=\"color: #00af00; text-decoration-color: #00af00\">10</span>, <span style=\"color: #00af00; text-decoration-color: #00af00\">256</span>),      │        <span style=\"color: #00af00; text-decoration-color: #00af00\">570,368</span> │ decoder_embedding[<span style=\"color: #00af00; text-decoration-color: #00af00\">0</span>][<span style=\"color: #00af00; text-decoration-color: #00af00\">…</span> │\n",
              "│                           │ (<span style=\"color: #00d7ff; text-decoration-color: #00d7ff\">None</span>, <span style=\"color: #00af00; text-decoration-color: #00af00\">256</span>), (<span style=\"color: #00d7ff; text-decoration-color: #00d7ff\">None</span>,    │                │ encoder_lstm[<span style=\"color: #00af00; text-decoration-color: #00af00\">0</span>][<span style=\"color: #00af00; text-decoration-color: #00af00\">1</span>],    │\n",
              "│                           │ <span style=\"color: #00af00; text-decoration-color: #00af00\">256</span>)]                  │                │ encoder_lstm[<span style=\"color: #00af00; text-decoration-color: #00af00\">0</span>][<span style=\"color: #00af00; text-decoration-color: #00af00\">2</span>]     │\n",
              "├───────────────────────────┼────────────────────────┼────────────────┼────────────────────────┤\n",
              "│ output_layer (<span style=\"color: #0087ff; text-decoration-color: #0087ff\">Dense</span>)      │ (<span style=\"color: #00d7ff; text-decoration-color: #00d7ff\">None</span>, <span style=\"color: #00af00; text-decoration-color: #00af00\">10</span>, <span style=\"color: #00af00; text-decoration-color: #00af00\">1807</span>)       │        <span style=\"color: #00af00; text-decoration-color: #00af00\">464,399</span> │ decoder_lstm[<span style=\"color: #00af00; text-decoration-color: #00af00\">0</span>][<span style=\"color: #00af00; text-decoration-color: #00af00\">0</span>]     │\n",
              "└───────────────────────────┴────────────────────────┴────────────────┴────────────────────────┘\n",
              "</pre>\n"
            ]
          },
          "metadata": {}
        },
        {
          "output_type": "display_data",
          "data": {
            "text/plain": [
              "\u001b[1m Total params: \u001b[0m\u001b[38;5;34m6,405,135\u001b[0m (24.43 MB)\n"
            ],
            "text/html": [
              "<pre style=\"white-space:pre;overflow-x:auto;line-height:normal;font-family:Menlo,'DejaVu Sans Mono',consolas,'Courier New',monospace\"><span style=\"font-weight: bold\"> Total params: </span><span style=\"color: #00af00; text-decoration-color: #00af00\">6,405,135</span> (24.43 MB)\n",
              "</pre>\n"
            ]
          },
          "metadata": {}
        },
        {
          "output_type": "display_data",
          "data": {
            "text/plain": [
              "\u001b[1m Trainable params: \u001b[0m\u001b[38;5;34m6,405,135\u001b[0m (24.43 MB)\n"
            ],
            "text/html": [
              "<pre style=\"white-space:pre;overflow-x:auto;line-height:normal;font-family:Menlo,'DejaVu Sans Mono',consolas,'Courier New',monospace\"><span style=\"font-weight: bold\"> Trainable params: </span><span style=\"color: #00af00; text-decoration-color: #00af00\">6,405,135</span> (24.43 MB)\n",
              "</pre>\n"
            ]
          },
          "metadata": {}
        },
        {
          "output_type": "display_data",
          "data": {
            "text/plain": [
              "\u001b[1m Non-trainable params: \u001b[0m\u001b[38;5;34m0\u001b[0m (0.00 B)\n"
            ],
            "text/html": [
              "<pre style=\"white-space:pre;overflow-x:auto;line-height:normal;font-family:Menlo,'DejaVu Sans Mono',consolas,'Courier New',monospace\"><span style=\"font-weight: bold\"> Non-trainable params: </span><span style=\"color: #00af00; text-decoration-color: #00af00\">0</span> (0.00 B)\n",
              "</pre>\n"
            ]
          },
          "metadata": {}
        },
        {
          "output_type": "stream",
          "name": "stdout",
          "text": [
            "Epoch 1/100\n",
            "\u001b[1m76/76\u001b[0m \u001b[32m━━━━━━━━━━━━━━━━━━━━\u001b[0m\u001b[37m\u001b[0m \u001b[1m41s\u001b[0m 465ms/step - accuracy: 0.0960 - loss: 5.9056 - val_accuracy: 0.1413 - val_loss: 4.3853\n",
            "Epoch 2/100\n",
            "\u001b[1m76/76\u001b[0m \u001b[32m━━━━━━━━━━━━━━━━━━━━\u001b[0m\u001b[37m\u001b[0m \u001b[1m41s\u001b[0m 468ms/step - accuracy: 0.1605 - loss: 3.8199 - val_accuracy: 0.1832 - val_loss: 3.9270\n",
            "Epoch 3/100\n",
            "\u001b[1m76/76\u001b[0m \u001b[32m━━━━━━━━━━━━━━━━━━━━\u001b[0m\u001b[37m\u001b[0m \u001b[1m42s\u001b[0m 483ms/step - accuracy: 0.2207 - loss: 3.2379 - val_accuracy: 0.1930 - val_loss: 3.6904\n",
            "Epoch 4/100\n",
            "\u001b[1m76/76\u001b[0m \u001b[32m━━━━━━━━━━━━━━━━━━━━\u001b[0m\u001b[37m\u001b[0m \u001b[1m35s\u001b[0m 456ms/step - accuracy: 0.2337 - loss: 2.9199 - val_accuracy: 0.2012 - val_loss: 3.5778\n",
            "Epoch 5/100\n",
            "\u001b[1m76/76\u001b[0m \u001b[32m━━━━━━━━━━━━━━━━━━━━\u001b[0m\u001b[37m\u001b[0m \u001b[1m43s\u001b[0m 479ms/step - accuracy: 0.2476 - loss: 2.7875 - val_accuracy: 0.2099 - val_loss: 3.4932\n",
            "Epoch 6/100\n",
            "\u001b[1m76/76\u001b[0m \u001b[32m━━━━━━━━━━━━━━━━━━━━\u001b[0m\u001b[37m\u001b[0m \u001b[1m43s\u001b[0m 508ms/step - accuracy: 0.2597 - loss: 2.6218 - val_accuracy: 0.2137 - val_loss: 3.4373\n",
            "Epoch 7/100\n",
            "\u001b[1m76/76\u001b[0m \u001b[32m━━━━━━━━━━━━━━━━━━━━\u001b[0m\u001b[37m\u001b[0m \u001b[1m38s\u001b[0m 462ms/step - accuracy: 0.2685 - loss: 2.4945 - val_accuracy: 0.2160 - val_loss: 3.4034\n",
            "Epoch 8/100\n",
            "\u001b[1m76/76\u001b[0m \u001b[32m━━━━━━━━━━━━━━━━━━━━\u001b[0m\u001b[37m\u001b[0m \u001b[1m43s\u001b[0m 487ms/step - accuracy: 0.2733 - loss: 2.3788 - val_accuracy: 0.2198 - val_loss: 3.3857\n",
            "Epoch 9/100\n",
            "\u001b[1m76/76\u001b[0m \u001b[32m━━━━━━━━━━━━━━━━━━━━\u001b[0m\u001b[37m\u001b[0m \u001b[1m40s\u001b[0m 482ms/step - accuracy: 0.2797 - loss: 2.2856 - val_accuracy: 0.2229 - val_loss: 3.3702\n",
            "Epoch 10/100\n",
            "\u001b[1m76/76\u001b[0m \u001b[32m━━━━━━━━━━━━━━━━━━━━\u001b[0m\u001b[37m\u001b[0m \u001b[1m38s\u001b[0m 441ms/step - accuracy: 0.2799 - loss: 2.2316 - val_accuracy: 0.2244 - val_loss: 3.3632\n",
            "Epoch 11/100\n",
            "\u001b[1m76/76\u001b[0m \u001b[32m━━━━━━━━━━━━━━━━━━━━\u001b[0m\u001b[37m\u001b[0m \u001b[1m51s\u001b[0m 575ms/step - accuracy: 0.2839 - loss: 2.1539 - val_accuracy: 0.2278 - val_loss: 3.3527\n",
            "Epoch 12/100\n",
            "\u001b[1m76/76\u001b[0m \u001b[32m━━━━━━━━━━━━━━━━━━━━\u001b[0m\u001b[37m\u001b[0m \u001b[1m74s\u001b[0m 476ms/step - accuracy: 0.2900 - loss: 2.0745 - val_accuracy: 0.2259 - val_loss: 3.3534\n",
            "Epoch 13/100\n",
            "\u001b[1m76/76\u001b[0m \u001b[32m━━━━━━━━━━━━━━━━━━━━\u001b[0m\u001b[37m\u001b[0m \u001b[1m43s\u001b[0m 504ms/step - accuracy: 0.3008 - loss: 1.9659 - val_accuracy: 0.2281 - val_loss: 3.3654\n",
            "Epoch 14/100\n",
            "\u001b[1m76/76\u001b[0m \u001b[32m━━━━━━━━━━━━━━━━━━━━\u001b[0m\u001b[37m\u001b[0m \u001b[1m39s\u001b[0m 475ms/step - accuracy: 0.3012 - loss: 1.9140 - val_accuracy: 0.2308 - val_loss: 3.3698\n",
            "Epoch 15/100\n",
            "\u001b[1m76/76\u001b[0m \u001b[32m━━━━━━━━━━━━━━━━━━━━\u001b[0m\u001b[37m\u001b[0m \u001b[1m37s\u001b[0m 488ms/step - accuracy: 0.3058 - loss: 1.8556 - val_accuracy: 0.2284 - val_loss: 3.3841\n",
            "Epoch 16/100\n",
            "\u001b[1m76/76\u001b[0m \u001b[32m━━━━━━━━━━━━━━━━━━━━\u001b[0m\u001b[37m\u001b[0m \u001b[1m34s\u001b[0m 454ms/step - accuracy: 0.3049 - loss: 1.8288 - val_accuracy: 0.2285 - val_loss: 3.4076\n",
            "Epoch 17/100\n",
            "\u001b[1m76/76\u001b[0m \u001b[32m━━━━━━━━━━━━━━━━━━━━\u001b[0m\u001b[37m\u001b[0m \u001b[1m45s\u001b[0m 505ms/step - accuracy: 0.3132 - loss: 1.7314 - val_accuracy: 0.2283 - val_loss: 3.4049\n",
            "Epoch 18/100\n",
            "\u001b[1m76/76\u001b[0m \u001b[32m━━━━━━━━━━━━━━━━━━━━\u001b[0m\u001b[37m\u001b[0m \u001b[1m39s\u001b[0m 475ms/step - accuracy: 0.3154 - loss: 1.6851 - val_accuracy: 0.2285 - val_loss: 3.4239\n",
            "Epoch 19/100\n",
            "\u001b[1m76/76\u001b[0m \u001b[32m━━━━━━━━━━━━━━━━━━━━\u001b[0m\u001b[37m\u001b[0m \u001b[1m37s\u001b[0m 492ms/step - accuracy: 0.3165 - loss: 1.6493 - val_accuracy: 0.2283 - val_loss: 3.4397\n",
            "Epoch 20/100\n",
            "\u001b[1m76/76\u001b[0m \u001b[32m━━━━━━━━━━━━━━━━━━━━\u001b[0m\u001b[37m\u001b[0m \u001b[1m41s\u001b[0m 494ms/step - accuracy: 0.3242 - loss: 1.5903 - val_accuracy: 0.2268 - val_loss: 3.4607\n",
            "Epoch 21/100\n",
            "\u001b[1m76/76\u001b[0m \u001b[32m━━━━━━━━━━━━━━━━━━━━\u001b[0m\u001b[37m\u001b[0m \u001b[1m39s\u001b[0m 520ms/step - accuracy: 0.3291 - loss: 1.5341 - val_accuracy: 0.2271 - val_loss: 3.4849\n",
            "Epoch 22/100\n",
            "\u001b[1m76/76\u001b[0m \u001b[32m━━━━━━━━━━━━━━━━━━━━\u001b[0m\u001b[37m\u001b[0m \u001b[1m39s\u001b[0m 483ms/step - accuracy: 0.3349 - loss: 1.4659 - val_accuracy: 0.2282 - val_loss: 3.5008\n",
            "Epoch 23/100\n",
            "\u001b[1m76/76\u001b[0m \u001b[32m━━━━━━━━━━━━━━━━━━━━\u001b[0m\u001b[37m\u001b[0m \u001b[1m43s\u001b[0m 516ms/step - accuracy: 0.3358 - loss: 1.4384 - val_accuracy: 0.2283 - val_loss: 3.5224\n",
            "Epoch 24/100\n",
            "\u001b[1m76/76\u001b[0m \u001b[32m━━━━━━━━━━━━━━━━━━━━\u001b[0m\u001b[37m\u001b[0m \u001b[1m39s\u001b[0m 484ms/step - accuracy: 0.3454 - loss: 1.3583 - val_accuracy: 0.2276 - val_loss: 3.5354\n",
            "Epoch 25/100\n",
            "\u001b[1m76/76\u001b[0m \u001b[32m━━━━━━━━━━━━━━━━━━━━\u001b[0m\u001b[37m\u001b[0m \u001b[1m43s\u001b[0m 566ms/step - accuracy: 0.3449 - loss: 1.3577 - val_accuracy: 0.2263 - val_loss: 3.5732\n",
            "Epoch 26/100\n",
            "\u001b[1m76/76\u001b[0m \u001b[32m━━━━━━━━━━━━━━━━━━━━\u001b[0m\u001b[37m\u001b[0m \u001b[1m37s\u001b[0m 484ms/step - accuracy: 0.3418 - loss: 1.3481 - val_accuracy: 0.2273 - val_loss: 3.5834\n"
          ]
        }
      ]
    },
    {
      "cell_type": "code",
      "source": [
        "import matplotlib.pyplot as plt\n",
        "\n",
        "# Gráfica de pérdida\n",
        "plt.plot(history.history['loss'], label='Pérdida de Entrenamiento')\n",
        "plt.plot(history.history['val_loss'], label='Pérdida de Validación')\n",
        "plt.xlabel('Épocas')\n",
        "plt.ylabel('Pérdida')\n",
        "plt.legend()\n",
        "plt.grid()\n",
        "plt.show()\n",
        "\n",
        "# Gráfica de precisión\n",
        "plt.plot(history.history['accuracy'], label='Precisión de Entrenamiento')\n",
        "plt.plot(history.history['val_accuracy'], label='Precisión de Validación')\n",
        "plt.xlabel('Épocas')\n",
        "plt.ylabel('Precisión')\n",
        "plt.legend()\n",
        "plt.grid()\n",
        "plt.show()\n"
      ],
      "metadata": {
        "colab": {
          "base_uri": "https://localhost:8080/",
          "height": 885
        },
        "id": "knqpuwHokVpA",
        "outputId": "31bc8ee2-ef69-4af6-9d95-e460f394fd54"
      },
      "execution_count": 14,
      "outputs": [
        {
          "output_type": "display_data",
          "data": {
            "text/plain": [
              "<Figure size 640x480 with 1 Axes>"
            ],
            "image/png": "[encoded data removed]"
          },
          "metadata": {}
        },
        {
          "output_type": "display_data",
          "data": {
            "text/plain": [
              "<Figure size 640x480 with 1 Axes>"
            ],
            "image/png": "[encoded data removed]"
          },
          "metadata": {}
        }
      ]
    },
    {
      "cell_type": "markdown",
      "metadata": {
        "id": "Zbwn0ekDy_s2"
      },
      "source": [
        "### 5 - Inferencia\n",
        "Experimentar el funcionamiento de su modelo. Recuerde que debe realizar la inferencia de los modelos por separado de encoder y decoder."
      ]
    },
    {
      "cell_type": "code",
      "source": [
        "from tensorflow.keras.models import Model\n",
        "from tensorflow.keras.layers import Input, Embedding, LSTM, Dense\n",
        "import numpy as np\n",
        "\n",
        "# --- Definir el modelo del Encoder para la Inferencia ---\n",
        "\n",
        "# Modelo encoder que toma una secuencia de entrada y devuelve los estados ocultos\n",
        "encoder_model = Model(encoder_inputs, encoder_states)\n",
        "\n",
        "# --- Definir el modelo del Decoder para la Inferencia ---\n",
        "\n",
        "# Entradas para los estados ocultos del decoder\n",
        "decoder_state_input_h = Input(shape=(N_UNITS,), name='decoder_state_input_h')\n",
        "decoder_state_input_c = Input(shape=(N_UNITS,), name='decoder_state_input_c')\n",
        "decoder_states_inputs = [decoder_state_input_h, decoder_state_input_c]\n",
        "\n",
        "# Entrada para las secuencias del decoder\n",
        "decoder_inputs_inf = Input(shape=(1,), name='decoder_inputs_inf')\n",
        "\n",
        "# Nueva capa de embedding para el decoder (con los mismos parámetros que en el entrenamiento)\n",
        "decoder_embedding_inf = Embedding(input_dim=MAX_VOCAB_SIZE, output_dim=EMBEDDING_DIM, name='decoder_embedding_inf')(decoder_inputs_inf)\n",
        "\n",
        "# LSTM del decoder con los estados de entrada\n",
        "decoder_outputs, state_h, state_c = decoder_lstm(decoder_embedding_inf, initial_state=decoder_states_inputs)\n",
        "decoder_states = [state_h, state_c]\n",
        "\n",
        "# Capa Dense para predecir la próxima palabra\n",
        "decoder_outputs = decoder_dense(decoder_outputs)\n",
        "\n",
        "# Modelo decoder para la inferencia\n",
        "decoder_model = Model(\n",
        "    [decoder_inputs_inf] + decoder_states_inputs,\n",
        "    [decoder_outputs] + decoder_states\n",
        ")\n",
        "\n",
        "# --- Función para Decodificar una Secuencia ---\n",
        "\n",
        "def decode_sequence(input_seq):\n",
        "    # Obtener los estados del encoder\n",
        "    states_value = encoder_model.predict(input_seq)\n",
        "\n",
        "    # Generar una secuencia de inicio con el token <sos>\n",
        "    target_seq = np.zeros((1, 1))\n",
        "    target_seq[0, 0] = word2idx_outputs['<sos>']\n",
        "\n",
        "    # Almacenar la secuencia generada\n",
        "    stop_condition = False\n",
        "    decoded_sentence = ''\n",
        "\n",
        "    while not stop_condition:\n",
        "        output_tokens, h, c = decoder_model.predict([target_seq] + states_value)\n",
        "\n",
        "        # Índice de la palabra con mayor probabilidad\n",
        "        sampled_token_index = np.argmax(output_tokens[0, -1, :])\n",
        "        sampled_word = None\n",
        "\n",
        "        # Buscar la palabra correspondiente al índice\n",
        "        for word, index in word2idx_outputs.items():\n",
        "            if sampled_token_index == index:\n",
        "                sampled_word = word\n",
        "                break\n",
        "\n",
        "        # Si no se encuentra palabra, detener\n",
        "        if sampled_word is None:\n",
        "            break\n",
        "\n",
        "        # Agregar la palabra a la secuencia generada\n",
        "        decoded_sentence += ' ' + sampled_word\n",
        "\n",
        "        # Detener si se alcanza el token <eos> o la longitud máxima\n",
        "        if sampled_word == '<eos>' or len(decoded_sentence.split()) > MAX_OUT_LEN:\n",
        "            stop_condition = True\n",
        "\n",
        "        # Actualizar la secuencia de entrada del decoder\n",
        "        target_seq = np.zeros((1, 1))\n",
        "        target_seq[0, 0] = sampled_token_index\n",
        "\n",
        "        # Actualizar los estados del decoder\n",
        "        states_value = [h, c]\n",
        "\n",
        "    return decoded_sentence.strip()\n",
        "\n",
        "# --- Preguntas de Ejemplo para la Inferencia ---\n",
        "\n",
        "example_questions = [\n",
        "    \"Do you read?\",\n",
        "    \"Do you have any pet?\",\n",
        "    \"Where are you from?\"\n",
        "]\n",
        "\n",
        "# Preprocesar las preguntas (limpiar y tokenizar)\n",
        "def preprocess_question(question):\n",
        "    question = clean_text(question)  # Usar la función de limpieza previamente definida\n",
        "    sequence = tokenizer_inputs.texts_to_sequences([question])\n",
        "    return pad_sequences(sequence, maxlen=MAX_INPUT_LEN, padding='post')\n",
        "\n",
        "# Generar respuestas para las preguntas de ejemplo\n",
        "for question in example_questions:\n",
        "    input_sequence = preprocess_question(question)\n",
        "    decoded_sentence = decode_sequence(input_sequence)\n",
        "    print(f\"Pregunta: {question}\")\n",
        "    print(f\"Respuesta Generada: {decoded_sentence}\")\n",
        "    print(\"-\" * 50)\n"
      ],
      "metadata": {
        "id": "VFgxyMvjw-dP",
        "colab": {
          "base_uri": "https://localhost:8080/"
        },
        "outputId": "e274f3e4-7398-426a-8d13-a4094c5b3bc3"
      },
      "execution_count": 15,
      "outputs": [
        {
          "output_type": "stream",
          "name": "stdout",
          "text": [
            "\u001b[1m1/1\u001b[0m \u001b[32m━━━━━━━━━━━━━━━━━━━━\u001b[0m\u001b[37m\u001b[0m \u001b[1m0s\u001b[0m 286ms/step\n",
            "\u001b[1m1/1\u001b[0m \u001b[32m━━━━━━━━━━━━━━━━━━━━\u001b[0m\u001b[37m\u001b[0m \u001b[1m0s\u001b[0m 310ms/step\n",
            "Pregunta: Do you read?\n",
            "Respuesta Generada: <eos>\n",
            "--------------------------------------------------\n",
            "\u001b[1m1/1\u001b[0m \u001b[32m━━━━━━━━━━━━━━━━━━━━\u001b[0m\u001b[37m\u001b[0m \u001b[1m0s\u001b[0m 36ms/step\n",
            "\u001b[1m1/1\u001b[0m \u001b[32m━━━━━━━━━━━━━━━━━━━━\u001b[0m\u001b[37m\u001b[0m \u001b[1m0s\u001b[0m 43ms/step\n",
            "\u001b[1m1/1\u001b[0m \u001b[32m━━━━━━━━━━━━━━━━━━━━\u001b[0m\u001b[37m\u001b[0m \u001b[1m0s\u001b[0m 39ms/step\n",
            "Pregunta: Do you have any pet?\n",
            "Respuesta Generada: job <eos>\n",
            "--------------------------------------------------\n",
            "\u001b[1m1/1\u001b[0m \u001b[32m━━━━━━━━━━━━━━━━━━━━\u001b[0m\u001b[37m\u001b[0m \u001b[1m0s\u001b[0m 41ms/step\n",
            "\u001b[1m1/1\u001b[0m \u001b[32m━━━━━━━━━━━━━━━━━━━━\u001b[0m\u001b[37m\u001b[0m \u001b[1m0s\u001b[0m 49ms/step\n",
            "\u001b[1m1/1\u001b[0m \u001b[32m━━━━━━━━━━━━━━━━━━━━\u001b[0m\u001b[37m\u001b[0m \u001b[1m0s\u001b[0m 32ms/step\n",
            "Pregunta: Where are you from?\n",
            "Respuesta Generada: good <eos>\n",
            "--------------------------------------------------\n"
          ]
        }
      ]
    },
    {
      "cell_type": "code",
      "source": [
        "print(\"Palabras en el vocabulario del encoder:\")\n",
        "print(list(tokenizer_inputs.word_index.keys())[:50])  # Muestra las primeras 50 palabras\n"
      ],
      "metadata": {
        "colab": {
          "base_uri": "https://localhost:8080/"
        },
        "id": "jYgLfeNlU02h",
        "outputId": "a423c27c-c48c-429a-de6f-00f78d24cf69"
      },
      "execution_count": 16,
      "outputs": [
        {
          "output_type": "stream",
          "name": "stdout",
          "text": [
            "Palabras en el vocabulario del encoder:\n",
            "['i', 'you', 'do', 'what', 'a', 'to', 'are', 'for', 'am', 'how', 'hi', 'like', 'living', 'love', 'is', 'have', 'm', 'that', 'hello', 'oh', 'your', 'ok', 'read', 'good', 'yes', 'the', 'it', 'not', 'no', 's', 'any', 'work', 'in', 'u', 'me', 'my', 'about', 'and', 'from', 't', 'of', 'go', 'play', 'today', 'too', 'so', 'don', 'hobbies', 'nice', 'fine']\n"
          ]
        }
      ]
    },
    {
      "cell_type": "code",
      "source": [
        "example_questions = [\n",
        "    \"Do you read?\",\n",
        "    \"Do you have any pet?\",\n",
        "    \"Where are you from?\"\n",
        "]\n",
        "\n",
        "for question in example_questions:\n",
        "    input_sequence = preprocess_question(question)\n",
        "    print(f\"Pregunta: {question}\")\n",
        "    print(f\"Secuencia Tokenizada: {input_sequence}\")\n"
      ],
      "metadata": {
        "colab": {
          "base_uri": "https://localhost:8080/"
        },
        "id": "he-BKGM0U3Vp",
        "outputId": "21dce4f7-76eb-4e61-bf33-4eb2e95d82a6"
      },
      "execution_count": 17,
      "outputs": [
        {
          "output_type": "stream",
          "name": "stdout",
          "text": [
            "Pregunta: Do you read?\n",
            "Secuencia Tokenizada: [[ 3  2 23  0  0  0  0  0  0  0]]\n",
            "Pregunta: Do you have any pet?\n",
            "Secuencia Tokenizada: [[  3   2  16  31 252   0   0   0   0   0]]\n",
            "Pregunta: Where are you from?\n",
            "Secuencia Tokenizada: [[52  7  2 39  0  0  0  0  0  0]]\n"
          ]
        }
      ]
    },
    {
      "cell_type": "code",
      "source": [
        "def decode_sequence(input_seq):\n",
        "    # Codificar la secuencia de entrada para obtener los estados\n",
        "    states_value = encoder_model.predict(input_seq)\n",
        "\n",
        "    # Inicializar el input del decoder con el token <SOS>\n",
        "    target_seq = np.zeros((1, 1))\n",
        "    target_seq[0, 0] = word2idx_outputs[\"<SOS>\"]\n",
        "\n",
        "    # Almacenar la respuesta generada\n",
        "    stop_condition = False\n",
        "    decoded_sentence = []\n",
        "\n",
        "    while not stop_condition:\n",
        "        output_tokens, h, c = decoder_model.predict([target_seq] + states_value)\n",
        "\n",
        "        # Obtener el índice de la palabra con mayor probabilidad\n",
        "        sampled_token_index = np.argmax(output_tokens[0, -1, :])\n",
        "        sampled_word = {idx: word for word, idx in word2idx_outputs.items()}.get(sampled_token_index)\n",
        "\n",
        "        # Detener si encontramos el token <EOS> o si la respuesta es demasiado larga\n",
        "        if sampled_word == \"<EOS>\" or len(decoded_sentence) > max_out_len:\n",
        "            stop_condition = True\n",
        "        else:\n",
        "            decoded_sentence.append(sampled_word)\n",
        "\n",
        "        # Actualizar la secuencia objetivo (input para el decoder)\n",
        "        target_seq = np.zeros((1, 1))\n",
        "        target_seq[0, 0] = sampled_token_index\n",
        "\n",
        "        # Actualizar los estados\n",
        "        states_value = [h, c]\n",
        "\n",
        "    return \" \".join(decoded_sentence)\n"
      ],
      "metadata": {
        "id": "Er8xd3oNw_bo"
      },
      "execution_count": 18,
      "outputs": []
    },
    {
      "cell_type": "code",
      "source": [
        "# Convertir preguntas a secuencias numéricas\n",
        "test_questions = [\"Do you read?\", \"Do you have any pet?\", \"Where are you from?\"]\n",
        "test_sequences = tokenizer_inputs.texts_to_sequences(test_questions)\n",
        "test_sequences = pad_sequences(test_sequences, maxlen=max_input_len, padding=\"post\")\n",
        "\n",
        "# Generar respuestas\n",
        "for question, seq in zip(test_questions, test_sequences):\n",
        "    print(f\"Pregunta: {question}\")\n",
        "    response = decode_sequence(seq.reshape(1, -1))\n",
        "    print(f\"Respuesta: {response}\")\n",
        "    print(\"-\" * 30)\n"
      ],
      "metadata": {
        "colab": {
          "base_uri": "https://localhost:8080/",
          "height": 367
        },
        "id": "kwGQURRzxFA_",
        "outputId": "aa250ee2-b539-49ab-83ed-d80955fe280e"
      },
      "execution_count": 19,
      "outputs": [
        {
          "output_type": "stream",
          "name": "stdout",
          "text": [
            "Pregunta: Do you read?\n",
            "\u001b[1m1/1\u001b[0m \u001b[32m━━━━━━━━━━━━━━━━━━━━\u001b[0m\u001b[37m\u001b[0m \u001b[1m0s\u001b[0m 336ms/step\n"
          ]
        },
        {
          "output_type": "error",
          "ename": "KeyError",
          "evalue": "'<SOS>'",
          "traceback": [
            "\u001b[0;31m---------------------------------------------------------------------------\u001b[0m",
            "\u001b[0;31mKeyError\u001b[0m                                  Traceback (most recent call last)",
            "\u001b[0;32m<ipython-input-19-a43693abe33c>\u001b[0m in \u001b[0;36m<cell line: 7>\u001b[0;34m()\u001b[0m\n\u001b[1;32m      7\u001b[0m \u001b[0;32mfor\u001b[0m \u001b[0mquestion\u001b[0m\u001b[0;34m,\u001b[0m \u001b[0mseq\u001b[0m \u001b[0;32min\u001b[0m \u001b[0mzip\u001b[0m\u001b[0;34m(\u001b[0m\u001b[0mtest_questions\u001b[0m\u001b[0;34m,\u001b[0m \u001b[0mtest_sequences\u001b[0m\u001b[0;34m)\u001b[0m\u001b[0;34m:\u001b[0m\u001b[0;34m\u001b[0m\u001b[0;34m\u001b[0m\u001b[0m\n\u001b[1;32m      8\u001b[0m     \u001b[0mprint\u001b[0m\u001b[0;34m(\u001b[0m\u001b[0;34mf\"Pregunta: {question}\"\u001b[0m\u001b[0;34m)\u001b[0m\u001b[0;34m\u001b[0m\u001b[0;34m\u001b[0m\u001b[0m\n\u001b[0;32m----> 9\u001b[0;31m     \u001b[0mresponse\u001b[0m \u001b[0;34m=\u001b[0m \u001b[0mdecode_sequence\u001b[0m\u001b[0;34m(\u001b[0m\u001b[0mseq\u001b[0m\u001b[0;34m.\u001b[0m\u001b[0mreshape\u001b[0m\u001b[0;34m(\u001b[0m\u001b[0;36m1\u001b[0m\u001b[0;34m,\u001b[0m \u001b[0;34m-\u001b[0m\u001b[0;36m1\u001b[0m\u001b[0;34m)\u001b[0m\u001b[0;34m)\u001b[0m\u001b[0;34m\u001b[0m\u001b[0;34m\u001b[0m\u001b[0m\n\u001b[0m\u001b[1;32m     10\u001b[0m     \u001b[0mprint\u001b[0m\u001b[0;34m(\u001b[0m\u001b[0;34mf\"Respuesta: {response}\"\u001b[0m\u001b[0;34m)\u001b[0m\u001b[0;34m\u001b[0m\u001b[0;34m\u001b[0m\u001b[0m\n\u001b[1;32m     11\u001b[0m     \u001b[0mprint\u001b[0m\u001b[0;34m(\u001b[0m\u001b[0;34m\"-\"\u001b[0m \u001b[0;34m*\u001b[0m \u001b[0;36m30\u001b[0m\u001b[0;34m)\u001b[0m\u001b[0;34m\u001b[0m\u001b[0;34m\u001b[0m\u001b[0m\n",
            "\u001b[0;32m<ipython-input-18-b61162a2c0d4>\u001b[0m in \u001b[0;36mdecode_sequence\u001b[0;34m(input_seq)\u001b[0m\n\u001b[1;32m      5\u001b[0m     \u001b[0;31m# Inicializar el input del decoder con el token <SOS>\u001b[0m\u001b[0;34m\u001b[0m\u001b[0;34m\u001b[0m\u001b[0m\n\u001b[1;32m      6\u001b[0m     \u001b[0mtarget_seq\u001b[0m \u001b[0;34m=\u001b[0m \u001b[0mnp\u001b[0m\u001b[0;34m.\u001b[0m\u001b[0mzeros\u001b[0m\u001b[0;34m(\u001b[0m\u001b[0;34m(\u001b[0m\u001b[0;36m1\u001b[0m\u001b[0;34m,\u001b[0m \u001b[0;36m1\u001b[0m\u001b[0;34m)\u001b[0m\u001b[0;34m)\u001b[0m\u001b[0;34m\u001b[0m\u001b[0;34m\u001b[0m\u001b[0m\n\u001b[0;32m----> 7\u001b[0;31m     \u001b[0mtarget_seq\u001b[0m\u001b[0;34m[\u001b[0m\u001b[0;36m0\u001b[0m\u001b[0;34m,\u001b[0m \u001b[0;36m0\u001b[0m\u001b[0;34m]\u001b[0m \u001b[0;34m=\u001b[0m \u001b[0mword2idx_outputs\u001b[0m\u001b[0;34m[\u001b[0m\u001b[0;34m\"<SOS>\"\u001b[0m\u001b[0;34m]\u001b[0m\u001b[0;34m\u001b[0m\u001b[0;34m\u001b[0m\u001b[0m\n\u001b[0m\u001b[1;32m      8\u001b[0m \u001b[0;34m\u001b[0m\u001b[0m\n\u001b[1;32m      9\u001b[0m     \u001b[0;31m# Almacenar la respuesta generada\u001b[0m\u001b[0;34m\u001b[0m\u001b[0;34m\u001b[0m\u001b[0m\n",
            "\u001b[0;31mKeyError\u001b[0m: '<SOS>'"
          ]
        }
      ]
    }
  ],
  "metadata": {
    "colab": {
      "provenance": []
    },
    "kernelspec": {
      "display_name": "Python 3",
      "name": "python3"
    },
    "language_info": {
      "name": "python",
      "version": "3.10.6"
    },
    "vscode": {
      "interpreter": {
        "hash": "916dbcbb3f70747c44a77c7bcd40155683ae19c65e1c03b4aa3499c5328201f1"
      }
    }
  },
  "nbformat": 4,
  "nbformat_minor": 0
}