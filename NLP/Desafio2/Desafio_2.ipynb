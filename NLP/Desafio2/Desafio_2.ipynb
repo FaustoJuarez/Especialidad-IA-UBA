{
  "nbformat": 4,
  "nbformat_minor": 0,
  "metadata": {
    "colab": {
      "provenance": []
    },
    "kernelspec": {
      "name": "python3",
      "display_name": "Python 3"
    },
    "language_info": {
      "name": "python"
    }
  },
  "cells": [
    {
      "cell_type": "markdown",
      "source": [
        "# Enunciado\n",
        "\n",
        "* Crear sus propios vectores con Gensim\n",
        "basado en lo visto en clase con otro\n",
        "dataset.\n",
        "* Probar términos de interés y explicar\n",
        "similitudes en el espacio de embeddings.\n",
        "Intentar plantear y probar tests de\n",
        "analogías. Graficar los embeddings\n",
        "resultantes.\n",
        "* Sacar conclusiones.\n",
        "\n"
      ],
      "metadata": {
        "id": "UNIeI2AeqYuJ"
      }
    },
    {
      "cell_type": "code",
      "source": [
        "# Probar con algunas codificaciones comunes\n",
        "encodings_to_try = ['utf-8', 'latin-1', 'windows-1252']\n",
        "\n",
        "for encoding in encodings_to_try:\n",
        "    try:\n",
        "        with open('/content/07HarryPotterandtheDeathlyHallows.txt', 'r', encoding=encoding) as f:\n",
        "            corpus = f.read()\n",
        "        print(f\"Successfully read the file with encoding: {encoding}\")\n",
        "        print(corpus[:500])  # Mostrar los primeros 500 caracteres\n",
        "        break  # Si se lee correctamente, sale del bucle\n",
        "    except UnicodeDecodeError as e:\n",
        "        print(f\"Failed to read with encoding {encoding}: {e}\")\n"
      ],
      "metadata": {
        "colab": {
          "base_uri": "https://localhost:8080/"
        },
        "id": "OWRKI8A3rNjp",
        "outputId": "184b965a-0f4d-4f2a-e62b-3f4aa45111d4"
      },
      "execution_count": 1,
      "outputs": [
        {
          "output_type": "stream",
          "name": "stdout",
          "text": [
            "Failed to read with encoding utf-8: 'utf-8' codec can't decode byte 0xa3 in position 12: invalid start byte\n",
            "Successfully read the file with encoding: latin-1\n",
            "PK\u0003\u0004-\u0000\u0000\b\b\u0000{T£X\u0003¢\u000bÿÿÿÿÿÿÿÿ+\u0000\u0014\u000007 Harry Potter and the Deathly Hallows.txt\u0001\u0000\u0010\u0000tí\u0011\u0000\u0000\u0000\u0000\u0000£­\u0006\u0000\u0000\u0000\u0000\u0000¬½Ë\u001cW%¸çW\u0018sj\u0011\u0010iÅ\u0010\u000b\bHDt\u0012\u0004@&Ks·ëîÆ07ó´G8«üîÅ´HÕ¶?\f_2zÎQ½f\u0016\u0011¬\u0012)&\"ÂÝì>ô­GU?\u001fS1^ºâÚ¢<SÙ§ªè¦±èöEÛ]©O¢,öéR\\Ë¾\u001aìCe?\u0016u[öÍ¶ìûî²)N]×6õX4enï»Þ¾2¤]×VøØµ\u0018Æ®«LõìßuÓlKÙÚÓªºO»Ñ^YE*wÇ¢³Ï÷/bwLÃ8¼Ä×ÛMa\u001fê\u000emýGÝ\u001e\u0016\u001fÛä_\u0012_T÷þØmjS9\u001eýw»¦+ïmå¶a´ÕÛ/esmûz¸o®±¡<%_SÝµ·ÅþÛOé2¼úòÏ/Êá^o)Æ²iR\u0013\u001auzü NrkÞàÃ}:7µ}üSzHý4\u0014Úòl'Ïàìý¶È®¯\u0012[/oÒ~,¶×âR7Õ¦hºËÍÁ\u000eW«,OÛ&\n",
            "øh_\u001fülY\u001cí\u0002ÛµmÊ¶ÞMxæ1U\u0007¡]­\u001dhÓÙü$ö\n",
            "®Ú\u000e½ï¦\n"
          ]
        }
      ]
    },
    {
      "cell_type": "markdown",
      "source": [
        "1. Cargar y preparar el dataset:\n"
      ],
      "metadata": {
        "id": "jM0neEAnqjng"
      }
    },
    {
      "cell_type": "code",
      "execution_count": 2,
      "metadata": {
        "colab": {
          "base_uri": "https://localhost:8080/"
        },
        "id": "196DGWE9qQHf",
        "outputId": "d5d74359-9551-4538-847d-b3d9cc05342a"
      },
      "outputs": [
        {
          "output_type": "stream",
          "name": "stderr",
          "text": [
            "[nltk_data] Downloading package punkt to /root/nltk_data...\n",
            "[nltk_data]   Unzipping tokenizers/punkt.zip.\n",
            "[nltk_data] Downloading package stopwords to /root/nltk_data...\n",
            "[nltk_data]   Unzipping corpora/stopwords.zip.\n"
          ]
        }
      ],
      "source": [
        "import gensim\n",
        "from gensim.models import Word2Vec\n",
        "import nltk\n",
        "from nltk.corpus import stopwords\n",
        "from nltk.tokenize import word_tokenize\n",
        "import string\n",
        "\n",
        "# Descargar los recursos necesarios\n",
        "nltk.download('punkt')\n",
        "nltk.download('stopwords')\n",
        "\n",
        "# Leer y preprocesar el texto\n",
        "with open('/content/01HarryPotterandtheSorcerersStone.txt', 'r', encoding='latin-1') as f:\n",
        "    corpus = f.read()\n",
        "\n",
        "# Tokenización y eliminación de stopwords y puntuación\n",
        "stop_words = set(stopwords.words('english'))\n",
        "tokens = word_tokenize(corpus.lower())\n",
        "tokens = [word for word in tokens if word not in stop_words and word not in string.punctuation]\n",
        "\n",
        "# Crear oraciones (listas de palabras) para entrenar Word2Vec\n",
        "sentences = [tokens]  # Si deseas dividir el corpus en oraciones, debes hacer un preprocesamiento adicional\n"
      ]
    },
    {
      "cell_type": "markdown",
      "source": [
        "# 2. Entrenar el modelo Word2Vec:"
      ],
      "metadata": {
        "id": "iI1AP2X8rxab"
      }
    },
    {
      "cell_type": "code",
      "source": [
        "# Entrenar el modelo Word2Vec\n",
        "model = Word2Vec(sentences, vector_size=100, window=5, min_count=5, workers=4)\n",
        "\n",
        "# Guardar el modelo\n",
        "model.save(\"word2vec_harry_potter.model\")\n",
        "\n",
        "# Cargar el modelo (si ya fue guardado en algún punto anterior)\n",
        "# model = Word2Vec.load(\"word2vec_harry_potter.model\")\n",
        "\n"
      ],
      "metadata": {
        "id": "mbJR2VV_r04X"
      },
      "execution_count": 3,
      "outputs": []
    },
    {
      "cell_type": "markdown",
      "source": [
        "# Paso 3: Probar términos de interés y similitudes\n"
      ],
      "metadata": {
        "id": "y09TfV_juRIJ"
      }
    },
    {
      "cell_type": "code",
      "source": [
        "# Palabras de interés\n",
        "words_of_interest = ['harry', 'voldemort', 'hermione', 'hogwarts', 'magic']\n",
        "\n",
        "# Mostrar similitudes entre palabras\n",
        "for word in words_of_interest:\n",
        "    if word in model.wv:\n",
        "        print(f\"Similar terms to '{word}':\")\n",
        "        print(model.wv.most_similar(word))\n",
        "    else:\n",
        "        print(f\"'{word}' not found in the model vocabulary.\")\n"
      ],
      "metadata": {
        "colab": {
          "base_uri": "https://localhost:8080/"
        },
        "id": "SrYRtLnruSpg",
        "outputId": "b1cfe498-14e9-45f2-de30-90ad45c05b99"
      },
      "execution_count": 4,
      "outputs": [
        {
          "output_type": "stream",
          "name": "stdout",
          "text": [
            "Similar terms to 'harry':\n",
            "[('hagrid', 0.9998736381530762), ('dudley', 0.9998558163642883), ('``', 0.999842643737793), (\"n't\", 0.9998422265052795), ('--', 0.999836802482605), ('back', 0.9998367428779602), (\"''\", 0.9998351335525513), ('said', 0.9998061060905457), (\"'s\", 0.999803900718689), ('one', 0.9997938871383667)]\n",
            "Similar terms to 'voldemort':\n",
            "[('bed', 0.9704914093017578), ('shops', 0.9704669713973999), ('potters', 0.9703881144523621), ('together', 0.9701158404350281), ('stopped', 0.9700236916542053), (\"o'clock\", 0.969990611076355), ('drive', 0.969961404800415), ('window', 0.9698367714881897), ('passed', 0.9696543216705322), ('something', 0.9694618582725525)]\n",
            "Similar terms to 'hermione':\n",
            "[('neville', 0.2685850262641907), ('brave', 0.26743847131729126), ('forgive', 0.23265959322452545), ('invisible', 0.23136207461357117), ('tree', 0.2282097190618515), ('sprang', 0.2239229381084442), ('minds', 0.20190852880477905), ('plant', 0.1916346251964569), ('halfway', 0.18714936077594757), ('bane', 0.1864675134420395)]\n",
            "Similar terms to 'hogwarts':\n",
            "[(\"''\", 0.9997459650039673), ('harry', 0.9996923804283142), (\"n't\", 0.9996840357780457), (\"'s\", 0.9996790289878845), ('back', 0.9996782541275024), ('hagrid', 0.9996781349182129), ('--', 0.999664306640625), ('dudley', 0.9996468424797058), ('owl', 0.9996439814567566), ('``', 0.9996336102485657)]\n",
            "Similar terms to 'magic':\n",
            "[('hagrid', 0.9995599389076233), ('``', 0.9995595216751099), ('back', 0.9995502829551697), ('--', 0.9995359778404236), (\"''\", 0.9995237588882446), ('dudley', 0.9995232224464417), ('harry', 0.9995172023773193), ('ter', 0.9995169639587402), ('could', 0.9995133280754089), ('right', 0.9995015859603882)]\n"
          ]
        }
      ]
    },
    {
      "cell_type": "markdown",
      "source": [
        "# Paso 4: Realizar tests de analogías\n"
      ],
      "metadata": {
        "id": "JI6nTNGBuu-A"
      }
    },
    {
      "cell_type": "code",
      "source": [
        "# Ejemplos de analogías\n",
        "try:\n",
        "    result = model.wv.most_similar(positive=['boy', 'magic'], topn=1) #, negative=['ron']\n",
        "    print(\"Analogy result: 'boy' + 'magic' =\", result)\n",
        "except KeyError as e:\n",
        "    print(f\"Word not in vocabulary: {e}\")\n"
      ],
      "metadata": {
        "colab": {
          "base_uri": "https://localhost:8080/"
        },
        "id": "Bpk5QgDKuvqI",
        "outputId": "a4b3ea43-bb49-491f-f263-b0ce94995946"
      },
      "execution_count": 12,
      "outputs": [
        {
          "output_type": "stream",
          "name": "stdout",
          "text": [
            "Analogy result: 'boy' + 'magic' = [('hagrid', 0.9997947216033936)]\n"
          ]
        }
      ]
    },
    {
      "cell_type": "markdown",
      "source": [
        "# Paso 5: Graficar los embeddings\n",
        "Para graficar los embeddings, puedes usar matplotlib y PCA para reducir las dimensiones a 2D."
      ],
      "metadata": {
        "id": "lb490ml7vFAY"
      }
    },
    {
      "cell_type": "code",
      "source": [
        "import matplotlib.pyplot as plt\n",
        "from sklearn.decomposition import PCA\n",
        "\n",
        "# Obtener los vectores de las palabras de interés\n",
        "words = words_of_interest\n",
        "word_vectors = [model.wv[word] for word in words if word in model.wv]\n",
        "\n",
        "# Reducir a 2 dimensiones con PCA\n",
        "pca = PCA(n_components=2)\n",
        "word_vecs_2d = pca.fit_transform(word_vectors)\n",
        "\n",
        "# Graficar\n",
        "plt.figure(figsize=(10, 6))\n",
        "for i, word in enumerate(words):\n",
        "    if word in model.wv:\n",
        "        plt.scatter(word_vecs_2d[i, 0], word_vecs_2d[i, 1])\n",
        "        plt.text(word_vecs_2d[i, 0]+0.03, word_vecs_2d[i, 1]+0.03, word, fontsize=9)\n",
        "plt.show()\n"
      ],
      "metadata": {
        "id": "kGQ4WofzvHDf",
        "outputId": "fbbc374a-3b97-4dc8-dde4-ba88713bbbfb",
        "colab": {
          "base_uri": "https://localhost:8080/",
          "height": 672
        }
      },
      "execution_count": 6,
      "outputs": [
        {
          "output_type": "display_data",
          "data": {
            "text/plain": [
              "<Figure size 1000x600 with 1 Axes>"
            ],
            "image/png": "[encoded data removed]"
          },
          "metadata": {}
        }
      ]
    }
  ]
}